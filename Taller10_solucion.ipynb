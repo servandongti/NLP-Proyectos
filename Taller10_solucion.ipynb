{
 "cells": [
  {
   "cell_type": "markdown",
   "metadata": {},
   "source": [
    "# Twitter"
   ]
  },
  {
   "cell_type": "markdown",
   "metadata": {},
   "source": [
    "##  `[25 pts]` Punto 1: Extraer Tuits\n",
    "Extraer mínimo 100 tuits de Twitter usando la API\n",
    "\n",
    "(Si exponen sus claves, les haré maldades 😈)\n",
    "\n",
    "❌🎃❌ ¡No Halloween!"
   ]
  },
  {
   "cell_type": "markdown",
   "metadata": {},
   "source": [
    " "
   ]
  },
  {
   "cell_type": "markdown",
   "metadata": {},
   "source": [
    "- librerias"
   ]
  },
  {
   "cell_type": "code",
   "execution_count": 142,
   "metadata": {},
   "outputs": [
    {
     "data": {
      "text/html": [
       "        <script type=\"text/javascript\">\n",
       "        window.PlotlyConfig = {MathJaxConfig: 'local'};\n",
       "        if (window.MathJax) {MathJax.Hub.Config({SVG: {font: \"STIX-Web\"}});}\n",
       "        if (typeof require !== 'undefined') {\n",
       "        require.undef(\"plotly\");\n",
       "        requirejs.config({\n",
       "            paths: {\n",
       "                'plotly': ['https://cdn.plot.ly/plotly-latest.min']\n",
       "            }\n",
       "        });\n",
       "        require(['plotly'], function(Plotly) {\n",
       "            window._Plotly = Plotly;\n",
       "        });\n",
       "        }\n",
       "        </script>\n",
       "        "
      ]
     },
     "metadata": {},
     "output_type": "display_data"
    }
   ],
   "source": [
    "import numpy as np\n",
    "import pandas as pd\n",
    "import tweepy\n",
    "\n",
    "import re\n",
    "import regex\n",
    "import emoji\n",
    "\n",
    "from nltk.corpus import stopwords\n",
    "from sklearn.feature_extraction.text import TfidfVectorizer\n",
    "\n",
    "from wordcloud import WordCloud\n",
    "from wordcloud import ImageColorGenerator\n",
    "\n",
    "from collections import Counter\n",
    "\n",
    "import plotly.io as pio\n",
    "import plotly.express as px\n",
    "import plotly.graph_objs as go\n",
    "from plotly.offline import download_plotlyjs, init_notebook_mode, plot, iplot\n",
    "import PIL.Image\n",
    "from IPython.display import display\n",
    "\n",
    "import matplotlib.pyplot as plt\n",
    "%matplotlib inline\n",
    "\n",
    "init_notebook_mode(connected=True)"
   ]
  },
  {
   "cell_type": "code",
   "execution_count": 3,
   "metadata": {},
   "outputs": [],
   "source": [
    "# autenticacion\n",
    "\n",
    "auth = tweepy.OAuthHandler(API_key, API_secret_key)\n",
    "\n",
    "auth.set_access_token(Access_token, Access_token_secret)\n",
    "\n",
    "api = tweepy.API(auth, wait_on_rate_limit=True, wait_on_rate_limit_notify=True)"
   ]
  },
  {
   "cell_type": "code",
   "execution_count": 63,
   "metadata": {},
   "outputs": [],
   "source": [
    "# recolectar los primeros 10 datos\n",
    "\n",
    "def CrearTweets(query, k):\n",
    "    '''\n",
    "    Creación de la base de tweets con los primeros k registros.\n",
    "    Parámetros:\n",
    "    - query: string de la consulta\n",
    "    - k: número de registros\n",
    "    '''\n",
    "    tweets = tweepy.Cursor(api.search,\n",
    "                           q=query,\n",
    "                           lang='es',\n",
    "                           #geocode=f\"4.649178,-74.062827,60km\", #Bogotá\n",
    "                           result_type='mixed',\n",
    "                           tweet_mode='extended',\n",
    "                           include_rts=False).items(k)\n",
    "    \n",
    "    t = []\n",
    "    for tweet in tweets:\n",
    "        temp = []\n",
    "        temp.append(tweet.id)\n",
    "        temp.append(tweet.created_at)\n",
    "        temp.append(tweet.user.screen_name)\n",
    "        temp.append(tweet.full_text)\n",
    "        temp.append(tweet.user.location)\n",
    "        temp.append(f\"https://twitter.com/i/web/status/{tweet.id}\")\n",
    "        t.append(temp)\n",
    "\n",
    "    data = pd.DataFrame(data=t, columns=['id','fecha_pub','usuario','tweet','user_location','link'])\n",
    "    return data"
   ]
  },
  {
   "cell_type": "code",
   "execution_count": 64,
   "metadata": {
    "scrolled": true
   },
   "outputs": [
    {
     "name": "stdout",
     "output_type": "stream",
     "text": [
      "\n",
      "    Creación de la base de tweets con los primeros k registros.\n",
      "    Parámetros:\n",
      "    - query: string de la consulta\n",
      "    - k: número de registros\n",
      "    \n"
     ]
    }
   ],
   "source": [
    "print(CrearTweets.__doc__)"
   ]
  },
  {
   "cell_type": "code",
   "execution_count": 58,
   "metadata": {},
   "outputs": [
    {
     "data": {
      "text/html": [
       "<div>\n",
       "<style scoped>\n",
       "    .dataframe tbody tr th:only-of-type {\n",
       "        vertical-align: middle;\n",
       "    }\n",
       "\n",
       "    .dataframe tbody tr th {\n",
       "        vertical-align: top;\n",
       "    }\n",
       "\n",
       "    .dataframe thead th {\n",
       "        text-align: right;\n",
       "    }\n",
       "</style>\n",
       "<table border=\"1\" class=\"dataframe\">\n",
       "  <thead>\n",
       "    <tr style=\"text-align: right;\">\n",
       "      <th></th>\n",
       "      <th>id</th>\n",
       "      <th>fecha_pub</th>\n",
       "      <th>usuario</th>\n",
       "      <th>tweet</th>\n",
       "      <th>user_location</th>\n",
       "      <th>link</th>\n",
       "    </tr>\n",
       "  </thead>\n",
       "  <tbody>\n",
       "    <tr>\n",
       "      <th>0</th>\n",
       "      <td>1326928429091065859</td>\n",
       "      <td>2020-11-12 16:42:45</td>\n",
       "      <td>VTVcanal8</td>\n",
       "      <td>#EnVideo📹| Desde este viernes 13 de noviembre,...</td>\n",
       "      <td>Venezuela</td>\n",
       "      <td>https://twitter.com/i/web/status/1326928429091...</td>\n",
       "    </tr>\n",
       "    <tr>\n",
       "      <th>1</th>\n",
       "      <td>1326848774510170114</td>\n",
       "      <td>2020-11-12 11:26:14</td>\n",
       "      <td>KiddKeo95Flames</td>\n",
       "      <td>y mañana es viernes 13 hay q hacer algo, Llama...</td>\n",
       "      <td>ROCKPORT</td>\n",
       "      <td>https://twitter.com/i/web/status/1326848774510...</td>\n",
       "    </tr>\n",
       "    <tr>\n",
       "      <th>2</th>\n",
       "      <td>1326928773682524160</td>\n",
       "      <td>2020-11-12 16:44:07</td>\n",
       "      <td>QuinteroCalle</td>\n",
       "      <td>Con el Gobierno Nacional, los alcaldes del @Ar...</td>\n",
       "      <td>Medellín, Colombia</td>\n",
       "      <td>https://twitter.com/i/web/status/1326928773682...</td>\n",
       "    </tr>\n",
       "    <tr>\n",
       "      <th>3</th>\n",
       "      <td>1327096677384204291</td>\n",
       "      <td>2020-11-13 03:51:18</td>\n",
       "      <td>DiegoUsui</td>\n",
       "      <td>¿Alguien para dedicarle Viernes 13?\\n\\nUrge pa...</td>\n",
       "      <td>Pachuca de Soto, Hidalgo</td>\n",
       "      <td>https://twitter.com/i/web/status/1327096677384...</td>\n",
       "    </tr>\n",
       "    <tr>\n",
       "      <th>4</th>\n",
       "      <td>1327096674829934592</td>\n",
       "      <td>2020-11-13 03:51:18</td>\n",
       "      <td>axterix1366</td>\n",
       "      <td>El Gran Maestro jacques de MOLAY Gran Maestre ...</td>\n",
       "      <td>Mex D F</td>\n",
       "      <td>https://twitter.com/i/web/status/1327096674829...</td>\n",
       "    </tr>\n",
       "  </tbody>\n",
       "</table>\n",
       "</div>"
      ],
      "text/plain": [
       "                    id           fecha_pub          usuario  \\\n",
       "0  1326928429091065859 2020-11-12 16:42:45        VTVcanal8   \n",
       "1  1326848774510170114 2020-11-12 11:26:14  KiddKeo95Flames   \n",
       "2  1326928773682524160 2020-11-12 16:44:07    QuinteroCalle   \n",
       "3  1327096677384204291 2020-11-13 03:51:18        DiegoUsui   \n",
       "4  1327096674829934592 2020-11-13 03:51:18      axterix1366   \n",
       "\n",
       "                                               tweet  \\\n",
       "0  #EnVideo📹| Desde este viernes 13 de noviembre,...   \n",
       "1  y mañana es viernes 13 hay q hacer algo, Llama...   \n",
       "2  Con el Gobierno Nacional, los alcaldes del @Ar...   \n",
       "3  ¿Alguien para dedicarle Viernes 13?\\n\\nUrge pa...   \n",
       "4  El Gran Maestro jacques de MOLAY Gran Maestre ...   \n",
       "\n",
       "              user_location                                               link  \n",
       "0                 Venezuela  https://twitter.com/i/web/status/1326928429091...  \n",
       "1                  ROCKPORT  https://twitter.com/i/web/status/1326848774510...  \n",
       "2        Medellín, Colombia  https://twitter.com/i/web/status/1326928773682...  \n",
       "3  Pachuca de Soto, Hidalgo  https://twitter.com/i/web/status/1327096677384...  \n",
       "4                   Mex D F  https://twitter.com/i/web/status/1327096674829...  "
      ]
     },
     "execution_count": 58,
     "metadata": {},
     "output_type": "execute_result"
    }
   ],
   "source": [
    "query='viernes 13 -RT'\n",
    "\n",
    "data = CrearTweets(query,10)\n",
    "data.head()"
   ]
  },
  {
   "cell_type": "code",
   "execution_count": 70,
   "metadata": {},
   "outputs": [],
   "source": [
    "def ActualizarTweets(query, k, data):\n",
    "    '''\n",
    "    Actualizar base de tweets con k registros.\n",
    "    Parámetros:\n",
    "    - query: string de la consulta\n",
    "    - k: número de registros\n",
    "    - data: dataframe para actualizar\n",
    "    '''\n",
    "    tweets = tweepy.Cursor(api.search,\n",
    "                           q=query,\n",
    "                           lang='es',\n",
    "                           #geocode=f\"4.649178,-74.062827,60km\", #Bogotá\n",
    "                           result_type='mixed',\n",
    "                           tweet_mode='extended',\n",
    "                           include_rts=False,\n",
    "                           since_id=data.id.max()).items(k)\n",
    "    \n",
    "    t = []\n",
    "    for tweet in tweets:\n",
    "        temp = []\n",
    "        temp.append(tweet.id)\n",
    "        temp.append(tweet.created_at)\n",
    "        temp.append(tweet.user.screen_name)\n",
    "        temp.append(tweet.full_text)\n",
    "        temp.append(tweet.user.location)\n",
    "        temp.append(f\"https://twitter.com/i/web/status/{tweet.id}\")\n",
    "        t.append(temp)\n",
    "\n",
    "    data2 = pd.DataFrame(data=t, columns=['id','fecha_pub','usuario','tweet','user_location','link'])\n",
    "    data = pd.concat([data, data2], axis=0)\n",
    "    return data"
   ]
  },
  {
   "cell_type": "markdown",
   "metadata": {},
   "source": [
    "### DataFrame con los tweets"
   ]
  },
  {
   "cell_type": "code",
   "execution_count": 71,
   "metadata": {},
   "outputs": [],
   "source": [
    "data2 = ActualizarTweets(query, 190, data)"
   ]
  },
  {
   "cell_type": "code",
   "execution_count": 72,
   "metadata": {},
   "outputs": [
    {
     "data": {
      "text/plain": [
       "(200, 6)"
      ]
     },
     "execution_count": 72,
     "metadata": {},
     "output_type": "execute_result"
    }
   ],
   "source": [
    "data2.shape"
   ]
  },
  {
   "cell_type": "markdown",
   "metadata": {},
   "source": [
    "### Pre procesamiento"
   ]
  },
  {
   "cell_type": "code",
   "execution_count": 74,
   "metadata": {},
   "outputs": [],
   "source": [
    "pattern1 = '?P<pic>pic.twitter.com/[^\\s]+'\n",
    "pattern2 = '?P<url>https?://[^\\s]+'\n",
    "\n",
    "def text_clean(row):\n",
    "    text = row['tweet']\n",
    "    \n",
    "    links = [tuple(j for j in i if j)[-1] for i in re.findall(f\"({pattern1})|({pattern2})\",text)]\n",
    "    for link in links:\n",
    "        text = text.replace(link,\"\")\n",
    "             \n",
    "    hashtags = [interaction for interaction in text.split() if interaction.startswith(\"#\")]\n",
    "    for hashtag in hashtags:\n",
    "        text = text.replace(hashtag,\"\")\n",
    "        \n",
    "    mentions = [interaction for interaction in text.split() if interaction.startswith(\"@\")]\n",
    "    for mention in mentions:\n",
    "        text = text.replace(mention,\"\")\n",
    "        \n",
    "    return text, links, hashtags, mentions"
   ]
  },
  {
   "cell_type": "code",
   "execution_count": 75,
   "metadata": {},
   "outputs": [
    {
     "data": {
      "text/html": [
       "<div>\n",
       "<style scoped>\n",
       "    .dataframe tbody tr th:only-of-type {\n",
       "        vertical-align: middle;\n",
       "    }\n",
       "\n",
       "    .dataframe tbody tr th {\n",
       "        vertical-align: top;\n",
       "    }\n",
       "\n",
       "    .dataframe thead th {\n",
       "        text-align: right;\n",
       "    }\n",
       "</style>\n",
       "<table border=\"1\" class=\"dataframe\">\n",
       "  <thead>\n",
       "    <tr style=\"text-align: right;\">\n",
       "      <th></th>\n",
       "      <th>id</th>\n",
       "      <th>fecha_pub</th>\n",
       "      <th>usuario</th>\n",
       "      <th>tweet</th>\n",
       "      <th>user_location</th>\n",
       "      <th>link</th>\n",
       "      <th>tweet_clean</th>\n",
       "      <th>links</th>\n",
       "      <th>hashtags</th>\n",
       "      <th>mentions</th>\n",
       "    </tr>\n",
       "  </thead>\n",
       "  <tbody>\n",
       "    <tr>\n",
       "      <th>0</th>\n",
       "      <td>1326928429091065859</td>\n",
       "      <td>2020-11-12 16:42:45</td>\n",
       "      <td>VTVcanal8</td>\n",
       "      <td>#EnVideo📹| Desde este viernes 13 de noviembre,...</td>\n",
       "      <td>Venezuela</td>\n",
       "      <td>https://twitter.com/i/web/status/1326928429091...</td>\n",
       "      <td>Desde este viernes 13 de noviembre,  inicia d...</td>\n",
       "      <td>[https://t.co/xOEZfR4e0k]</td>\n",
       "      <td>[#EnVideo📹|, #LeerDesbloquea]</td>\n",
       "      <td>[@ve_cne]</td>\n",
       "    </tr>\n",
       "    <tr>\n",
       "      <th>1</th>\n",
       "      <td>1326848774510170114</td>\n",
       "      <td>2020-11-12 11:26:14</td>\n",
       "      <td>KiddKeo95Flames</td>\n",
       "      <td>y mañana es viernes 13 hay q hacer algo, Llama...</td>\n",
       "      <td>ROCKPORT</td>\n",
       "      <td>https://twitter.com/i/web/status/1326848774510...</td>\n",
       "      <td>y mañana es viernes 13 hay q hacer algo, Llama...</td>\n",
       "      <td>[]</td>\n",
       "      <td>[]</td>\n",
       "      <td>[]</td>\n",
       "    </tr>\n",
       "    <tr>\n",
       "      <th>2</th>\n",
       "      <td>1326928773682524160</td>\n",
       "      <td>2020-11-12 16:44:07</td>\n",
       "      <td>QuinteroCalle</td>\n",
       "      <td>Con el Gobierno Nacional, los alcaldes del @Ar...</td>\n",
       "      <td>Medellín, Colombia</td>\n",
       "      <td>https://twitter.com/i/web/status/1326928773682...</td>\n",
       "      <td>Con el Gobierno Nacional, los alcaldes del  y ...</td>\n",
       "      <td>[]</td>\n",
       "      <td>[]</td>\n",
       "      <td>[@Areametropol, @anibalgaviria]</td>\n",
       "    </tr>\n",
       "    <tr>\n",
       "      <th>3</th>\n",
       "      <td>1327096677384204291</td>\n",
       "      <td>2020-11-13 03:51:18</td>\n",
       "      <td>DiegoUsui</td>\n",
       "      <td>¿Alguien para dedicarle Viernes 13?\\n\\nUrge pa...</td>\n",
       "      <td>Pachuca de Soto, Hidalgo</td>\n",
       "      <td>https://twitter.com/i/web/status/1327096677384...</td>\n",
       "      <td>¿Alguien para dedicarle Viernes 13?\\n\\nUrge pa...</td>\n",
       "      <td>[]</td>\n",
       "      <td>[]</td>\n",
       "      <td>[]</td>\n",
       "    </tr>\n",
       "    <tr>\n",
       "      <th>4</th>\n",
       "      <td>1327096674829934592</td>\n",
       "      <td>2020-11-13 03:51:18</td>\n",
       "      <td>axterix1366</td>\n",
       "      <td>El Gran Maestro jacques de MOLAY Gran Maestre ...</td>\n",
       "      <td>Mex D F</td>\n",
       "      <td>https://twitter.com/i/web/status/1327096674829...</td>\n",
       "      <td>El Gran Maestro jacques de MOLAY Gran Maestre ...</td>\n",
       "      <td>[https://t.co/VFTvEtC7dm]</td>\n",
       "      <td>[]</td>\n",
       "      <td>[]</td>\n",
       "    </tr>\n",
       "  </tbody>\n",
       "</table>\n",
       "</div>"
      ],
      "text/plain": [
       "                    id           fecha_pub          usuario  \\\n",
       "0  1326928429091065859 2020-11-12 16:42:45        VTVcanal8   \n",
       "1  1326848774510170114 2020-11-12 11:26:14  KiddKeo95Flames   \n",
       "2  1326928773682524160 2020-11-12 16:44:07    QuinteroCalle   \n",
       "3  1327096677384204291 2020-11-13 03:51:18        DiegoUsui   \n",
       "4  1327096674829934592 2020-11-13 03:51:18      axterix1366   \n",
       "\n",
       "                                               tweet  \\\n",
       "0  #EnVideo📹| Desde este viernes 13 de noviembre,...   \n",
       "1  y mañana es viernes 13 hay q hacer algo, Llama...   \n",
       "2  Con el Gobierno Nacional, los alcaldes del @Ar...   \n",
       "3  ¿Alguien para dedicarle Viernes 13?\\n\\nUrge pa...   \n",
       "4  El Gran Maestro jacques de MOLAY Gran Maestre ...   \n",
       "\n",
       "              user_location  \\\n",
       "0                 Venezuela   \n",
       "1                  ROCKPORT   \n",
       "2        Medellín, Colombia   \n",
       "3  Pachuca de Soto, Hidalgo   \n",
       "4                   Mex D F   \n",
       "\n",
       "                                                link  \\\n",
       "0  https://twitter.com/i/web/status/1326928429091...   \n",
       "1  https://twitter.com/i/web/status/1326848774510...   \n",
       "2  https://twitter.com/i/web/status/1326928773682...   \n",
       "3  https://twitter.com/i/web/status/1327096677384...   \n",
       "4  https://twitter.com/i/web/status/1327096674829...   \n",
       "\n",
       "                                         tweet_clean  \\\n",
       "0   Desde este viernes 13 de noviembre,  inicia d...   \n",
       "1  y mañana es viernes 13 hay q hacer algo, Llama...   \n",
       "2  Con el Gobierno Nacional, los alcaldes del  y ...   \n",
       "3  ¿Alguien para dedicarle Viernes 13?\\n\\nUrge pa...   \n",
       "4  El Gran Maestro jacques de MOLAY Gran Maestre ...   \n",
       "\n",
       "                       links                       hashtags  \\\n",
       "0  [https://t.co/xOEZfR4e0k]  [#EnVideo📹|, #LeerDesbloquea]   \n",
       "1                         []                             []   \n",
       "2                         []                             []   \n",
       "3                         []                             []   \n",
       "4  [https://t.co/VFTvEtC7dm]                             []   \n",
       "\n",
       "                          mentions  \n",
       "0                        [@ve_cne]  \n",
       "1                               []  \n",
       "2  [@Areametropol, @anibalgaviria]  \n",
       "3                               []  \n",
       "4                               []  "
      ]
     },
     "execution_count": 75,
     "metadata": {},
     "output_type": "execute_result"
    }
   ],
   "source": [
    "data2[['tweet_clean','links','hashtags','mentions']] = data2.apply(text_clean, axis=1, result_type='expand')\n",
    "data2.head()"
   ]
  },
  {
   "cell_type": "code",
   "execution_count": 77,
   "metadata": {},
   "outputs": [],
   "source": [
    "def get_emojis(text):\n",
    "    emoji_list = []\n",
    "    data = regex.findall(r'\\X', text)\n",
    "    for letra in data:\n",
    "        if any(char in emoji.UNICODE_EMOJI for char in letra):\n",
    "            emoji_list.append(letra)\n",
    "\n",
    "    return emoji_list"
   ]
  },
  {
   "cell_type": "code",
   "execution_count": 163,
   "metadata": {},
   "outputs": [
    {
     "data": {
      "text/html": [
       "<div>\n",
       "<style scoped>\n",
       "    .dataframe tbody tr th:only-of-type {\n",
       "        vertical-align: middle;\n",
       "    }\n",
       "\n",
       "    .dataframe tbody tr th {\n",
       "        vertical-align: top;\n",
       "    }\n",
       "\n",
       "    .dataframe thead th {\n",
       "        text-align: right;\n",
       "    }\n",
       "</style>\n",
       "<table border=\"1\" class=\"dataframe\">\n",
       "  <thead>\n",
       "    <tr style=\"text-align: right;\">\n",
       "      <th></th>\n",
       "      <th>id</th>\n",
       "      <th>fecha_pub</th>\n",
       "      <th>usuario</th>\n",
       "      <th>tweet</th>\n",
       "      <th>user_location</th>\n",
       "      <th>link</th>\n",
       "      <th>tweet_clean</th>\n",
       "      <th>links</th>\n",
       "      <th>hashtags</th>\n",
       "      <th>mentions</th>\n",
       "      <th>emojis</th>\n",
       "      <th>pre_procesado</th>\n",
       "      <th>Date</th>\n",
       "    </tr>\n",
       "  </thead>\n",
       "  <tbody>\n",
       "    <tr>\n",
       "      <th>0</th>\n",
       "      <td>1326928429091065859</td>\n",
       "      <td>2020-11-12 16:42:45</td>\n",
       "      <td>VTVcanal8</td>\n",
       "      <td>#EnVideo📹| Desde este viernes 13 de noviembre,...</td>\n",
       "      <td>Venezuela</td>\n",
       "      <td>https://twitter.com/i/web/status/1326928429091...</td>\n",
       "      <td>Desde este viernes 13 de noviembre,  inicia d...</td>\n",
       "      <td>[https://t.co/xOEZfR4e0k]</td>\n",
       "      <td>[#EnVideo📹|, #LeerDesbloquea]</td>\n",
       "      <td>[@ve_cne]</td>\n",
       "      <td>[]</td>\n",
       "      <td>noviembre inicia despliegue maquinas votacion ...</td>\n",
       "      <td>2020-11-12</td>\n",
       "    </tr>\n",
       "    <tr>\n",
       "      <th>1</th>\n",
       "      <td>1326848774510170114</td>\n",
       "      <td>2020-11-12 11:26:14</td>\n",
       "      <td>KiddKeo95Flames</td>\n",
       "      <td>y mañana es viernes 13 hay q hacer algo, Llama...</td>\n",
       "      <td>ROCKPORT</td>\n",
       "      <td>https://twitter.com/i/web/status/1326848774510...</td>\n",
       "      <td>y mañana es viernes 13 hay q hacer algo, Llama...</td>\n",
       "      <td>[]</td>\n",
       "      <td>[]</td>\n",
       "      <td>[]</td>\n",
       "      <td>[]</td>\n",
       "      <td>q hacer llama jason vamonos d party</td>\n",
       "      <td>2020-11-12</td>\n",
       "    </tr>\n",
       "    <tr>\n",
       "      <th>2</th>\n",
       "      <td>1326928773682524160</td>\n",
       "      <td>2020-11-12 16:44:07</td>\n",
       "      <td>QuinteroCalle</td>\n",
       "      <td>Con el Gobierno Nacional, los alcaldes del @Ar...</td>\n",
       "      <td>Medellín, Colombia</td>\n",
       "      <td>https://twitter.com/i/web/status/1326928773682...</td>\n",
       "      <td>Con el Gobierno Nacional, los alcaldes del  y ...</td>\n",
       "      <td>[]</td>\n",
       "      <td>[]</td>\n",
       "      <td>[@Areametropol, @anibalgaviria]</td>\n",
       "      <td>[]</td>\n",
       "      <td>gobierno nacional alcaldes gobernador decidimo...</td>\n",
       "      <td>2020-11-12</td>\n",
       "    </tr>\n",
       "    <tr>\n",
       "      <th>3</th>\n",
       "      <td>1327096677384204291</td>\n",
       "      <td>2020-11-13 03:51:18</td>\n",
       "      <td>DiegoUsui</td>\n",
       "      <td>¿Alguien para dedicarle Viernes 13?\\n\\nUrge pa...</td>\n",
       "      <td>Pachuca de Soto, Hidalgo</td>\n",
       "      <td>https://twitter.com/i/web/status/1327096677384...</td>\n",
       "      <td>¿Alguien para dedicarle Viernes 13?\\n\\nUrge pa...</td>\n",
       "      <td>[]</td>\n",
       "      <td>[]</td>\n",
       "      <td>[]</td>\n",
       "      <td>[🥴]</td>\n",
       "      <td>alguien dedicarle urge</td>\n",
       "      <td>2020-11-13</td>\n",
       "    </tr>\n",
       "    <tr>\n",
       "      <th>4</th>\n",
       "      <td>1327096674829934592</td>\n",
       "      <td>2020-11-13 03:51:18</td>\n",
       "      <td>axterix1366</td>\n",
       "      <td>El Gran Maestro jacques de MOLAY Gran Maestre ...</td>\n",
       "      <td>Mex D F</td>\n",
       "      <td>https://twitter.com/i/web/status/1327096674829...</td>\n",
       "      <td>El Gran Maestro jacques de MOLAY Gran Maestre ...</td>\n",
       "      <td>[https://t.co/VFTvEtC7dm]</td>\n",
       "      <td>[]</td>\n",
       "      <td>[]</td>\n",
       "      <td>[]</td>\n",
       "      <td>gran maestro jacques molay gran maestre pauper...</td>\n",
       "      <td>2020-11-13</td>\n",
       "    </tr>\n",
       "  </tbody>\n",
       "</table>\n",
       "</div>"
      ],
      "text/plain": [
       "                    id           fecha_pub          usuario  \\\n",
       "0  1326928429091065859 2020-11-12 16:42:45        VTVcanal8   \n",
       "1  1326848774510170114 2020-11-12 11:26:14  KiddKeo95Flames   \n",
       "2  1326928773682524160 2020-11-12 16:44:07    QuinteroCalle   \n",
       "3  1327096677384204291 2020-11-13 03:51:18        DiegoUsui   \n",
       "4  1327096674829934592 2020-11-13 03:51:18      axterix1366   \n",
       "\n",
       "                                               tweet  \\\n",
       "0  #EnVideo📹| Desde este viernes 13 de noviembre,...   \n",
       "1  y mañana es viernes 13 hay q hacer algo, Llama...   \n",
       "2  Con el Gobierno Nacional, los alcaldes del @Ar...   \n",
       "3  ¿Alguien para dedicarle Viernes 13?\\n\\nUrge pa...   \n",
       "4  El Gran Maestro jacques de MOLAY Gran Maestre ...   \n",
       "\n",
       "              user_location  \\\n",
       "0                 Venezuela   \n",
       "1                  ROCKPORT   \n",
       "2        Medellín, Colombia   \n",
       "3  Pachuca de Soto, Hidalgo   \n",
       "4                   Mex D F   \n",
       "\n",
       "                                                link  \\\n",
       "0  https://twitter.com/i/web/status/1326928429091...   \n",
       "1  https://twitter.com/i/web/status/1326848774510...   \n",
       "2  https://twitter.com/i/web/status/1326928773682...   \n",
       "3  https://twitter.com/i/web/status/1327096677384...   \n",
       "4  https://twitter.com/i/web/status/1327096674829...   \n",
       "\n",
       "                                         tweet_clean  \\\n",
       "0   Desde este viernes 13 de noviembre,  inicia d...   \n",
       "1  y mañana es viernes 13 hay q hacer algo, Llama...   \n",
       "2  Con el Gobierno Nacional, los alcaldes del  y ...   \n",
       "3  ¿Alguien para dedicarle Viernes 13?\\n\\nUrge pa...   \n",
       "4  El Gran Maestro jacques de MOLAY Gran Maestre ...   \n",
       "\n",
       "                       links                       hashtags  \\\n",
       "0  [https://t.co/xOEZfR4e0k]  [#EnVideo📹|, #LeerDesbloquea]   \n",
       "1                         []                             []   \n",
       "2                         []                             []   \n",
       "3                         []                             []   \n",
       "4  [https://t.co/VFTvEtC7dm]                             []   \n",
       "\n",
       "                          mentions emojis  \\\n",
       "0                        [@ve_cne]     []   \n",
       "1                               []     []   \n",
       "2  [@Areametropol, @anibalgaviria]     []   \n",
       "3                               []    [🥴]   \n",
       "4                               []     []   \n",
       "\n",
       "                                       pre_procesado        Date  \n",
       "0  noviembre inicia despliegue maquinas votacion ...  2020-11-12  \n",
       "1                q hacer llama jason vamonos d party  2020-11-12  \n",
       "2  gobierno nacional alcaldes gobernador decidimo...  2020-11-12  \n",
       "3                             alguien dedicarle urge  2020-11-13  \n",
       "4  gran maestro jacques molay gran maestre pauper...  2020-11-13  "
      ]
     },
     "execution_count": 163,
     "metadata": {},
     "output_type": "execute_result"
    }
   ],
   "source": [
    "data2['emojis'] = data2['tweet_clean'].apply(lambda text: get_emojis(text))\n",
    "data2.head()"
   ]
  },
  {
   "cell_type": "code",
   "execution_count": 135,
   "metadata": {},
   "outputs": [],
   "source": [
    "stopwords_sp = stopwords.words('spanish')\n",
    "stopwords_sp = stopwords_sp + ['viernes','dia','mañana','hoy']\n",
    "\n",
    "def quitar_tildes(s):\n",
    "    tildes = (\n",
    "        (\"á\", \"a\"),\n",
    "        (\"é\", \"e\"),\n",
    "        (\"í\", \"i\"),\n",
    "        (\"ó\", \"o\"),\n",
    "        (\"ú\", \"u\"),\n",
    "    )\n",
    "    for origen, destino in tildes:\n",
    "        s = s.replace(origen, destino)\n",
    "    return s\n",
    "\n",
    "def pre_procesado(texto):\n",
    "    texto = texto.lower() # minúsculas\n",
    "    texto = re.sub(r\"[\\W\\d_]+\", \" \",texto) # remove caract, números\n",
    "    #texto = re.sub(r\"[\\W]+\", \" \",texto) # remove caract\n",
    "    texto = quitar_tildes(texto) # remove tildes\n",
    "    texto = texto.split() # tokenizar\n",
    "    texto = [palabra for palabra in texto if palabra not in stopwords_sp] # stopwords\n",
    "    texto = \" \".join(texto)\n",
    "    return texto"
   ]
  },
  {
   "cell_type": "code",
   "execution_count": 138,
   "metadata": {},
   "outputs": [],
   "source": [
    "tfidf_vect = TfidfVectorizer(preprocessor=pre_procesado, ngram_range=(1,2), max_features=100)\n",
    "tfidf = tfidf_vect.fit_transform(data2.tweet_clean.values)"
   ]
  },
  {
   "cell_type": "code",
   "execution_count": 136,
   "metadata": {
    "scrolled": false
   },
   "outputs": [
    {
     "data": {
      "text/html": [
       "<div>\n",
       "<style scoped>\n",
       "    .dataframe tbody tr th:only-of-type {\n",
       "        vertical-align: middle;\n",
       "    }\n",
       "\n",
       "    .dataframe tbody tr th {\n",
       "        vertical-align: top;\n",
       "    }\n",
       "\n",
       "    .dataframe thead th {\n",
       "        text-align: right;\n",
       "    }\n",
       "</style>\n",
       "<table border=\"1\" class=\"dataframe\">\n",
       "  <thead>\n",
       "    <tr style=\"text-align: right;\">\n",
       "      <th></th>\n",
       "      <th>id</th>\n",
       "      <th>fecha_pub</th>\n",
       "      <th>usuario</th>\n",
       "      <th>tweet</th>\n",
       "      <th>user_location</th>\n",
       "      <th>link</th>\n",
       "      <th>tweet_clean</th>\n",
       "      <th>links</th>\n",
       "      <th>hashtags</th>\n",
       "      <th>mentions</th>\n",
       "      <th>emojis</th>\n",
       "      <th>pre_procesado</th>\n",
       "    </tr>\n",
       "  </thead>\n",
       "  <tbody>\n",
       "    <tr>\n",
       "      <th>0</th>\n",
       "      <td>1326928429091065859</td>\n",
       "      <td>2020-11-12 16:42:45</td>\n",
       "      <td>VTVcanal8</td>\n",
       "      <td>#EnVideo📹| Desde este viernes 13 de noviembre,...</td>\n",
       "      <td>Venezuela</td>\n",
       "      <td>https://twitter.com/i/web/status/1326928429091...</td>\n",
       "      <td>Desde este viernes 13 de noviembre,  inicia d...</td>\n",
       "      <td>[https://t.co/xOEZfR4e0k]</td>\n",
       "      <td>[#EnVideo📹|, #LeerDesbloquea]</td>\n",
       "      <td>[@ve_cne]</td>\n",
       "      <td>[]</td>\n",
       "      <td>noviembre inicia despliegue maquinas votacion ...</td>\n",
       "    </tr>\n",
       "    <tr>\n",
       "      <th>1</th>\n",
       "      <td>1326848774510170114</td>\n",
       "      <td>2020-11-12 11:26:14</td>\n",
       "      <td>KiddKeo95Flames</td>\n",
       "      <td>y mañana es viernes 13 hay q hacer algo, Llama...</td>\n",
       "      <td>ROCKPORT</td>\n",
       "      <td>https://twitter.com/i/web/status/1326848774510...</td>\n",
       "      <td>y mañana es viernes 13 hay q hacer algo, Llama...</td>\n",
       "      <td>[]</td>\n",
       "      <td>[]</td>\n",
       "      <td>[]</td>\n",
       "      <td>[]</td>\n",
       "      <td>q hacer llama jason vamonos d party</td>\n",
       "    </tr>\n",
       "    <tr>\n",
       "      <th>2</th>\n",
       "      <td>1326928773682524160</td>\n",
       "      <td>2020-11-12 16:44:07</td>\n",
       "      <td>QuinteroCalle</td>\n",
       "      <td>Con el Gobierno Nacional, los alcaldes del @Ar...</td>\n",
       "      <td>Medellín, Colombia</td>\n",
       "      <td>https://twitter.com/i/web/status/1326928773682...</td>\n",
       "      <td>Con el Gobierno Nacional, los alcaldes del  y ...</td>\n",
       "      <td>[]</td>\n",
       "      <td>[]</td>\n",
       "      <td>[@Areametropol, @anibalgaviria]</td>\n",
       "      <td>[]</td>\n",
       "      <td>gobierno nacional alcaldes gobernador decidimo...</td>\n",
       "    </tr>\n",
       "    <tr>\n",
       "      <th>3</th>\n",
       "      <td>1327096677384204291</td>\n",
       "      <td>2020-11-13 03:51:18</td>\n",
       "      <td>DiegoUsui</td>\n",
       "      <td>¿Alguien para dedicarle Viernes 13?\\n\\nUrge pa...</td>\n",
       "      <td>Pachuca de Soto, Hidalgo</td>\n",
       "      <td>https://twitter.com/i/web/status/1327096677384...</td>\n",
       "      <td>¿Alguien para dedicarle Viernes 13?\\n\\nUrge pa...</td>\n",
       "      <td>[]</td>\n",
       "      <td>[]</td>\n",
       "      <td>[]</td>\n",
       "      <td>[🥴]</td>\n",
       "      <td>alguien dedicarle urge</td>\n",
       "    </tr>\n",
       "    <tr>\n",
       "      <th>4</th>\n",
       "      <td>1327096674829934592</td>\n",
       "      <td>2020-11-13 03:51:18</td>\n",
       "      <td>axterix1366</td>\n",
       "      <td>El Gran Maestro jacques de MOLAY Gran Maestre ...</td>\n",
       "      <td>Mex D F</td>\n",
       "      <td>https://twitter.com/i/web/status/1327096674829...</td>\n",
       "      <td>El Gran Maestro jacques de MOLAY Gran Maestre ...</td>\n",
       "      <td>[https://t.co/VFTvEtC7dm]</td>\n",
       "      <td>[]</td>\n",
       "      <td>[]</td>\n",
       "      <td>[]</td>\n",
       "      <td>gran maestro jacques molay gran maestre pauper...</td>\n",
       "    </tr>\n",
       "  </tbody>\n",
       "</table>\n",
       "</div>"
      ],
      "text/plain": [
       "                    id           fecha_pub          usuario  \\\n",
       "0  1326928429091065859 2020-11-12 16:42:45        VTVcanal8   \n",
       "1  1326848774510170114 2020-11-12 11:26:14  KiddKeo95Flames   \n",
       "2  1326928773682524160 2020-11-12 16:44:07    QuinteroCalle   \n",
       "3  1327096677384204291 2020-11-13 03:51:18        DiegoUsui   \n",
       "4  1327096674829934592 2020-11-13 03:51:18      axterix1366   \n",
       "\n",
       "                                               tweet  \\\n",
       "0  #EnVideo📹| Desde este viernes 13 de noviembre,...   \n",
       "1  y mañana es viernes 13 hay q hacer algo, Llama...   \n",
       "2  Con el Gobierno Nacional, los alcaldes del @Ar...   \n",
       "3  ¿Alguien para dedicarle Viernes 13?\\n\\nUrge pa...   \n",
       "4  El Gran Maestro jacques de MOLAY Gran Maestre ...   \n",
       "\n",
       "              user_location  \\\n",
       "0                 Venezuela   \n",
       "1                  ROCKPORT   \n",
       "2        Medellín, Colombia   \n",
       "3  Pachuca de Soto, Hidalgo   \n",
       "4                   Mex D F   \n",
       "\n",
       "                                                link  \\\n",
       "0  https://twitter.com/i/web/status/1326928429091...   \n",
       "1  https://twitter.com/i/web/status/1326848774510...   \n",
       "2  https://twitter.com/i/web/status/1326928773682...   \n",
       "3  https://twitter.com/i/web/status/1327096677384...   \n",
       "4  https://twitter.com/i/web/status/1327096674829...   \n",
       "\n",
       "                                         tweet_clean  \\\n",
       "0   Desde este viernes 13 de noviembre,  inicia d...   \n",
       "1  y mañana es viernes 13 hay q hacer algo, Llama...   \n",
       "2  Con el Gobierno Nacional, los alcaldes del  y ...   \n",
       "3  ¿Alguien para dedicarle Viernes 13?\\n\\nUrge pa...   \n",
       "4  El Gran Maestro jacques de MOLAY Gran Maestre ...   \n",
       "\n",
       "                       links                       hashtags  \\\n",
       "0  [https://t.co/xOEZfR4e0k]  [#EnVideo📹|, #LeerDesbloquea]   \n",
       "1                         []                             []   \n",
       "2                         []                             []   \n",
       "3                         []                             []   \n",
       "4  [https://t.co/VFTvEtC7dm]                             []   \n",
       "\n",
       "                          mentions emojis  \\\n",
       "0                        [@ve_cne]     []   \n",
       "1                               []     []   \n",
       "2  [@Areametropol, @anibalgaviria]     []   \n",
       "3                               []    [🥴]   \n",
       "4                               []     []   \n",
       "\n",
       "                                       pre_procesado  \n",
       "0  noviembre inicia despliegue maquinas votacion ...  \n",
       "1                q hacer llama jason vamonos d party  \n",
       "2  gobierno nacional alcaldes gobernador decidimo...  \n",
       "3                             alguien dedicarle urge  \n",
       "4  gran maestro jacques molay gran maestre pauper...  "
      ]
     },
     "execution_count": 136,
     "metadata": {},
     "output_type": "execute_result"
    }
   ],
   "source": [
    "data2['pre_procesado'] = data2['tweet_clean'].apply(lambda text: pre_procesado(text))\n",
    "data2.head()"
   ]
  },
  {
   "cell_type": "code",
   "execution_count": null,
   "metadata": {},
   "outputs": [],
   "source": []
  },
  {
   "cell_type": "markdown",
   "metadata": {},
   "source": [
    "##  `[25 pts]` Punto 2: Hacer una visualización sobre esos tuits\n",
    "\n",
    "❌🎃❌ ¡No Halloween!"
   ]
  },
  {
   "cell_type": "markdown",
   "metadata": {},
   "source": [
    "### Nube de palabras"
   ]
  },
  {
   "cell_type": "code",
   "execution_count": 137,
   "metadata": {},
   "outputs": [
    {
     "data": {
      "image/png": "[encoded data removed]",
      "text/plain": [
       "<Figure size 720x576 with 1 Axes>"
      ]
     },
     "metadata": {
      "needs_background": "light"
     },
     "output_type": "display_data"
    }
   ],
   "source": [
    "trece = PIL.Image.open(\"13.jpg\")\n",
    "#display(trece)\n",
    "\n",
    "trece_mask = np.array(trece)\n",
    "palabras = data2.pre_procesado.str.cat(sep=\" \")\n",
    " \n",
    "wordcloud = WordCloud(width=800, height=400,\n",
    "                      max_font_size=150, max_words=250,\n",
    "                      background_color='white', colormap='copper_r',\n",
    "                      stopwords=None, random_state=137,\n",
    "                      mask=trece_mask, contour_width=0.5, contour_color='brown').generate(palabras)\n",
    " \n",
    "wordcloud.to_file(\"trece_wordcloud.png\")\n",
    " \n",
    "plt.figure(figsize=(10,8))\n",
    "plt.imshow(wordcloud, interpolation='bilinear')\n",
    "plt.axis(\"off\")\n",
    "plt.tight_layout(pad=0)\n",
    "plt.show()"
   ]
  },
  {
   "cell_type": "code",
   "execution_count": null,
   "metadata": {},
   "outputs": [],
   "source": []
  },
  {
   "cell_type": "code",
   "execution_count": 140,
   "metadata": {},
   "outputs": [
    {
     "data": {
      "text/html": [
       "<div>\n",
       "<style scoped>\n",
       "    .dataframe tbody tr th:only-of-type {\n",
       "        vertical-align: middle;\n",
       "    }\n",
       "\n",
       "    .dataframe tbody tr th {\n",
       "        vertical-align: top;\n",
       "    }\n",
       "\n",
       "    .dataframe thead th {\n",
       "        text-align: right;\n",
       "    }\n",
       "</style>\n",
       "<table border=\"1\" class=\"dataframe\">\n",
       "  <thead>\n",
       "    <tr style=\"text-align: right;\">\n",
       "      <th></th>\n",
       "      <th>emoji</th>\n",
       "      <th>cnt</th>\n",
       "    </tr>\n",
       "  </thead>\n",
       "  <tbody>\n",
       "    <tr>\n",
       "      <th>2</th>\n",
       "      <td>😔</td>\n",
       "      <td>9</td>\n",
       "    </tr>\n",
       "    <tr>\n",
       "      <th>0</th>\n",
       "      <td>🥴</td>\n",
       "      <td>5</td>\n",
       "    </tr>\n",
       "    <tr>\n",
       "      <th>12</th>\n",
       "      <td>✨</td>\n",
       "      <td>4</td>\n",
       "    </tr>\n",
       "    <tr>\n",
       "      <th>31</th>\n",
       "      <td>🍀</td>\n",
       "      <td>4</td>\n",
       "    </tr>\n",
       "    <tr>\n",
       "      <th>56</th>\n",
       "      <td>😭</td>\n",
       "      <td>4</td>\n",
       "    </tr>\n",
       "  </tbody>\n",
       "</table>\n",
       "</div>"
      ],
      "text/plain": [
       "   emoji  cnt\n",
       "2      😔    9\n",
       "0      🥴    5\n",
       "12     ✨    4\n",
       "31     🍀    4\n",
       "56     😭    4"
      ]
     },
     "execution_count": 140,
     "metadata": {},
     "output_type": "execute_result"
    }
   ],
   "source": [
    "temp_emojis = pd.DataFrame(list(zip(Counter(sum(data2.emojis.values,[])).keys(),Counter(sum(data2.emojis.values,[])).values())))\n",
    "temp_emojis.columns = ['emoji', 'cnt']\n",
    "temp_emojis.sort_values('cnt', ascending=False, inplace=True)\n",
    "temp_emojis.head()"
   ]
  },
  {
   "cell_type": "code",
   "execution_count": 143,
   "metadata": {},
   "outputs": [
    {
     "data": {
      "application/vnd.plotly.v1+json": {
       "config": {
        "linkText": "Export to plot.ly",
        "plotlyServerURL": "https://plot.ly",
        "showLink": false
       },
       "data": [
        {
         "type": "bar",
         "x": [
          "😔",
          "🥴",
          "✨",
          "🍀",
          "😭",
          "👀",
          "😳",
          "🤣",
          "🤡",
          "😂",
          "🧙‍♀️",
          "😘",
          "🔺",
          "🖤",
          "🧚🏼"
         ],
         "y": [
          9,
          5,
          4,
          4,
          4,
          4,
          4,
          4,
          4,
          3,
          3,
          2,
          2,
          2,
          2
         ]
        }
       ],
       "layout": {
        "template": {
         "data": {
          "bar": [
           {
            "error_x": {
             "color": "#2a3f5f"
            },
            "error_y": {
             "color": "#2a3f5f"
            },
            "marker": {
             "line": {
              "color": "#E5ECF6",
              "width": 0.5
             }
            },
            "type": "bar"
           }
          ],
          "barpolar": [
           {
            "marker": {
             "line": {
              "color": "#E5ECF6",
              "width": 0.5
             }
            },
            "type": "barpolar"
           }
          ],
          "carpet": [
           {
            "aaxis": {
             "endlinecolor": "#2a3f5f",
             "gridcolor": "white",
             "linecolor": "white",
             "minorgridcolor": "white",
             "startlinecolor": "#2a3f5f"
            },
            "baxis": {
             "endlinecolor": "#2a3f5f",
             "gridcolor": "white",
             "linecolor": "white",
             "minorgridcolor": "white",
             "startlinecolor": "#2a3f5f"
            },
            "type": "carpet"
           }
          ],
          "choropleth": [
           {
            "colorbar": {
             "outlinewidth": 0,
             "ticks": ""
            },
            "type": "choropleth"
           }
          ],
          "contour": [
           {
            "colorbar": {
             "outlinewidth": 0,
             "ticks": ""
            },
            "colorscale": [
             [
              0,
              "#0d0887"
             ],
             [
              0.1111111111111111,
              "#46039f"
             ],
             [
              0.2222222222222222,
              "#7201a8"
             ],
             [
              0.3333333333333333,
              "#9c179e"
             ],
             [
              0.4444444444444444,
              "#bd3786"
             ],
             [
              0.5555555555555556,
              "#d8576b"
             ],
             [
              0.6666666666666666,
              "#ed7953"
             ],
             [
              0.7777777777777778,
              "#fb9f3a"
             ],
             [
              0.8888888888888888,
              "#fdca26"
             ],
             [
              1,
              "#f0f921"
             ]
            ],
            "type": "contour"
           }
          ],
          "contourcarpet": [
           {
            "colorbar": {
             "outlinewidth": 0,
             "ticks": ""
            },
            "type": "contourcarpet"
           }
          ],
          "heatmap": [
           {
            "colorbar": {
             "outlinewidth": 0,
             "ticks": ""
            },
            "colorscale": [
             [
              0,
              "#0d0887"
             ],
             [
              0.1111111111111111,
              "#46039f"
             ],
             [
              0.2222222222222222,
              "#7201a8"
             ],
             [
              0.3333333333333333,
              "#9c179e"
             ],
             [
              0.4444444444444444,
              "#bd3786"
             ],
             [
              0.5555555555555556,
              "#d8576b"
             ],
             [
              0.6666666666666666,
              "#ed7953"
             ],
             [
              0.7777777777777778,
              "#fb9f3a"
             ],
             [
              0.8888888888888888,
              "#fdca26"
             ],
             [
              1,
              "#f0f921"
             ]
            ],
            "type": "heatmap"
           }
          ],
          "heatmapgl": [
           {
            "colorbar": {
             "outlinewidth": 0,
             "ticks": ""
            },
            "colorscale": [
             [
              0,
              "#0d0887"
             ],
             [
              0.1111111111111111,
              "#46039f"
             ],
             [
              0.2222222222222222,
              "#7201a8"
             ],
             [
              0.3333333333333333,
              "#9c179e"
             ],
             [
              0.4444444444444444,
              "#bd3786"
             ],
             [
              0.5555555555555556,
              "#d8576b"
             ],
             [
              0.6666666666666666,
              "#ed7953"
             ],
             [
              0.7777777777777778,
              "#fb9f3a"
             ],
             [
              0.8888888888888888,
              "#fdca26"
             ],
             [
              1,
              "#f0f921"
             ]
            ],
            "type": "heatmapgl"
           }
          ],
          "histogram": [
           {
            "marker": {
             "colorbar": {
              "outlinewidth": 0,
              "ticks": ""
             }
            },
            "type": "histogram"
           }
          ],
          "histogram2d": [
           {
            "colorbar": {
             "outlinewidth": 0,
             "ticks": ""
            },
            "colorscale": [
             [
              0,
              "#0d0887"
             ],
             [
              0.1111111111111111,
              "#46039f"
             ],
             [
              0.2222222222222222,
              "#7201a8"
             ],
             [
              0.3333333333333333,
              "#9c179e"
             ],
             [
              0.4444444444444444,
              "#bd3786"
             ],
             [
              0.5555555555555556,
              "#d8576b"
             ],
             [
              0.6666666666666666,
              "#ed7953"
             ],
             [
              0.7777777777777778,
              "#fb9f3a"
             ],
             [
              0.8888888888888888,
              "#fdca26"
             ],
             [
              1,
              "#f0f921"
             ]
            ],
            "type": "histogram2d"
           }
          ],
          "histogram2dcontour": [
           {
            "colorbar": {
             "outlinewidth": 0,
             "ticks": ""
            },
            "colorscale": [
             [
              0,
              "#0d0887"
             ],
             [
              0.1111111111111111,
              "#46039f"
             ],
             [
              0.2222222222222222,
              "#7201a8"
             ],
             [
              0.3333333333333333,
              "#9c179e"
             ],
             [
              0.4444444444444444,
              "#bd3786"
             ],
             [
              0.5555555555555556,
              "#d8576b"
             ],
             [
              0.6666666666666666,
              "#ed7953"
             ],
             [
              0.7777777777777778,
              "#fb9f3a"
             ],
             [
              0.8888888888888888,
              "#fdca26"
             ],
             [
              1,
              "#f0f921"
             ]
            ],
            "type": "histogram2dcontour"
           }
          ],
          "mesh3d": [
           {
            "colorbar": {
             "outlinewidth": 0,
             "ticks": ""
            },
            "type": "mesh3d"
           }
          ],
          "parcoords": [
           {
            "line": {
             "colorbar": {
              "outlinewidth": 0,
              "ticks": ""
             }
            },
            "type": "parcoords"
           }
          ],
          "pie": [
           {
            "automargin": true,
            "type": "pie"
           }
          ],
          "scatter": [
           {
            "marker": {
             "colorbar": {
              "outlinewidth": 0,
              "ticks": ""
             }
            },
            "type": "scatter"
           }
          ],
          "scatter3d": [
           {
            "line": {
             "colorbar": {
              "outlinewidth": 0,
              "ticks": ""
             }
            },
            "marker": {
             "colorbar": {
              "outlinewidth": 0,
              "ticks": ""
             }
            },
            "type": "scatter3d"
           }
          ],
          "scattercarpet": [
           {
            "marker": {
             "colorbar": {
              "outlinewidth": 0,
              "ticks": ""
             }
            },
            "type": "scattercarpet"
           }
          ],
          "scattergeo": [
           {
            "marker": {
             "colorbar": {
              "outlinewidth": 0,
              "ticks": ""
             }
            },
            "type": "scattergeo"
           }
          ],
          "scattergl": [
           {
            "marker": {
             "colorbar": {
              "outlinewidth": 0,
              "ticks": ""
             }
            },
            "type": "scattergl"
           }
          ],
          "scattermapbox": [
           {
            "marker": {
             "colorbar": {
              "outlinewidth": 0,
              "ticks": ""
             }
            },
            "type": "scattermapbox"
           }
          ],
          "scatterpolar": [
           {
            "marker": {
             "colorbar": {
              "outlinewidth": 0,
              "ticks": ""
             }
            },
            "type": "scatterpolar"
           }
          ],
          "scatterpolargl": [
           {
            "marker": {
             "colorbar": {
              "outlinewidth": 0,
              "ticks": ""
             }
            },
            "type": "scatterpolargl"
           }
          ],
          "scatterternary": [
           {
            "marker": {
             "colorbar": {
              "outlinewidth": 0,
              "ticks": ""
             }
            },
            "type": "scatterternary"
           }
          ],
          "surface": [
           {
            "colorbar": {
             "outlinewidth": 0,
             "ticks": ""
            },
            "colorscale": [
             [
              0,
              "#0d0887"
             ],
             [
              0.1111111111111111,
              "#46039f"
             ],
             [
              0.2222222222222222,
              "#7201a8"
             ],
             [
              0.3333333333333333,
              "#9c179e"
             ],
             [
              0.4444444444444444,
              "#bd3786"
             ],
             [
              0.5555555555555556,
              "#d8576b"
             ],
             [
              0.6666666666666666,
              "#ed7953"
             ],
             [
              0.7777777777777778,
              "#fb9f3a"
             ],
             [
              0.8888888888888888,
              "#fdca26"
             ],
             [
              1,
              "#f0f921"
             ]
            ],
            "type": "surface"
           }
          ],
          "table": [
           {
            "cells": {
             "fill": {
              "color": "#EBF0F8"
             },
             "line": {
              "color": "white"
             }
            },
            "header": {
             "fill": {
              "color": "#C8D4E3"
             },
             "line": {
              "color": "white"
             }
            },
            "type": "table"
           }
          ]
         },
         "layout": {
          "annotationdefaults": {
           "arrowcolor": "#2a3f5f",
           "arrowhead": 0,
           "arrowwidth": 1
          },
          "coloraxis": {
           "colorbar": {
            "outlinewidth": 0,
            "ticks": ""
           }
          },
          "colorscale": {
           "diverging": [
            [
             0,
             "#8e0152"
            ],
            [
             0.1,
             "#c51b7d"
            ],
            [
             0.2,
             "#de77ae"
            ],
            [
             0.3,
             "#f1b6da"
            ],
            [
             0.4,
             "#fde0ef"
            ],
            [
             0.5,
             "#f7f7f7"
            ],
            [
             0.6,
             "#e6f5d0"
            ],
            [
             0.7,
             "#b8e186"
            ],
            [
             0.8,
             "#7fbc41"
            ],
            [
             0.9,
             "#4d9221"
            ],
            [
             1,
             "#276419"
            ]
           ],
           "sequential": [
            [
             0,
             "#0d0887"
            ],
            [
             0.1111111111111111,
             "#46039f"
            ],
            [
             0.2222222222222222,
             "#7201a8"
            ],
            [
             0.3333333333333333,
             "#9c179e"
            ],
            [
             0.4444444444444444,
             "#bd3786"
            ],
            [
             0.5555555555555556,
             "#d8576b"
            ],
            [
             0.6666666666666666,
             "#ed7953"
            ],
            [
             0.7777777777777778,
             "#fb9f3a"
            ],
            [
             0.8888888888888888,
             "#fdca26"
            ],
            [
             1,
             "#f0f921"
            ]
           ],
           "sequentialminus": [
            [
             0,
             "#0d0887"
            ],
            [
             0.1111111111111111,
             "#46039f"
            ],
            [
             0.2222222222222222,
             "#7201a8"
            ],
            [
             0.3333333333333333,
             "#9c179e"
            ],
            [
             0.4444444444444444,
             "#bd3786"
            ],
            [
             0.5555555555555556,
             "#d8576b"
            ],
            [
             0.6666666666666666,
             "#ed7953"
            ],
            [
             0.7777777777777778,
             "#fb9f3a"
            ],
            [
             0.8888888888888888,
             "#fdca26"
            ],
            [
             1,
             "#f0f921"
            ]
           ]
          },
          "colorway": [
           "#636efa",
           "#EF553B",
           "#00cc96",
           "#ab63fa",
           "#FFA15A",
           "#19d3f3",
           "#FF6692",
           "#B6E880",
           "#FF97FF",
           "#FECB52"
          ],
          "font": {
           "color": "#2a3f5f"
          },
          "geo": {
           "bgcolor": "white",
           "lakecolor": "white",
           "landcolor": "#E5ECF6",
           "showlakes": true,
           "showland": true,
           "subunitcolor": "white"
          },
          "hoverlabel": {
           "align": "left"
          },
          "hovermode": "closest",
          "mapbox": {
           "style": "light"
          },
          "paper_bgcolor": "white",
          "plot_bgcolor": "#E5ECF6",
          "polar": {
           "angularaxis": {
            "gridcolor": "white",
            "linecolor": "white",
            "ticks": ""
           },
           "bgcolor": "#E5ECF6",
           "radialaxis": {
            "gridcolor": "white",
            "linecolor": "white",
            "ticks": ""
           }
          },
          "scene": {
           "xaxis": {
            "backgroundcolor": "#E5ECF6",
            "gridcolor": "white",
            "gridwidth": 2,
            "linecolor": "white",
            "showbackground": true,
            "ticks": "",
            "zerolinecolor": "white"
           },
           "yaxis": {
            "backgroundcolor": "#E5ECF6",
            "gridcolor": "white",
            "gridwidth": 2,
            "linecolor": "white",
            "showbackground": true,
            "ticks": "",
            "zerolinecolor": "white"
           },
           "zaxis": {
            "backgroundcolor": "#E5ECF6",
            "gridcolor": "white",
            "gridwidth": 2,
            "linecolor": "white",
            "showbackground": true,
            "ticks": "",
            "zerolinecolor": "white"
           }
          },
          "shapedefaults": {
           "line": {
            "color": "#2a3f5f"
           }
          },
          "ternary": {
           "aaxis": {
            "gridcolor": "white",
            "linecolor": "white",
            "ticks": ""
           },
           "baxis": {
            "gridcolor": "white",
            "linecolor": "white",
            "ticks": ""
           },
           "bgcolor": "#E5ECF6",
           "caxis": {
            "gridcolor": "white",
            "linecolor": "white",
            "ticks": ""
           }
          },
          "title": {
           "x": 0.05
          },
          "xaxis": {
           "automargin": true,
           "gridcolor": "white",
           "linecolor": "white",
           "ticks": "",
           "title": {
            "standoff": 15
           },
           "zerolinecolor": "white",
           "zerolinewidth": 2
          },
          "yaxis": {
           "automargin": true,
           "gridcolor": "white",
           "linecolor": "white",
           "ticks": "",
           "title": {
            "standoff": 15
           },
           "zerolinecolor": "white",
           "zerolinewidth": 2
          }
         }
        },
        "title": {
         "text": "Emojis más usados"
        }
       }
      },
      "text/html": [
       "<div>\n",
       "        \n",
       "        \n",
       "            <div id=\"a1fbd4de-c7e0-42d6-8ba9-6e77c576a209\" class=\"plotly-graph-div\" style=\"height:525px; width:100%;\"></div>\n",
       "            <script type=\"text/javascript\">\n",
       "                require([\"plotly\"], function(Plotly) {\n",
       "                    window.PLOTLYENV=window.PLOTLYENV || {};\n",
       "                    \n",
       "                if (document.getElementById(\"a1fbd4de-c7e0-42d6-8ba9-6e77c576a209\")) {\n",
       "                    Plotly.newPlot(\n",
       "                        'a1fbd4de-c7e0-42d6-8ba9-6e77c576a209',\n",
       "                        [{\"type\": \"bar\", \"x\": [\"\\ud83d\\ude14\", \"\\ud83e\\udd74\", \"\\u2728\", \"\\ud83c\\udf40\", \"\\ud83d\\ude2d\", \"\\ud83d\\udc40\", \"\\ud83d\\ude33\", \"\\ud83e\\udd23\", \"\\ud83e\\udd21\", \"\\ud83d\\ude02\", \"\\ud83e\\uddd9\\u200d\\u2640\\ufe0f\", \"\\ud83d\\ude18\", \"\\ud83d\\udd3a\", \"\\ud83d\\udda4\", \"\\ud83e\\uddda\\ud83c\\udffc\"], \"y\": [9, 5, 4, 4, 4, 4, 4, 4, 4, 3, 3, 2, 2, 2, 2]}],\n",
       "                        {\"template\": {\"data\": {\"bar\": [{\"error_x\": {\"color\": \"#2a3f5f\"}, \"error_y\": {\"color\": \"#2a3f5f\"}, \"marker\": {\"line\": {\"color\": \"#E5ECF6\", \"width\": 0.5}}, \"type\": \"bar\"}], \"barpolar\": [{\"marker\": {\"line\": {\"color\": \"#E5ECF6\", \"width\": 0.5}}, \"type\": \"barpolar\"}], \"carpet\": [{\"aaxis\": {\"endlinecolor\": \"#2a3f5f\", \"gridcolor\": \"white\", \"linecolor\": \"white\", \"minorgridcolor\": \"white\", \"startlinecolor\": \"#2a3f5f\"}, \"baxis\": {\"endlinecolor\": \"#2a3f5f\", \"gridcolor\": \"white\", \"linecolor\": \"white\", \"minorgridcolor\": \"white\", \"startlinecolor\": \"#2a3f5f\"}, \"type\": \"carpet\"}], \"choropleth\": [{\"colorbar\": {\"outlinewidth\": 0, \"ticks\": \"\"}, \"type\": \"choropleth\"}], \"contour\": [{\"colorbar\": {\"outlinewidth\": 0, \"ticks\": \"\"}, \"colorscale\": [[0.0, \"#0d0887\"], [0.1111111111111111, \"#46039f\"], [0.2222222222222222, \"#7201a8\"], [0.3333333333333333, \"#9c179e\"], [0.4444444444444444, \"#bd3786\"], [0.5555555555555556, \"#d8576b\"], [0.6666666666666666, \"#ed7953\"], [0.7777777777777778, \"#fb9f3a\"], [0.8888888888888888, \"#fdca26\"], [1.0, \"#f0f921\"]], \"type\": \"contour\"}], \"contourcarpet\": [{\"colorbar\": {\"outlinewidth\": 0, \"ticks\": \"\"}, \"type\": \"contourcarpet\"}], \"heatmap\": [{\"colorbar\": {\"outlinewidth\": 0, \"ticks\": \"\"}, \"colorscale\": [[0.0, \"#0d0887\"], [0.1111111111111111, \"#46039f\"], [0.2222222222222222, \"#7201a8\"], [0.3333333333333333, \"#9c179e\"], [0.4444444444444444, \"#bd3786\"], [0.5555555555555556, \"#d8576b\"], [0.6666666666666666, \"#ed7953\"], [0.7777777777777778, \"#fb9f3a\"], [0.8888888888888888, \"#fdca26\"], [1.0, \"#f0f921\"]], \"type\": \"heatmap\"}], \"heatmapgl\": [{\"colorbar\": {\"outlinewidth\": 0, \"ticks\": \"\"}, \"colorscale\": [[0.0, \"#0d0887\"], [0.1111111111111111, \"#46039f\"], [0.2222222222222222, \"#7201a8\"], [0.3333333333333333, \"#9c179e\"], [0.4444444444444444, \"#bd3786\"], [0.5555555555555556, \"#d8576b\"], [0.6666666666666666, \"#ed7953\"], [0.7777777777777778, \"#fb9f3a\"], [0.8888888888888888, \"#fdca26\"], [1.0, \"#f0f921\"]], \"type\": \"heatmapgl\"}], \"histogram\": [{\"marker\": {\"colorbar\": {\"outlinewidth\": 0, \"ticks\": \"\"}}, \"type\": \"histogram\"}], \"histogram2d\": [{\"colorbar\": {\"outlinewidth\": 0, \"ticks\": \"\"}, \"colorscale\": [[0.0, \"#0d0887\"], [0.1111111111111111, \"#46039f\"], [0.2222222222222222, \"#7201a8\"], [0.3333333333333333, \"#9c179e\"], [0.4444444444444444, \"#bd3786\"], [0.5555555555555556, \"#d8576b\"], [0.6666666666666666, \"#ed7953\"], [0.7777777777777778, \"#fb9f3a\"], [0.8888888888888888, \"#fdca26\"], [1.0, \"#f0f921\"]], \"type\": \"histogram2d\"}], \"histogram2dcontour\": [{\"colorbar\": {\"outlinewidth\": 0, \"ticks\": \"\"}, \"colorscale\": [[0.0, \"#0d0887\"], [0.1111111111111111, \"#46039f\"], [0.2222222222222222, \"#7201a8\"], [0.3333333333333333, \"#9c179e\"], [0.4444444444444444, \"#bd3786\"], [0.5555555555555556, \"#d8576b\"], [0.6666666666666666, \"#ed7953\"], [0.7777777777777778, \"#fb9f3a\"], [0.8888888888888888, \"#fdca26\"], [1.0, \"#f0f921\"]], \"type\": \"histogram2dcontour\"}], \"mesh3d\": [{\"colorbar\": {\"outlinewidth\": 0, \"ticks\": \"\"}, \"type\": \"mesh3d\"}], \"parcoords\": [{\"line\": {\"colorbar\": {\"outlinewidth\": 0, \"ticks\": \"\"}}, \"type\": \"parcoords\"}], \"pie\": [{\"automargin\": true, \"type\": \"pie\"}], \"scatter\": [{\"marker\": {\"colorbar\": {\"outlinewidth\": 0, \"ticks\": \"\"}}, \"type\": \"scatter\"}], \"scatter3d\": [{\"line\": {\"colorbar\": {\"outlinewidth\": 0, \"ticks\": \"\"}}, \"marker\": {\"colorbar\": {\"outlinewidth\": 0, \"ticks\": \"\"}}, \"type\": \"scatter3d\"}], \"scattercarpet\": [{\"marker\": {\"colorbar\": {\"outlinewidth\": 0, \"ticks\": \"\"}}, \"type\": \"scattercarpet\"}], \"scattergeo\": [{\"marker\": {\"colorbar\": {\"outlinewidth\": 0, \"ticks\": \"\"}}, \"type\": \"scattergeo\"}], \"scattergl\": [{\"marker\": {\"colorbar\": {\"outlinewidth\": 0, \"ticks\": \"\"}}, \"type\": \"scattergl\"}], \"scattermapbox\": [{\"marker\": {\"colorbar\": {\"outlinewidth\": 0, \"ticks\": \"\"}}, \"type\": \"scattermapbox\"}], \"scatterpolar\": [{\"marker\": {\"colorbar\": {\"outlinewidth\": 0, \"ticks\": \"\"}}, \"type\": \"scatterpolar\"}], \"scatterpolargl\": [{\"marker\": {\"colorbar\": {\"outlinewidth\": 0, \"ticks\": \"\"}}, \"type\": \"scatterpolargl\"}], \"scatterternary\": [{\"marker\": {\"colorbar\": {\"outlinewidth\": 0, \"ticks\": \"\"}}, \"type\": \"scatterternary\"}], \"surface\": [{\"colorbar\": {\"outlinewidth\": 0, \"ticks\": \"\"}, \"colorscale\": [[0.0, \"#0d0887\"], [0.1111111111111111, \"#46039f\"], [0.2222222222222222, \"#7201a8\"], [0.3333333333333333, \"#9c179e\"], [0.4444444444444444, \"#bd3786\"], [0.5555555555555556, \"#d8576b\"], [0.6666666666666666, \"#ed7953\"], [0.7777777777777778, \"#fb9f3a\"], [0.8888888888888888, \"#fdca26\"], [1.0, \"#f0f921\"]], \"type\": \"surface\"}], \"table\": [{\"cells\": {\"fill\": {\"color\": \"#EBF0F8\"}, \"line\": {\"color\": \"white\"}}, \"header\": {\"fill\": {\"color\": \"#C8D4E3\"}, \"line\": {\"color\": \"white\"}}, \"type\": \"table\"}]}, \"layout\": {\"annotationdefaults\": {\"arrowcolor\": \"#2a3f5f\", \"arrowhead\": 0, \"arrowwidth\": 1}, \"coloraxis\": {\"colorbar\": {\"outlinewidth\": 0, \"ticks\": \"\"}}, \"colorscale\": {\"diverging\": [[0, \"#8e0152\"], [0.1, \"#c51b7d\"], [0.2, \"#de77ae\"], [0.3, \"#f1b6da\"], [0.4, \"#fde0ef\"], [0.5, \"#f7f7f7\"], [0.6, \"#e6f5d0\"], [0.7, \"#b8e186\"], [0.8, \"#7fbc41\"], [0.9, \"#4d9221\"], [1, \"#276419\"]], \"sequential\": [[0.0, \"#0d0887\"], [0.1111111111111111, \"#46039f\"], [0.2222222222222222, \"#7201a8\"], [0.3333333333333333, \"#9c179e\"], [0.4444444444444444, \"#bd3786\"], [0.5555555555555556, \"#d8576b\"], [0.6666666666666666, \"#ed7953\"], [0.7777777777777778, \"#fb9f3a\"], [0.8888888888888888, \"#fdca26\"], [1.0, \"#f0f921\"]], \"sequentialminus\": [[0.0, \"#0d0887\"], [0.1111111111111111, \"#46039f\"], [0.2222222222222222, \"#7201a8\"], [0.3333333333333333, \"#9c179e\"], [0.4444444444444444, \"#bd3786\"], [0.5555555555555556, \"#d8576b\"], [0.6666666666666666, \"#ed7953\"], [0.7777777777777778, \"#fb9f3a\"], [0.8888888888888888, \"#fdca26\"], [1.0, \"#f0f921\"]]}, \"colorway\": [\"#636efa\", \"#EF553B\", \"#00cc96\", \"#ab63fa\", \"#FFA15A\", \"#19d3f3\", \"#FF6692\", \"#B6E880\", \"#FF97FF\", \"#FECB52\"], \"font\": {\"color\": \"#2a3f5f\"}, \"geo\": {\"bgcolor\": \"white\", \"lakecolor\": \"white\", \"landcolor\": \"#E5ECF6\", \"showlakes\": true, \"showland\": true, \"subunitcolor\": \"white\"}, \"hoverlabel\": {\"align\": \"left\"}, \"hovermode\": \"closest\", \"mapbox\": {\"style\": \"light\"}, \"paper_bgcolor\": \"white\", \"plot_bgcolor\": \"#E5ECF6\", \"polar\": {\"angularaxis\": {\"gridcolor\": \"white\", \"linecolor\": \"white\", \"ticks\": \"\"}, \"bgcolor\": \"#E5ECF6\", \"radialaxis\": {\"gridcolor\": \"white\", \"linecolor\": \"white\", \"ticks\": \"\"}}, \"scene\": {\"xaxis\": {\"backgroundcolor\": \"#E5ECF6\", \"gridcolor\": \"white\", \"gridwidth\": 2, \"linecolor\": \"white\", \"showbackground\": true, \"ticks\": \"\", \"zerolinecolor\": \"white\"}, \"yaxis\": {\"backgroundcolor\": \"#E5ECF6\", \"gridcolor\": \"white\", \"gridwidth\": 2, \"linecolor\": \"white\", \"showbackground\": true, \"ticks\": \"\", \"zerolinecolor\": \"white\"}, \"zaxis\": {\"backgroundcolor\": \"#E5ECF6\", \"gridcolor\": \"white\", \"gridwidth\": 2, \"linecolor\": \"white\", \"showbackground\": true, \"ticks\": \"\", \"zerolinecolor\": \"white\"}}, \"shapedefaults\": {\"line\": {\"color\": \"#2a3f5f\"}}, \"ternary\": {\"aaxis\": {\"gridcolor\": \"white\", \"linecolor\": \"white\", \"ticks\": \"\"}, \"baxis\": {\"gridcolor\": \"white\", \"linecolor\": \"white\", \"ticks\": \"\"}, \"bgcolor\": \"#E5ECF6\", \"caxis\": {\"gridcolor\": \"white\", \"linecolor\": \"white\", \"ticks\": \"\"}}, \"title\": {\"x\": 0.05}, \"xaxis\": {\"automargin\": true, \"gridcolor\": \"white\", \"linecolor\": \"white\", \"ticks\": \"\", \"title\": {\"standoff\": 15}, \"zerolinecolor\": \"white\", \"zerolinewidth\": 2}, \"yaxis\": {\"automargin\": true, \"gridcolor\": \"white\", \"linecolor\": \"white\", \"ticks\": \"\", \"title\": {\"standoff\": 15}, \"zerolinecolor\": \"white\", \"zerolinewidth\": 2}}}, \"title\": {\"text\": \"Emojis m\\u00e1s usados\"}},\n",
       "                        {\"responsive\": true}\n",
       "                    ).then(function(){\n",
       "                            \n",
       "var gd = document.getElementById('a1fbd4de-c7e0-42d6-8ba9-6e77c576a209');\n",
       "var x = new MutationObserver(function (mutations, observer) {{\n",
       "        var display = window.getComputedStyle(gd).display;\n",
       "        if (!display || display === 'none') {{\n",
       "            console.log([gd, 'removed!']);\n",
       "            Plotly.purge(gd);\n",
       "            observer.disconnect();\n",
       "        }}\n",
       "}});\n",
       "\n",
       "// Listen for the removal of the full notebook cells\n",
       "var notebookContainer = gd.closest('#notebook-container');\n",
       "if (notebookContainer) {{\n",
       "    x.observe(notebookContainer, {childList: true});\n",
       "}}\n",
       "\n",
       "// Listen for the clearing of the current output cell\n",
       "var outputEl = gd.closest('.output');\n",
       "if (outputEl) {{\n",
       "    x.observe(outputEl, {childList: true});\n",
       "}}\n",
       "\n",
       "                        })\n",
       "                };\n",
       "                });\n",
       "            </script>\n",
       "        </div>"
      ]
     },
     "metadata": {},
     "output_type": "display_data"
    }
   ],
   "source": [
    "trace = go.Bar(x=temp_emojis.emoji.values[:15],\n",
    "               y=temp_emojis.cnt.values[:15])\n",
    " \n",
    "layout = go.Layout(title='Emojis más usados')\n",
    " \n",
    "fig = go.Figure(data=[trace], layout=layout)\n",
    "iplot(fig)"
   ]
  },
  {
   "cell_type": "code",
   "execution_count": 253,
   "metadata": {},
   "outputs": [
    {
     "data": {
      "application/vnd.plotly.v1+json": {
       "config": {
        "plotlyServerURL": "https://plot.ly"
       },
       "data": [
        {
         "alignmentgroup": "True",
         "hovertemplate": "emoji=😔<br>animation_frame=😔<br>x=%{x}<br>cnt=%{y}<extra></extra>",
         "ids": [
          9
         ],
         "legendgroup": "😔",
         "marker": {
          "color": "#636efa"
         },
         "name": "😔",
         "offsetgroup": "😔",
         "orientation": "v",
         "showlegend": true,
         "textposition": "auto",
         "type": "bar",
         "x": [
          "😔"
         ],
         "xaxis": "x",
         "y": [
          9
         ],
         "yaxis": "y"
        }
       ],
       "frames": [
        {
         "data": [
          {
           "alignmentgroup": "True",
           "hovertemplate": "emoji=😔<br>animation_frame=😔<br>x=%{x}<br>cnt=%{y}<extra></extra>",
           "ids": [
            9
           ],
           "legendgroup": "😔",
           "marker": {
            "color": "#636efa"
           },
           "name": "😔",
           "offsetgroup": "😔",
           "orientation": "v",
           "showlegend": true,
           "textposition": "auto",
           "type": "bar",
           "x": [
            "😔"
           ],
           "xaxis": "x",
           "y": [
            9
           ],
           "yaxis": "y"
          }
         ],
         "name": "😔"
        },
        {
         "data": [
          {
           "alignmentgroup": "True",
           "hovertemplate": "emoji=🥴<br>animation_frame=🥴<br>x=%{x}<br>cnt=%{y}<extra></extra>",
           "ids": [
            5
           ],
           "legendgroup": "🥴",
           "marker": {
            "color": "#EF553B"
           },
           "name": "🥴",
           "offsetgroup": "🥴",
           "orientation": "v",
           "showlegend": true,
           "textposition": "auto",
           "type": "bar",
           "x": [
            "🥴"
           ],
           "xaxis": "x",
           "y": [
            5
           ],
           "yaxis": "y"
          }
         ],
         "name": "🥴"
        },
        {
         "data": [
          {
           "alignmentgroup": "True",
           "hovertemplate": "emoji=✨<br>animation_frame=✨<br>x=%{x}<br>cnt=%{y}<extra></extra>",
           "ids": [
            4
           ],
           "legendgroup": "✨",
           "marker": {
            "color": "#00cc96"
           },
           "name": "✨",
           "offsetgroup": "✨",
           "orientation": "v",
           "showlegend": true,
           "textposition": "auto",
           "type": "bar",
           "x": [
            "✨"
           ],
           "xaxis": "x",
           "y": [
            4
           ],
           "yaxis": "y"
          }
         ],
         "name": "✨"
        },
        {
         "data": [
          {
           "alignmentgroup": "True",
           "hovertemplate": "emoji=🍀<br>animation_frame=🍀<br>x=%{x}<br>cnt=%{y}<extra></extra>",
           "ids": [
            4
           ],
           "legendgroup": "🍀",
           "marker": {
            "color": "#ab63fa"
           },
           "name": "🍀",
           "offsetgroup": "🍀",
           "orientation": "v",
           "showlegend": true,
           "textposition": "auto",
           "type": "bar",
           "x": [
            "🍀"
           ],
           "xaxis": "x",
           "y": [
            4
           ],
           "yaxis": "y"
          }
         ],
         "name": "🍀"
        },
        {
         "data": [
          {
           "alignmentgroup": "True",
           "hovertemplate": "emoji=😭<br>animation_frame=😭<br>x=%{x}<br>cnt=%{y}<extra></extra>",
           "ids": [
            4
           ],
           "legendgroup": "😭",
           "marker": {
            "color": "#FFA15A"
           },
           "name": "😭",
           "offsetgroup": "😭",
           "orientation": "v",
           "showlegend": true,
           "textposition": "auto",
           "type": "bar",
           "x": [
            "😭"
           ],
           "xaxis": "x",
           "y": [
            4
           ],
           "yaxis": "y"
          }
         ],
         "name": "😭"
        },
        {
         "data": [
          {
           "alignmentgroup": "True",
           "hovertemplate": "emoji=👀<br>animation_frame=👀<br>x=%{x}<br>cnt=%{y}<extra></extra>",
           "ids": [
            4
           ],
           "legendgroup": "👀",
           "marker": {
            "color": "#19d3f3"
           },
           "name": "👀",
           "offsetgroup": "👀",
           "orientation": "v",
           "showlegend": true,
           "textposition": "auto",
           "type": "bar",
           "x": [
            "👀"
           ],
           "xaxis": "x",
           "y": [
            4
           ],
           "yaxis": "y"
          }
         ],
         "name": "👀"
        },
        {
         "data": [
          {
           "alignmentgroup": "True",
           "hovertemplate": "emoji=😳<br>animation_frame=😳<br>x=%{x}<br>cnt=%{y}<extra></extra>",
           "ids": [
            4
           ],
           "legendgroup": "😳",
           "marker": {
            "color": "#FF6692"
           },
           "name": "😳",
           "offsetgroup": "😳",
           "orientation": "v",
           "showlegend": true,
           "textposition": "auto",
           "type": "bar",
           "x": [
            "😳"
           ],
           "xaxis": "x",
           "y": [
            4
           ],
           "yaxis": "y"
          }
         ],
         "name": "😳"
        },
        {
         "data": [
          {
           "alignmentgroup": "True",
           "hovertemplate": "emoji=🤣<br>animation_frame=🤣<br>x=%{x}<br>cnt=%{y}<extra></extra>",
           "ids": [
            4
           ],
           "legendgroup": "🤣",
           "marker": {
            "color": "#B6E880"
           },
           "name": "🤣",
           "offsetgroup": "🤣",
           "orientation": "v",
           "showlegend": true,
           "textposition": "auto",
           "type": "bar",
           "x": [
            "🤣"
           ],
           "xaxis": "x",
           "y": [
            4
           ],
           "yaxis": "y"
          }
         ],
         "name": "🤣"
        },
        {
         "data": [
          {
           "alignmentgroup": "True",
           "hovertemplate": "emoji=🤡<br>animation_frame=🤡<br>x=%{x}<br>cnt=%{y}<extra></extra>",
           "ids": [
            4
           ],
           "legendgroup": "🤡",
           "marker": {
            "color": "#FF97FF"
           },
           "name": "🤡",
           "offsetgroup": "🤡",
           "orientation": "v",
           "showlegend": true,
           "textposition": "auto",
           "type": "bar",
           "x": [
            "🤡"
           ],
           "xaxis": "x",
           "y": [
            4
           ],
           "yaxis": "y"
          }
         ],
         "name": "🤡"
        },
        {
         "data": [
          {
           "alignmentgroup": "True",
           "hovertemplate": "emoji=😂<br>animation_frame=😂<br>x=%{x}<br>cnt=%{y}<extra></extra>",
           "ids": [
            3
           ],
           "legendgroup": "😂",
           "marker": {
            "color": "#FECB52"
           },
           "name": "😂",
           "offsetgroup": "😂",
           "orientation": "v",
           "showlegend": true,
           "textposition": "auto",
           "type": "bar",
           "x": [
            "😂"
           ],
           "xaxis": "x",
           "y": [
            3
           ],
           "yaxis": "y"
          }
         ],
         "name": "😂"
        },
        {
         "data": [
          {
           "alignmentgroup": "True",
           "hovertemplate": "emoji=🧙‍♀️<br>animation_frame=🧙‍♀️<br>x=%{x}<br>cnt=%{y}<extra></extra>",
           "ids": [
            3
           ],
           "legendgroup": "🧙‍♀️",
           "marker": {
            "color": "#636efa"
           },
           "name": "🧙‍♀️",
           "offsetgroup": "🧙‍♀️",
           "orientation": "v",
           "showlegend": true,
           "textposition": "auto",
           "type": "bar",
           "x": [
            "🧙‍♀️"
           ],
           "xaxis": "x",
           "y": [
            3
           ],
           "yaxis": "y"
          }
         ],
         "name": "🧙‍♀️"
        },
        {
         "data": [
          {
           "alignmentgroup": "True",
           "hovertemplate": "emoji=😘<br>animation_frame=😘<br>x=%{x}<br>cnt=%{y}<extra></extra>",
           "ids": [
            2
           ],
           "legendgroup": "😘",
           "marker": {
            "color": "#EF553B"
           },
           "name": "😘",
           "offsetgroup": "😘",
           "orientation": "v",
           "showlegend": true,
           "textposition": "auto",
           "type": "bar",
           "x": [
            "😘"
           ],
           "xaxis": "x",
           "y": [
            2
           ],
           "yaxis": "y"
          }
         ],
         "name": "😘"
        },
        {
         "data": [
          {
           "alignmentgroup": "True",
           "hovertemplate": "emoji=🔺<br>animation_frame=🔺<br>x=%{x}<br>cnt=%{y}<extra></extra>",
           "ids": [
            2
           ],
           "legendgroup": "🔺",
           "marker": {
            "color": "#00cc96"
           },
           "name": "🔺",
           "offsetgroup": "🔺",
           "orientation": "v",
           "showlegend": true,
           "textposition": "auto",
           "type": "bar",
           "x": [
            "🔺"
           ],
           "xaxis": "x",
           "y": [
            2
           ],
           "yaxis": "y"
          }
         ],
         "name": "🔺"
        },
        {
         "data": [
          {
           "alignmentgroup": "True",
           "hovertemplate": "emoji=🖤<br>animation_frame=🖤<br>x=%{x}<br>cnt=%{y}<extra></extra>",
           "ids": [
            2
           ],
           "legendgroup": "🖤",
           "marker": {
            "color": "#ab63fa"
           },
           "name": "🖤",
           "offsetgroup": "🖤",
           "orientation": "v",
           "showlegend": true,
           "textposition": "auto",
           "type": "bar",
           "x": [
            "🖤"
           ],
           "xaxis": "x",
           "y": [
            2
           ],
           "yaxis": "y"
          }
         ],
         "name": "🖤"
        },
        {
         "data": [
          {
           "alignmentgroup": "True",
           "hovertemplate": "emoji=🧚🏼<br>animation_frame=🧚🏼<br>x=%{x}<br>cnt=%{y}<extra></extra>",
           "ids": [
            2
           ],
           "legendgroup": "🧚🏼",
           "marker": {
            "color": "#FFA15A"
           },
           "name": "🧚🏼",
           "offsetgroup": "🧚🏼",
           "orientation": "v",
           "showlegend": true,
           "textposition": "auto",
           "type": "bar",
           "x": [
            "🧚🏼"
           ],
           "xaxis": "x",
           "y": [
            2
           ],
           "yaxis": "y"
          }
         ],
         "name": "🧚🏼"
        },
        {
         "data": [
          {
           "alignmentgroup": "True",
           "hovertemplate": "emoji=👎<br>animation_frame=👎<br>x=%{x}<br>cnt=%{y}<extra></extra>",
           "ids": [
            2
           ],
           "legendgroup": "👎",
           "marker": {
            "color": "#19d3f3"
           },
           "name": "👎",
           "offsetgroup": "👎",
           "orientation": "v",
           "showlegend": true,
           "textposition": "auto",
           "type": "bar",
           "x": [
            "👎"
           ],
           "xaxis": "x",
           "y": [
            2
           ],
           "yaxis": "y"
          }
         ],
         "name": "👎"
        },
        {
         "data": [
          {
           "alignmentgroup": "True",
           "hovertemplate": "emoji=🥺<br>animation_frame=🥺<br>x=%{x}<br>cnt=%{y}<extra></extra>",
           "ids": [
            2
           ],
           "legendgroup": "🥺",
           "marker": {
            "color": "#FF6692"
           },
           "name": "🥺",
           "offsetgroup": "🥺",
           "orientation": "v",
           "showlegend": true,
           "textposition": "auto",
           "type": "bar",
           "x": [
            "🥺"
           ],
           "xaxis": "x",
           "y": [
            2
           ],
           "yaxis": "y"
          }
         ],
         "name": "🥺"
        },
        {
         "data": [
          {
           "alignmentgroup": "True",
           "hovertemplate": "emoji=🤗<br>animation_frame=🤗<br>x=%{x}<br>cnt=%{y}<extra></extra>",
           "ids": [
            2
           ],
           "legendgroup": "🤗",
           "marker": {
            "color": "#B6E880"
           },
           "name": "🤗",
           "offsetgroup": "🤗",
           "orientation": "v",
           "showlegend": true,
           "textposition": "auto",
           "type": "bar",
           "x": [
            "🤗"
           ],
           "xaxis": "x",
           "y": [
            2
           ],
           "yaxis": "y"
          }
         ],
         "name": "🤗"
        },
        {
         "data": [
          {
           "alignmentgroup": "True",
           "hovertemplate": "emoji=🙄<br>animation_frame=🙄<br>x=%{x}<br>cnt=%{y}<extra></extra>",
           "ids": [
            2
           ],
           "legendgroup": "🙄",
           "marker": {
            "color": "#FF97FF"
           },
           "name": "🙄",
           "offsetgroup": "🙄",
           "orientation": "v",
           "showlegend": true,
           "textposition": "auto",
           "type": "bar",
           "x": [
            "🙄"
           ],
           "xaxis": "x",
           "y": [
            2
           ],
           "yaxis": "y"
          }
         ],
         "name": "🙄"
        },
        {
         "data": [
          {
           "alignmentgroup": "True",
           "hovertemplate": "emoji=🤨<br>animation_frame=🤨<br>x=%{x}<br>cnt=%{y}<extra></extra>",
           "ids": [
            1
           ],
           "legendgroup": "🤨",
           "marker": {
            "color": "#FECB52"
           },
           "name": "🤨",
           "offsetgroup": "🤨",
           "orientation": "v",
           "showlegend": true,
           "textposition": "auto",
           "type": "bar",
           "x": [
            "🤨"
           ],
           "xaxis": "x",
           "y": [
            1
           ],
           "yaxis": "y"
          }
         ],
         "name": "🤨"
        },
        {
         "data": [
          {
           "alignmentgroup": "True",
           "hovertemplate": "emoji=🏴‍☠️<br>animation_frame=🏴‍☠️<br>x=%{x}<br>cnt=%{y}<extra></extra>",
           "ids": [
            1
           ],
           "legendgroup": "🏴‍☠️",
           "marker": {
            "color": "#636efa"
           },
           "name": "🏴‍☠️",
           "offsetgroup": "🏴‍☠️",
           "orientation": "v",
           "showlegend": true,
           "textposition": "auto",
           "type": "bar",
           "x": [
            "🏴‍☠️"
           ],
           "xaxis": "x",
           "y": [
            1
           ],
           "yaxis": "y"
          }
         ],
         "name": "🏴‍☠️"
        },
        {
         "data": [
          {
           "alignmentgroup": "True",
           "hovertemplate": "emoji=🙃<br>animation_frame=🙃<br>x=%{x}<br>cnt=%{y}<extra></extra>",
           "ids": [
            1
           ],
           "legendgroup": "🙃",
           "marker": {
            "color": "#EF553B"
           },
           "name": "🙃",
           "offsetgroup": "🙃",
           "orientation": "v",
           "showlegend": true,
           "textposition": "auto",
           "type": "bar",
           "x": [
            "🙃"
           ],
           "xaxis": "x",
           "y": [
            1
           ],
           "yaxis": "y"
          }
         ],
         "name": "🙃"
        },
        {
         "data": [
          {
           "alignmentgroup": "True",
           "hovertemplate": "emoji=🇨🇴<br>animation_frame=🇨🇴<br>x=%{x}<br>cnt=%{y}<extra></extra>",
           "ids": [
            1
           ],
           "legendgroup": "🇨🇴",
           "marker": {
            "color": "#00cc96"
           },
           "name": "🇨🇴",
           "offsetgroup": "🇨🇴",
           "orientation": "v",
           "showlegend": true,
           "textposition": "auto",
           "type": "bar",
           "x": [
            "🇨🇴"
           ],
           "xaxis": "x",
           "y": [
            1
           ],
           "yaxis": "y"
          }
         ],
         "name": "🇨🇴"
        },
        {
         "data": [
          {
           "alignmentgroup": "True",
           "hovertemplate": "emoji=➡️<br>animation_frame=➡️<br>x=%{x}<br>cnt=%{y}<extra></extra>",
           "ids": [
            1
           ],
           "legendgroup": "➡️",
           "marker": {
            "color": "#ab63fa"
           },
           "name": "➡️",
           "offsetgroup": "➡️",
           "orientation": "v",
           "showlegend": true,
           "textposition": "auto",
           "type": "bar",
           "x": [
            "➡️"
           ],
           "xaxis": "x",
           "y": [
            1
           ],
           "yaxis": "y"
          }
         ],
         "name": "➡️"
        },
        {
         "data": [
          {
           "alignmentgroup": "True",
           "hovertemplate": "emoji=😨<br>animation_frame=😨<br>x=%{x}<br>cnt=%{y}<extra></extra>",
           "ids": [
            1
           ],
           "legendgroup": "😨",
           "marker": {
            "color": "#FFA15A"
           },
           "name": "😨",
           "offsetgroup": "😨",
           "orientation": "v",
           "showlegend": true,
           "textposition": "auto",
           "type": "bar",
           "x": [
            "😨"
           ],
           "xaxis": "x",
           "y": [
            1
           ],
           "yaxis": "y"
          }
         ],
         "name": "😨"
        },
        {
         "data": [
          {
           "alignmentgroup": "True",
           "hovertemplate": "emoji=🎃<br>animation_frame=🎃<br>x=%{x}<br>cnt=%{y}<extra></extra>",
           "ids": [
            1
           ],
           "legendgroup": "🎃",
           "marker": {
            "color": "#19d3f3"
           },
           "name": "🎃",
           "offsetgroup": "🎃",
           "orientation": "v",
           "showlegend": true,
           "textposition": "auto",
           "type": "bar",
           "x": [
            "🎃"
           ],
           "xaxis": "x",
           "y": [
            1
           ],
           "yaxis": "y"
          }
         ],
         "name": "🎃"
        },
        {
         "data": [
          {
           "alignmentgroup": "True",
           "hovertemplate": "emoji=🤍<br>animation_frame=🤍<br>x=%{x}<br>cnt=%{y}<extra></extra>",
           "ids": [
            1
           ],
           "legendgroup": "🤍",
           "marker": {
            "color": "#FF6692"
           },
           "name": "🤍",
           "offsetgroup": "🤍",
           "orientation": "v",
           "showlegend": true,
           "textposition": "auto",
           "type": "bar",
           "x": [
            "🤍"
           ],
           "xaxis": "x",
           "y": [
            1
           ],
           "yaxis": "y"
          }
         ],
         "name": "🤍"
        },
        {
         "data": [
          {
           "alignmentgroup": "True",
           "hovertemplate": "emoji=🤦🏾‍♂️<br>animation_frame=🤦🏾‍♂️<br>x=%{x}<br>cnt=%{y}<extra></extra>",
           "ids": [
            1
           ],
           "legendgroup": "🤦🏾‍♂️",
           "marker": {
            "color": "#B6E880"
           },
           "name": "🤦🏾‍♂️",
           "offsetgroup": "🤦🏾‍♂️",
           "orientation": "v",
           "showlegend": true,
           "textposition": "auto",
           "type": "bar",
           "x": [
            "🤦🏾‍♂️"
           ],
           "xaxis": "x",
           "y": [
            1
           ],
           "yaxis": "y"
          }
         ],
         "name": "🤦🏾‍♂️"
        },
        {
         "data": [
          {
           "alignmentgroup": "True",
           "hovertemplate": "emoji=🤷🏻‍♂️<br>animation_frame=🤷🏻‍♂️<br>x=%{x}<br>cnt=%{y}<extra></extra>",
           "ids": [
            1
           ],
           "legendgroup": "🤷🏻‍♂️",
           "marker": {
            "color": "#FF97FF"
           },
           "name": "🤷🏻‍♂️",
           "offsetgroup": "🤷🏻‍♂️",
           "orientation": "v",
           "showlegend": true,
           "textposition": "auto",
           "type": "bar",
           "x": [
            "🤷🏻‍♂️"
           ],
           "xaxis": "x",
           "y": [
            1
           ],
           "yaxis": "y"
          }
         ],
         "name": "🤷🏻‍♂️"
        },
        {
         "data": [
          {
           "alignmentgroup": "True",
           "hovertemplate": "emoji=🙏🏻<br>animation_frame=🙏🏻<br>x=%{x}<br>cnt=%{y}<extra></extra>",
           "ids": [
            1
           ],
           "legendgroup": "🙏🏻",
           "marker": {
            "color": "#FECB52"
           },
           "name": "🙏🏻",
           "offsetgroup": "🙏🏻",
           "orientation": "v",
           "showlegend": true,
           "textposition": "auto",
           "type": "bar",
           "x": [
            "🙏🏻"
           ],
           "xaxis": "x",
           "y": [
            1
           ],
           "yaxis": "y"
          }
         ],
         "name": "🙏🏻"
        },
        {
         "data": [
          {
           "alignmentgroup": "True",
           "hovertemplate": "emoji=🪐<br>animation_frame=🪐<br>x=%{x}<br>cnt=%{y}<extra></extra>",
           "ids": [
            1
           ],
           "legendgroup": "🪐",
           "marker": {
            "color": "#636efa"
           },
           "name": "🪐",
           "offsetgroup": "🪐",
           "orientation": "v",
           "showlegend": true,
           "textposition": "auto",
           "type": "bar",
           "x": [
            "🪐"
           ],
           "xaxis": "x",
           "y": [
            1
           ],
           "yaxis": "y"
          }
         ],
         "name": "🪐"
        },
        {
         "data": [
          {
           "alignmentgroup": "True",
           "hovertemplate": "emoji=😪<br>animation_frame=😪<br>x=%{x}<br>cnt=%{y}<extra></extra>",
           "ids": [
            1
           ],
           "legendgroup": "😪",
           "marker": {
            "color": "#EF553B"
           },
           "name": "😪",
           "offsetgroup": "😪",
           "orientation": "v",
           "showlegend": true,
           "textposition": "auto",
           "type": "bar",
           "x": [
            "😪"
           ],
           "xaxis": "x",
           "y": [
            1
           ],
           "yaxis": "y"
          }
         ],
         "name": "😪"
        },
        {
         "data": [
          {
           "alignmentgroup": "True",
           "hovertemplate": "emoji=💘<br>animation_frame=💘<br>x=%{x}<br>cnt=%{y}<extra></extra>",
           "ids": [
            1
           ],
           "legendgroup": "💘",
           "marker": {
            "color": "#00cc96"
           },
           "name": "💘",
           "offsetgroup": "💘",
           "orientation": "v",
           "showlegend": true,
           "textposition": "auto",
           "type": "bar",
           "x": [
            "💘"
           ],
           "xaxis": "x",
           "y": [
            1
           ],
           "yaxis": "y"
          }
         ],
         "name": "💘"
        },
        {
         "data": [
          {
           "alignmentgroup": "True",
           "hovertemplate": "emoji=❤️<br>animation_frame=❤️<br>x=%{x}<br>cnt=%{y}<extra></extra>",
           "ids": [
            1
           ],
           "legendgroup": "❤️",
           "marker": {
            "color": "#ab63fa"
           },
           "name": "❤️",
           "offsetgroup": "❤️",
           "orientation": "v",
           "showlegend": true,
           "textposition": "auto",
           "type": "bar",
           "x": [
            "❤️"
           ],
           "xaxis": "x",
           "y": [
            1
           ],
           "yaxis": "y"
          }
         ],
         "name": "❤️"
        },
        {
         "data": [
          {
           "alignmentgroup": "True",
           "hovertemplate": "emoji=🤩<br>animation_frame=🤩<br>x=%{x}<br>cnt=%{y}<extra></extra>",
           "ids": [
            1
           ],
           "legendgroup": "🤩",
           "marker": {
            "color": "#FFA15A"
           },
           "name": "🤩",
           "offsetgroup": "🤩",
           "orientation": "v",
           "showlegend": true,
           "textposition": "auto",
           "type": "bar",
           "x": [
            "🤩"
           ],
           "xaxis": "x",
           "y": [
            1
           ],
           "yaxis": "y"
          }
         ],
         "name": "🤩"
        },
        {
         "data": [
          {
           "alignmentgroup": "True",
           "hovertemplate": "emoji=😫<br>animation_frame=😫<br>x=%{x}<br>cnt=%{y}<extra></extra>",
           "ids": [
            1
           ],
           "legendgroup": "😫",
           "marker": {
            "color": "#19d3f3"
           },
           "name": "😫",
           "offsetgroup": "😫",
           "orientation": "v",
           "showlegend": true,
           "textposition": "auto",
           "type": "bar",
           "x": [
            "😫"
           ],
           "xaxis": "x",
           "y": [
            1
           ],
           "yaxis": "y"
          }
         ],
         "name": "😫"
        },
        {
         "data": [
          {
           "alignmentgroup": "True",
           "hovertemplate": "emoji=😑<br>animation_frame=😑<br>x=%{x}<br>cnt=%{y}<extra></extra>",
           "ids": [
            1
           ],
           "legendgroup": "😑",
           "marker": {
            "color": "#FF6692"
           },
           "name": "😑",
           "offsetgroup": "😑",
           "orientation": "v",
           "showlegend": true,
           "textposition": "auto",
           "type": "bar",
           "x": [
            "😑"
           ],
           "xaxis": "x",
           "y": [
            1
           ],
           "yaxis": "y"
          }
         ],
         "name": "😑"
        },
        {
         "data": [
          {
           "alignmentgroup": "True",
           "hovertemplate": "emoji=🤔<br>animation_frame=🤔<br>x=%{x}<br>cnt=%{y}<extra></extra>",
           "ids": [
            1
           ],
           "legendgroup": "🤔",
           "marker": {
            "color": "#B6E880"
           },
           "name": "🤔",
           "offsetgroup": "🤔",
           "orientation": "v",
           "showlegend": true,
           "textposition": "auto",
           "type": "bar",
           "x": [
            "🤔"
           ],
           "xaxis": "x",
           "y": [
            1
           ],
           "yaxis": "y"
          }
         ],
         "name": "🤔"
        },
        {
         "data": [
          {
           "alignmentgroup": "True",
           "hovertemplate": "emoji=🎶<br>animation_frame=🎶<br>x=%{x}<br>cnt=%{y}<extra></extra>",
           "ids": [
            1
           ],
           "legendgroup": "🎶",
           "marker": {
            "color": "#FF97FF"
           },
           "name": "🎶",
           "offsetgroup": "🎶",
           "orientation": "v",
           "showlegend": true,
           "textposition": "auto",
           "type": "bar",
           "x": [
            "🎶"
           ],
           "xaxis": "x",
           "y": [
            1
           ],
           "yaxis": "y"
          }
         ],
         "name": "🎶"
        },
        {
         "data": [
          {
           "alignmentgroup": "True",
           "hovertemplate": "emoji=✌️<br>animation_frame=✌️<br>x=%{x}<br>cnt=%{y}<extra></extra>",
           "ids": [
            1
           ],
           "legendgroup": "✌️",
           "marker": {
            "color": "#FECB52"
           },
           "name": "✌️",
           "offsetgroup": "✌️",
           "orientation": "v",
           "showlegend": true,
           "textposition": "auto",
           "type": "bar",
           "x": [
            "✌️"
           ],
           "xaxis": "x",
           "y": [
            1
           ],
           "yaxis": "y"
          }
         ],
         "name": "✌️"
        },
        {
         "data": [
          {
           "alignmentgroup": "True",
           "hovertemplate": "emoji=💚<br>animation_frame=💚<br>x=%{x}<br>cnt=%{y}<extra></extra>",
           "ids": [
            1
           ],
           "legendgroup": "💚",
           "marker": {
            "color": "#636efa"
           },
           "name": "💚",
           "offsetgroup": "💚",
           "orientation": "v",
           "showlegend": true,
           "textposition": "auto",
           "type": "bar",
           "x": [
            "💚"
           ],
           "xaxis": "x",
           "y": [
            1
           ],
           "yaxis": "y"
          }
         ],
         "name": "💚"
        },
        {
         "data": [
          {
           "alignmentgroup": "True",
           "hovertemplate": "emoji=💛<br>animation_frame=💛<br>x=%{x}<br>cnt=%{y}<extra></extra>",
           "ids": [
            1
           ],
           "legendgroup": "💛",
           "marker": {
            "color": "#EF553B"
           },
           "name": "💛",
           "offsetgroup": "💛",
           "orientation": "v",
           "showlegend": true,
           "textposition": "auto",
           "type": "bar",
           "x": [
            "💛"
           ],
           "xaxis": "x",
           "y": [
            1
           ],
           "yaxis": "y"
          }
         ],
         "name": "💛"
        },
        {
         "data": [
          {
           "alignmentgroup": "True",
           "hovertemplate": "emoji=💋<br>animation_frame=💋<br>x=%{x}<br>cnt=%{y}<extra></extra>",
           "ids": [
            1
           ],
           "legendgroup": "💋",
           "marker": {
            "color": "#00cc96"
           },
           "name": "💋",
           "offsetgroup": "💋",
           "orientation": "v",
           "showlegend": true,
           "textposition": "auto",
           "type": "bar",
           "x": [
            "💋"
           ],
           "xaxis": "x",
           "y": [
            1
           ],
           "yaxis": "y"
          }
         ],
         "name": "💋"
        },
        {
         "data": [
          {
           "alignmentgroup": "True",
           "hovertemplate": "emoji=👍<br>animation_frame=👍<br>x=%{x}<br>cnt=%{y}<extra></extra>",
           "ids": [
            1
           ],
           "legendgroup": "👍",
           "marker": {
            "color": "#ab63fa"
           },
           "name": "👍",
           "offsetgroup": "👍",
           "orientation": "v",
           "showlegend": true,
           "textposition": "auto",
           "type": "bar",
           "x": [
            "👍"
           ],
           "xaxis": "x",
           "y": [
            1
           ],
           "yaxis": "y"
          }
         ],
         "name": "👍"
        },
        {
         "data": [
          {
           "alignmentgroup": "True",
           "hovertemplate": "emoji=🤞<br>animation_frame=🤞<br>x=%{x}<br>cnt=%{y}<extra></extra>",
           "ids": [
            1
           ],
           "legendgroup": "🤞",
           "marker": {
            "color": "#FFA15A"
           },
           "name": "🤞",
           "offsetgroup": "🤞",
           "orientation": "v",
           "showlegend": true,
           "textposition": "auto",
           "type": "bar",
           "x": [
            "🤞"
           ],
           "xaxis": "x",
           "y": [
            1
           ],
           "yaxis": "y"
          }
         ],
         "name": "🤞"
        },
        {
         "data": [
          {
           "alignmentgroup": "True",
           "hovertemplate": "emoji=☹️<br>animation_frame=☹️<br>x=%{x}<br>cnt=%{y}<extra></extra>",
           "ids": [
            1
           ],
           "legendgroup": "☹️",
           "marker": {
            "color": "#19d3f3"
           },
           "name": "☹️",
           "offsetgroup": "☹️",
           "orientation": "v",
           "showlegend": true,
           "textposition": "auto",
           "type": "bar",
           "x": [
            "☹️"
           ],
           "xaxis": "x",
           "y": [
            1
           ],
           "yaxis": "y"
          }
         ],
         "name": "☹️"
        },
        {
         "data": [
          {
           "alignmentgroup": "True",
           "hovertemplate": "emoji=🤙🏻<br>animation_frame=🤙🏻<br>x=%{x}<br>cnt=%{y}<extra></extra>",
           "ids": [
            1
           ],
           "legendgroup": "🤙🏻",
           "marker": {
            "color": "#FF6692"
           },
           "name": "🤙🏻",
           "offsetgroup": "🤙🏻",
           "orientation": "v",
           "showlegend": true,
           "textposition": "auto",
           "type": "bar",
           "x": [
            "🤙🏻"
           ],
           "xaxis": "x",
           "y": [
            1
           ],
           "yaxis": "y"
          }
         ],
         "name": "🤙🏻"
        },
        {
         "data": [
          {
           "alignmentgroup": "True",
           "hovertemplate": "emoji=😅<br>animation_frame=😅<br>x=%{x}<br>cnt=%{y}<extra></extra>",
           "ids": [
            1
           ],
           "legendgroup": "😅",
           "marker": {
            "color": "#B6E880"
           },
           "name": "😅",
           "offsetgroup": "😅",
           "orientation": "v",
           "showlegend": true,
           "textposition": "auto",
           "type": "bar",
           "x": [
            "😅"
           ],
           "xaxis": "x",
           "y": [
            1
           ],
           "yaxis": "y"
          }
         ],
         "name": "😅"
        },
        {
         "data": [
          {
           "alignmentgroup": "True",
           "hovertemplate": "emoji=🙏🏼<br>animation_frame=🙏🏼<br>x=%{x}<br>cnt=%{y}<extra></extra>",
           "ids": [
            1
           ],
           "legendgroup": "🙏🏼",
           "marker": {
            "color": "#FF97FF"
           },
           "name": "🙏🏼",
           "offsetgroup": "🙏🏼",
           "orientation": "v",
           "showlegend": true,
           "textposition": "auto",
           "type": "bar",
           "x": [
            "🙏🏼"
           ],
           "xaxis": "x",
           "y": [
            1
           ],
           "yaxis": "y"
          }
         ],
         "name": "🙏🏼"
        },
        {
         "data": [
          {
           "alignmentgroup": "True",
           "hovertemplate": "emoji=🌙<br>animation_frame=🌙<br>x=%{x}<br>cnt=%{y}<extra></extra>",
           "ids": [
            1
           ],
           "legendgroup": "🌙",
           "marker": {
            "color": "#FECB52"
           },
           "name": "🌙",
           "offsetgroup": "🌙",
           "orientation": "v",
           "showlegend": true,
           "textposition": "auto",
           "type": "bar",
           "x": [
            "🌙"
           ],
           "xaxis": "x",
           "y": [
            1
           ],
           "yaxis": "y"
          }
         ],
         "name": "🌙"
        },
        {
         "data": [
          {
           "alignmentgroup": "True",
           "hovertemplate": "emoji=😞<br>animation_frame=😞<br>x=%{x}<br>cnt=%{y}<extra></extra>",
           "ids": [
            1
           ],
           "legendgroup": "😞",
           "marker": {
            "color": "#636efa"
           },
           "name": "😞",
           "offsetgroup": "😞",
           "orientation": "v",
           "showlegend": true,
           "textposition": "auto",
           "type": "bar",
           "x": [
            "😞"
           ],
           "xaxis": "x",
           "y": [
            1
           ],
           "yaxis": "y"
          }
         ],
         "name": "😞"
        },
        {
         "data": [
          {
           "alignmentgroup": "True",
           "hovertemplate": "emoji=🤘🏻<br>animation_frame=🤘🏻<br>x=%{x}<br>cnt=%{y}<extra></extra>",
           "ids": [
            1
           ],
           "legendgroup": "🤘🏻",
           "marker": {
            "color": "#EF553B"
           },
           "name": "🤘🏻",
           "offsetgroup": "🤘🏻",
           "orientation": "v",
           "showlegend": true,
           "textposition": "auto",
           "type": "bar",
           "x": [
            "🤘🏻"
           ],
           "xaxis": "x",
           "y": [
            1
           ],
           "yaxis": "y"
          }
         ],
         "name": "🤘🏻"
        },
        {
         "data": [
          {
           "alignmentgroup": "True",
           "hovertemplate": "emoji=🎥<br>animation_frame=🎥<br>x=%{x}<br>cnt=%{y}<extra></extra>",
           "ids": [
            1
           ],
           "legendgroup": "🎥",
           "marker": {
            "color": "#00cc96"
           },
           "name": "🎥",
           "offsetgroup": "🎥",
           "orientation": "v",
           "showlegend": true,
           "textposition": "auto",
           "type": "bar",
           "x": [
            "🎥"
           ],
           "xaxis": "x",
           "y": [
            1
           ],
           "yaxis": "y"
          }
         ],
         "name": "🎥"
        },
        {
         "data": [
          {
           "alignmentgroup": "True",
           "hovertemplate": "emoji=👇🏼<br>animation_frame=👇🏼<br>x=%{x}<br>cnt=%{y}<extra></extra>",
           "ids": [
            1
           ],
           "legendgroup": "👇🏼",
           "marker": {
            "color": "#ab63fa"
           },
           "name": "👇🏼",
           "offsetgroup": "👇🏼",
           "orientation": "v",
           "showlegend": true,
           "textposition": "auto",
           "type": "bar",
           "x": [
            "👇🏼"
           ],
           "xaxis": "x",
           "y": [
            1
           ],
           "yaxis": "y"
          }
         ],
         "name": "👇🏼"
        },
        {
         "data": [
          {
           "alignmentgroup": "True",
           "hovertemplate": "emoji=😆<br>animation_frame=😆<br>x=%{x}<br>cnt=%{y}<extra></extra>",
           "ids": [
            1
           ],
           "legendgroup": "😆",
           "marker": {
            "color": "#FFA15A"
           },
           "name": "😆",
           "offsetgroup": "😆",
           "orientation": "v",
           "showlegend": true,
           "textposition": "auto",
           "type": "bar",
           "x": [
            "😆"
           ],
           "xaxis": "x",
           "y": [
            1
           ],
           "yaxis": "y"
          }
         ],
         "name": "😆"
        },
        {
         "data": [
          {
           "alignmentgroup": "True",
           "hovertemplate": "emoji=🤚🏻<br>animation_frame=🤚🏻<br>x=%{x}<br>cnt=%{y}<extra></extra>",
           "ids": [
            1
           ],
           "legendgroup": "🤚🏻",
           "marker": {
            "color": "#19d3f3"
           },
           "name": "🤚🏻",
           "offsetgroup": "🤚🏻",
           "orientation": "v",
           "showlegend": true,
           "textposition": "auto",
           "type": "bar",
           "x": [
            "🤚🏻"
           ],
           "xaxis": "x",
           "y": [
            1
           ],
           "yaxis": "y"
          }
         ],
         "name": "🤚🏻"
        },
        {
         "data": [
          {
           "alignmentgroup": "True",
           "hovertemplate": "emoji=🕯️<br>animation_frame=🕯️<br>x=%{x}<br>cnt=%{y}<extra></extra>",
           "ids": [
            1
           ],
           "legendgroup": "🕯️",
           "marker": {
            "color": "#FF6692"
           },
           "name": "🕯️",
           "offsetgroup": "🕯️",
           "orientation": "v",
           "showlegend": true,
           "textposition": "auto",
           "type": "bar",
           "x": [
            "🕯️"
           ],
           "xaxis": "x",
           "y": [
            1
           ],
           "yaxis": "y"
          }
         ],
         "name": "🕯️"
        },
        {
         "data": [
          {
           "alignmentgroup": "True",
           "hovertemplate": "emoji=🎵<br>animation_frame=🎵<br>x=%{x}<br>cnt=%{y}<extra></extra>",
           "ids": [
            1
           ],
           "legendgroup": "🎵",
           "marker": {
            "color": "#B6E880"
           },
           "name": "🎵",
           "offsetgroup": "🎵",
           "orientation": "v",
           "showlegend": true,
           "textposition": "auto",
           "type": "bar",
           "x": [
            "🎵"
           ],
           "xaxis": "x",
           "y": [
            1
           ],
           "yaxis": "y"
          }
         ],
         "name": "🎵"
        },
        {
         "data": [
          {
           "alignmentgroup": "True",
           "hovertemplate": "emoji=🧑‍🎤<br>animation_frame=🧑‍🎤<br>x=%{x}<br>cnt=%{y}<extra></extra>",
           "ids": [
            1
           ],
           "legendgroup": "🧑‍🎤",
           "marker": {
            "color": "#FF97FF"
           },
           "name": "🧑‍🎤",
           "offsetgroup": "🧑‍🎤",
           "orientation": "v",
           "showlegend": true,
           "textposition": "auto",
           "type": "bar",
           "x": [
            "🧑‍🎤"
           ],
           "xaxis": "x",
           "y": [
            1
           ],
           "yaxis": "y"
          }
         ],
         "name": "🧑‍🎤"
        },
        {
         "data": [
          {
           "alignmentgroup": "True",
           "hovertemplate": "emoji=👨‍🎤<br>animation_frame=👨‍🎤<br>x=%{x}<br>cnt=%{y}<extra></extra>",
           "ids": [
            1
           ],
           "legendgroup": "👨‍🎤",
           "marker": {
            "color": "#FECB52"
           },
           "name": "👨‍🎤",
           "offsetgroup": "👨‍🎤",
           "orientation": "v",
           "showlegend": true,
           "textposition": "auto",
           "type": "bar",
           "x": [
            "👨‍🎤"
           ],
           "xaxis": "x",
           "y": [
            1
           ],
           "yaxis": "y"
          }
         ],
         "name": "👨‍🎤"
        },
        {
         "data": [
          {
           "alignmentgroup": "True",
           "hovertemplate": "emoji=®<br>animation_frame=®<br>x=%{x}<br>cnt=%{y}<extra></extra>",
           "ids": [
            1
           ],
           "legendgroup": "®",
           "marker": {
            "color": "#636efa"
           },
           "name": "®",
           "offsetgroup": "®",
           "orientation": "v",
           "showlegend": true,
           "textposition": "auto",
           "type": "bar",
           "x": [
            "®"
           ],
           "xaxis": "x",
           "y": [
            1
           ],
           "yaxis": "y"
          }
         ],
         "name": "®"
        },
        {
         "data": [
          {
           "alignmentgroup": "True",
           "hovertemplate": "emoji=😬<br>animation_frame=😬<br>x=%{x}<br>cnt=%{y}<extra></extra>",
           "ids": [
            1
           ],
           "legendgroup": "😬",
           "marker": {
            "color": "#EF553B"
           },
           "name": "😬",
           "offsetgroup": "😬",
           "orientation": "v",
           "showlegend": true,
           "textposition": "auto",
           "type": "bar",
           "x": [
            "😬"
           ],
           "xaxis": "x",
           "y": [
            1
           ],
           "yaxis": "y"
          }
         ],
         "name": "😬"
        },
        {
         "data": [
          {
           "alignmentgroup": "True",
           "hovertemplate": "emoji=😊<br>animation_frame=😊<br>x=%{x}<br>cnt=%{y}<extra></extra>",
           "ids": [
            1
           ],
           "legendgroup": "😊",
           "marker": {
            "color": "#00cc96"
           },
           "name": "😊",
           "offsetgroup": "😊",
           "orientation": "v",
           "showlegend": true,
           "textposition": "auto",
           "type": "bar",
           "x": [
            "😊"
           ],
           "xaxis": "x",
           "y": [
            1
           ],
           "yaxis": "y"
          }
         ],
         "name": "😊"
        },
        {
         "data": [
          {
           "alignmentgroup": "True",
           "hovertemplate": "emoji=😎<br>animation_frame=😎<br>x=%{x}<br>cnt=%{y}<extra></extra>",
           "ids": [
            1
           ],
           "legendgroup": "😎",
           "marker": {
            "color": "#ab63fa"
           },
           "name": "😎",
           "offsetgroup": "😎",
           "orientation": "v",
           "showlegend": true,
           "textposition": "auto",
           "type": "bar",
           "x": [
            "😎"
           ],
           "xaxis": "x",
           "y": [
            1
           ],
           "yaxis": "y"
          }
         ],
         "name": "😎"
        },
        {
         "data": [
          {
           "alignmentgroup": "True",
           "hovertemplate": "emoji=😓<br>animation_frame=😓<br>x=%{x}<br>cnt=%{y}<extra></extra>",
           "ids": [
            1
           ],
           "legendgroup": "😓",
           "marker": {
            "color": "#FFA15A"
           },
           "name": "😓",
           "offsetgroup": "😓",
           "orientation": "v",
           "showlegend": true,
           "textposition": "auto",
           "type": "bar",
           "x": [
            "😓"
           ],
           "xaxis": "x",
           "y": [
            1
           ],
           "yaxis": "y"
          }
         ],
         "name": "😓"
        }
       ],
       "layout": {
        "barmode": "relative",
        "legend": {
         "title": {
          "text": "emoji"
         },
         "tracegroupgap": 0
        },
        "margin": {
         "t": 60
        },
        "sliders": [
         {
          "active": 0,
          "currentvalue": {
           "prefix": "animation_frame="
          },
          "len": 0.9,
          "pad": {
           "b": 10,
           "t": 60
          },
          "steps": [
           {
            "args": [
             [
              "😔"
             ],
             {
              "frame": {
               "duration": 0,
               "redraw": true
              },
              "fromcurrent": true,
              "mode": "immediate",
              "transition": {
               "duration": 0,
               "easing": "linear"
              }
             }
            ],
            "label": "😔",
            "method": "animate"
           },
           {
            "args": [
             [
              "🥴"
             ],
             {
              "frame": {
               "duration": 0,
               "redraw": true
              },
              "fromcurrent": true,
              "mode": "immediate",
              "transition": {
               "duration": 0,
               "easing": "linear"
              }
             }
            ],
            "label": "🥴",
            "method": "animate"
           },
           {
            "args": [
             [
              "✨"
             ],
             {
              "frame": {
               "duration": 0,
               "redraw": true
              },
              "fromcurrent": true,
              "mode": "immediate",
              "transition": {
               "duration": 0,
               "easing": "linear"
              }
             }
            ],
            "label": "✨",
            "method": "animate"
           },
           {
            "args": [
             [
              "🍀"
             ],
             {
              "frame": {
               "duration": 0,
               "redraw": true
              },
              "fromcurrent": true,
              "mode": "immediate",
              "transition": {
               "duration": 0,
               "easing": "linear"
              }
             }
            ],
            "label": "🍀",
            "method": "animate"
           },
           {
            "args": [
             [
              "😭"
             ],
             {
              "frame": {
               "duration": 0,
               "redraw": true
              },
              "fromcurrent": true,
              "mode": "immediate",
              "transition": {
               "duration": 0,
               "easing": "linear"
              }
             }
            ],
            "label": "😭",
            "method": "animate"
           },
           {
            "args": [
             [
              "👀"
             ],
             {
              "frame": {
               "duration": 0,
               "redraw": true
              },
              "fromcurrent": true,
              "mode": "immediate",
              "transition": {
               "duration": 0,
               "easing": "linear"
              }
             }
            ],
            "label": "👀",
            "method": "animate"
           },
           {
            "args": [
             [
              "😳"
             ],
             {
              "frame": {
               "duration": 0,
               "redraw": true
              },
              "fromcurrent": true,
              "mode": "immediate",
              "transition": {
               "duration": 0,
               "easing": "linear"
              }
             }
            ],
            "label": "😳",
            "method": "animate"
           },
           {
            "args": [
             [
              "🤣"
             ],
             {
              "frame": {
               "duration": 0,
               "redraw": true
              },
              "fromcurrent": true,
              "mode": "immediate",
              "transition": {
               "duration": 0,
               "easing": "linear"
              }
             }
            ],
            "label": "🤣",
            "method": "animate"
           },
           {
            "args": [
             [
              "🤡"
             ],
             {
              "frame": {
               "duration": 0,
               "redraw": true
              },
              "fromcurrent": true,
              "mode": "immediate",
              "transition": {
               "duration": 0,
               "easing": "linear"
              }
             }
            ],
            "label": "🤡",
            "method": "animate"
           },
           {
            "args": [
             [
              "😂"
             ],
             {
              "frame": {
               "duration": 0,
               "redraw": true
              },
              "fromcurrent": true,
              "mode": "immediate",
              "transition": {
               "duration": 0,
               "easing": "linear"
              }
             }
            ],
            "label": "😂",
            "method": "animate"
           },
           {
            "args": [
             [
              "🧙‍♀️"
             ],
             {
              "frame": {
               "duration": 0,
               "redraw": true
              },
              "fromcurrent": true,
              "mode": "immediate",
              "transition": {
               "duration": 0,
               "easing": "linear"
              }
             }
            ],
            "label": "🧙‍♀️",
            "method": "animate"
           },
           {
            "args": [
             [
              "😘"
             ],
             {
              "frame": {
               "duration": 0,
               "redraw": true
              },
              "fromcurrent": true,
              "mode": "immediate",
              "transition": {
               "duration": 0,
               "easing": "linear"
              }
             }
            ],
            "label": "😘",
            "method": "animate"
           },
           {
            "args": [
             [
              "🔺"
             ],
             {
              "frame": {
               "duration": 0,
               "redraw": true
              },
              "fromcurrent": true,
              "mode": "immediate",
              "transition": {
               "duration": 0,
               "easing": "linear"
              }
             }
            ],
            "label": "🔺",
            "method": "animate"
           },
           {
            "args": [
             [
              "🖤"
             ],
             {
              "frame": {
               "duration": 0,
               "redraw": true
              },
              "fromcurrent": true,
              "mode": "immediate",
              "transition": {
               "duration": 0,
               "easing": "linear"
              }
             }
            ],
            "label": "🖤",
            "method": "animate"
           },
           {
            "args": [
             [
              "🧚🏼"
             ],
             {
              "frame": {
               "duration": 0,
               "redraw": true
              },
              "fromcurrent": true,
              "mode": "immediate",
              "transition": {
               "duration": 0,
               "easing": "linear"
              }
             }
            ],
            "label": "🧚🏼",
            "method": "animate"
           },
           {
            "args": [
             [
              "👎"
             ],
             {
              "frame": {
               "duration": 0,
               "redraw": true
              },
              "fromcurrent": true,
              "mode": "immediate",
              "transition": {
               "duration": 0,
               "easing": "linear"
              }
             }
            ],
            "label": "👎",
            "method": "animate"
           },
           {
            "args": [
             [
              "🥺"
             ],
             {
              "frame": {
               "duration": 0,
               "redraw": true
              },
              "fromcurrent": true,
              "mode": "immediate",
              "transition": {
               "duration": 0,
               "easing": "linear"
              }
             }
            ],
            "label": "🥺",
            "method": "animate"
           },
           {
            "args": [
             [
              "🤗"
             ],
             {
              "frame": {
               "duration": 0,
               "redraw": true
              },
              "fromcurrent": true,
              "mode": "immediate",
              "transition": {
               "duration": 0,
               "easing": "linear"
              }
             }
            ],
            "label": "🤗",
            "method": "animate"
           },
           {
            "args": [
             [
              "🙄"
             ],
             {
              "frame": {
               "duration": 0,
               "redraw": true
              },
              "fromcurrent": true,
              "mode": "immediate",
              "transition": {
               "duration": 0,
               "easing": "linear"
              }
             }
            ],
            "label": "🙄",
            "method": "animate"
           },
           {
            "args": [
             [
              "🤨"
             ],
             {
              "frame": {
               "duration": 0,
               "redraw": true
              },
              "fromcurrent": true,
              "mode": "immediate",
              "transition": {
               "duration": 0,
               "easing": "linear"
              }
             }
            ],
            "label": "🤨",
            "method": "animate"
           },
           {
            "args": [
             [
              "🏴‍☠️"
             ],
             {
              "frame": {
               "duration": 0,
               "redraw": true
              },
              "fromcurrent": true,
              "mode": "immediate",
              "transition": {
               "duration": 0,
               "easing": "linear"
              }
             }
            ],
            "label": "🏴‍☠️",
            "method": "animate"
           },
           {
            "args": [
             [
              "🙃"
             ],
             {
              "frame": {
               "duration": 0,
               "redraw": true
              },
              "fromcurrent": true,
              "mode": "immediate",
              "transition": {
               "duration": 0,
               "easing": "linear"
              }
             }
            ],
            "label": "🙃",
            "method": "animate"
           },
           {
            "args": [
             [
              "🇨🇴"
             ],
             {
              "frame": {
               "duration": 0,
               "redraw": true
              },
              "fromcurrent": true,
              "mode": "immediate",
              "transition": {
               "duration": 0,
               "easing": "linear"
              }
             }
            ],
            "label": "🇨🇴",
            "method": "animate"
           },
           {
            "args": [
             [
              "➡️"
             ],
             {
              "frame": {
               "duration": 0,
               "redraw": true
              },
              "fromcurrent": true,
              "mode": "immediate",
              "transition": {
               "duration": 0,
               "easing": "linear"
              }
             }
            ],
            "label": "➡️",
            "method": "animate"
           },
           {
            "args": [
             [
              "😨"
             ],
             {
              "frame": {
               "duration": 0,
               "redraw": true
              },
              "fromcurrent": true,
              "mode": "immediate",
              "transition": {
               "duration": 0,
               "easing": "linear"
              }
             }
            ],
            "label": "😨",
            "method": "animate"
           },
           {
            "args": [
             [
              "🎃"
             ],
             {
              "frame": {
               "duration": 0,
               "redraw": true
              },
              "fromcurrent": true,
              "mode": "immediate",
              "transition": {
               "duration": 0,
               "easing": "linear"
              }
             }
            ],
            "label": "🎃",
            "method": "animate"
           },
           {
            "args": [
             [
              "🤍"
             ],
             {
              "frame": {
               "duration": 0,
               "redraw": true
              },
              "fromcurrent": true,
              "mode": "immediate",
              "transition": {
               "duration": 0,
               "easing": "linear"
              }
             }
            ],
            "label": "🤍",
            "method": "animate"
           },
           {
            "args": [
             [
              "🤦🏾‍♂️"
             ],
             {
              "frame": {
               "duration": 0,
               "redraw": true
              },
              "fromcurrent": true,
              "mode": "immediate",
              "transition": {
               "duration": 0,
               "easing": "linear"
              }
             }
            ],
            "label": "🤦🏾‍♂️",
            "method": "animate"
           },
           {
            "args": [
             [
              "🤷🏻‍♂️"
             ],
             {
              "frame": {
               "duration": 0,
               "redraw": true
              },
              "fromcurrent": true,
              "mode": "immediate",
              "transition": {
               "duration": 0,
               "easing": "linear"
              }
             }
            ],
            "label": "🤷🏻‍♂️",
            "method": "animate"
           },
           {
            "args": [
             [
              "🙏🏻"
             ],
             {
              "frame": {
               "duration": 0,
               "redraw": true
              },
              "fromcurrent": true,
              "mode": "immediate",
              "transition": {
               "duration": 0,
               "easing": "linear"
              }
             }
            ],
            "label": "🙏🏻",
            "method": "animate"
           },
           {
            "args": [
             [
              "🪐"
             ],
             {
              "frame": {
               "duration": 0,
               "redraw": true
              },
              "fromcurrent": true,
              "mode": "immediate",
              "transition": {
               "duration": 0,
               "easing": "linear"
              }
             }
            ],
            "label": "🪐",
            "method": "animate"
           },
           {
            "args": [
             [
              "😪"
             ],
             {
              "frame": {
               "duration": 0,
               "redraw": true
              },
              "fromcurrent": true,
              "mode": "immediate",
              "transition": {
               "duration": 0,
               "easing": "linear"
              }
             }
            ],
            "label": "😪",
            "method": "animate"
           },
           {
            "args": [
             [
              "💘"
             ],
             {
              "frame": {
               "duration": 0,
               "redraw": true
              },
              "fromcurrent": true,
              "mode": "immediate",
              "transition": {
               "duration": 0,
               "easing": "linear"
              }
             }
            ],
            "label": "💘",
            "method": "animate"
           },
           {
            "args": [
             [
              "❤️"
             ],
             {
              "frame": {
               "duration": 0,
               "redraw": true
              },
              "fromcurrent": true,
              "mode": "immediate",
              "transition": {
               "duration": 0,
               "easing": "linear"
              }
             }
            ],
            "label": "❤️",
            "method": "animate"
           },
           {
            "args": [
             [
              "🤩"
             ],
             {
              "frame": {
               "duration": 0,
               "redraw": true
              },
              "fromcurrent": true,
              "mode": "immediate",
              "transition": {
               "duration": 0,
               "easing": "linear"
              }
             }
            ],
            "label": "🤩",
            "method": "animate"
           },
           {
            "args": [
             [
              "😫"
             ],
             {
              "frame": {
               "duration": 0,
               "redraw": true
              },
              "fromcurrent": true,
              "mode": "immediate",
              "transition": {
               "duration": 0,
               "easing": "linear"
              }
             }
            ],
            "label": "😫",
            "method": "animate"
           },
           {
            "args": [
             [
              "😑"
             ],
             {
              "frame": {
               "duration": 0,
               "redraw": true
              },
              "fromcurrent": true,
              "mode": "immediate",
              "transition": {
               "duration": 0,
               "easing": "linear"
              }
             }
            ],
            "label": "😑",
            "method": "animate"
           },
           {
            "args": [
             [
              "🤔"
             ],
             {
              "frame": {
               "duration": 0,
               "redraw": true
              },
              "fromcurrent": true,
              "mode": "immediate",
              "transition": {
               "duration": 0,
               "easing": "linear"
              }
             }
            ],
            "label": "🤔",
            "method": "animate"
           },
           {
            "args": [
             [
              "🎶"
             ],
             {
              "frame": {
               "duration": 0,
               "redraw": true
              },
              "fromcurrent": true,
              "mode": "immediate",
              "transition": {
               "duration": 0,
               "easing": "linear"
              }
             }
            ],
            "label": "🎶",
            "method": "animate"
           },
           {
            "args": [
             [
              "✌️"
             ],
             {
              "frame": {
               "duration": 0,
               "redraw": true
              },
              "fromcurrent": true,
              "mode": "immediate",
              "transition": {
               "duration": 0,
               "easing": "linear"
              }
             }
            ],
            "label": "✌️",
            "method": "animate"
           },
           {
            "args": [
             [
              "💚"
             ],
             {
              "frame": {
               "duration": 0,
               "redraw": true
              },
              "fromcurrent": true,
              "mode": "immediate",
              "transition": {
               "duration": 0,
               "easing": "linear"
              }
             }
            ],
            "label": "💚",
            "method": "animate"
           },
           {
            "args": [
             [
              "💛"
             ],
             {
              "frame": {
               "duration": 0,
               "redraw": true
              },
              "fromcurrent": true,
              "mode": "immediate",
              "transition": {
               "duration": 0,
               "easing": "linear"
              }
             }
            ],
            "label": "💛",
            "method": "animate"
           },
           {
            "args": [
             [
              "💋"
             ],
             {
              "frame": {
               "duration": 0,
               "redraw": true
              },
              "fromcurrent": true,
              "mode": "immediate",
              "transition": {
               "duration": 0,
               "easing": "linear"
              }
             }
            ],
            "label": "💋",
            "method": "animate"
           },
           {
            "args": [
             [
              "👍"
             ],
             {
              "frame": {
               "duration": 0,
               "redraw": true
              },
              "fromcurrent": true,
              "mode": "immediate",
              "transition": {
               "duration": 0,
               "easing": "linear"
              }
             }
            ],
            "label": "👍",
            "method": "animate"
           },
           {
            "args": [
             [
              "🤞"
             ],
             {
              "frame": {
               "duration": 0,
               "redraw": true
              },
              "fromcurrent": true,
              "mode": "immediate",
              "transition": {
               "duration": 0,
               "easing": "linear"
              }
             }
            ],
            "label": "🤞",
            "method": "animate"
           },
           {
            "args": [
             [
              "☹️"
             ],
             {
              "frame": {
               "duration": 0,
               "redraw": true
              },
              "fromcurrent": true,
              "mode": "immediate",
              "transition": {
               "duration": 0,
               "easing": "linear"
              }
             }
            ],
            "label": "☹️",
            "method": "animate"
           },
           {
            "args": [
             [
              "🤙🏻"
             ],
             {
              "frame": {
               "duration": 0,
               "redraw": true
              },
              "fromcurrent": true,
              "mode": "immediate",
              "transition": {
               "duration": 0,
               "easing": "linear"
              }
             }
            ],
            "label": "🤙🏻",
            "method": "animate"
           },
           {
            "args": [
             [
              "😅"
             ],
             {
              "frame": {
               "duration": 0,
               "redraw": true
              },
              "fromcurrent": true,
              "mode": "immediate",
              "transition": {
               "duration": 0,
               "easing": "linear"
              }
             }
            ],
            "label": "😅",
            "method": "animate"
           },
           {
            "args": [
             [
              "🙏🏼"
             ],
             {
              "frame": {
               "duration": 0,
               "redraw": true
              },
              "fromcurrent": true,
              "mode": "immediate",
              "transition": {
               "duration": 0,
               "easing": "linear"
              }
             }
            ],
            "label": "🙏🏼",
            "method": "animate"
           },
           {
            "args": [
             [
              "🌙"
             ],
             {
              "frame": {
               "duration": 0,
               "redraw": true
              },
              "fromcurrent": true,
              "mode": "immediate",
              "transition": {
               "duration": 0,
               "easing": "linear"
              }
             }
            ],
            "label": "🌙",
            "method": "animate"
           },
           {
            "args": [
             [
              "😞"
             ],
             {
              "frame": {
               "duration": 0,
               "redraw": true
              },
              "fromcurrent": true,
              "mode": "immediate",
              "transition": {
               "duration": 0,
               "easing": "linear"
              }
             }
            ],
            "label": "😞",
            "method": "animate"
           },
           {
            "args": [
             [
              "🤘🏻"
             ],
             {
              "frame": {
               "duration": 0,
               "redraw": true
              },
              "fromcurrent": true,
              "mode": "immediate",
              "transition": {
               "duration": 0,
               "easing": "linear"
              }
             }
            ],
            "label": "🤘🏻",
            "method": "animate"
           },
           {
            "args": [
             [
              "🎥"
             ],
             {
              "frame": {
               "duration": 0,
               "redraw": true
              },
              "fromcurrent": true,
              "mode": "immediate",
              "transition": {
               "duration": 0,
               "easing": "linear"
              }
             }
            ],
            "label": "🎥",
            "method": "animate"
           },
           {
            "args": [
             [
              "👇🏼"
             ],
             {
              "frame": {
               "duration": 0,
               "redraw": true
              },
              "fromcurrent": true,
              "mode": "immediate",
              "transition": {
               "duration": 0,
               "easing": "linear"
              }
             }
            ],
            "label": "👇🏼",
            "method": "animate"
           },
           {
            "args": [
             [
              "😆"
             ],
             {
              "frame": {
               "duration": 0,
               "redraw": true
              },
              "fromcurrent": true,
              "mode": "immediate",
              "transition": {
               "duration": 0,
               "easing": "linear"
              }
             }
            ],
            "label": "😆",
            "method": "animate"
           },
           {
            "args": [
             [
              "🤚🏻"
             ],
             {
              "frame": {
               "duration": 0,
               "redraw": true
              },
              "fromcurrent": true,
              "mode": "immediate",
              "transition": {
               "duration": 0,
               "easing": "linear"
              }
             }
            ],
            "label": "🤚🏻",
            "method": "animate"
           },
           {
            "args": [
             [
              "🕯️"
             ],
             {
              "frame": {
               "duration": 0,
               "redraw": true
              },
              "fromcurrent": true,
              "mode": "immediate",
              "transition": {
               "duration": 0,
               "easing": "linear"
              }
             }
            ],
            "label": "🕯️",
            "method": "animate"
           },
           {
            "args": [
             [
              "🎵"
             ],
             {
              "frame": {
               "duration": 0,
               "redraw": true
              },
              "fromcurrent": true,
              "mode": "immediate",
              "transition": {
               "duration": 0,
               "easing": "linear"
              }
             }
            ],
            "label": "🎵",
            "method": "animate"
           },
           {
            "args": [
             [
              "🧑‍🎤"
             ],
             {
              "frame": {
               "duration": 0,
               "redraw": true
              },
              "fromcurrent": true,
              "mode": "immediate",
              "transition": {
               "duration": 0,
               "easing": "linear"
              }
             }
            ],
            "label": "🧑‍🎤",
            "method": "animate"
           },
           {
            "args": [
             [
              "👨‍🎤"
             ],
             {
              "frame": {
               "duration": 0,
               "redraw": true
              },
              "fromcurrent": true,
              "mode": "immediate",
              "transition": {
               "duration": 0,
               "easing": "linear"
              }
             }
            ],
            "label": "👨‍🎤",
            "method": "animate"
           },
           {
            "args": [
             [
              "®"
             ],
             {
              "frame": {
               "duration": 0,
               "redraw": true
              },
              "fromcurrent": true,
              "mode": "immediate",
              "transition": {
               "duration": 0,
               "easing": "linear"
              }
             }
            ],
            "label": "®",
            "method": "animate"
           },
           {
            "args": [
             [
              "😬"
             ],
             {
              "frame": {
               "duration": 0,
               "redraw": true
              },
              "fromcurrent": true,
              "mode": "immediate",
              "transition": {
               "duration": 0,
               "easing": "linear"
              }
             }
            ],
            "label": "😬",
            "method": "animate"
           },
           {
            "args": [
             [
              "😊"
             ],
             {
              "frame": {
               "duration": 0,
               "redraw": true
              },
              "fromcurrent": true,
              "mode": "immediate",
              "transition": {
               "duration": 0,
               "easing": "linear"
              }
             }
            ],
            "label": "😊",
            "method": "animate"
           },
           {
            "args": [
             [
              "😎"
             ],
             {
              "frame": {
               "duration": 0,
               "redraw": true
              },
              "fromcurrent": true,
              "mode": "immediate",
              "transition": {
               "duration": 0,
               "easing": "linear"
              }
             }
            ],
            "label": "😎",
            "method": "animate"
           },
           {
            "args": [
             [
              "😓"
             ],
             {
              "frame": {
               "duration": 0,
               "redraw": true
              },
              "fromcurrent": true,
              "mode": "immediate",
              "transition": {
               "duration": 0,
               "easing": "linear"
              }
             }
            ],
            "label": "😓",
            "method": "animate"
           }
          ],
          "x": 0.1,
          "xanchor": "left",
          "y": 0,
          "yanchor": "top"
         }
        ],
        "template": {
         "data": {
          "bar": [
           {
            "error_x": {
             "color": "#2a3f5f"
            },
            "error_y": {
             "color": "#2a3f5f"
            },
            "marker": {
             "line": {
              "color": "#E5ECF6",
              "width": 0.5
             }
            },
            "type": "bar"
           }
          ],
          "barpolar": [
           {
            "marker": {
             "line": {
              "color": "#E5ECF6",
              "width": 0.5
             }
            },
            "type": "barpolar"
           }
          ],
          "carpet": [
           {
            "aaxis": {
             "endlinecolor": "#2a3f5f",
             "gridcolor": "white",
             "linecolor": "white",
             "minorgridcolor": "white",
             "startlinecolor": "#2a3f5f"
            },
            "baxis": {
             "endlinecolor": "#2a3f5f",
             "gridcolor": "white",
             "linecolor": "white",
             "minorgridcolor": "white",
             "startlinecolor": "#2a3f5f"
            },
            "type": "carpet"
           }
          ],
          "choropleth": [
           {
            "colorbar": {
             "outlinewidth": 0,
             "ticks": ""
            },
            "type": "choropleth"
           }
          ],
          "contour": [
           {
            "colorbar": {
             "outlinewidth": 0,
             "ticks": ""
            },
            "colorscale": [
             [
              0,
              "#0d0887"
             ],
             [
              0.1111111111111111,
              "#46039f"
             ],
             [
              0.2222222222222222,
              "#7201a8"
             ],
             [
              0.3333333333333333,
              "#9c179e"
             ],
             [
              0.4444444444444444,
              "#bd3786"
             ],
             [
              0.5555555555555556,
              "#d8576b"
             ],
             [
              0.6666666666666666,
              "#ed7953"
             ],
             [
              0.7777777777777778,
              "#fb9f3a"
             ],
             [
              0.8888888888888888,
              "#fdca26"
             ],
             [
              1,
              "#f0f921"
             ]
            ],
            "type": "contour"
           }
          ],
          "contourcarpet": [
           {
            "colorbar": {
             "outlinewidth": 0,
             "ticks": ""
            },
            "type": "contourcarpet"
           }
          ],
          "heatmap": [
           {
            "colorbar": {
             "outlinewidth": 0,
             "ticks": ""
            },
            "colorscale": [
             [
              0,
              "#0d0887"
             ],
             [
              0.1111111111111111,
              "#46039f"
             ],
             [
              0.2222222222222222,
              "#7201a8"
             ],
             [
              0.3333333333333333,
              "#9c179e"
             ],
             [
              0.4444444444444444,
              "#bd3786"
             ],
             [
              0.5555555555555556,
              "#d8576b"
             ],
             [
              0.6666666666666666,
              "#ed7953"
             ],
             [
              0.7777777777777778,
              "#fb9f3a"
             ],
             [
              0.8888888888888888,
              "#fdca26"
             ],
             [
              1,
              "#f0f921"
             ]
            ],
            "type": "heatmap"
           }
          ],
          "heatmapgl": [
           {
            "colorbar": {
             "outlinewidth": 0,
             "ticks": ""
            },
            "colorscale": [
             [
              0,
              "#0d0887"
             ],
             [
              0.1111111111111111,
              "#46039f"
             ],
             [
              0.2222222222222222,
              "#7201a8"
             ],
             [
              0.3333333333333333,
              "#9c179e"
             ],
             [
              0.4444444444444444,
              "#bd3786"
             ],
             [
              0.5555555555555556,
              "#d8576b"
             ],
             [
              0.6666666666666666,
              "#ed7953"
             ],
             [
              0.7777777777777778,
              "#fb9f3a"
             ],
             [
              0.8888888888888888,
              "#fdca26"
             ],
             [
              1,
              "#f0f921"
             ]
            ],
            "type": "heatmapgl"
           }
          ],
          "histogram": [
           {
            "marker": {
             "colorbar": {
              "outlinewidth": 0,
              "ticks": ""
             }
            },
            "type": "histogram"
           }
          ],
          "histogram2d": [
           {
            "colorbar": {
             "outlinewidth": 0,
             "ticks": ""
            },
            "colorscale": [
             [
              0,
              "#0d0887"
             ],
             [
              0.1111111111111111,
              "#46039f"
             ],
             [
              0.2222222222222222,
              "#7201a8"
             ],
             [
              0.3333333333333333,
              "#9c179e"
             ],
             [
              0.4444444444444444,
              "#bd3786"
             ],
             [
              0.5555555555555556,
              "#d8576b"
             ],
             [
              0.6666666666666666,
              "#ed7953"
             ],
             [
              0.7777777777777778,
              "#fb9f3a"
             ],
             [
              0.8888888888888888,
              "#fdca26"
             ],
             [
              1,
              "#f0f921"
             ]
            ],
            "type": "histogram2d"
           }
          ],
          "histogram2dcontour": [
           {
            "colorbar": {
             "outlinewidth": 0,
             "ticks": ""
            },
            "colorscale": [
             [
              0,
              "#0d0887"
             ],
             [
              0.1111111111111111,
              "#46039f"
             ],
             [
              0.2222222222222222,
              "#7201a8"
             ],
             [
              0.3333333333333333,
              "#9c179e"
             ],
             [
              0.4444444444444444,
              "#bd3786"
             ],
             [
              0.5555555555555556,
              "#d8576b"
             ],
             [
              0.6666666666666666,
              "#ed7953"
             ],
             [
              0.7777777777777778,
              "#fb9f3a"
             ],
             [
              0.8888888888888888,
              "#fdca26"
             ],
             [
              1,
              "#f0f921"
             ]
            ],
            "type": "histogram2dcontour"
           }
          ],
          "mesh3d": [
           {
            "colorbar": {
             "outlinewidth": 0,
             "ticks": ""
            },
            "type": "mesh3d"
           }
          ],
          "parcoords": [
           {
            "line": {
             "colorbar": {
              "outlinewidth": 0,
              "ticks": ""
             }
            },
            "type": "parcoords"
           }
          ],
          "pie": [
           {
            "automargin": true,
            "type": "pie"
           }
          ],
          "scatter": [
           {
            "marker": {
             "colorbar": {
              "outlinewidth": 0,
              "ticks": ""
             }
            },
            "type": "scatter"
           }
          ],
          "scatter3d": [
           {
            "line": {
             "colorbar": {
              "outlinewidth": 0,
              "ticks": ""
             }
            },
            "marker": {
             "colorbar": {
              "outlinewidth": 0,
              "ticks": ""
             }
            },
            "type": "scatter3d"
           }
          ],
          "scattercarpet": [
           {
            "marker": {
             "colorbar": {
              "outlinewidth": 0,
              "ticks": ""
             }
            },
            "type": "scattercarpet"
           }
          ],
          "scattergeo": [
           {
            "marker": {
             "colorbar": {
              "outlinewidth": 0,
              "ticks": ""
             }
            },
            "type": "scattergeo"
           }
          ],
          "scattergl": [
           {
            "marker": {
             "colorbar": {
              "outlinewidth": 0,
              "ticks": ""
             }
            },
            "type": "scattergl"
           }
          ],
          "scattermapbox": [
           {
            "marker": {
             "colorbar": {
              "outlinewidth": 0,
              "ticks": ""
             }
            },
            "type": "scattermapbox"
           }
          ],
          "scatterpolar": [
           {
            "marker": {
             "colorbar": {
              "outlinewidth": 0,
              "ticks": ""
             }
            },
            "type": "scatterpolar"
           }
          ],
          "scatterpolargl": [
           {
            "marker": {
             "colorbar": {
              "outlinewidth": 0,
              "ticks": ""
             }
            },
            "type": "scatterpolargl"
           }
          ],
          "scatterternary": [
           {
            "marker": {
             "colorbar": {
              "outlinewidth": 0,
              "ticks": ""
             }
            },
            "type": "scatterternary"
           }
          ],
          "surface": [
           {
            "colorbar": {
             "outlinewidth": 0,
             "ticks": ""
            },
            "colorscale": [
             [
              0,
              "#0d0887"
             ],
             [
              0.1111111111111111,
              "#46039f"
             ],
             [
              0.2222222222222222,
              "#7201a8"
             ],
             [
              0.3333333333333333,
              "#9c179e"
             ],
             [
              0.4444444444444444,
              "#bd3786"
             ],
             [
              0.5555555555555556,
              "#d8576b"
             ],
             [
              0.6666666666666666,
              "#ed7953"
             ],
             [
              0.7777777777777778,
              "#fb9f3a"
             ],
             [
              0.8888888888888888,
              "#fdca26"
             ],
             [
              1,
              "#f0f921"
             ]
            ],
            "type": "surface"
           }
          ],
          "table": [
           {
            "cells": {
             "fill": {
              "color": "#EBF0F8"
             },
             "line": {
              "color": "white"
             }
            },
            "header": {
             "fill": {
              "color": "#C8D4E3"
             },
             "line": {
              "color": "white"
             }
            },
            "type": "table"
           }
          ]
         },
         "layout": {
          "annotationdefaults": {
           "arrowcolor": "#2a3f5f",
           "arrowhead": 0,
           "arrowwidth": 1
          },
          "coloraxis": {
           "colorbar": {
            "outlinewidth": 0,
            "ticks": ""
           }
          },
          "colorscale": {
           "diverging": [
            [
             0,
             "#8e0152"
            ],
            [
             0.1,
             "#c51b7d"
            ],
            [
             0.2,
             "#de77ae"
            ],
            [
             0.3,
             "#f1b6da"
            ],
            [
             0.4,
             "#fde0ef"
            ],
            [
             0.5,
             "#f7f7f7"
            ],
            [
             0.6,
             "#e6f5d0"
            ],
            [
             0.7,
             "#b8e186"
            ],
            [
             0.8,
             "#7fbc41"
            ],
            [
             0.9,
             "#4d9221"
            ],
            [
             1,
             "#276419"
            ]
           ],
           "sequential": [
            [
             0,
             "#0d0887"
            ],
            [
             0.1111111111111111,
             "#46039f"
            ],
            [
             0.2222222222222222,
             "#7201a8"
            ],
            [
             0.3333333333333333,
             "#9c179e"
            ],
            [
             0.4444444444444444,
             "#bd3786"
            ],
            [
             0.5555555555555556,
             "#d8576b"
            ],
            [
             0.6666666666666666,
             "#ed7953"
            ],
            [
             0.7777777777777778,
             "#fb9f3a"
            ],
            [
             0.8888888888888888,
             "#fdca26"
            ],
            [
             1,
             "#f0f921"
            ]
           ],
           "sequentialminus": [
            [
             0,
             "#0d0887"
            ],
            [
             0.1111111111111111,
             "#46039f"
            ],
            [
             0.2222222222222222,
             "#7201a8"
            ],
            [
             0.3333333333333333,
             "#9c179e"
            ],
            [
             0.4444444444444444,
             "#bd3786"
            ],
            [
             0.5555555555555556,
             "#d8576b"
            ],
            [
             0.6666666666666666,
             "#ed7953"
            ],
            [
             0.7777777777777778,
             "#fb9f3a"
            ],
            [
             0.8888888888888888,
             "#fdca26"
            ],
            [
             1,
             "#f0f921"
            ]
           ]
          },
          "colorway": [
           "#636efa",
           "#EF553B",
           "#00cc96",
           "#ab63fa",
           "#FFA15A",
           "#19d3f3",
           "#FF6692",
           "#B6E880",
           "#FF97FF",
           "#FECB52"
          ],
          "font": {
           "color": "#2a3f5f"
          },
          "geo": {
           "bgcolor": "white",
           "lakecolor": "white",
           "landcolor": "#E5ECF6",
           "showlakes": true,
           "showland": true,
           "subunitcolor": "white"
          },
          "hoverlabel": {
           "align": "left"
          },
          "hovermode": "closest",
          "mapbox": {
           "style": "light"
          },
          "paper_bgcolor": "white",
          "plot_bgcolor": "#E5ECF6",
          "polar": {
           "angularaxis": {
            "gridcolor": "white",
            "linecolor": "white",
            "ticks": ""
           },
           "bgcolor": "#E5ECF6",
           "radialaxis": {
            "gridcolor": "white",
            "linecolor": "white",
            "ticks": ""
           }
          },
          "scene": {
           "xaxis": {
            "backgroundcolor": "#E5ECF6",
            "gridcolor": "white",
            "gridwidth": 2,
            "linecolor": "white",
            "showbackground": true,
            "ticks": "",
            "zerolinecolor": "white"
           },
           "yaxis": {
            "backgroundcolor": "#E5ECF6",
            "gridcolor": "white",
            "gridwidth": 2,
            "linecolor": "white",
            "showbackground": true,
            "ticks": "",
            "zerolinecolor": "white"
           },
           "zaxis": {
            "backgroundcolor": "#E5ECF6",
            "gridcolor": "white",
            "gridwidth": 2,
            "linecolor": "white",
            "showbackground": true,
            "ticks": "",
            "zerolinecolor": "white"
           }
          },
          "shapedefaults": {
           "line": {
            "color": "#2a3f5f"
           }
          },
          "ternary": {
           "aaxis": {
            "gridcolor": "white",
            "linecolor": "white",
            "ticks": ""
           },
           "baxis": {
            "gridcolor": "white",
            "linecolor": "white",
            "ticks": ""
           },
           "bgcolor": "#E5ECF6",
           "caxis": {
            "gridcolor": "white",
            "linecolor": "white",
            "ticks": ""
           }
          },
          "title": {
           "x": 0.05
          },
          "xaxis": {
           "automargin": true,
           "gridcolor": "white",
           "linecolor": "white",
           "ticks": "",
           "title": {
            "standoff": 15
           },
           "zerolinecolor": "white",
           "zerolinewidth": 2
          },
          "yaxis": {
           "automargin": true,
           "gridcolor": "white",
           "linecolor": "white",
           "ticks": "",
           "title": {
            "standoff": 15
           },
           "zerolinecolor": "white",
           "zerolinewidth": 2
          }
         }
        },
        "updatemenus": [
         {
          "buttons": [
           {
            "args": [
             null,
             {
              "frame": {
               "duration": 500,
               "redraw": true
              },
              "fromcurrent": true,
              "mode": "immediate",
              "transition": {
               "duration": 500,
               "easing": "linear"
              }
             }
            ],
            "label": "&#9654;",
            "method": "animate"
           },
           {
            "args": [
             [
              null
             ],
             {
              "frame": {
               "duration": 0,
               "redraw": true
              },
              "fromcurrent": true,
              "mode": "immediate",
              "transition": {
               "duration": 0,
               "easing": "linear"
              }
             }
            ],
            "label": "&#9724;",
            "method": "animate"
           }
          ],
          "direction": "left",
          "pad": {
           "r": 10,
           "t": 70
          },
          "showactive": false,
          "type": "buttons",
          "x": 0.1,
          "xanchor": "right",
          "y": 0,
          "yanchor": "top"
         }
        ],
        "xaxis": {
         "anchor": "y",
         "domain": [
          0,
          1
         ],
         "title": {
          "text": "x"
         }
        },
        "yaxis": {
         "anchor": "x",
         "domain": [
          0,
          1
         ],
         "title": {
          "text": "cnt"
         }
        }
       }
      },
      "text/html": [
       "<div>\n",
       "        \n",
       "        \n",
       "            <div id=\"6fcb1cdd-94bf-4c52-baf6-f36d96b446fd\" class=\"plotly-graph-div\" style=\"height:525px; width:100%;\"></div>\n",
       "            <script type=\"text/javascript\">\n",
       "                require([\"plotly\"], function(Plotly) {\n",
       "                    window.PLOTLYENV=window.PLOTLYENV || {};\n",
       "                    \n",
       "                if (document.getElementById(\"6fcb1cdd-94bf-4c52-baf6-f36d96b446fd\")) {\n",
       "                    Plotly.newPlot(\n",
       "                        '6fcb1cdd-94bf-4c52-baf6-f36d96b446fd',\n",
       "                        [{\"alignmentgroup\": \"True\", \"hovertemplate\": \"emoji=\\ud83d\\ude14<br>animation_frame=\\ud83d\\ude14<br>x=%{x}<br>cnt=%{y}<extra></extra>\", \"ids\": [9], \"legendgroup\": \"\\ud83d\\ude14\", \"marker\": {\"color\": \"#636efa\"}, \"name\": \"\\ud83d\\ude14\", \"offsetgroup\": \"\\ud83d\\ude14\", \"orientation\": \"v\", \"showlegend\": true, \"textposition\": \"auto\", \"type\": \"bar\", \"x\": [\"\\ud83d\\ude14\"], \"xaxis\": \"x\", \"y\": [9], \"yaxis\": \"y\"}],\n",
       "                        {\"barmode\": \"relative\", \"legend\": {\"title\": {\"text\": \"emoji\"}, \"tracegroupgap\": 0}, \"margin\": {\"t\": 60}, \"sliders\": [{\"active\": 0, \"currentvalue\": {\"prefix\": \"animation_frame=\"}, \"len\": 0.9, \"pad\": {\"b\": 10, \"t\": 60}, \"steps\": [{\"args\": [[\"\\ud83d\\ude14\"], {\"frame\": {\"duration\": 0, \"redraw\": true}, \"fromcurrent\": true, \"mode\": \"immediate\", \"transition\": {\"duration\": 0, \"easing\": \"linear\"}}], \"label\": \"\\ud83d\\ude14\", \"method\": \"animate\"}, {\"args\": [[\"\\ud83e\\udd74\"], {\"frame\": {\"duration\": 0, \"redraw\": true}, \"fromcurrent\": true, \"mode\": \"immediate\", \"transition\": {\"duration\": 0, \"easing\": \"linear\"}}], \"label\": \"\\ud83e\\udd74\", \"method\": \"animate\"}, {\"args\": [[\"\\u2728\"], {\"frame\": {\"duration\": 0, \"redraw\": true}, \"fromcurrent\": true, \"mode\": \"immediate\", \"transition\": {\"duration\": 0, \"easing\": \"linear\"}}], \"label\": \"\\u2728\", \"method\": \"animate\"}, {\"args\": [[\"\\ud83c\\udf40\"], {\"frame\": {\"duration\": 0, \"redraw\": true}, \"fromcurrent\": true, \"mode\": \"immediate\", \"transition\": {\"duration\": 0, \"easing\": \"linear\"}}], \"label\": \"\\ud83c\\udf40\", \"method\": \"animate\"}, {\"args\": [[\"\\ud83d\\ude2d\"], {\"frame\": {\"duration\": 0, \"redraw\": true}, \"fromcurrent\": true, \"mode\": \"immediate\", \"transition\": {\"duration\": 0, \"easing\": \"linear\"}}], \"label\": \"\\ud83d\\ude2d\", \"method\": \"animate\"}, {\"args\": [[\"\\ud83d\\udc40\"], {\"frame\": {\"duration\": 0, \"redraw\": true}, \"fromcurrent\": true, \"mode\": \"immediate\", \"transition\": {\"duration\": 0, \"easing\": \"linear\"}}], \"label\": \"\\ud83d\\udc40\", \"method\": \"animate\"}, {\"args\": [[\"\\ud83d\\ude33\"], {\"frame\": {\"duration\": 0, \"redraw\": true}, \"fromcurrent\": true, \"mode\": \"immediate\", \"transition\": {\"duration\": 0, \"easing\": \"linear\"}}], \"label\": \"\\ud83d\\ude33\", \"method\": \"animate\"}, {\"args\": [[\"\\ud83e\\udd23\"], {\"frame\": {\"duration\": 0, \"redraw\": true}, \"fromcurrent\": true, \"mode\": \"immediate\", \"transition\": {\"duration\": 0, \"easing\": \"linear\"}}], \"label\": \"\\ud83e\\udd23\", \"method\": \"animate\"}, {\"args\": [[\"\\ud83e\\udd21\"], {\"frame\": {\"duration\": 0, \"redraw\": true}, \"fromcurrent\": true, \"mode\": \"immediate\", \"transition\": {\"duration\": 0, \"easing\": \"linear\"}}], \"label\": \"\\ud83e\\udd21\", \"method\": \"animate\"}, {\"args\": [[\"\\ud83d\\ude02\"], {\"frame\": {\"duration\": 0, \"redraw\": true}, \"fromcurrent\": true, \"mode\": \"immediate\", \"transition\": {\"duration\": 0, \"easing\": \"linear\"}}], \"label\": \"\\ud83d\\ude02\", \"method\": \"animate\"}, {\"args\": [[\"\\ud83e\\uddd9\\u200d\\u2640\\ufe0f\"], {\"frame\": {\"duration\": 0, \"redraw\": true}, \"fromcurrent\": true, \"mode\": \"immediate\", \"transition\": {\"duration\": 0, \"easing\": \"linear\"}}], \"label\": \"\\ud83e\\uddd9\\u200d\\u2640\\ufe0f\", \"method\": \"animate\"}, {\"args\": [[\"\\ud83d\\ude18\"], {\"frame\": {\"duration\": 0, \"redraw\": true}, \"fromcurrent\": true, \"mode\": \"immediate\", \"transition\": {\"duration\": 0, \"easing\": \"linear\"}}], \"label\": \"\\ud83d\\ude18\", \"method\": \"animate\"}, {\"args\": [[\"\\ud83d\\udd3a\"], {\"frame\": {\"duration\": 0, \"redraw\": true}, \"fromcurrent\": true, \"mode\": \"immediate\", \"transition\": {\"duration\": 0, \"easing\": \"linear\"}}], \"label\": \"\\ud83d\\udd3a\", \"method\": \"animate\"}, {\"args\": [[\"\\ud83d\\udda4\"], {\"frame\": {\"duration\": 0, \"redraw\": true}, \"fromcurrent\": true, \"mode\": \"immediate\", \"transition\": {\"duration\": 0, \"easing\": \"linear\"}}], \"label\": \"\\ud83d\\udda4\", \"method\": \"animate\"}, {\"args\": [[\"\\ud83e\\uddda\\ud83c\\udffc\"], {\"frame\": {\"duration\": 0, \"redraw\": true}, \"fromcurrent\": true, \"mode\": \"immediate\", \"transition\": {\"duration\": 0, \"easing\": \"linear\"}}], \"label\": \"\\ud83e\\uddda\\ud83c\\udffc\", \"method\": \"animate\"}, {\"args\": [[\"\\ud83d\\udc4e\"], {\"frame\": {\"duration\": 0, \"redraw\": true}, \"fromcurrent\": true, \"mode\": \"immediate\", \"transition\": {\"duration\": 0, \"easing\": \"linear\"}}], \"label\": \"\\ud83d\\udc4e\", \"method\": \"animate\"}, {\"args\": [[\"\\ud83e\\udd7a\"], {\"frame\": {\"duration\": 0, \"redraw\": true}, \"fromcurrent\": true, \"mode\": \"immediate\", \"transition\": {\"duration\": 0, \"easing\": \"linear\"}}], \"label\": \"\\ud83e\\udd7a\", \"method\": \"animate\"}, {\"args\": [[\"\\ud83e\\udd17\"], {\"frame\": {\"duration\": 0, \"redraw\": true}, \"fromcurrent\": true, \"mode\": \"immediate\", \"transition\": {\"duration\": 0, \"easing\": \"linear\"}}], \"label\": \"\\ud83e\\udd17\", \"method\": \"animate\"}, {\"args\": [[\"\\ud83d\\ude44\"], {\"frame\": {\"duration\": 0, \"redraw\": true}, \"fromcurrent\": true, \"mode\": \"immediate\", \"transition\": {\"duration\": 0, \"easing\": \"linear\"}}], \"label\": \"\\ud83d\\ude44\", \"method\": \"animate\"}, {\"args\": [[\"\\ud83e\\udd28\"], {\"frame\": {\"duration\": 0, \"redraw\": true}, \"fromcurrent\": true, \"mode\": \"immediate\", \"transition\": {\"duration\": 0, \"easing\": \"linear\"}}], \"label\": \"\\ud83e\\udd28\", \"method\": \"animate\"}, {\"args\": [[\"\\ud83c\\udff4\\u200d\\u2620\\ufe0f\"], {\"frame\": {\"duration\": 0, \"redraw\": true}, \"fromcurrent\": true, \"mode\": \"immediate\", \"transition\": {\"duration\": 0, \"easing\": \"linear\"}}], \"label\": \"\\ud83c\\udff4\\u200d\\u2620\\ufe0f\", \"method\": \"animate\"}, {\"args\": [[\"\\ud83d\\ude43\"], {\"frame\": {\"duration\": 0, \"redraw\": true}, \"fromcurrent\": true, \"mode\": \"immediate\", \"transition\": {\"duration\": 0, \"easing\": \"linear\"}}], \"label\": \"\\ud83d\\ude43\", \"method\": \"animate\"}, {\"args\": [[\"\\ud83c\\udde8\\ud83c\\uddf4\"], {\"frame\": {\"duration\": 0, \"redraw\": true}, \"fromcurrent\": true, \"mode\": \"immediate\", \"transition\": {\"duration\": 0, \"easing\": \"linear\"}}], \"label\": \"\\ud83c\\udde8\\ud83c\\uddf4\", \"method\": \"animate\"}, {\"args\": [[\"\\u27a1\\ufe0f\"], {\"frame\": {\"duration\": 0, \"redraw\": true}, \"fromcurrent\": true, \"mode\": \"immediate\", \"transition\": {\"duration\": 0, \"easing\": \"linear\"}}], \"label\": \"\\u27a1\\ufe0f\", \"method\": \"animate\"}, {\"args\": [[\"\\ud83d\\ude28\"], {\"frame\": {\"duration\": 0, \"redraw\": true}, \"fromcurrent\": true, \"mode\": \"immediate\", \"transition\": {\"duration\": 0, \"easing\": \"linear\"}}], \"label\": \"\\ud83d\\ude28\", \"method\": \"animate\"}, {\"args\": [[\"\\ud83c\\udf83\"], {\"frame\": {\"duration\": 0, \"redraw\": true}, \"fromcurrent\": true, \"mode\": \"immediate\", \"transition\": {\"duration\": 0, \"easing\": \"linear\"}}], \"label\": \"\\ud83c\\udf83\", \"method\": \"animate\"}, {\"args\": [[\"\\ud83e\\udd0d\"], {\"frame\": {\"duration\": 0, \"redraw\": true}, \"fromcurrent\": true, \"mode\": \"immediate\", \"transition\": {\"duration\": 0, \"easing\": \"linear\"}}], \"label\": \"\\ud83e\\udd0d\", \"method\": \"animate\"}, {\"args\": [[\"\\ud83e\\udd26\\ud83c\\udffe\\u200d\\u2642\\ufe0f\"], {\"frame\": {\"duration\": 0, \"redraw\": true}, \"fromcurrent\": true, \"mode\": \"immediate\", \"transition\": {\"duration\": 0, \"easing\": \"linear\"}}], \"label\": \"\\ud83e\\udd26\\ud83c\\udffe\\u200d\\u2642\\ufe0f\", \"method\": \"animate\"}, {\"args\": [[\"\\ud83e\\udd37\\ud83c\\udffb\\u200d\\u2642\\ufe0f\"], {\"frame\": {\"duration\": 0, \"redraw\": true}, \"fromcurrent\": true, \"mode\": \"immediate\", \"transition\": {\"duration\": 0, \"easing\": \"linear\"}}], \"label\": \"\\ud83e\\udd37\\ud83c\\udffb\\u200d\\u2642\\ufe0f\", \"method\": \"animate\"}, {\"args\": [[\"\\ud83d\\ude4f\\ud83c\\udffb\"], {\"frame\": {\"duration\": 0, \"redraw\": true}, \"fromcurrent\": true, \"mode\": \"immediate\", \"transition\": {\"duration\": 0, \"easing\": \"linear\"}}], \"label\": \"\\ud83d\\ude4f\\ud83c\\udffb\", \"method\": \"animate\"}, {\"args\": [[\"\\ud83e\\ude90\"], {\"frame\": {\"duration\": 0, \"redraw\": true}, \"fromcurrent\": true, \"mode\": \"immediate\", \"transition\": {\"duration\": 0, \"easing\": \"linear\"}}], \"label\": \"\\ud83e\\ude90\", \"method\": \"animate\"}, {\"args\": [[\"\\ud83d\\ude2a\"], {\"frame\": {\"duration\": 0, \"redraw\": true}, \"fromcurrent\": true, \"mode\": \"immediate\", \"transition\": {\"duration\": 0, \"easing\": \"linear\"}}], \"label\": \"\\ud83d\\ude2a\", \"method\": \"animate\"}, {\"args\": [[\"\\ud83d\\udc98\"], {\"frame\": {\"duration\": 0, \"redraw\": true}, \"fromcurrent\": true, \"mode\": \"immediate\", \"transition\": {\"duration\": 0, \"easing\": \"linear\"}}], \"label\": \"\\ud83d\\udc98\", \"method\": \"animate\"}, {\"args\": [[\"\\u2764\\ufe0f\"], {\"frame\": {\"duration\": 0, \"redraw\": true}, \"fromcurrent\": true, \"mode\": \"immediate\", \"transition\": {\"duration\": 0, \"easing\": \"linear\"}}], \"label\": \"\\u2764\\ufe0f\", \"method\": \"animate\"}, {\"args\": [[\"\\ud83e\\udd29\"], {\"frame\": {\"duration\": 0, \"redraw\": true}, \"fromcurrent\": true, \"mode\": \"immediate\", \"transition\": {\"duration\": 0, \"easing\": \"linear\"}}], \"label\": \"\\ud83e\\udd29\", \"method\": \"animate\"}, {\"args\": [[\"\\ud83d\\ude2b\"], {\"frame\": {\"duration\": 0, \"redraw\": true}, \"fromcurrent\": true, \"mode\": \"immediate\", \"transition\": {\"duration\": 0, \"easing\": \"linear\"}}], \"label\": \"\\ud83d\\ude2b\", \"method\": \"animate\"}, {\"args\": [[\"\\ud83d\\ude11\"], {\"frame\": {\"duration\": 0, \"redraw\": true}, \"fromcurrent\": true, \"mode\": \"immediate\", \"transition\": {\"duration\": 0, \"easing\": \"linear\"}}], \"label\": \"\\ud83d\\ude11\", \"method\": \"animate\"}, {\"args\": [[\"\\ud83e\\udd14\"], {\"frame\": {\"duration\": 0, \"redraw\": true}, \"fromcurrent\": true, \"mode\": \"immediate\", \"transition\": {\"duration\": 0, \"easing\": \"linear\"}}], \"label\": \"\\ud83e\\udd14\", \"method\": \"animate\"}, {\"args\": [[\"\\ud83c\\udfb6\"], {\"frame\": {\"duration\": 0, \"redraw\": true}, \"fromcurrent\": true, \"mode\": \"immediate\", \"transition\": {\"duration\": 0, \"easing\": \"linear\"}}], \"label\": \"\\ud83c\\udfb6\", \"method\": \"animate\"}, {\"args\": [[\"\\u270c\\ufe0f\"], {\"frame\": {\"duration\": 0, \"redraw\": true}, \"fromcurrent\": true, \"mode\": \"immediate\", \"transition\": {\"duration\": 0, \"easing\": \"linear\"}}], \"label\": \"\\u270c\\ufe0f\", \"method\": \"animate\"}, {\"args\": [[\"\\ud83d\\udc9a\"], {\"frame\": {\"duration\": 0, \"redraw\": true}, \"fromcurrent\": true, \"mode\": \"immediate\", \"transition\": {\"duration\": 0, \"easing\": \"linear\"}}], \"label\": \"\\ud83d\\udc9a\", \"method\": \"animate\"}, {\"args\": [[\"\\ud83d\\udc9b\"], {\"frame\": {\"duration\": 0, \"redraw\": true}, \"fromcurrent\": true, \"mode\": \"immediate\", \"transition\": {\"duration\": 0, \"easing\": \"linear\"}}], \"label\": \"\\ud83d\\udc9b\", \"method\": \"animate\"}, {\"args\": [[\"\\ud83d\\udc8b\"], {\"frame\": {\"duration\": 0, \"redraw\": true}, \"fromcurrent\": true, \"mode\": \"immediate\", \"transition\": {\"duration\": 0, \"easing\": \"linear\"}}], \"label\": \"\\ud83d\\udc8b\", \"method\": \"animate\"}, {\"args\": [[\"\\ud83d\\udc4d\"], {\"frame\": {\"duration\": 0, \"redraw\": true}, \"fromcurrent\": true, \"mode\": \"immediate\", \"transition\": {\"duration\": 0, \"easing\": \"linear\"}}], \"label\": \"\\ud83d\\udc4d\", \"method\": \"animate\"}, {\"args\": [[\"\\ud83e\\udd1e\"], {\"frame\": {\"duration\": 0, \"redraw\": true}, \"fromcurrent\": true, \"mode\": \"immediate\", \"transition\": {\"duration\": 0, \"easing\": \"linear\"}}], \"label\": \"\\ud83e\\udd1e\", \"method\": \"animate\"}, {\"args\": [[\"\\u2639\\ufe0f\"], {\"frame\": {\"duration\": 0, \"redraw\": true}, \"fromcurrent\": true, \"mode\": \"immediate\", \"transition\": {\"duration\": 0, \"easing\": \"linear\"}}], \"label\": \"\\u2639\\ufe0f\", \"method\": \"animate\"}, {\"args\": [[\"\\ud83e\\udd19\\ud83c\\udffb\"], {\"frame\": {\"duration\": 0, \"redraw\": true}, \"fromcurrent\": true, \"mode\": \"immediate\", \"transition\": {\"duration\": 0, \"easing\": \"linear\"}}], \"label\": \"\\ud83e\\udd19\\ud83c\\udffb\", \"method\": \"animate\"}, {\"args\": [[\"\\ud83d\\ude05\"], {\"frame\": {\"duration\": 0, \"redraw\": true}, \"fromcurrent\": true, \"mode\": \"immediate\", \"transition\": {\"duration\": 0, \"easing\": \"linear\"}}], \"label\": \"\\ud83d\\ude05\", \"method\": \"animate\"}, {\"args\": [[\"\\ud83d\\ude4f\\ud83c\\udffc\"], {\"frame\": {\"duration\": 0, \"redraw\": true}, \"fromcurrent\": true, \"mode\": \"immediate\", \"transition\": {\"duration\": 0, \"easing\": \"linear\"}}], \"label\": \"\\ud83d\\ude4f\\ud83c\\udffc\", \"method\": \"animate\"}, {\"args\": [[\"\\ud83c\\udf19\"], {\"frame\": {\"duration\": 0, \"redraw\": true}, \"fromcurrent\": true, \"mode\": \"immediate\", \"transition\": {\"duration\": 0, \"easing\": \"linear\"}}], \"label\": \"\\ud83c\\udf19\", \"method\": \"animate\"}, {\"args\": [[\"\\ud83d\\ude1e\"], {\"frame\": {\"duration\": 0, \"redraw\": true}, \"fromcurrent\": true, \"mode\": \"immediate\", \"transition\": {\"duration\": 0, \"easing\": \"linear\"}}], \"label\": \"\\ud83d\\ude1e\", \"method\": \"animate\"}, {\"args\": [[\"\\ud83e\\udd18\\ud83c\\udffb\"], {\"frame\": {\"duration\": 0, \"redraw\": true}, \"fromcurrent\": true, \"mode\": \"immediate\", \"transition\": {\"duration\": 0, \"easing\": \"linear\"}}], \"label\": \"\\ud83e\\udd18\\ud83c\\udffb\", \"method\": \"animate\"}, {\"args\": [[\"\\ud83c\\udfa5\"], {\"frame\": {\"duration\": 0, \"redraw\": true}, \"fromcurrent\": true, \"mode\": \"immediate\", \"transition\": {\"duration\": 0, \"easing\": \"linear\"}}], \"label\": \"\\ud83c\\udfa5\", \"method\": \"animate\"}, {\"args\": [[\"\\ud83d\\udc47\\ud83c\\udffc\"], {\"frame\": {\"duration\": 0, \"redraw\": true}, \"fromcurrent\": true, \"mode\": \"immediate\", \"transition\": {\"duration\": 0, \"easing\": \"linear\"}}], \"label\": \"\\ud83d\\udc47\\ud83c\\udffc\", \"method\": \"animate\"}, {\"args\": [[\"\\ud83d\\ude06\"], {\"frame\": {\"duration\": 0, \"redraw\": true}, \"fromcurrent\": true, \"mode\": \"immediate\", \"transition\": {\"duration\": 0, \"easing\": \"linear\"}}], \"label\": \"\\ud83d\\ude06\", \"method\": \"animate\"}, {\"args\": [[\"\\ud83e\\udd1a\\ud83c\\udffb\"], {\"frame\": {\"duration\": 0, \"redraw\": true}, \"fromcurrent\": true, \"mode\": \"immediate\", \"transition\": {\"duration\": 0, \"easing\": \"linear\"}}], \"label\": \"\\ud83e\\udd1a\\ud83c\\udffb\", \"method\": \"animate\"}, {\"args\": [[\"\\ud83d\\udd6f\\ufe0f\"], {\"frame\": {\"duration\": 0, \"redraw\": true}, \"fromcurrent\": true, \"mode\": \"immediate\", \"transition\": {\"duration\": 0, \"easing\": \"linear\"}}], \"label\": \"\\ud83d\\udd6f\\ufe0f\", \"method\": \"animate\"}, {\"args\": [[\"\\ud83c\\udfb5\"], {\"frame\": {\"duration\": 0, \"redraw\": true}, \"fromcurrent\": true, \"mode\": \"immediate\", \"transition\": {\"duration\": 0, \"easing\": \"linear\"}}], \"label\": \"\\ud83c\\udfb5\", \"method\": \"animate\"}, {\"args\": [[\"\\ud83e\\uddd1\\u200d\\ud83c\\udfa4\"], {\"frame\": {\"duration\": 0, \"redraw\": true}, \"fromcurrent\": true, \"mode\": \"immediate\", \"transition\": {\"duration\": 0, \"easing\": \"linear\"}}], \"label\": \"\\ud83e\\uddd1\\u200d\\ud83c\\udfa4\", \"method\": \"animate\"}, {\"args\": [[\"\\ud83d\\udc68\\u200d\\ud83c\\udfa4\"], {\"frame\": {\"duration\": 0, \"redraw\": true}, \"fromcurrent\": true, \"mode\": \"immediate\", \"transition\": {\"duration\": 0, \"easing\": \"linear\"}}], \"label\": \"\\ud83d\\udc68\\u200d\\ud83c\\udfa4\", \"method\": \"animate\"}, {\"args\": [[\"\\u00ae\"], {\"frame\": {\"duration\": 0, \"redraw\": true}, \"fromcurrent\": true, \"mode\": \"immediate\", \"transition\": {\"duration\": 0, \"easing\": \"linear\"}}], \"label\": \"\\u00ae\", \"method\": \"animate\"}, {\"args\": [[\"\\ud83d\\ude2c\"], {\"frame\": {\"duration\": 0, \"redraw\": true}, \"fromcurrent\": true, \"mode\": \"immediate\", \"transition\": {\"duration\": 0, \"easing\": \"linear\"}}], \"label\": \"\\ud83d\\ude2c\", \"method\": \"animate\"}, {\"args\": [[\"\\ud83d\\ude0a\"], {\"frame\": {\"duration\": 0, \"redraw\": true}, \"fromcurrent\": true, \"mode\": \"immediate\", \"transition\": {\"duration\": 0, \"easing\": \"linear\"}}], \"label\": \"\\ud83d\\ude0a\", \"method\": \"animate\"}, {\"args\": [[\"\\ud83d\\ude0e\"], {\"frame\": {\"duration\": 0, \"redraw\": true}, \"fromcurrent\": true, \"mode\": \"immediate\", \"transition\": {\"duration\": 0, \"easing\": \"linear\"}}], \"label\": \"\\ud83d\\ude0e\", \"method\": \"animate\"}, {\"args\": [[\"\\ud83d\\ude13\"], {\"frame\": {\"duration\": 0, \"redraw\": true}, \"fromcurrent\": true, \"mode\": \"immediate\", \"transition\": {\"duration\": 0, \"easing\": \"linear\"}}], \"label\": \"\\ud83d\\ude13\", \"method\": \"animate\"}], \"x\": 0.1, \"xanchor\": \"left\", \"y\": 0, \"yanchor\": \"top\"}], \"template\": {\"data\": {\"bar\": [{\"error_x\": {\"color\": \"#2a3f5f\"}, \"error_y\": {\"color\": \"#2a3f5f\"}, \"marker\": {\"line\": {\"color\": \"#E5ECF6\", \"width\": 0.5}}, \"type\": \"bar\"}], \"barpolar\": [{\"marker\": {\"line\": {\"color\": \"#E5ECF6\", \"width\": 0.5}}, \"type\": \"barpolar\"}], \"carpet\": [{\"aaxis\": {\"endlinecolor\": \"#2a3f5f\", \"gridcolor\": \"white\", \"linecolor\": \"white\", \"minorgridcolor\": \"white\", \"startlinecolor\": \"#2a3f5f\"}, \"baxis\": {\"endlinecolor\": \"#2a3f5f\", \"gridcolor\": \"white\", \"linecolor\": \"white\", \"minorgridcolor\": \"white\", \"startlinecolor\": \"#2a3f5f\"}, \"type\": \"carpet\"}], \"choropleth\": [{\"colorbar\": {\"outlinewidth\": 0, \"ticks\": \"\"}, \"type\": \"choropleth\"}], \"contour\": [{\"colorbar\": {\"outlinewidth\": 0, \"ticks\": \"\"}, \"colorscale\": [[0.0, \"#0d0887\"], [0.1111111111111111, \"#46039f\"], [0.2222222222222222, \"#7201a8\"], [0.3333333333333333, \"#9c179e\"], [0.4444444444444444, \"#bd3786\"], [0.5555555555555556, \"#d8576b\"], [0.6666666666666666, \"#ed7953\"], [0.7777777777777778, \"#fb9f3a\"], [0.8888888888888888, \"#fdca26\"], [1.0, \"#f0f921\"]], \"type\": \"contour\"}], \"contourcarpet\": [{\"colorbar\": {\"outlinewidth\": 0, \"ticks\": \"\"}, \"type\": \"contourcarpet\"}], \"heatmap\": [{\"colorbar\": {\"outlinewidth\": 0, \"ticks\": \"\"}, \"colorscale\": [[0.0, \"#0d0887\"], [0.1111111111111111, \"#46039f\"], [0.2222222222222222, \"#7201a8\"], [0.3333333333333333, \"#9c179e\"], [0.4444444444444444, \"#bd3786\"], [0.5555555555555556, \"#d8576b\"], [0.6666666666666666, \"#ed7953\"], [0.7777777777777778, \"#fb9f3a\"], [0.8888888888888888, \"#fdca26\"], [1.0, \"#f0f921\"]], \"type\": \"heatmap\"}], \"heatmapgl\": [{\"colorbar\": {\"outlinewidth\": 0, \"ticks\": \"\"}, \"colorscale\": [[0.0, \"#0d0887\"], [0.1111111111111111, \"#46039f\"], [0.2222222222222222, \"#7201a8\"], [0.3333333333333333, \"#9c179e\"], [0.4444444444444444, \"#bd3786\"], [0.5555555555555556, \"#d8576b\"], [0.6666666666666666, \"#ed7953\"], [0.7777777777777778, \"#fb9f3a\"], [0.8888888888888888, \"#fdca26\"], [1.0, \"#f0f921\"]], \"type\": \"heatmapgl\"}], \"histogram\": [{\"marker\": {\"colorbar\": {\"outlinewidth\": 0, \"ticks\": \"\"}}, \"type\": \"histogram\"}], \"histogram2d\": [{\"colorbar\": {\"outlinewidth\": 0, \"ticks\": \"\"}, \"colorscale\": [[0.0, \"#0d0887\"], [0.1111111111111111, \"#46039f\"], [0.2222222222222222, \"#7201a8\"], [0.3333333333333333, \"#9c179e\"], [0.4444444444444444, \"#bd3786\"], [0.5555555555555556, \"#d8576b\"], [0.6666666666666666, \"#ed7953\"], [0.7777777777777778, \"#fb9f3a\"], [0.8888888888888888, \"#fdca26\"], [1.0, \"#f0f921\"]], \"type\": \"histogram2d\"}], \"histogram2dcontour\": [{\"colorbar\": {\"outlinewidth\": 0, \"ticks\": \"\"}, \"colorscale\": [[0.0, \"#0d0887\"], [0.1111111111111111, \"#46039f\"], [0.2222222222222222, \"#7201a8\"], [0.3333333333333333, \"#9c179e\"], [0.4444444444444444, \"#bd3786\"], [0.5555555555555556, \"#d8576b\"], [0.6666666666666666, \"#ed7953\"], [0.7777777777777778, \"#fb9f3a\"], [0.8888888888888888, \"#fdca26\"], [1.0, \"#f0f921\"]], \"type\": \"histogram2dcontour\"}], \"mesh3d\": [{\"colorbar\": {\"outlinewidth\": 0, \"ticks\": \"\"}, \"type\": \"mesh3d\"}], \"parcoords\": [{\"line\": {\"colorbar\": {\"outlinewidth\": 0, \"ticks\": \"\"}}, \"type\": \"parcoords\"}], \"pie\": [{\"automargin\": true, \"type\": \"pie\"}], \"scatter\": [{\"marker\": {\"colorbar\": {\"outlinewidth\": 0, \"ticks\": \"\"}}, \"type\": \"scatter\"}], \"scatter3d\": [{\"line\": {\"colorbar\": {\"outlinewidth\": 0, \"ticks\": \"\"}}, \"marker\": {\"colorbar\": {\"outlinewidth\": 0, \"ticks\": \"\"}}, \"type\": \"scatter3d\"}], \"scattercarpet\": [{\"marker\": {\"colorbar\": {\"outlinewidth\": 0, \"ticks\": \"\"}}, \"type\": \"scattercarpet\"}], \"scattergeo\": [{\"marker\": {\"colorbar\": {\"outlinewidth\": 0, \"ticks\": \"\"}}, \"type\": \"scattergeo\"}], \"scattergl\": [{\"marker\": {\"colorbar\": {\"outlinewidth\": 0, \"ticks\": \"\"}}, \"type\": \"scattergl\"}], \"scattermapbox\": [{\"marker\": {\"colorbar\": {\"outlinewidth\": 0, \"ticks\": \"\"}}, \"type\": \"scattermapbox\"}], \"scatterpolar\": [{\"marker\": {\"colorbar\": {\"outlinewidth\": 0, \"ticks\": \"\"}}, \"type\": \"scatterpolar\"}], \"scatterpolargl\": [{\"marker\": {\"colorbar\": {\"outlinewidth\": 0, \"ticks\": \"\"}}, \"type\": \"scatterpolargl\"}], \"scatterternary\": [{\"marker\": {\"colorbar\": {\"outlinewidth\": 0, \"ticks\": \"\"}}, \"type\": \"scatterternary\"}], \"surface\": [{\"colorbar\": {\"outlinewidth\": 0, \"ticks\": \"\"}, \"colorscale\": [[0.0, \"#0d0887\"], [0.1111111111111111, \"#46039f\"], [0.2222222222222222, \"#7201a8\"], [0.3333333333333333, \"#9c179e\"], [0.4444444444444444, \"#bd3786\"], [0.5555555555555556, \"#d8576b\"], [0.6666666666666666, \"#ed7953\"], [0.7777777777777778, \"#fb9f3a\"], [0.8888888888888888, \"#fdca26\"], [1.0, \"#f0f921\"]], \"type\": \"surface\"}], \"table\": [{\"cells\": {\"fill\": {\"color\": \"#EBF0F8\"}, \"line\": {\"color\": \"white\"}}, \"header\": {\"fill\": {\"color\": \"#C8D4E3\"}, \"line\": {\"color\": \"white\"}}, \"type\": \"table\"}]}, \"layout\": {\"annotationdefaults\": {\"arrowcolor\": \"#2a3f5f\", \"arrowhead\": 0, \"arrowwidth\": 1}, \"coloraxis\": {\"colorbar\": {\"outlinewidth\": 0, \"ticks\": \"\"}}, \"colorscale\": {\"diverging\": [[0, \"#8e0152\"], [0.1, \"#c51b7d\"], [0.2, \"#de77ae\"], [0.3, \"#f1b6da\"], [0.4, \"#fde0ef\"], [0.5, \"#f7f7f7\"], [0.6, \"#e6f5d0\"], [0.7, \"#b8e186\"], [0.8, \"#7fbc41\"], [0.9, \"#4d9221\"], [1, \"#276419\"]], \"sequential\": [[0.0, \"#0d0887\"], [0.1111111111111111, \"#46039f\"], [0.2222222222222222, \"#7201a8\"], [0.3333333333333333, \"#9c179e\"], [0.4444444444444444, \"#bd3786\"], [0.5555555555555556, \"#d8576b\"], [0.6666666666666666, \"#ed7953\"], [0.7777777777777778, \"#fb9f3a\"], [0.8888888888888888, \"#fdca26\"], [1.0, \"#f0f921\"]], \"sequentialminus\": [[0.0, \"#0d0887\"], [0.1111111111111111, \"#46039f\"], [0.2222222222222222, \"#7201a8\"], [0.3333333333333333, \"#9c179e\"], [0.4444444444444444, \"#bd3786\"], [0.5555555555555556, \"#d8576b\"], [0.6666666666666666, \"#ed7953\"], [0.7777777777777778, \"#fb9f3a\"], [0.8888888888888888, \"#fdca26\"], [1.0, \"#f0f921\"]]}, \"colorway\": [\"#636efa\", \"#EF553B\", \"#00cc96\", \"#ab63fa\", \"#FFA15A\", \"#19d3f3\", \"#FF6692\", \"#B6E880\", \"#FF97FF\", \"#FECB52\"], \"font\": {\"color\": \"#2a3f5f\"}, \"geo\": {\"bgcolor\": \"white\", \"lakecolor\": \"white\", \"landcolor\": \"#E5ECF6\", \"showlakes\": true, \"showland\": true, \"subunitcolor\": \"white\"}, \"hoverlabel\": {\"align\": \"left\"}, \"hovermode\": \"closest\", \"mapbox\": {\"style\": \"light\"}, \"paper_bgcolor\": \"white\", \"plot_bgcolor\": \"#E5ECF6\", \"polar\": {\"angularaxis\": {\"gridcolor\": \"white\", \"linecolor\": \"white\", \"ticks\": \"\"}, \"bgcolor\": \"#E5ECF6\", \"radialaxis\": {\"gridcolor\": \"white\", \"linecolor\": \"white\", \"ticks\": \"\"}}, \"scene\": {\"xaxis\": {\"backgroundcolor\": \"#E5ECF6\", \"gridcolor\": \"white\", \"gridwidth\": 2, \"linecolor\": \"white\", \"showbackground\": true, \"ticks\": \"\", \"zerolinecolor\": \"white\"}, \"yaxis\": {\"backgroundcolor\": \"#E5ECF6\", \"gridcolor\": \"white\", \"gridwidth\": 2, \"linecolor\": \"white\", \"showbackground\": true, \"ticks\": \"\", \"zerolinecolor\": \"white\"}, \"zaxis\": {\"backgroundcolor\": \"#E5ECF6\", \"gridcolor\": \"white\", \"gridwidth\": 2, \"linecolor\": \"white\", \"showbackground\": true, \"ticks\": \"\", \"zerolinecolor\": \"white\"}}, \"shapedefaults\": {\"line\": {\"color\": \"#2a3f5f\"}}, \"ternary\": {\"aaxis\": {\"gridcolor\": \"white\", \"linecolor\": \"white\", \"ticks\": \"\"}, \"baxis\": {\"gridcolor\": \"white\", \"linecolor\": \"white\", \"ticks\": \"\"}, \"bgcolor\": \"#E5ECF6\", \"caxis\": {\"gridcolor\": \"white\", \"linecolor\": \"white\", \"ticks\": \"\"}}, \"title\": {\"x\": 0.05}, \"xaxis\": {\"automargin\": true, \"gridcolor\": \"white\", \"linecolor\": \"white\", \"ticks\": \"\", \"title\": {\"standoff\": 15}, \"zerolinecolor\": \"white\", \"zerolinewidth\": 2}, \"yaxis\": {\"automargin\": true, \"gridcolor\": \"white\", \"linecolor\": \"white\", \"ticks\": \"\", \"title\": {\"standoff\": 15}, \"zerolinecolor\": \"white\", \"zerolinewidth\": 2}}}, \"updatemenus\": [{\"buttons\": [{\"args\": [null, {\"frame\": {\"duration\": 500, \"redraw\": true}, \"fromcurrent\": true, \"mode\": \"immediate\", \"transition\": {\"duration\": 500, \"easing\": \"linear\"}}], \"label\": \"&#9654;\", \"method\": \"animate\"}, {\"args\": [[null], {\"frame\": {\"duration\": 0, \"redraw\": true}, \"fromcurrent\": true, \"mode\": \"immediate\", \"transition\": {\"duration\": 0, \"easing\": \"linear\"}}], \"label\": \"&#9724;\", \"method\": \"animate\"}], \"direction\": \"left\", \"pad\": {\"r\": 10, \"t\": 70}, \"showactive\": false, \"type\": \"buttons\", \"x\": 0.1, \"xanchor\": \"right\", \"y\": 0, \"yanchor\": \"top\"}], \"xaxis\": {\"anchor\": \"y\", \"domain\": [0.0, 1.0], \"title\": {\"text\": \"x\"}}, \"yaxis\": {\"anchor\": \"x\", \"domain\": [0.0, 1.0], \"title\": {\"text\": \"cnt\"}}},\n",
       "                        {\"responsive\": true}\n",
       "                    ).then(function(){\n",
       "                            Plotly.addFrames('6fcb1cdd-94bf-4c52-baf6-f36d96b446fd', [{\"data\": [{\"alignmentgroup\": \"True\", \"hovertemplate\": \"emoji=\\ud83d\\ude14<br>animation_frame=\\ud83d\\ude14<br>x=%{x}<br>cnt=%{y}<extra></extra>\", \"ids\": [9], \"legendgroup\": \"\\ud83d\\ude14\", \"marker\": {\"color\": \"#636efa\"}, \"name\": \"\\ud83d\\ude14\", \"offsetgroup\": \"\\ud83d\\ude14\", \"orientation\": \"v\", \"showlegend\": true, \"textposition\": \"auto\", \"x\": [\"\\ud83d\\ude14\"], \"xaxis\": \"x\", \"y\": [9], \"yaxis\": \"y\", \"type\": \"bar\"}], \"name\": \"\\ud83d\\ude14\"}, {\"data\": [{\"alignmentgroup\": \"True\", \"hovertemplate\": \"emoji=\\ud83e\\udd74<br>animation_frame=\\ud83e\\udd74<br>x=%{x}<br>cnt=%{y}<extra></extra>\", \"ids\": [5], \"legendgroup\": \"\\ud83e\\udd74\", \"marker\": {\"color\": \"#EF553B\"}, \"name\": \"\\ud83e\\udd74\", \"offsetgroup\": \"\\ud83e\\udd74\", \"orientation\": \"v\", \"showlegend\": true, \"textposition\": \"auto\", \"x\": [\"\\ud83e\\udd74\"], \"xaxis\": \"x\", \"y\": [5], \"yaxis\": \"y\", \"type\": \"bar\"}], \"name\": \"\\ud83e\\udd74\"}, {\"data\": [{\"alignmentgroup\": \"True\", \"hovertemplate\": \"emoji=\\u2728<br>animation_frame=\\u2728<br>x=%{x}<br>cnt=%{y}<extra></extra>\", \"ids\": [4], \"legendgroup\": \"\\u2728\", \"marker\": {\"color\": \"#00cc96\"}, \"name\": \"\\u2728\", \"offsetgroup\": \"\\u2728\", \"orientation\": \"v\", \"showlegend\": true, \"textposition\": \"auto\", \"x\": [\"\\u2728\"], \"xaxis\": \"x\", \"y\": [4], \"yaxis\": \"y\", \"type\": \"bar\"}], \"name\": \"\\u2728\"}, {\"data\": [{\"alignmentgroup\": \"True\", \"hovertemplate\": \"emoji=\\ud83c\\udf40<br>animation_frame=\\ud83c\\udf40<br>x=%{x}<br>cnt=%{y}<extra></extra>\", \"ids\": [4], \"legendgroup\": \"\\ud83c\\udf40\", \"marker\": {\"color\": \"#ab63fa\"}, \"name\": \"\\ud83c\\udf40\", \"offsetgroup\": \"\\ud83c\\udf40\", \"orientation\": \"v\", \"showlegend\": true, \"textposition\": \"auto\", \"x\": [\"\\ud83c\\udf40\"], \"xaxis\": \"x\", \"y\": [4], \"yaxis\": \"y\", \"type\": \"bar\"}], \"name\": \"\\ud83c\\udf40\"}, {\"data\": [{\"alignmentgroup\": \"True\", \"hovertemplate\": \"emoji=\\ud83d\\ude2d<br>animation_frame=\\ud83d\\ude2d<br>x=%{x}<br>cnt=%{y}<extra></extra>\", \"ids\": [4], \"legendgroup\": \"\\ud83d\\ude2d\", \"marker\": {\"color\": \"#FFA15A\"}, \"name\": \"\\ud83d\\ude2d\", \"offsetgroup\": \"\\ud83d\\ude2d\", \"orientation\": \"v\", \"showlegend\": true, \"textposition\": \"auto\", \"x\": [\"\\ud83d\\ude2d\"], \"xaxis\": \"x\", \"y\": [4], \"yaxis\": \"y\", \"type\": \"bar\"}], \"name\": \"\\ud83d\\ude2d\"}, {\"data\": [{\"alignmentgroup\": \"True\", \"hovertemplate\": \"emoji=\\ud83d\\udc40<br>animation_frame=\\ud83d\\udc40<br>x=%{x}<br>cnt=%{y}<extra></extra>\", \"ids\": [4], \"legendgroup\": \"\\ud83d\\udc40\", \"marker\": {\"color\": \"#19d3f3\"}, \"name\": \"\\ud83d\\udc40\", \"offsetgroup\": \"\\ud83d\\udc40\", \"orientation\": \"v\", \"showlegend\": true, \"textposition\": \"auto\", \"x\": [\"\\ud83d\\udc40\"], \"xaxis\": \"x\", \"y\": [4], \"yaxis\": \"y\", \"type\": \"bar\"}], \"name\": \"\\ud83d\\udc40\"}, {\"data\": [{\"alignmentgroup\": \"True\", \"hovertemplate\": \"emoji=\\ud83d\\ude33<br>animation_frame=\\ud83d\\ude33<br>x=%{x}<br>cnt=%{y}<extra></extra>\", \"ids\": [4], \"legendgroup\": \"\\ud83d\\ude33\", \"marker\": {\"color\": \"#FF6692\"}, \"name\": \"\\ud83d\\ude33\", \"offsetgroup\": \"\\ud83d\\ude33\", \"orientation\": \"v\", \"showlegend\": true, \"textposition\": \"auto\", \"x\": [\"\\ud83d\\ude33\"], \"xaxis\": \"x\", \"y\": [4], \"yaxis\": \"y\", \"type\": \"bar\"}], \"name\": \"\\ud83d\\ude33\"}, {\"data\": [{\"alignmentgroup\": \"True\", \"hovertemplate\": \"emoji=\\ud83e\\udd23<br>animation_frame=\\ud83e\\udd23<br>x=%{x}<br>cnt=%{y}<extra></extra>\", \"ids\": [4], \"legendgroup\": \"\\ud83e\\udd23\", \"marker\": {\"color\": \"#B6E880\"}, \"name\": \"\\ud83e\\udd23\", \"offsetgroup\": \"\\ud83e\\udd23\", \"orientation\": \"v\", \"showlegend\": true, \"textposition\": \"auto\", \"x\": [\"\\ud83e\\udd23\"], \"xaxis\": \"x\", \"y\": [4], \"yaxis\": \"y\", \"type\": \"bar\"}], \"name\": \"\\ud83e\\udd23\"}, {\"data\": [{\"alignmentgroup\": \"True\", \"hovertemplate\": \"emoji=\\ud83e\\udd21<br>animation_frame=\\ud83e\\udd21<br>x=%{x}<br>cnt=%{y}<extra></extra>\", \"ids\": [4], \"legendgroup\": \"\\ud83e\\udd21\", \"marker\": {\"color\": \"#FF97FF\"}, \"name\": \"\\ud83e\\udd21\", \"offsetgroup\": \"\\ud83e\\udd21\", \"orientation\": \"v\", \"showlegend\": true, \"textposition\": \"auto\", \"x\": [\"\\ud83e\\udd21\"], \"xaxis\": \"x\", \"y\": [4], \"yaxis\": \"y\", \"type\": \"bar\"}], \"name\": \"\\ud83e\\udd21\"}, {\"data\": [{\"alignmentgroup\": \"True\", \"hovertemplate\": \"emoji=\\ud83d\\ude02<br>animation_frame=\\ud83d\\ude02<br>x=%{x}<br>cnt=%{y}<extra></extra>\", \"ids\": [3], \"legendgroup\": \"\\ud83d\\ude02\", \"marker\": {\"color\": \"#FECB52\"}, \"name\": \"\\ud83d\\ude02\", \"offsetgroup\": \"\\ud83d\\ude02\", \"orientation\": \"v\", \"showlegend\": true, \"textposition\": \"auto\", \"x\": [\"\\ud83d\\ude02\"], \"xaxis\": \"x\", \"y\": [3], \"yaxis\": \"y\", \"type\": \"bar\"}], \"name\": \"\\ud83d\\ude02\"}, {\"data\": [{\"alignmentgroup\": \"True\", \"hovertemplate\": \"emoji=\\ud83e\\uddd9\\u200d\\u2640\\ufe0f<br>animation_frame=\\ud83e\\uddd9\\u200d\\u2640\\ufe0f<br>x=%{x}<br>cnt=%{y}<extra></extra>\", \"ids\": [3], \"legendgroup\": \"\\ud83e\\uddd9\\u200d\\u2640\\ufe0f\", \"marker\": {\"color\": \"#636efa\"}, \"name\": \"\\ud83e\\uddd9\\u200d\\u2640\\ufe0f\", \"offsetgroup\": \"\\ud83e\\uddd9\\u200d\\u2640\\ufe0f\", \"orientation\": \"v\", \"showlegend\": true, \"textposition\": \"auto\", \"x\": [\"\\ud83e\\uddd9\\u200d\\u2640\\ufe0f\"], \"xaxis\": \"x\", \"y\": [3], \"yaxis\": \"y\", \"type\": \"bar\"}], \"name\": \"\\ud83e\\uddd9\\u200d\\u2640\\ufe0f\"}, {\"data\": [{\"alignmentgroup\": \"True\", \"hovertemplate\": \"emoji=\\ud83d\\ude18<br>animation_frame=\\ud83d\\ude18<br>x=%{x}<br>cnt=%{y}<extra></extra>\", \"ids\": [2], \"legendgroup\": \"\\ud83d\\ude18\", \"marker\": {\"color\": \"#EF553B\"}, \"name\": \"\\ud83d\\ude18\", \"offsetgroup\": \"\\ud83d\\ude18\", \"orientation\": \"v\", \"showlegend\": true, \"textposition\": \"auto\", \"x\": [\"\\ud83d\\ude18\"], \"xaxis\": \"x\", \"y\": [2], \"yaxis\": \"y\", \"type\": \"bar\"}], \"name\": \"\\ud83d\\ude18\"}, {\"data\": [{\"alignmentgroup\": \"True\", \"hovertemplate\": \"emoji=\\ud83d\\udd3a<br>animation_frame=\\ud83d\\udd3a<br>x=%{x}<br>cnt=%{y}<extra></extra>\", \"ids\": [2], \"legendgroup\": \"\\ud83d\\udd3a\", \"marker\": {\"color\": \"#00cc96\"}, \"name\": \"\\ud83d\\udd3a\", \"offsetgroup\": \"\\ud83d\\udd3a\", \"orientation\": \"v\", \"showlegend\": true, \"textposition\": \"auto\", \"x\": [\"\\ud83d\\udd3a\"], \"xaxis\": \"x\", \"y\": [2], \"yaxis\": \"y\", \"type\": \"bar\"}], \"name\": \"\\ud83d\\udd3a\"}, {\"data\": [{\"alignmentgroup\": \"True\", \"hovertemplate\": \"emoji=\\ud83d\\udda4<br>animation_frame=\\ud83d\\udda4<br>x=%{x}<br>cnt=%{y}<extra></extra>\", \"ids\": [2], \"legendgroup\": \"\\ud83d\\udda4\", \"marker\": {\"color\": \"#ab63fa\"}, \"name\": \"\\ud83d\\udda4\", \"offsetgroup\": \"\\ud83d\\udda4\", \"orientation\": \"v\", \"showlegend\": true, \"textposition\": \"auto\", \"x\": [\"\\ud83d\\udda4\"], \"xaxis\": \"x\", \"y\": [2], \"yaxis\": \"y\", \"type\": \"bar\"}], \"name\": \"\\ud83d\\udda4\"}, {\"data\": [{\"alignmentgroup\": \"True\", \"hovertemplate\": \"emoji=\\ud83e\\uddda\\ud83c\\udffc<br>animation_frame=\\ud83e\\uddda\\ud83c\\udffc<br>x=%{x}<br>cnt=%{y}<extra></extra>\", \"ids\": [2], \"legendgroup\": \"\\ud83e\\uddda\\ud83c\\udffc\", \"marker\": {\"color\": \"#FFA15A\"}, \"name\": \"\\ud83e\\uddda\\ud83c\\udffc\", \"offsetgroup\": \"\\ud83e\\uddda\\ud83c\\udffc\", \"orientation\": \"v\", \"showlegend\": true, \"textposition\": \"auto\", \"x\": [\"\\ud83e\\uddda\\ud83c\\udffc\"], \"xaxis\": \"x\", \"y\": [2], \"yaxis\": \"y\", \"type\": \"bar\"}], \"name\": \"\\ud83e\\uddda\\ud83c\\udffc\"}, {\"data\": [{\"alignmentgroup\": \"True\", \"hovertemplate\": \"emoji=\\ud83d\\udc4e<br>animation_frame=\\ud83d\\udc4e<br>x=%{x}<br>cnt=%{y}<extra></extra>\", \"ids\": [2], \"legendgroup\": \"\\ud83d\\udc4e\", \"marker\": {\"color\": \"#19d3f3\"}, \"name\": \"\\ud83d\\udc4e\", \"offsetgroup\": \"\\ud83d\\udc4e\", \"orientation\": \"v\", \"showlegend\": true, \"textposition\": \"auto\", \"x\": [\"\\ud83d\\udc4e\"], \"xaxis\": \"x\", \"y\": [2], \"yaxis\": \"y\", \"type\": \"bar\"}], \"name\": \"\\ud83d\\udc4e\"}, {\"data\": [{\"alignmentgroup\": \"True\", \"hovertemplate\": \"emoji=\\ud83e\\udd7a<br>animation_frame=\\ud83e\\udd7a<br>x=%{x}<br>cnt=%{y}<extra></extra>\", \"ids\": [2], \"legendgroup\": \"\\ud83e\\udd7a\", \"marker\": {\"color\": \"#FF6692\"}, \"name\": \"\\ud83e\\udd7a\", \"offsetgroup\": \"\\ud83e\\udd7a\", \"orientation\": \"v\", \"showlegend\": true, \"textposition\": \"auto\", \"x\": [\"\\ud83e\\udd7a\"], \"xaxis\": \"x\", \"y\": [2], \"yaxis\": \"y\", \"type\": \"bar\"}], \"name\": \"\\ud83e\\udd7a\"}, {\"data\": [{\"alignmentgroup\": \"True\", \"hovertemplate\": \"emoji=\\ud83e\\udd17<br>animation_frame=\\ud83e\\udd17<br>x=%{x}<br>cnt=%{y}<extra></extra>\", \"ids\": [2], \"legendgroup\": \"\\ud83e\\udd17\", \"marker\": {\"color\": \"#B6E880\"}, \"name\": \"\\ud83e\\udd17\", \"offsetgroup\": \"\\ud83e\\udd17\", \"orientation\": \"v\", \"showlegend\": true, \"textposition\": \"auto\", \"x\": [\"\\ud83e\\udd17\"], \"xaxis\": \"x\", \"y\": [2], \"yaxis\": \"y\", \"type\": \"bar\"}], \"name\": \"\\ud83e\\udd17\"}, {\"data\": [{\"alignmentgroup\": \"True\", \"hovertemplate\": \"emoji=\\ud83d\\ude44<br>animation_frame=\\ud83d\\ude44<br>x=%{x}<br>cnt=%{y}<extra></extra>\", \"ids\": [2], \"legendgroup\": \"\\ud83d\\ude44\", \"marker\": {\"color\": \"#FF97FF\"}, \"name\": \"\\ud83d\\ude44\", \"offsetgroup\": \"\\ud83d\\ude44\", \"orientation\": \"v\", \"showlegend\": true, \"textposition\": \"auto\", \"x\": [\"\\ud83d\\ude44\"], \"xaxis\": \"x\", \"y\": [2], \"yaxis\": \"y\", \"type\": \"bar\"}], \"name\": \"\\ud83d\\ude44\"}, {\"data\": [{\"alignmentgroup\": \"True\", \"hovertemplate\": \"emoji=\\ud83e\\udd28<br>animation_frame=\\ud83e\\udd28<br>x=%{x}<br>cnt=%{y}<extra></extra>\", \"ids\": [1], \"legendgroup\": \"\\ud83e\\udd28\", \"marker\": {\"color\": \"#FECB52\"}, \"name\": \"\\ud83e\\udd28\", \"offsetgroup\": \"\\ud83e\\udd28\", \"orientation\": \"v\", \"showlegend\": true, \"textposition\": \"auto\", \"x\": [\"\\ud83e\\udd28\"], \"xaxis\": \"x\", \"y\": [1], \"yaxis\": \"y\", \"type\": \"bar\"}], \"name\": \"\\ud83e\\udd28\"}, {\"data\": [{\"alignmentgroup\": \"True\", \"hovertemplate\": \"emoji=\\ud83c\\udff4\\u200d\\u2620\\ufe0f<br>animation_frame=\\ud83c\\udff4\\u200d\\u2620\\ufe0f<br>x=%{x}<br>cnt=%{y}<extra></extra>\", \"ids\": [1], \"legendgroup\": \"\\ud83c\\udff4\\u200d\\u2620\\ufe0f\", \"marker\": {\"color\": \"#636efa\"}, \"name\": \"\\ud83c\\udff4\\u200d\\u2620\\ufe0f\", \"offsetgroup\": \"\\ud83c\\udff4\\u200d\\u2620\\ufe0f\", \"orientation\": \"v\", \"showlegend\": true, \"textposition\": \"auto\", \"x\": [\"\\ud83c\\udff4\\u200d\\u2620\\ufe0f\"], \"xaxis\": \"x\", \"y\": [1], \"yaxis\": \"y\", \"type\": \"bar\"}], \"name\": \"\\ud83c\\udff4\\u200d\\u2620\\ufe0f\"}, {\"data\": [{\"alignmentgroup\": \"True\", \"hovertemplate\": \"emoji=\\ud83d\\ude43<br>animation_frame=\\ud83d\\ude43<br>x=%{x}<br>cnt=%{y}<extra></extra>\", \"ids\": [1], \"legendgroup\": \"\\ud83d\\ude43\", \"marker\": {\"color\": \"#EF553B\"}, \"name\": \"\\ud83d\\ude43\", \"offsetgroup\": \"\\ud83d\\ude43\", \"orientation\": \"v\", \"showlegend\": true, \"textposition\": \"auto\", \"x\": [\"\\ud83d\\ude43\"], \"xaxis\": \"x\", \"y\": [1], \"yaxis\": \"y\", \"type\": \"bar\"}], \"name\": \"\\ud83d\\ude43\"}, {\"data\": [{\"alignmentgroup\": \"True\", \"hovertemplate\": \"emoji=\\ud83c\\udde8\\ud83c\\uddf4<br>animation_frame=\\ud83c\\udde8\\ud83c\\uddf4<br>x=%{x}<br>cnt=%{y}<extra></extra>\", \"ids\": [1], \"legendgroup\": \"\\ud83c\\udde8\\ud83c\\uddf4\", \"marker\": {\"color\": \"#00cc96\"}, \"name\": \"\\ud83c\\udde8\\ud83c\\uddf4\", \"offsetgroup\": \"\\ud83c\\udde8\\ud83c\\uddf4\", \"orientation\": \"v\", \"showlegend\": true, \"textposition\": \"auto\", \"x\": [\"\\ud83c\\udde8\\ud83c\\uddf4\"], \"xaxis\": \"x\", \"y\": [1], \"yaxis\": \"y\", \"type\": \"bar\"}], \"name\": \"\\ud83c\\udde8\\ud83c\\uddf4\"}, {\"data\": [{\"alignmentgroup\": \"True\", \"hovertemplate\": \"emoji=\\u27a1\\ufe0f<br>animation_frame=\\u27a1\\ufe0f<br>x=%{x}<br>cnt=%{y}<extra></extra>\", \"ids\": [1], \"legendgroup\": \"\\u27a1\\ufe0f\", \"marker\": {\"color\": \"#ab63fa\"}, \"name\": \"\\u27a1\\ufe0f\", \"offsetgroup\": \"\\u27a1\\ufe0f\", \"orientation\": \"v\", \"showlegend\": true, \"textposition\": \"auto\", \"x\": [\"\\u27a1\\ufe0f\"], \"xaxis\": \"x\", \"y\": [1], \"yaxis\": \"y\", \"type\": \"bar\"}], \"name\": \"\\u27a1\\ufe0f\"}, {\"data\": [{\"alignmentgroup\": \"True\", \"hovertemplate\": \"emoji=\\ud83d\\ude28<br>animation_frame=\\ud83d\\ude28<br>x=%{x}<br>cnt=%{y}<extra></extra>\", \"ids\": [1], \"legendgroup\": \"\\ud83d\\ude28\", \"marker\": {\"color\": \"#FFA15A\"}, \"name\": \"\\ud83d\\ude28\", \"offsetgroup\": \"\\ud83d\\ude28\", \"orientation\": \"v\", \"showlegend\": true, \"textposition\": \"auto\", \"x\": [\"\\ud83d\\ude28\"], \"xaxis\": \"x\", \"y\": [1], \"yaxis\": \"y\", \"type\": \"bar\"}], \"name\": \"\\ud83d\\ude28\"}, {\"data\": [{\"alignmentgroup\": \"True\", \"hovertemplate\": \"emoji=\\ud83c\\udf83<br>animation_frame=\\ud83c\\udf83<br>x=%{x}<br>cnt=%{y}<extra></extra>\", \"ids\": [1], \"legendgroup\": \"\\ud83c\\udf83\", \"marker\": {\"color\": \"#19d3f3\"}, \"name\": \"\\ud83c\\udf83\", \"offsetgroup\": \"\\ud83c\\udf83\", \"orientation\": \"v\", \"showlegend\": true, \"textposition\": \"auto\", \"x\": [\"\\ud83c\\udf83\"], \"xaxis\": \"x\", \"y\": [1], \"yaxis\": \"y\", \"type\": \"bar\"}], \"name\": \"\\ud83c\\udf83\"}, {\"data\": [{\"alignmentgroup\": \"True\", \"hovertemplate\": \"emoji=\\ud83e\\udd0d<br>animation_frame=\\ud83e\\udd0d<br>x=%{x}<br>cnt=%{y}<extra></extra>\", \"ids\": [1], \"legendgroup\": \"\\ud83e\\udd0d\", \"marker\": {\"color\": \"#FF6692\"}, \"name\": \"\\ud83e\\udd0d\", \"offsetgroup\": \"\\ud83e\\udd0d\", \"orientation\": \"v\", \"showlegend\": true, \"textposition\": \"auto\", \"x\": [\"\\ud83e\\udd0d\"], \"xaxis\": \"x\", \"y\": [1], \"yaxis\": \"y\", \"type\": \"bar\"}], \"name\": \"\\ud83e\\udd0d\"}, {\"data\": [{\"alignmentgroup\": \"True\", \"hovertemplate\": \"emoji=\\ud83e\\udd26\\ud83c\\udffe\\u200d\\u2642\\ufe0f<br>animation_frame=\\ud83e\\udd26\\ud83c\\udffe\\u200d\\u2642\\ufe0f<br>x=%{x}<br>cnt=%{y}<extra></extra>\", \"ids\": [1], \"legendgroup\": \"\\ud83e\\udd26\\ud83c\\udffe\\u200d\\u2642\\ufe0f\", \"marker\": {\"color\": \"#B6E880\"}, \"name\": \"\\ud83e\\udd26\\ud83c\\udffe\\u200d\\u2642\\ufe0f\", \"offsetgroup\": \"\\ud83e\\udd26\\ud83c\\udffe\\u200d\\u2642\\ufe0f\", \"orientation\": \"v\", \"showlegend\": true, \"textposition\": \"auto\", \"x\": [\"\\ud83e\\udd26\\ud83c\\udffe\\u200d\\u2642\\ufe0f\"], \"xaxis\": \"x\", \"y\": [1], \"yaxis\": \"y\", \"type\": \"bar\"}], \"name\": \"\\ud83e\\udd26\\ud83c\\udffe\\u200d\\u2642\\ufe0f\"}, {\"data\": [{\"alignmentgroup\": \"True\", \"hovertemplate\": \"emoji=\\ud83e\\udd37\\ud83c\\udffb\\u200d\\u2642\\ufe0f<br>animation_frame=\\ud83e\\udd37\\ud83c\\udffb\\u200d\\u2642\\ufe0f<br>x=%{x}<br>cnt=%{y}<extra></extra>\", \"ids\": [1], \"legendgroup\": \"\\ud83e\\udd37\\ud83c\\udffb\\u200d\\u2642\\ufe0f\", \"marker\": {\"color\": \"#FF97FF\"}, \"name\": \"\\ud83e\\udd37\\ud83c\\udffb\\u200d\\u2642\\ufe0f\", \"offsetgroup\": \"\\ud83e\\udd37\\ud83c\\udffb\\u200d\\u2642\\ufe0f\", \"orientation\": \"v\", \"showlegend\": true, \"textposition\": \"auto\", \"x\": [\"\\ud83e\\udd37\\ud83c\\udffb\\u200d\\u2642\\ufe0f\"], \"xaxis\": \"x\", \"y\": [1], \"yaxis\": \"y\", \"type\": \"bar\"}], \"name\": \"\\ud83e\\udd37\\ud83c\\udffb\\u200d\\u2642\\ufe0f\"}, {\"data\": [{\"alignmentgroup\": \"True\", \"hovertemplate\": \"emoji=\\ud83d\\ude4f\\ud83c\\udffb<br>animation_frame=\\ud83d\\ude4f\\ud83c\\udffb<br>x=%{x}<br>cnt=%{y}<extra></extra>\", \"ids\": [1], \"legendgroup\": \"\\ud83d\\ude4f\\ud83c\\udffb\", \"marker\": {\"color\": \"#FECB52\"}, \"name\": \"\\ud83d\\ude4f\\ud83c\\udffb\", \"offsetgroup\": \"\\ud83d\\ude4f\\ud83c\\udffb\", \"orientation\": \"v\", \"showlegend\": true, \"textposition\": \"auto\", \"x\": [\"\\ud83d\\ude4f\\ud83c\\udffb\"], \"xaxis\": \"x\", \"y\": [1], \"yaxis\": \"y\", \"type\": \"bar\"}], \"name\": \"\\ud83d\\ude4f\\ud83c\\udffb\"}, {\"data\": [{\"alignmentgroup\": \"True\", \"hovertemplate\": \"emoji=\\ud83e\\ude90<br>animation_frame=\\ud83e\\ude90<br>x=%{x}<br>cnt=%{y}<extra></extra>\", \"ids\": [1], \"legendgroup\": \"\\ud83e\\ude90\", \"marker\": {\"color\": \"#636efa\"}, \"name\": \"\\ud83e\\ude90\", \"offsetgroup\": \"\\ud83e\\ude90\", \"orientation\": \"v\", \"showlegend\": true, \"textposition\": \"auto\", \"x\": [\"\\ud83e\\ude90\"], \"xaxis\": \"x\", \"y\": [1], \"yaxis\": \"y\", \"type\": \"bar\"}], \"name\": \"\\ud83e\\ude90\"}, {\"data\": [{\"alignmentgroup\": \"True\", \"hovertemplate\": \"emoji=\\ud83d\\ude2a<br>animation_frame=\\ud83d\\ude2a<br>x=%{x}<br>cnt=%{y}<extra></extra>\", \"ids\": [1], \"legendgroup\": \"\\ud83d\\ude2a\", \"marker\": {\"color\": \"#EF553B\"}, \"name\": \"\\ud83d\\ude2a\", \"offsetgroup\": \"\\ud83d\\ude2a\", \"orientation\": \"v\", \"showlegend\": true, \"textposition\": \"auto\", \"x\": [\"\\ud83d\\ude2a\"], \"xaxis\": \"x\", \"y\": [1], \"yaxis\": \"y\", \"type\": \"bar\"}], \"name\": \"\\ud83d\\ude2a\"}, {\"data\": [{\"alignmentgroup\": \"True\", \"hovertemplate\": \"emoji=\\ud83d\\udc98<br>animation_frame=\\ud83d\\udc98<br>x=%{x}<br>cnt=%{y}<extra></extra>\", \"ids\": [1], \"legendgroup\": \"\\ud83d\\udc98\", \"marker\": {\"color\": \"#00cc96\"}, \"name\": \"\\ud83d\\udc98\", \"offsetgroup\": \"\\ud83d\\udc98\", \"orientation\": \"v\", \"showlegend\": true, \"textposition\": \"auto\", \"x\": [\"\\ud83d\\udc98\"], \"xaxis\": \"x\", \"y\": [1], \"yaxis\": \"y\", \"type\": \"bar\"}], \"name\": \"\\ud83d\\udc98\"}, {\"data\": [{\"alignmentgroup\": \"True\", \"hovertemplate\": \"emoji=\\u2764\\ufe0f<br>animation_frame=\\u2764\\ufe0f<br>x=%{x}<br>cnt=%{y}<extra></extra>\", \"ids\": [1], \"legendgroup\": \"\\u2764\\ufe0f\", \"marker\": {\"color\": \"#ab63fa\"}, \"name\": \"\\u2764\\ufe0f\", \"offsetgroup\": \"\\u2764\\ufe0f\", \"orientation\": \"v\", \"showlegend\": true, \"textposition\": \"auto\", \"x\": [\"\\u2764\\ufe0f\"], \"xaxis\": \"x\", \"y\": [1], \"yaxis\": \"y\", \"type\": \"bar\"}], \"name\": \"\\u2764\\ufe0f\"}, {\"data\": [{\"alignmentgroup\": \"True\", \"hovertemplate\": \"emoji=\\ud83e\\udd29<br>animation_frame=\\ud83e\\udd29<br>x=%{x}<br>cnt=%{y}<extra></extra>\", \"ids\": [1], \"legendgroup\": \"\\ud83e\\udd29\", \"marker\": {\"color\": \"#FFA15A\"}, \"name\": \"\\ud83e\\udd29\", \"offsetgroup\": \"\\ud83e\\udd29\", \"orientation\": \"v\", \"showlegend\": true, \"textposition\": \"auto\", \"x\": [\"\\ud83e\\udd29\"], \"xaxis\": \"x\", \"y\": [1], \"yaxis\": \"y\", \"type\": \"bar\"}], \"name\": \"\\ud83e\\udd29\"}, {\"data\": [{\"alignmentgroup\": \"True\", \"hovertemplate\": \"emoji=\\ud83d\\ude2b<br>animation_frame=\\ud83d\\ude2b<br>x=%{x}<br>cnt=%{y}<extra></extra>\", \"ids\": [1], \"legendgroup\": \"\\ud83d\\ude2b\", \"marker\": {\"color\": \"#19d3f3\"}, \"name\": \"\\ud83d\\ude2b\", \"offsetgroup\": \"\\ud83d\\ude2b\", \"orientation\": \"v\", \"showlegend\": true, \"textposition\": \"auto\", \"x\": [\"\\ud83d\\ude2b\"], \"xaxis\": \"x\", \"y\": [1], \"yaxis\": \"y\", \"type\": \"bar\"}], \"name\": \"\\ud83d\\ude2b\"}, {\"data\": [{\"alignmentgroup\": \"True\", \"hovertemplate\": \"emoji=\\ud83d\\ude11<br>animation_frame=\\ud83d\\ude11<br>x=%{x}<br>cnt=%{y}<extra></extra>\", \"ids\": [1], \"legendgroup\": \"\\ud83d\\ude11\", \"marker\": {\"color\": \"#FF6692\"}, \"name\": \"\\ud83d\\ude11\", \"offsetgroup\": \"\\ud83d\\ude11\", \"orientation\": \"v\", \"showlegend\": true, \"textposition\": \"auto\", \"x\": [\"\\ud83d\\ude11\"], \"xaxis\": \"x\", \"y\": [1], \"yaxis\": \"y\", \"type\": \"bar\"}], \"name\": \"\\ud83d\\ude11\"}, {\"data\": [{\"alignmentgroup\": \"True\", \"hovertemplate\": \"emoji=\\ud83e\\udd14<br>animation_frame=\\ud83e\\udd14<br>x=%{x}<br>cnt=%{y}<extra></extra>\", \"ids\": [1], \"legendgroup\": \"\\ud83e\\udd14\", \"marker\": {\"color\": \"#B6E880\"}, \"name\": \"\\ud83e\\udd14\", \"offsetgroup\": \"\\ud83e\\udd14\", \"orientation\": \"v\", \"showlegend\": true, \"textposition\": \"auto\", \"x\": [\"\\ud83e\\udd14\"], \"xaxis\": \"x\", \"y\": [1], \"yaxis\": \"y\", \"type\": \"bar\"}], \"name\": \"\\ud83e\\udd14\"}, {\"data\": [{\"alignmentgroup\": \"True\", \"hovertemplate\": \"emoji=\\ud83c\\udfb6<br>animation_frame=\\ud83c\\udfb6<br>x=%{x}<br>cnt=%{y}<extra></extra>\", \"ids\": [1], \"legendgroup\": \"\\ud83c\\udfb6\", \"marker\": {\"color\": \"#FF97FF\"}, \"name\": \"\\ud83c\\udfb6\", \"offsetgroup\": \"\\ud83c\\udfb6\", \"orientation\": \"v\", \"showlegend\": true, \"textposition\": \"auto\", \"x\": [\"\\ud83c\\udfb6\"], \"xaxis\": \"x\", \"y\": [1], \"yaxis\": \"y\", \"type\": \"bar\"}], \"name\": \"\\ud83c\\udfb6\"}, {\"data\": [{\"alignmentgroup\": \"True\", \"hovertemplate\": \"emoji=\\u270c\\ufe0f<br>animation_frame=\\u270c\\ufe0f<br>x=%{x}<br>cnt=%{y}<extra></extra>\", \"ids\": [1], \"legendgroup\": \"\\u270c\\ufe0f\", \"marker\": {\"color\": \"#FECB52\"}, \"name\": \"\\u270c\\ufe0f\", \"offsetgroup\": \"\\u270c\\ufe0f\", \"orientation\": \"v\", \"showlegend\": true, \"textposition\": \"auto\", \"x\": [\"\\u270c\\ufe0f\"], \"xaxis\": \"x\", \"y\": [1], \"yaxis\": \"y\", \"type\": \"bar\"}], \"name\": \"\\u270c\\ufe0f\"}, {\"data\": [{\"alignmentgroup\": \"True\", \"hovertemplate\": \"emoji=\\ud83d\\udc9a<br>animation_frame=\\ud83d\\udc9a<br>x=%{x}<br>cnt=%{y}<extra></extra>\", \"ids\": [1], \"legendgroup\": \"\\ud83d\\udc9a\", \"marker\": {\"color\": \"#636efa\"}, \"name\": \"\\ud83d\\udc9a\", \"offsetgroup\": \"\\ud83d\\udc9a\", \"orientation\": \"v\", \"showlegend\": true, \"textposition\": \"auto\", \"x\": [\"\\ud83d\\udc9a\"], \"xaxis\": \"x\", \"y\": [1], \"yaxis\": \"y\", \"type\": \"bar\"}], \"name\": \"\\ud83d\\udc9a\"}, {\"data\": [{\"alignmentgroup\": \"True\", \"hovertemplate\": \"emoji=\\ud83d\\udc9b<br>animation_frame=\\ud83d\\udc9b<br>x=%{x}<br>cnt=%{y}<extra></extra>\", \"ids\": [1], \"legendgroup\": \"\\ud83d\\udc9b\", \"marker\": {\"color\": \"#EF553B\"}, \"name\": \"\\ud83d\\udc9b\", \"offsetgroup\": \"\\ud83d\\udc9b\", \"orientation\": \"v\", \"showlegend\": true, \"textposition\": \"auto\", \"x\": [\"\\ud83d\\udc9b\"], \"xaxis\": \"x\", \"y\": [1], \"yaxis\": \"y\", \"type\": \"bar\"}], \"name\": \"\\ud83d\\udc9b\"}, {\"data\": [{\"alignmentgroup\": \"True\", \"hovertemplate\": \"emoji=\\ud83d\\udc8b<br>animation_frame=\\ud83d\\udc8b<br>x=%{x}<br>cnt=%{y}<extra></extra>\", \"ids\": [1], \"legendgroup\": \"\\ud83d\\udc8b\", \"marker\": {\"color\": \"#00cc96\"}, \"name\": \"\\ud83d\\udc8b\", \"offsetgroup\": \"\\ud83d\\udc8b\", \"orientation\": \"v\", \"showlegend\": true, \"textposition\": \"auto\", \"x\": [\"\\ud83d\\udc8b\"], \"xaxis\": \"x\", \"y\": [1], \"yaxis\": \"y\", \"type\": \"bar\"}], \"name\": \"\\ud83d\\udc8b\"}, {\"data\": [{\"alignmentgroup\": \"True\", \"hovertemplate\": \"emoji=\\ud83d\\udc4d<br>animation_frame=\\ud83d\\udc4d<br>x=%{x}<br>cnt=%{y}<extra></extra>\", \"ids\": [1], \"legendgroup\": \"\\ud83d\\udc4d\", \"marker\": {\"color\": \"#ab63fa\"}, \"name\": \"\\ud83d\\udc4d\", \"offsetgroup\": \"\\ud83d\\udc4d\", \"orientation\": \"v\", \"showlegend\": true, \"textposition\": \"auto\", \"x\": [\"\\ud83d\\udc4d\"], \"xaxis\": \"x\", \"y\": [1], \"yaxis\": \"y\", \"type\": \"bar\"}], \"name\": \"\\ud83d\\udc4d\"}, {\"data\": [{\"alignmentgroup\": \"True\", \"hovertemplate\": \"emoji=\\ud83e\\udd1e<br>animation_frame=\\ud83e\\udd1e<br>x=%{x}<br>cnt=%{y}<extra></extra>\", \"ids\": [1], \"legendgroup\": \"\\ud83e\\udd1e\", \"marker\": {\"color\": \"#FFA15A\"}, \"name\": \"\\ud83e\\udd1e\", \"offsetgroup\": \"\\ud83e\\udd1e\", \"orientation\": \"v\", \"showlegend\": true, \"textposition\": \"auto\", \"x\": [\"\\ud83e\\udd1e\"], \"xaxis\": \"x\", \"y\": [1], \"yaxis\": \"y\", \"type\": \"bar\"}], \"name\": \"\\ud83e\\udd1e\"}, {\"data\": [{\"alignmentgroup\": \"True\", \"hovertemplate\": \"emoji=\\u2639\\ufe0f<br>animation_frame=\\u2639\\ufe0f<br>x=%{x}<br>cnt=%{y}<extra></extra>\", \"ids\": [1], \"legendgroup\": \"\\u2639\\ufe0f\", \"marker\": {\"color\": \"#19d3f3\"}, \"name\": \"\\u2639\\ufe0f\", \"offsetgroup\": \"\\u2639\\ufe0f\", \"orientation\": \"v\", \"showlegend\": true, \"textposition\": \"auto\", \"x\": [\"\\u2639\\ufe0f\"], \"xaxis\": \"x\", \"y\": [1], \"yaxis\": \"y\", \"type\": \"bar\"}], \"name\": \"\\u2639\\ufe0f\"}, {\"data\": [{\"alignmentgroup\": \"True\", \"hovertemplate\": \"emoji=\\ud83e\\udd19\\ud83c\\udffb<br>animation_frame=\\ud83e\\udd19\\ud83c\\udffb<br>x=%{x}<br>cnt=%{y}<extra></extra>\", \"ids\": [1], \"legendgroup\": \"\\ud83e\\udd19\\ud83c\\udffb\", \"marker\": {\"color\": \"#FF6692\"}, \"name\": \"\\ud83e\\udd19\\ud83c\\udffb\", \"offsetgroup\": \"\\ud83e\\udd19\\ud83c\\udffb\", \"orientation\": \"v\", \"showlegend\": true, \"textposition\": \"auto\", \"x\": [\"\\ud83e\\udd19\\ud83c\\udffb\"], \"xaxis\": \"x\", \"y\": [1], \"yaxis\": \"y\", \"type\": \"bar\"}], \"name\": \"\\ud83e\\udd19\\ud83c\\udffb\"}, {\"data\": [{\"alignmentgroup\": \"True\", \"hovertemplate\": \"emoji=\\ud83d\\ude05<br>animation_frame=\\ud83d\\ude05<br>x=%{x}<br>cnt=%{y}<extra></extra>\", \"ids\": [1], \"legendgroup\": \"\\ud83d\\ude05\", \"marker\": {\"color\": \"#B6E880\"}, \"name\": \"\\ud83d\\ude05\", \"offsetgroup\": \"\\ud83d\\ude05\", \"orientation\": \"v\", \"showlegend\": true, \"textposition\": \"auto\", \"x\": [\"\\ud83d\\ude05\"], \"xaxis\": \"x\", \"y\": [1], \"yaxis\": \"y\", \"type\": \"bar\"}], \"name\": \"\\ud83d\\ude05\"}, {\"data\": [{\"alignmentgroup\": \"True\", \"hovertemplate\": \"emoji=\\ud83d\\ude4f\\ud83c\\udffc<br>animation_frame=\\ud83d\\ude4f\\ud83c\\udffc<br>x=%{x}<br>cnt=%{y}<extra></extra>\", \"ids\": [1], \"legendgroup\": \"\\ud83d\\ude4f\\ud83c\\udffc\", \"marker\": {\"color\": \"#FF97FF\"}, \"name\": \"\\ud83d\\ude4f\\ud83c\\udffc\", \"offsetgroup\": \"\\ud83d\\ude4f\\ud83c\\udffc\", \"orientation\": \"v\", \"showlegend\": true, \"textposition\": \"auto\", \"x\": [\"\\ud83d\\ude4f\\ud83c\\udffc\"], \"xaxis\": \"x\", \"y\": [1], \"yaxis\": \"y\", \"type\": \"bar\"}], \"name\": \"\\ud83d\\ude4f\\ud83c\\udffc\"}, {\"data\": [{\"alignmentgroup\": \"True\", \"hovertemplate\": \"emoji=\\ud83c\\udf19<br>animation_frame=\\ud83c\\udf19<br>x=%{x}<br>cnt=%{y}<extra></extra>\", \"ids\": [1], \"legendgroup\": \"\\ud83c\\udf19\", \"marker\": {\"color\": \"#FECB52\"}, \"name\": \"\\ud83c\\udf19\", \"offsetgroup\": \"\\ud83c\\udf19\", \"orientation\": \"v\", \"showlegend\": true, \"textposition\": \"auto\", \"x\": [\"\\ud83c\\udf19\"], \"xaxis\": \"x\", \"y\": [1], \"yaxis\": \"y\", \"type\": \"bar\"}], \"name\": \"\\ud83c\\udf19\"}, {\"data\": [{\"alignmentgroup\": \"True\", \"hovertemplate\": \"emoji=\\ud83d\\ude1e<br>animation_frame=\\ud83d\\ude1e<br>x=%{x}<br>cnt=%{y}<extra></extra>\", \"ids\": [1], \"legendgroup\": \"\\ud83d\\ude1e\", \"marker\": {\"color\": \"#636efa\"}, \"name\": \"\\ud83d\\ude1e\", \"offsetgroup\": \"\\ud83d\\ude1e\", \"orientation\": \"v\", \"showlegend\": true, \"textposition\": \"auto\", \"x\": [\"\\ud83d\\ude1e\"], \"xaxis\": \"x\", \"y\": [1], \"yaxis\": \"y\", \"type\": \"bar\"}], \"name\": \"\\ud83d\\ude1e\"}, {\"data\": [{\"alignmentgroup\": \"True\", \"hovertemplate\": \"emoji=\\ud83e\\udd18\\ud83c\\udffb<br>animation_frame=\\ud83e\\udd18\\ud83c\\udffb<br>x=%{x}<br>cnt=%{y}<extra></extra>\", \"ids\": [1], \"legendgroup\": \"\\ud83e\\udd18\\ud83c\\udffb\", \"marker\": {\"color\": \"#EF553B\"}, \"name\": \"\\ud83e\\udd18\\ud83c\\udffb\", \"offsetgroup\": \"\\ud83e\\udd18\\ud83c\\udffb\", \"orientation\": \"v\", \"showlegend\": true, \"textposition\": \"auto\", \"x\": [\"\\ud83e\\udd18\\ud83c\\udffb\"], \"xaxis\": \"x\", \"y\": [1], \"yaxis\": \"y\", \"type\": \"bar\"}], \"name\": \"\\ud83e\\udd18\\ud83c\\udffb\"}, {\"data\": [{\"alignmentgroup\": \"True\", \"hovertemplate\": \"emoji=\\ud83c\\udfa5<br>animation_frame=\\ud83c\\udfa5<br>x=%{x}<br>cnt=%{y}<extra></extra>\", \"ids\": [1], \"legendgroup\": \"\\ud83c\\udfa5\", \"marker\": {\"color\": \"#00cc96\"}, \"name\": \"\\ud83c\\udfa5\", \"offsetgroup\": \"\\ud83c\\udfa5\", \"orientation\": \"v\", \"showlegend\": true, \"textposition\": \"auto\", \"x\": [\"\\ud83c\\udfa5\"], \"xaxis\": \"x\", \"y\": [1], \"yaxis\": \"y\", \"type\": \"bar\"}], \"name\": \"\\ud83c\\udfa5\"}, {\"data\": [{\"alignmentgroup\": \"True\", \"hovertemplate\": \"emoji=\\ud83d\\udc47\\ud83c\\udffc<br>animation_frame=\\ud83d\\udc47\\ud83c\\udffc<br>x=%{x}<br>cnt=%{y}<extra></extra>\", \"ids\": [1], \"legendgroup\": \"\\ud83d\\udc47\\ud83c\\udffc\", \"marker\": {\"color\": \"#ab63fa\"}, \"name\": \"\\ud83d\\udc47\\ud83c\\udffc\", \"offsetgroup\": \"\\ud83d\\udc47\\ud83c\\udffc\", \"orientation\": \"v\", \"showlegend\": true, \"textposition\": \"auto\", \"x\": [\"\\ud83d\\udc47\\ud83c\\udffc\"], \"xaxis\": \"x\", \"y\": [1], \"yaxis\": \"y\", \"type\": \"bar\"}], \"name\": \"\\ud83d\\udc47\\ud83c\\udffc\"}, {\"data\": [{\"alignmentgroup\": \"True\", \"hovertemplate\": \"emoji=\\ud83d\\ude06<br>animation_frame=\\ud83d\\ude06<br>x=%{x}<br>cnt=%{y}<extra></extra>\", \"ids\": [1], \"legendgroup\": \"\\ud83d\\ude06\", \"marker\": {\"color\": \"#FFA15A\"}, \"name\": \"\\ud83d\\ude06\", \"offsetgroup\": \"\\ud83d\\ude06\", \"orientation\": \"v\", \"showlegend\": true, \"textposition\": \"auto\", \"x\": [\"\\ud83d\\ude06\"], \"xaxis\": \"x\", \"y\": [1], \"yaxis\": \"y\", \"type\": \"bar\"}], \"name\": \"\\ud83d\\ude06\"}, {\"data\": [{\"alignmentgroup\": \"True\", \"hovertemplate\": \"emoji=\\ud83e\\udd1a\\ud83c\\udffb<br>animation_frame=\\ud83e\\udd1a\\ud83c\\udffb<br>x=%{x}<br>cnt=%{y}<extra></extra>\", \"ids\": [1], \"legendgroup\": \"\\ud83e\\udd1a\\ud83c\\udffb\", \"marker\": {\"color\": \"#19d3f3\"}, \"name\": \"\\ud83e\\udd1a\\ud83c\\udffb\", \"offsetgroup\": \"\\ud83e\\udd1a\\ud83c\\udffb\", \"orientation\": \"v\", \"showlegend\": true, \"textposition\": \"auto\", \"x\": [\"\\ud83e\\udd1a\\ud83c\\udffb\"], \"xaxis\": \"x\", \"y\": [1], \"yaxis\": \"y\", \"type\": \"bar\"}], \"name\": \"\\ud83e\\udd1a\\ud83c\\udffb\"}, {\"data\": [{\"alignmentgroup\": \"True\", \"hovertemplate\": \"emoji=\\ud83d\\udd6f\\ufe0f<br>animation_frame=\\ud83d\\udd6f\\ufe0f<br>x=%{x}<br>cnt=%{y}<extra></extra>\", \"ids\": [1], \"legendgroup\": \"\\ud83d\\udd6f\\ufe0f\", \"marker\": {\"color\": \"#FF6692\"}, \"name\": \"\\ud83d\\udd6f\\ufe0f\", \"offsetgroup\": \"\\ud83d\\udd6f\\ufe0f\", \"orientation\": \"v\", \"showlegend\": true, \"textposition\": \"auto\", \"x\": [\"\\ud83d\\udd6f\\ufe0f\"], \"xaxis\": \"x\", \"y\": [1], \"yaxis\": \"y\", \"type\": \"bar\"}], \"name\": \"\\ud83d\\udd6f\\ufe0f\"}, {\"data\": [{\"alignmentgroup\": \"True\", \"hovertemplate\": \"emoji=\\ud83c\\udfb5<br>animation_frame=\\ud83c\\udfb5<br>x=%{x}<br>cnt=%{y}<extra></extra>\", \"ids\": [1], \"legendgroup\": \"\\ud83c\\udfb5\", \"marker\": {\"color\": \"#B6E880\"}, \"name\": \"\\ud83c\\udfb5\", \"offsetgroup\": \"\\ud83c\\udfb5\", \"orientation\": \"v\", \"showlegend\": true, \"textposition\": \"auto\", \"x\": [\"\\ud83c\\udfb5\"], \"xaxis\": \"x\", \"y\": [1], \"yaxis\": \"y\", \"type\": \"bar\"}], \"name\": \"\\ud83c\\udfb5\"}, {\"data\": [{\"alignmentgroup\": \"True\", \"hovertemplate\": \"emoji=\\ud83e\\uddd1\\u200d\\ud83c\\udfa4<br>animation_frame=\\ud83e\\uddd1\\u200d\\ud83c\\udfa4<br>x=%{x}<br>cnt=%{y}<extra></extra>\", \"ids\": [1], \"legendgroup\": \"\\ud83e\\uddd1\\u200d\\ud83c\\udfa4\", \"marker\": {\"color\": \"#FF97FF\"}, \"name\": \"\\ud83e\\uddd1\\u200d\\ud83c\\udfa4\", \"offsetgroup\": \"\\ud83e\\uddd1\\u200d\\ud83c\\udfa4\", \"orientation\": \"v\", \"showlegend\": true, \"textposition\": \"auto\", \"x\": [\"\\ud83e\\uddd1\\u200d\\ud83c\\udfa4\"], \"xaxis\": \"x\", \"y\": [1], \"yaxis\": \"y\", \"type\": \"bar\"}], \"name\": \"\\ud83e\\uddd1\\u200d\\ud83c\\udfa4\"}, {\"data\": [{\"alignmentgroup\": \"True\", \"hovertemplate\": \"emoji=\\ud83d\\udc68\\u200d\\ud83c\\udfa4<br>animation_frame=\\ud83d\\udc68\\u200d\\ud83c\\udfa4<br>x=%{x}<br>cnt=%{y}<extra></extra>\", \"ids\": [1], \"legendgroup\": \"\\ud83d\\udc68\\u200d\\ud83c\\udfa4\", \"marker\": {\"color\": \"#FECB52\"}, \"name\": \"\\ud83d\\udc68\\u200d\\ud83c\\udfa4\", \"offsetgroup\": \"\\ud83d\\udc68\\u200d\\ud83c\\udfa4\", \"orientation\": \"v\", \"showlegend\": true, \"textposition\": \"auto\", \"x\": [\"\\ud83d\\udc68\\u200d\\ud83c\\udfa4\"], \"xaxis\": \"x\", \"y\": [1], \"yaxis\": \"y\", \"type\": \"bar\"}], \"name\": \"\\ud83d\\udc68\\u200d\\ud83c\\udfa4\"}, {\"data\": [{\"alignmentgroup\": \"True\", \"hovertemplate\": \"emoji=\\u00ae<br>animation_frame=\\u00ae<br>x=%{x}<br>cnt=%{y}<extra></extra>\", \"ids\": [1], \"legendgroup\": \"\\u00ae\", \"marker\": {\"color\": \"#636efa\"}, \"name\": \"\\u00ae\", \"offsetgroup\": \"\\u00ae\", \"orientation\": \"v\", \"showlegend\": true, \"textposition\": \"auto\", \"x\": [\"\\u00ae\"], \"xaxis\": \"x\", \"y\": [1], \"yaxis\": \"y\", \"type\": \"bar\"}], \"name\": \"\\u00ae\"}, {\"data\": [{\"alignmentgroup\": \"True\", \"hovertemplate\": \"emoji=\\ud83d\\ude2c<br>animation_frame=\\ud83d\\ude2c<br>x=%{x}<br>cnt=%{y}<extra></extra>\", \"ids\": [1], \"legendgroup\": \"\\ud83d\\ude2c\", \"marker\": {\"color\": \"#EF553B\"}, \"name\": \"\\ud83d\\ude2c\", \"offsetgroup\": \"\\ud83d\\ude2c\", \"orientation\": \"v\", \"showlegend\": true, \"textposition\": \"auto\", \"x\": [\"\\ud83d\\ude2c\"], \"xaxis\": \"x\", \"y\": [1], \"yaxis\": \"y\", \"type\": \"bar\"}], \"name\": \"\\ud83d\\ude2c\"}, {\"data\": [{\"alignmentgroup\": \"True\", \"hovertemplate\": \"emoji=\\ud83d\\ude0a<br>animation_frame=\\ud83d\\ude0a<br>x=%{x}<br>cnt=%{y}<extra></extra>\", \"ids\": [1], \"legendgroup\": \"\\ud83d\\ude0a\", \"marker\": {\"color\": \"#00cc96\"}, \"name\": \"\\ud83d\\ude0a\", \"offsetgroup\": \"\\ud83d\\ude0a\", \"orientation\": \"v\", \"showlegend\": true, \"textposition\": \"auto\", \"x\": [\"\\ud83d\\ude0a\"], \"xaxis\": \"x\", \"y\": [1], \"yaxis\": \"y\", \"type\": \"bar\"}], \"name\": \"\\ud83d\\ude0a\"}, {\"data\": [{\"alignmentgroup\": \"True\", \"hovertemplate\": \"emoji=\\ud83d\\ude0e<br>animation_frame=\\ud83d\\ude0e<br>x=%{x}<br>cnt=%{y}<extra></extra>\", \"ids\": [1], \"legendgroup\": \"\\ud83d\\ude0e\", \"marker\": {\"color\": \"#ab63fa\"}, \"name\": \"\\ud83d\\ude0e\", \"offsetgroup\": \"\\ud83d\\ude0e\", \"orientation\": \"v\", \"showlegend\": true, \"textposition\": \"auto\", \"x\": [\"\\ud83d\\ude0e\"], \"xaxis\": \"x\", \"y\": [1], \"yaxis\": \"y\", \"type\": \"bar\"}], \"name\": \"\\ud83d\\ude0e\"}, {\"data\": [{\"alignmentgroup\": \"True\", \"hovertemplate\": \"emoji=\\ud83d\\ude13<br>animation_frame=\\ud83d\\ude13<br>x=%{x}<br>cnt=%{y}<extra></extra>\", \"ids\": [1], \"legendgroup\": \"\\ud83d\\ude13\", \"marker\": {\"color\": \"#FFA15A\"}, \"name\": \"\\ud83d\\ude13\", \"offsetgroup\": \"\\ud83d\\ude13\", \"orientation\": \"v\", \"showlegend\": true, \"textposition\": \"auto\", \"x\": [\"\\ud83d\\ude13\"], \"xaxis\": \"x\", \"y\": [1], \"yaxis\": \"y\", \"type\": \"bar\"}], \"name\": \"\\ud83d\\ude13\"}]);\n",
       "                        }).then(function(){\n",
       "                            \n",
       "var gd = document.getElementById('6fcb1cdd-94bf-4c52-baf6-f36d96b446fd');\n",
       "var x = new MutationObserver(function (mutations, observer) {{\n",
       "        var display = window.getComputedStyle(gd).display;\n",
       "        if (!display || display === 'none') {{\n",
       "            console.log([gd, 'removed!']);\n",
       "            Plotly.purge(gd);\n",
       "            observer.disconnect();\n",
       "        }}\n",
       "}});\n",
       "\n",
       "// Listen for the removal of the full notebook cells\n",
       "var notebookContainer = gd.closest('#notebook-container');\n",
       "if (notebookContainer) {{\n",
       "    x.observe(notebookContainer, {childList: true});\n",
       "}}\n",
       "\n",
       "// Listen for the clearing of the current output cell\n",
       "var outputEl = gd.closest('.output');\n",
       "if (outputEl) {{\n",
       "    x.observe(outputEl, {childList: true});\n",
       "}}\n",
       "\n",
       "                        })\n",
       "                };\n",
       "                });\n",
       "            </script>\n",
       "        </div>"
      ]
     },
     "metadata": {},
     "output_type": "display_data"
    }
   ],
   "source": [
    "data2['Date']= pd.to_datetime(data2['fecha_pub']).dt.strftime('%Y-%m-%d')\n",
    "\n",
    "fig = px.bar(temp_emojis, x=temp_emojis.emoji.values, y='cnt', color='emoji',\n",
    "  animation_frame=temp_emojis.emoji.values, animation_group='cnt')\n",
    "fig.show()"
   ]
  },
  {
   "cell_type": "code",
   "execution_count": null,
   "metadata": {},
   "outputs": [],
   "source": []
  }
 ],
 "metadata": {
  "kernelspec": {
   "display_name": "Python 3",
   "language": "python",
   "name": "python3"
  },
  "language_info": {
   "codemirror_mode": {
    "name": "ipython",
    "version": 3
   },
   "file_extension": ".py",
   "mimetype": "text/x-python",
   "name": "python",
   "nbconvert_exporter": "python",
   "pygments_lexer": "ipython3",
   "version": "3.7.3"
  }
 },
 "nbformat": 4,
 "nbformat_minor": 4
}
