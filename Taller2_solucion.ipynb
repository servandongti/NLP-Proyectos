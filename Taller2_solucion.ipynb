{
 "cells": [
  {
   "cell_type": "markdown",
   "metadata": {},
   "source": [
    "# Punto 1:\n",
    "\n",
    "- Descomprimir el archivo `.zip` de los poemas\n",
    "- Leer cada uno de sus archivos\n",
    "- Responder: ¿Cuál archivo tiene el mayor número de palabras?"
   ]
  },
  {
   "cell_type": "markdown",
   "metadata": {},
   "source": [
    "Importación de librerias"
   ]
  },
  {
   "cell_type": "code",
   "execution_count": 200,
   "metadata": {},
   "outputs": [],
   "source": [
    "import pandas as pd\n",
    "import matplotlib.pyplot as plt\n",
    "import numpy as np"
   ]
  },
  {
   "cell_type": "code",
   "execution_count": 203,
   "metadata": {},
   "outputs": [],
   "source": [
    "import bs4 as bs\n",
    "import urllib.request\n",
    "import pandas as pd\n",
    "import json\n",
    "from pandas.io.json import json_normalize\n",
    "import os\n",
    "from zipfile import ZipFile\n",
    "import docx\n",
    "import PyPDF2\n",
    "import pytesseract\n",
    "from pytesseract import image_to_string\n",
    "from PIL import Image\n",
    "import os\n",
    "import shutil"
   ]
  },
  {
   "cell_type": "code",
   "execution_count": 10,
   "metadata": {},
   "outputs": [],
   "source": [
    "# 1. Descomprime el archivo.zip\n",
    "# 2. Los archivos descomprimidos (poemas) los almacena en la carpeta \"archivos\"\n",
    "\n",
    "direccion = \"archivos/poemas.zip\"\n",
    "\n",
    "with ZipFile(direccion) as archivo:\n",
    "    archivo.extractall(\"archivos/\")"
   ]
  },
  {
   "cell_type": "markdown",
   "metadata": {},
   "source": [
    "Verificar archivos en la carpeta poemas:"
   ]
  },
  {
   "cell_type": "code",
   "execution_count": 202,
   "metadata": {},
   "outputs": [
    {
     "name": "stdout",
     "output_type": "stream",
     "text": [
      "('archivos/poemas', [], ['A un general (Julio Corta╠üzar).txt', 'Aqui╠ü (Octavio Paz).txt', 'Si╠ündrome (Mario Benedetti).txt'])\n"
     ]
    }
   ],
   "source": [
    "for file in os.walk('archivos/poemas'):\n",
    "    print(file)"
   ]
  },
  {
   "cell_type": "markdown",
   "metadata": {},
   "source": [
    "Cargar archivos y guardarlos en un arreglo:"
   ]
  },
  {
   "cell_type": "code",
   "execution_count": 211,
   "metadata": {},
   "outputs": [
    {
     "name": "stdout",
     "output_type": "stream",
     "text": [
      "Nombre del archivo: A un general (Julio Corta╠üzar).txt\n",
      "Ruta del archivo: archivos/poemas/A un general (Julio Corta╠üzar).txt\n",
      "\n",
      "POEMA\n",
      "Región de manos sucias de pinceles sin pelo de niños boca abajo de cepillos de dientes Zona donde la rata se ennoblece y hay banderas innúmeras y cantan himnos y alguien te prende, hijo de puta, una medalla sobre el pecho Y te pudres lo mismo.\n",
      "\n",
      "\n",
      "****************************************************************************************************\n",
      "Nombre del archivo: Aqui╠ü (Octavio Paz).txt\n",
      "Ruta del archivo: archivos/poemas/Aqui╠ü (Octavio Paz).txt\n",
      "\n",
      "POEMA\n",
      "Mis pasos en esta calle Resuenan En otra calle Donde Oigo mis pasos Pasar en esta calle Donde Sólo es real la niebla.\n",
      "\n",
      "\n",
      "****************************************************************************************************\n",
      "Nombre del archivo: Si╠ündrome (Mario Benedetti).txt\n",
      "Ruta del archivo: archivos/poemas/Si╠ündrome (Mario Benedetti).txt\n",
      "\n",
      "POEMA\n",
      "Todavía tengo casi todos mis dientes casi todos mis cabellos y poquísimas canas puedo hacer y deshacer el amor trepar una escalera de dos en dos y correr cuarenta metros detrás del ómnibus o sea que no debería sentirme viejo pero el grave problema es que antes no me fijaba en estos detalles.\n",
      "\n",
      "\n",
      "****************************************************************************************************\n"
     ]
    }
   ],
   "source": [
    "archivos_text = []\n",
    "\n",
    "for raiz, dirs, archivos in os.walk('archivos/poemas'):\n",
    "        for archivo in archivos:\n",
    "            print(f\"Nombre del archivo: {archivo}\")\n",
    "            \n",
    "            # Crear ruta\n",
    "            ruta = f\"archivos/poemas/{archivo}\"\n",
    "            print(f\"Ruta del archivo: {ruta}\\n\")\n",
    "            \n",
    "            # Leer archivo\n",
    "            with open(ruta, encoding=\"utf-8\") as poema:\n",
    "                data = poema.read()\n",
    "                poema.close()\n",
    "            \n",
    "            # reemplazar caracteres\n",
    "            data = data.replace('\\n\\n', ' ')\n",
    "            \n",
    "            archivos_text.append(data)\n",
    "            \n",
    "            print(\"POEMA\")\n",
    "            print(data)\n",
    "            print(\"\\n\")\n",
    "            print(\"*\"*100)"
   ]
  },
  {
   "cell_type": "markdown",
   "metadata": {},
   "source": [
    "Podemos consultar cada uno de los poemas:"
   ]
  },
  {
   "cell_type": "code",
   "execution_count": 212,
   "metadata": {},
   "outputs": [
    {
     "data": {
      "text/plain": [
       "['Región de manos sucias de pinceles sin pelo de niños boca abajo de cepillos de dientes Zona donde la rata se ennoblece y hay banderas innúmeras y cantan himnos y alguien te prende, hijo de puta, una medalla sobre el pecho Y te pudres lo mismo.',\n",
       " 'Mis pasos en esta calle Resuenan En otra calle Donde Oigo mis pasos Pasar en esta calle Donde Sólo es real la niebla.',\n",
       " 'Todavía tengo casi todos mis dientes casi todos mis cabellos y poquísimas canas puedo hacer y deshacer el amor trepar una escalera de dos en dos y correr cuarenta metros detrás del ómnibus o sea que no debería sentirme viejo pero el grave problema es que antes no me fijaba en estos detalles.']"
      ]
     },
     "execution_count": 212,
     "metadata": {},
     "output_type": "execute_result"
    }
   ],
   "source": [
    "archivos_text"
   ]
  },
  {
   "cell_type": "code",
   "execution_count": 214,
   "metadata": {},
   "outputs": [
    {
     "data": {
      "text/plain": [
       "'Región de manos sucias de pinceles sin pelo de niños boca abajo de cepillos de dientes Zona donde la rata se ennoblece y hay banderas innúmeras y cantan himnos y alguien te prende, hijo de puta, una medalla sobre el pecho Y te pudres lo mismo.'"
      ]
     },
     "execution_count": 214,
     "metadata": {},
     "output_type": "execute_result"
    }
   ],
   "source": [
    "# Poema 1\n",
    "archivos_text[0]"
   ]
  },
  {
   "cell_type": "markdown",
   "metadata": {},
   "source": [
    "Conteo de palabras:"
   ]
  },
  {
   "cell_type": "code",
   "execution_count": 216,
   "metadata": {},
   "outputs": [
    {
     "name": "stdout",
     "output_type": "stream",
     "text": [
      "Numero de palabras del archivo 0 es: 46\n",
      "Numero de palabras del archivo 1 es: 23\n",
      "Numero de palabras del archivo 2 es: 53\n"
     ]
    }
   ],
   "source": [
    "for i in range(0,len(archivos_text)):\n",
    "    print(f\"Numero de palabras del archivo {i} es: {conteo_palabras(archivos_text[i])}\")"
   ]
  },
  {
   "cell_type": "markdown",
   "metadata": {},
   "source": [
    " "
   ]
  },
  {
   "cell_type": "markdown",
   "metadata": {},
   "source": [
    "**Lectura de archivos (opcional ya que con el item anterior se pueden cargar masivamente)**"
   ]
  },
  {
   "cell_type": "markdown",
   "metadata": {},
   "source": [
    "Poema 1:"
   ]
  },
  {
   "cell_type": "code",
   "execution_count": 45,
   "metadata": {},
   "outputs": [],
   "source": [
    "with open(\"archivos/poemas/A un general (Julio Corta╠üzar).txt\", encoding=\"utf-8\") as t1:\n",
    "    JCortazar = t1.read()\n",
    "    t1.close()"
   ]
  },
  {
   "cell_type": "code",
   "execution_count": 46,
   "metadata": {
    "scrolled": true
   },
   "outputs": [
    {
     "data": {
      "text/plain": [
       "'Región de manos sucias de pinceles sin pelo\\n\\nde niños boca abajo de cepillos de dientes\\n\\nZona donde la rata se ennoblece\\n\\ny hay banderas innúmeras y cantan himnos\\n\\ny alguien te prende, hijo de puta,\\n\\nuna medalla sobre el pecho\\n\\nY te pudres lo mismo.'"
      ]
     },
     "execution_count": 46,
     "metadata": {},
     "output_type": "execute_result"
    }
   ],
   "source": [
    "JCortazar"
   ]
  },
  {
   "cell_type": "markdown",
   "metadata": {},
   "source": [
    "Ya que los poemas tienen saltos de linea, se reemplazan por \"espacio\""
   ]
  },
  {
   "cell_type": "code",
   "execution_count": 48,
   "metadata": {},
   "outputs": [
    {
     "data": {
      "text/plain": [
       "'Región de manos sucias de pinceles sin pelo de niños boca abajo de cepillos de dientes Zona donde la rata se ennoblece y hay banderas innúmeras y cantan himnos y alguien te prende, hijo de puta, una medalla sobre el pecho Y te pudres lo mismo.'"
      ]
     },
     "execution_count": 48,
     "metadata": {},
     "output_type": "execute_result"
    }
   ],
   "source": [
    "JCortazar = JCortazar.replace('\\n\\n', ' ')\n",
    "JCortazar"
   ]
  },
  {
   "cell_type": "markdown",
   "metadata": {},
   "source": [
    "Poema 2:"
   ]
  },
  {
   "cell_type": "code",
   "execution_count": 49,
   "metadata": {},
   "outputs": [],
   "source": [
    "with open(\"archivos/poemas/Aqui╠ü (Octavio Paz).txt\", encoding=\"utf-8\") as t2:\n",
    "    OPaz = t2.read()\n",
    "    t2.close()"
   ]
  },
  {
   "cell_type": "code",
   "execution_count": 50,
   "metadata": {},
   "outputs": [
    {
     "data": {
      "text/plain": [
       "'Mis pasos en esta calle\\n\\nResuenan\\n\\nEn otra calle\\n\\nDonde\\n\\nOigo mis pasos\\n\\nPasar en esta calle\\n\\nDonde\\n\\nSólo es real la niebla.'"
      ]
     },
     "execution_count": 50,
     "metadata": {},
     "output_type": "execute_result"
    }
   ],
   "source": [
    "OPaz"
   ]
  },
  {
   "cell_type": "code",
   "execution_count": 51,
   "metadata": {},
   "outputs": [
    {
     "data": {
      "text/plain": [
       "'Mis pasos en esta calle Resuenan En otra calle Donde Oigo mis pasos Pasar en esta calle Donde Sólo es real la niebla.'"
      ]
     },
     "execution_count": 51,
     "metadata": {},
     "output_type": "execute_result"
    }
   ],
   "source": [
    "OPaz = OPaz.replace('\\n\\n', ' ')\n",
    "OPaz"
   ]
  },
  {
   "cell_type": "markdown",
   "metadata": {},
   "source": [
    "Poema 3:"
   ]
  },
  {
   "cell_type": "code",
   "execution_count": 52,
   "metadata": {},
   "outputs": [],
   "source": [
    "with open(\"archivos/poemas/Si╠ündrome (Mario Benedetti).txt\", encoding=\"utf-8\") as t3:\n",
    "    MBenedetti = t3.read()\n",
    "    t3.close()"
   ]
  },
  {
   "cell_type": "code",
   "execution_count": 53,
   "metadata": {},
   "outputs": [
    {
     "data": {
      "text/plain": [
       "'Todavía tengo casi todos mis dientes\\n\\ncasi todos mis cabellos y poquísimas canas\\n\\npuedo hacer y deshacer el amor\\n\\ntrepar una escalera de dos en dos\\n\\ny correr cuarenta metros detrás del ómnibus\\n\\no sea que no debería sentirme viejo\\n\\npero el grave problema es que antes\\n\\nno me fijaba en estos detalles.'"
      ]
     },
     "execution_count": 53,
     "metadata": {},
     "output_type": "execute_result"
    }
   ],
   "source": [
    "MBenedetti"
   ]
  },
  {
   "cell_type": "code",
   "execution_count": 54,
   "metadata": {},
   "outputs": [
    {
     "data": {
      "text/plain": [
       "'Todavía tengo casi todos mis dientes casi todos mis cabellos y poquísimas canas puedo hacer y deshacer el amor trepar una escalera de dos en dos y correr cuarenta metros detrás del ómnibus o sea que no debería sentirme viejo pero el grave problema es que antes no me fijaba en estos detalles.'"
      ]
     },
     "execution_count": 54,
     "metadata": {},
     "output_type": "execute_result"
    }
   ],
   "source": [
    "MBenedetti = MBenedetti.replace('\\n\\n', ' ')\n",
    "MBenedetti"
   ]
  },
  {
   "cell_type": "markdown",
   "metadata": {},
   "source": [
    "**Definición de función:**"
   ]
  },
  {
   "cell_type": "code",
   "execution_count": 58,
   "metadata": {},
   "outputs": [],
   "source": [
    "def conteo_palabras(s):\n",
    "    token = s.split()\n",
    "    \n",
    "    conteo = len(token)\n",
    "    \n",
    "    return conteo"
   ]
  },
  {
   "cell_type": "code",
   "execution_count": 59,
   "metadata": {},
   "outputs": [
    {
     "data": {
      "text/plain": [
       "46"
      ]
     },
     "execution_count": 59,
     "metadata": {},
     "output_type": "execute_result"
    }
   ],
   "source": [
    "conteo_palabras(JCortazar)"
   ]
  },
  {
   "cell_type": "code",
   "execution_count": 60,
   "metadata": {},
   "outputs": [
    {
     "data": {
      "text/plain": [
       "23"
      ]
     },
     "execution_count": 60,
     "metadata": {},
     "output_type": "execute_result"
    }
   ],
   "source": [
    "conteo_palabras(OPaz)"
   ]
  },
  {
   "cell_type": "code",
   "execution_count": 61,
   "metadata": {},
   "outputs": [
    {
     "data": {
      "text/plain": [
       "53"
      ]
     },
     "execution_count": 61,
     "metadata": {},
     "output_type": "execute_result"
    }
   ],
   "source": [
    "conteo_palabras(MBenedetti)"
   ]
  },
  {
   "cell_type": "markdown",
   "metadata": {},
   "source": [
    "**El archivo con mayor número de palabras es el de `Mario Benedetti.`**"
   ]
  },
  {
   "cell_type": "markdown",
   "metadata": {},
   "source": [
    " "
   ]
  },
  {
   "cell_type": "markdown",
   "metadata": {},
   "source": [
    " "
   ]
  },
  {
   "cell_type": "markdown",
   "metadata": {},
   "source": [
    "# Punto 2:\n",
    "\n",
    "- Hacer Web Scraping de 10 biografías en Wikipedia (en búcle)\n",
    "- Obtener el **encabezado** de cada biografía\n",
    "- Obtener todos los **contenidos** y **etiquetas de título** asociados a los **links** del primer párrafo"
   ]
  },
  {
   "cell_type": "code",
   "execution_count": 62,
   "metadata": {},
   "outputs": [],
   "source": [
    "link = 'https://es.wikipedia.org/wiki/Carl_Sagan'\n",
    "\n",
    "request = urllib.request.urlopen(link)\n",
    "fuente = request.read()\n",
    "request.close()"
   ]
  },
  {
   "cell_type": "markdown",
   "metadata": {},
   "source": [
    "**Documento HTML**"
   ]
  },
  {
   "cell_type": "code",
   "execution_count": 63,
   "metadata": {},
   "outputs": [
    {
     "data": {
      "text/plain": [
       "<!DOCTYPE html>\n",
       "\n",
       "<html class=\"client-nojs\" dir=\"ltr\" lang=\"es\">\n",
       "<head>\n",
       "<meta charset=\"utf-8\"/>\n",
       "<title>Carl Sagan - Wikipedia, la enciclopedia libre</title>\n",
       "<script>document.documentElement.className=\"client-js\";RLCONF={\"wgBreakFrames\":!1,\"wgSeparatorTransformTable\":[\",\\t.\",\" \\t,\"],\"wgDigitTransformTable\":[\"\",\"\"],\"wgDefaultDateFormat\":\"dmy\",\"wgMonthNames\":[\"\",\"enero\",\"febrero\",\"marzo\",\"abril\",\"mayo\",\"junio\",\"julio\",\"agosto\",\"septiembre\",\"octubre\",\"noviembre\",\"diciembre\"],\"wgRequestId\":\"0d164a15-c7b9-4a5a-8d90-a01c34712b81\",\"wgCSPNonce\":!1,\"wgCanonicalNamespace\":\"\",\"wgCanonicalSpecialPageName\":!1,\"wgNamespaceNumber\":0,\"wgPageName\":\"Carl_Sagan\",\"wgTitle\":\"Carl Sagan\",\"wgCurRevisionId\":128532376,\"wgRevisionId\":128532376,\"wgArticleId\":634,\"wgIsArticle\":!0,\"wgIsRedirect\":!1,\"wgAction\":\"view\",\"wgUserName\":null,\"wgUserGroups\":[\"*\"],\"wgCategories\":[\"Wikipedia:Páginas con referencias sin URL y con fecha de acceso\",\"Wikipedia:Páginas con referencias con parámetros obsoletos\",\"Wikipedia:Páginas con enlaces mágicos de ISBN\",\"Wikipedia:Artículos destacados en la Wikipedia en gallego\",\n",
       "\"Wikipedia:Artículos destacados en la Wikipedia en macedonio\",\"Wikipedia:Artículos con pasajes que requieren referencias\",\"Wikipedia:Artículos con identificadores VIAF\",\"Wikipedia:Artículos con identificadores ISNI\",\"Wikipedia:Artículos con identificadores BNE\",\"Wikipedia:Artículos con identificadores BNF\",\"Wikipedia:Artículos con identificadores CANTIC\",\"Wikipedia:Artículos con identificadores GND\",\"Wikipedia:Artículos con identificadores LCCN\",\"Wikipedia:Artículos con identificadores NLA\",\"Wikipedia:Artículos con identificadores SNAC\",\"Wikipedia:Artículos con identificadores UB\",\"Wikipedia:Artículos con identificadores Open Library\",\"Wikipedia:Artículos con identificadores Dialnet\",\"Wikipedia:Control de autoridades con 20 elementos\",\"Hombres\",\"Nacidos en 1934\",\"Fallecidos en 1996\",\"Carl Sagan\",\"Brooklynenses\",\"Alumnado de la Universidad de Chicago\",\"Profesores de la Universidad Cornell\",\"Escritores de Estados Unidos del siglo XX\",\n",
       "\"Escritores de ciencia ficción de Estados Unidos\",\"Escritores de divulgación científica\",\"Escritores en inglés del siglo XX\",\"Activistas de Estados Unidos\",\"Astrónomos de Estados Unidos del siglo XX\",\"Astrofísicos de Estados Unidos\",\"Cosmólogos\",\"Polímatas\",\"Divulgadores científicos en medios audiovisuales\",\"Escépticos\",\"Agnósticos de Estados Unidos\",\"Agnósticos judíos\",\"Ganadores del Premio Pulitzer\",\"Premio Carl Sagan para la comprensión pública de la ciencia\",\"Fallecidos por neumonía\",\"Conferencias Gifford\",\"Graduados honorarios de la Universidad de Illinois en Urbana-Champaign\",\"Profesores de la Universidad de Harvard\"],\"wgPageContentLanguage\":\"es\",\"wgPageContentModel\":\"wikitext\",\"wgRelevantPageName\":\"Carl_Sagan\",\"wgRelevantArticleId\":634,\"wgIsProbablyEditable\":!0,\"wgRelevantPageIsProbablyEditable\":!0,\"wgRestrictionEdit\":[],\"wgRestrictionMove\":[],\"wgMediaViewerOnClick\":!0,\"wgMediaViewerEnabledByDefault\":!0,\"wgPopupsReferencePreviews\":!1,\n",
       "\"wgPopupsConflictsWithNavPopupGadget\":!1,\"wgVisualEditor\":{\"pageLanguageCode\":\"es\",\"pageLanguageDir\":\"ltr\",\"pageVariantFallbacks\":\"es\"},\"wgMFDisplayWikibaseDescriptions\":{\"search\":!0,\"nearby\":!0,\"watchlist\":!0,\"tagline\":!0},\"wgWMESchemaEditAttemptStepOversample\":!1,\"wgULSCurrentAutonym\":\"español\",\"wgNoticeProject\":\"wikipedia\",\"wgCentralAuthMobileDomain\":!1,\"wgEditSubmitButtonLabelPublish\":!0,\"wgULSPosition\":\"interlanguage\",\"wgWikibaseItemId\":\"Q410\"};RLSTATE={\"ext.gadget.imagenesinfobox\":\"ready\",\"ext.globalCssJs.user.styles\":\"ready\",\"site.styles\":\"ready\",\"noscript\":\"ready\",\"user.styles\":\"ready\",\"ext.globalCssJs.user\":\"ready\",\"user\":\"ready\",\"user.options\":\"loading\",\"ext.cite.styles\":\"ready\",\"ext.tmh.thumbnail.styles\":\"ready\",\"skins.vector.styles.legacy\":\"ready\",\"mediawiki.toc.styles\":\"ready\",\"ext.visualEditor.desktopArticleTarget.noscript\":\"ready\",\"ext.uls.interlanguage\":\"ready\",\"ext.wikimediaBadges\":\"ready\",\"wikibase.client.init\":\"ready\"};RLPAGEMODULES=[\n",
       "\"ext.cite.ux-enhancements\",\"mw.MediaWikiPlayer.loader\",\"mw.PopUpMediaTransform\",\"mw.TMHGalleryHook.js\",\"ext.scribunto.logs\",\"site\",\"mediawiki.page.ready\",\"mediawiki.toc\",\"skins.vector.legacy.js\",\"ext.gadget.a-commons-directo\",\"ext.gadget.ReferenceTooltips\",\"ext.gadget.refToolbar\",\"ext.centralauth.centralautologin\",\"mmv.head\",\"mmv.bootstrap.autostart\",\"ext.popups\",\"ext.visualEditor.desktopArticleTarget.init\",\"ext.visualEditor.targetLoader\",\"ext.eventLogging\",\"ext.wikimediaEvents\",\"ext.navigationTiming\",\"ext.uls.compactlinks\",\"ext.uls.interface\",\"ext.cx.eventlogging.campaigns\",\"ext.quicksurveys.init\",\"ext.centralNotice.geoIP\",\"ext.centralNotice.startUp\"];</script>\n",
       "<script>(RLQ=window.RLQ||[]).push(function(){mw.loader.implement(\"user.options@1hzgi\",function($,jQuery,require,module){/*@nomin*/mw.user.tokens.set({\"patrolToken\":\"+\\\\\",\"watchToken\":\"+\\\\\",\"csrfToken\":\"+\\\\\"});mw.user.options.set({\"variant\":\"es\"});\n",
       "});});</script>\n",
       "<link href=\"/w/load.php?lang=es&amp;modules=ext.cite.styles%7Cext.tmh.thumbnail.styles%7Cext.uls.interlanguage%7Cext.visualEditor.desktopArticleTarget.noscript%7Cext.wikimediaBadges%7Cmediawiki.toc.styles%7Cskins.vector.styles.legacy%7Cwikibase.client.init&amp;only=styles&amp;skin=vector\" rel=\"stylesheet\"/>\n",
       "<script async=\"\" src=\"/w/load.php?lang=es&amp;modules=startup&amp;only=scripts&amp;raw=1&amp;skin=vector\"></script>\n",
       "<meta content=\"\" name=\"ResourceLoaderDynamicStyles\"/>\n",
       "<link href=\"/w/load.php?lang=es&amp;modules=ext.gadget.imagenesinfobox&amp;only=styles&amp;skin=vector\" rel=\"stylesheet\"/>\n",
       "<link href=\"/w/load.php?lang=es&amp;modules=site.styles&amp;only=styles&amp;skin=vector\" rel=\"stylesheet\"/>\n",
       "<noscript><link href=\"/w/load.php?lang=es&amp;modules=noscript&amp;only=styles&amp;skin=vector\" rel=\"stylesheet\"/></noscript>\n",
       "<meta content=\"MediaWiki 1.36.0-wmf.5\" name=\"generator\"/>\n",
       "<meta content=\"origin\" name=\"referrer\"/>\n",
       "<meta content=\"origin-when-crossorigin\" name=\"referrer\"/>\n",
       "<meta content=\"origin-when-cross-origin\" name=\"referrer\"/>\n",
       "<meta content=\"https://upload.wikimedia.org/wikipedia/commons/thumb/0/09/Carl_Sagan%2C_1994.jpg/1200px-Carl_Sagan%2C_1994.jpg\" property=\"og:image\"/>\n",
       "<link href=\"//es.m.wikipedia.org/wiki/Carl_Sagan\" media=\"only screen and (max-width: 720px)\" rel=\"alternate\"/>\n",
       "<link href=\"/w/index.php?title=Carl_Sagan&amp;action=edit\" rel=\"alternate\" title=\"Editar\" type=\"application/x-wiki\"/>\n",
       "<link href=\"/w/index.php?title=Carl_Sagan&amp;action=edit\" rel=\"edit\" title=\"Editar\"/>\n",
       "<link href=\"/static/apple-touch/wikipedia.png\" rel=\"apple-touch-icon\"/>\n",
       "<link href=\"/static/favicon/wikipedia.ico\" rel=\"shortcut icon\"/>\n",
       "<link href=\"/w/opensearch_desc.php\" rel=\"search\" title=\"Wikipedia (es)\" type=\"application/opensearchdescription+xml\"/>\n",
       "<link href=\"//es.wikipedia.org/w/api.php?action=rsd\" rel=\"EditURI\" type=\"application/rsd+xml\"/>\n",
       "<link href=\"//creativecommons.org/licenses/by-sa/3.0/\" rel=\"license\"/>\n",
       "<link href=\"https://es.wikipedia.org/wiki/Carl_Sagan\" rel=\"canonical\"/>\n",
       "<link href=\"//login.wikimedia.org\" rel=\"dns-prefetch\"/>\n",
       "<link href=\"//meta.wikimedia.org\" rel=\"dns-prefetch\"/>\n",
       "</head>\n",
       "<body class=\"mediawiki ltr sitedir-ltr mw-hide-empty-elt ns-0 ns-subject mw-editable page-Carl_Sagan rootpage-Carl_Sagan skin-vector action-view skin-vector-legacy\"><div class=\"noprint\" id=\"mw-page-base\"></div>\n",
       "<div class=\"noprint\" id=\"mw-head-base\"></div>\n",
       "<div class=\"mw-body\" id=\"content\" role=\"main\">\n",
       "<a id=\"top\"></a>\n",
       "<div class=\"mw-body-content\" id=\"siteNotice\"><!-- CentralNotice --></div>\n",
       "<div class=\"mw-indicators mw-body-content\">\n",
       "</div>\n",
       "<h1 class=\"firstHeading\" id=\"firstHeading\" lang=\"es\">Carl Sagan</h1>\n",
       "<div class=\"mw-body-content\" id=\"bodyContent\">\n",
       "<div class=\"noprint\" id=\"siteSub\">De Wikipedia, la enciclopedia libre</div>\n",
       "<div id=\"contentSub\"></div>\n",
       "<div id=\"contentSub2\"></div>\n",
       "<div id=\"jump-to-nav\"></div>\n",
       "<a class=\"mw-jump-link\" href=\"#mw-head\">Ir a la navegación</a>\n",
       "<a class=\"mw-jump-link\" href=\"#searchInput\">Ir a la búsqueda</a>\n",
       "<div class=\"mw-content-ltr\" dir=\"ltr\" id=\"mw-content-text\" lang=\"es\"><div class=\"mw-parser-output\"><table class=\"infobox biography vcard\" style=\"width:22.7em; line-height: 1.4em; text-align:left; padding:.23em;\"><tbody><tr><th class=\"cabecera persona\" colspan=\"3\" style=\"text-align:center;background-color:transparent;color:black;background-color:#8DB1C3;color:#FFF;\">Carl Sagan</th></tr><tr><td colspan=\"3\" style=\"text-align:center;padding:0.2em; line-height:1.3em; vertical-align:middle;;\">\n",
       "<a class=\"image\" href=\"/wiki/Archivo:Carl_Sagan,_1994.jpg\"><img alt=\"Carl Sagan, 1994.jpg\" data-file-height=\"2095\" data-file-width=\"1324\" decoding=\"async\" height=\"364\" src=\"//upload.wikimedia.org/wikipedia/commons/thumb/0/09/Carl_Sagan%2C_1994.jpg/230px-Carl_Sagan%2C_1994.jpg\" srcset=\"//upload.wikimedia.org/wikipedia/commons/thumb/0/09/Carl_Sagan%2C_1994.jpg/345px-Carl_Sagan%2C_1994.jpg 1.5x, //upload.wikimedia.org/wikipedia/commons/thumb/0/09/Carl_Sagan%2C_1994.jpg/460px-Carl_Sagan%2C_1994.jpg 2x\" width=\"230\"/></a><br/><div style=\"display:inline;\">Carl Sagan en <a href=\"/wiki/1994\" title=\"1994\">1994</a></div></td></tr><tr><th colspan=\"3\" style=\"text-align:center;background-color:#8DB1C3;color:#FFF;\">Información personal</th></tr><tr><th scope=\"row\" style=\"text-align:left;width:33%;\">Nombre de nacimiento</th><td colspan=\"2\" style=\"padding:0.2em; line-height:1.3em; vertical-align:middle;;\">\n",
       "Carl Edward Sagan<span class=\"wikidata-link noprint\"> <a href=\"https://www.wikidata.org/wiki/Q410?uselang=es#P1477\" title=\"Ver y modificar los datos en Wikidata\"><img alt=\"Ver y modificar los datos en Wikidata\" data-file-height=\"600\" data-file-width=\"600\" decoding=\"async\" height=\"10\" src=\"//upload.wikimedia.org/wikipedia/commons/thumb/7/73/Blue_pencil.svg/10px-Blue_pencil.svg.png\" srcset=\"//upload.wikimedia.org/wikipedia/commons/thumb/7/73/Blue_pencil.svg/15px-Blue_pencil.svg.png 1.5x, //upload.wikimedia.org/wikipedia/commons/thumb/7/73/Blue_pencil.svg/20px-Blue_pencil.svg.png 2x\" style=\"vertical-align: baseline\" width=\"10\"/></a></span></td></tr><tr><th scope=\"row\" style=\"text-align:left;width:33%;\">Nacimiento</th><td colspan=\"2\" style=\"padding:0.2em; line-height:1.3em; vertical-align:middle;;\">\n",
       "<a href=\"/wiki/9_de_noviembre\" title=\"9 de noviembre\">9 de noviembre</a> de <a href=\"/wiki/1934\" title=\"1934\">1934</a><br/><a href=\"/wiki/Nueva_York\" title=\"Nueva York\">Nueva York</a>, <a href=\"/wiki/Nueva_York_(estado)\" title=\"Nueva York (estado)\">Nueva York</a>, <a href=\"/wiki/Estados_Unidos\" title=\"Estados Unidos\">Estados Unidos</a></td></tr><tr><th scope=\"row\" style=\"text-align:left;width:33%;\">Fallecimiento</th><td colspan=\"2\" style=\"padding:0.2em; line-height:1.3em; vertical-align:middle;;\">\n",
       "<a href=\"/wiki/20_de_diciembre\" title=\"20 de diciembre\">20 de diciembre</a> de <a href=\"/wiki/1996\" title=\"1996\">1996</a><br/>(62 años)<br/><a href=\"/wiki/Seattle\" title=\"Seattle\">Seattle</a>, <a href=\"/wiki/Washington_(estado)\" title=\"Washington (estado)\">Washington</a>, <a href=\"/wiki/Estados_Unidos\" title=\"Estados Unidos\">Estados Unidos</a></td></tr><tr><th scope=\"row\" style=\"text-align:left;width:33%;\">Causa de la muerte</th><td colspan=\"2\" style=\"padding:0.2em; line-height:1.3em; vertical-align:middle;;\">\n",
       "<a href=\"/wiki/Neumon%C3%ADa\" title=\"Neumonía\">Neumonía</a><span class=\"wikidata-link noprint\"> <a href=\"https://www.wikidata.org/wiki/Q410?uselang=es#P509\" title=\"Ver y modificar los datos en Wikidata\"><img alt=\"Ver y modificar los datos en Wikidata\" data-file-height=\"600\" data-file-width=\"600\" decoding=\"async\" height=\"10\" src=\"//upload.wikimedia.org/wikipedia/commons/thumb/7/73/Blue_pencil.svg/10px-Blue_pencil.svg.png\" srcset=\"//upload.wikimedia.org/wikipedia/commons/thumb/7/73/Blue_pencil.svg/15px-Blue_pencil.svg.png 1.5x, //upload.wikimedia.org/wikipedia/commons/thumb/7/73/Blue_pencil.svg/20px-Blue_pencil.svg.png 2x\" style=\"vertical-align: baseline\" width=\"10\"/></a></span></td></tr><tr><th scope=\"row\" style=\"text-align:left;width:33%;\">Sepultura</th><td colspan=\"2\" style=\"padding:0.2em; line-height:1.3em; vertical-align:middle;;\">\n",
       "<a href=\"/wiki/Ithaca_(Nueva_York)\" title=\"Ithaca (Nueva York)\">Ithaca</a><span class=\"wikidata-link noprint\"> <a href=\"https://www.wikidata.org/wiki/Q410?uselang=es#P119\" title=\"Ver y modificar los datos en Wikidata\"><img alt=\"Ver y modificar los datos en Wikidata\" data-file-height=\"600\" data-file-width=\"600\" decoding=\"async\" height=\"10\" src=\"//upload.wikimedia.org/wikipedia/commons/thumb/7/73/Blue_pencil.svg/10px-Blue_pencil.svg.png\" srcset=\"//upload.wikimedia.org/wikipedia/commons/thumb/7/73/Blue_pencil.svg/15px-Blue_pencil.svg.png 1.5x, //upload.wikimedia.org/wikipedia/commons/thumb/7/73/Blue_pencil.svg/20px-Blue_pencil.svg.png 2x\" style=\"vertical-align: baseline\" width=\"10\"/></a></span></td></tr><tr><th scope=\"row\" style=\"text-align:left;width:33%;\">Nacionalidad</th><td class=\"category\" colspan=\"2\" style=\"padding:0.2em; line-height:1.3em; vertical-align:middle;;\">\n",
       "Estadounidense</td></tr><tr><th scope=\"row\" style=\"text-align:left;width:33%;\">Religión</th><td colspan=\"2\" style=\"padding:0.2em; line-height:1.3em; vertical-align:middle;;\">\n",
       "Agnóstico</td></tr><tr><th colspan=\"3\" style=\"text-align:center;background-color:#8DB1C3;color:#FFF;\">Familia</th></tr><tr><th scope=\"row\" style=\"text-align:left;width:33%;\">Padres</th><td class=\"plainlist\" colspan=\"2\" style=\"padding:0.2em; line-height:1.3em; vertical-align:middle;;\">\n",
       "Samuel Sagan (1905-1979)<br/>Rachel Molly Gruber (1907-1982)</td></tr><tr><th scope=\"row\" style=\"text-align:left;width:33%;\">Cónyuge</th><td class=\"plainlist\" colspan=\"2\" style=\"padding:0.2em; line-height:1.3em; vertical-align:middle;;\">\n",
       "<a href=\"/wiki/Lynn_Margulis\" title=\"Lynn Margulis\">Lynn Margulis</a> (1957-1965)<br/><a class=\"new\" href=\"/w/index.php?title=Linda_Salzman&amp;action=edit&amp;redlink=1\" title=\"Linda Salzman (aún no redactado)\">Linda Salzman</a> (1968-1978)<br/><a href=\"/wiki/Ann_Druyan\" title=\"Ann Druyan\">Ann Druyan</a> (1981-1996)</td></tr><tr><th scope=\"row\" style=\"text-align:left;width:33%;\">Hijos</th><td class=\"plainlist\" colspan=\"2\" style=\"padding:0.2em; line-height:1.3em; vertical-align:middle;;\">\n",
       "<a href=\"/wiki/Dorion_Sagan\" title=\"Dorion Sagan\">Dorion Solomon Sagan</a> (1959)<br/><a href=\"/wiki/Jeremy_Sagan\" title=\"Jeremy Sagan\">Jeremy Ethan Sagan</a> (1960)<br/><a href=\"/wiki/Nick_Sagan\" title=\"Nick Sagan\">Nicholas Julian Zapata \"Nick\" Sagan</a> (1970)<br/>Alexandra Rachel \"Sasha\" Druyan Sagan (1982)<br/>Samuel Democritus \"Sam\" Druyan Sagan (1991)</td></tr><tr><th colspan=\"3\" style=\"text-align:center;background-color:#8DB1C3;color:#FFF;\">Educación</th></tr><tr><th scope=\"row\" style=\"text-align:left;width:33%;\">Educado en</th><td class=\"plainlist\" colspan=\"2\" style=\"padding:0.2em; line-height:1.3em; vertical-align:middle;;\">\n",
       "<a href=\"/wiki/Universidad_de_Chicago\" title=\"Universidad de Chicago\">Universidad de Chicago</a></td></tr><tr><th scope=\"row\" style=\"text-align:left;width:33%;\">Supervisor doctoral</th><td colspan=\"2\" style=\"padding:0.2em; line-height:1.3em; vertical-align:middle;;\">\n",
       "<a href=\"/wiki/Gerard_Kuiper\" title=\"Gerard Kuiper\">Gerard Kuiper</a><span class=\"wikidata-link noprint\"> <a href=\"https://www.wikidata.org/wiki/Q410?uselang=es#P184\" title=\"Ver y modificar los datos en Wikidata\"><img alt=\"Ver y modificar los datos en Wikidata\" data-file-height=\"600\" data-file-width=\"600\" decoding=\"async\" height=\"10\" src=\"//upload.wikimedia.org/wikipedia/commons/thumb/7/73/Blue_pencil.svg/10px-Blue_pencil.svg.png\" srcset=\"//upload.wikimedia.org/wikipedia/commons/thumb/7/73/Blue_pencil.svg/15px-Blue_pencil.svg.png 1.5x, //upload.wikimedia.org/wikipedia/commons/thumb/7/73/Blue_pencil.svg/20px-Blue_pencil.svg.png 2x\" style=\"vertical-align: baseline\" width=\"10\"/></a></span></td></tr><tr><th colspan=\"3\" style=\"text-align:center;background-color:#8DB1C3;color:#FFF;\">Información profesional</th></tr><tr><th scope=\"row\" style=\"text-align:left;width:33%;\">Área</th><td colspan=\"2\" style=\"padding:0.2em; line-height:1.3em; vertical-align:middle;;\">\n",
       "<a href=\"/wiki/Astrof%C3%ADsica\" title=\"Astrofísica\">Astrofísica</a>, <a href=\"/wiki/Astronom%C3%ADa\" title=\"Astronomía\">astronomía</a>, <a class=\"mw-redirect\" href=\"/wiki/Exobiolog%C3%ADa\" title=\"Exobiología\">exobiología</a>, <a href=\"/wiki/Cosmolog%C3%ADa\" title=\"Cosmología\">cosmología</a>, <a href=\"/wiki/Literatura\" title=\"Literatura\">literatura</a>, <a href=\"/wiki/Divulgaci%C3%B3n_cient%C3%ADfica\" title=\"Divulgación científica\">divulgación científica</a></td></tr><tr><th scope=\"row\" style=\"text-align:left;width:33%;\">Conocido por</th><td colspan=\"2\" style=\"padding:0.2em; line-height:1.3em; vertical-align:middle;;\">\n",
       "<a href=\"/wiki/SETI\" title=\"SETI\">SETI</a><br/><i><a class=\"mw-redirect\" href=\"/wiki/Cosmos:_Un_viaje_personal\" title=\"Cosmos: Un viaje personal\">Cosmos: Un viaje personal</a></i><br/><i><a href=\"/wiki/Cosmos_(libro)\" title=\"Cosmos (libro)\">Cosmos</a></i><br/><a href=\"/wiki/Disco_de_oro_de_las_Voyager\" title=\"Disco de oro de las Voyager\">Disco de oro de las Voyager</a><br/><a href=\"/wiki/Placa_de_la_Pioneer\" title=\"Placa de la Pioneer\">Placa de la Pioneer</a><br/><i><a href=\"/wiki/Contact_(novela)\" title=\"Contact (novela)\">Contacto</a></i><br/><i><a href=\"/wiki/Un_punto_azul_p%C3%A1lido_(libro)\" title=\"Un punto azul pálido (libro)\">Un punto azul pálido</a></i></td></tr><tr><th scope=\"row\" style=\"text-align:left;width:33%;\">Empleador</th><td class=\"plainlist\" colspan=\"2\" style=\"padding:0.2em; line-height:1.3em; vertical-align:middle;;\">\n",
       "<a href=\"/wiki/Universidad_de_California_en_Berkeley\" title=\"Universidad de California en Berkeley\">Universidad de California en Berkeley</a> (1960-62)<br/><a href=\"/wiki/Universidad_de_Harvard\" title=\"Universidad de Harvard\">Universidad de Harvard</a> (1962-68)<br/><a class=\"mw-redirect\" href=\"/wiki/Observatorio_Astrof%C3%ADsico_Smithsonian\" title=\"Observatorio Astrofísico Smithsonian\">Observatorio Astrofísico Smithsonian</a> (1962-68)<br/><a href=\"/wiki/Universidad_Cornell\" title=\"Universidad Cornell\">Universidad Cornell</a> (1968-96)</td></tr><tr><th scope=\"row\" style=\"text-align:left;width:33%;\">Estudiantes doctorales</th><td colspan=\"2\" style=\"padding:0.2em; line-height:1.3em; vertical-align:middle;;\">\n",
       "<a href=\"/wiki/James_B._Pollack\" title=\"James B. Pollack\">James B. Pollack</a><span class=\"wikidata-link noprint\"> <a href=\"https://www.wikidata.org/wiki/Q410?uselang=es#P185\" title=\"Ver y modificar los datos en Wikidata\"><img alt=\"Ver y modificar los datos en Wikidata\" data-file-height=\"600\" data-file-width=\"600\" decoding=\"async\" height=\"10\" src=\"//upload.wikimedia.org/wikipedia/commons/thumb/7/73/Blue_pencil.svg/10px-Blue_pencil.svg.png\" srcset=\"//upload.wikimedia.org/wikipedia/commons/thumb/7/73/Blue_pencil.svg/15px-Blue_pencil.svg.png 1.5x, //upload.wikimedia.org/wikipedia/commons/thumb/7/73/Blue_pencil.svg/20px-Blue_pencil.svg.png 2x\" style=\"vertical-align: baseline\" width=\"10\"/></a></span></td></tr><tr><th scope=\"row\" style=\"text-align:left;width:33%;\">Alumnos</th><td colspan=\"2\" style=\"padding:0.2em; line-height:1.3em; vertical-align:middle;;\">\n",
       "James B. Pollack, <a href=\"/wiki/Neil_deGrasse_Tyson\" title=\"Neil deGrasse Tyson\">Neil deGrasse Tyson</a> y <a href=\"/wiki/Bill_Nye\" title=\"Bill Nye\">Bill Nye</a><span class=\"wikidata-link noprint\"> <a href=\"https://www.wikidata.org/wiki/Q410?uselang=es#P802\" title=\"Ver y modificar los datos en Wikidata\"><img alt=\"Ver y modificar los datos en Wikidata\" data-file-height=\"600\" data-file-width=\"600\" decoding=\"async\" height=\"10\" src=\"//upload.wikimedia.org/wikipedia/commons/thumb/7/73/Blue_pencil.svg/10px-Blue_pencil.svg.png\" srcset=\"//upload.wikimedia.org/wikipedia/commons/thumb/7/73/Blue_pencil.svg/15px-Blue_pencil.svg.png 1.5x, //upload.wikimedia.org/wikipedia/commons/thumb/7/73/Blue_pencil.svg/20px-Blue_pencil.svg.png 2x\" style=\"vertical-align: baseline\" width=\"10\"/></a></span></td></tr><tr><th scope=\"row\" style=\"text-align:left;width:33%;\">Obras notables</th><td class=\"plainlist\" colspan=\"2\" style=\"padding:0.2em; line-height:1.3em; vertical-align:middle;;\">\n",
       "<ul><li><i><a href=\"/wiki/El_mundo_y_sus_demonios\" title=\"El mundo y sus demonios\">El mundo y sus demonios</a></i></li><li><i><a href=\"/wiki/Un_punto_azul_p%C3%A1lido_(libro)\" title=\"Un punto azul pálido (libro)\">Un punto azul pálido</a></i></li><li><i><a href=\"/wiki/Cosmos_(libro)\" title=\"Cosmos (libro)\">Cosmos</a></i></li><li><i><a href=\"/wiki/Contact_(novela)\" title=\"Contact (novela)\">Contact</a></i></li><li><i><a href=\"/wiki/Cosmos:_un_viaje_personal\" title=\"Cosmos: un viaje personal\">Cosmos: un viaje personal</a></i></li><li><i><a href=\"/wiki/El_cerebro_de_Broca\" title=\"El cerebro de Broca\">El cerebro de Broca</a></i><span class=\"wikidata-link noprint\"> <a href=\"https://www.wikidata.org/wiki/Q410?uselang=es#P800\" title=\"Ver y modificar los datos en Wikidata\"><img alt=\"Ver y modificar los datos en Wikidata\" data-file-height=\"600\" data-file-width=\"600\" decoding=\"async\" height=\"10\" src=\"//upload.wikimedia.org/wikipedia/commons/thumb/7/73/Blue_pencil.svg/10px-Blue_pencil.svg.png\" srcset=\"//upload.wikimedia.org/wikipedia/commons/thumb/7/73/Blue_pencil.svg/15px-Blue_pencil.svg.png 1.5x, //upload.wikimedia.org/wikipedia/commons/thumb/7/73/Blue_pencil.svg/20px-Blue_pencil.svg.png 2x\" style=\"vertical-align: baseline\" width=\"10\"/></a></span></li></ul></td></tr><tr><th scope=\"row\" style=\"text-align:left;width:33%;\">Miembro de</th><td class=\"plainlist\" colspan=\"2\" style=\"padding:0.2em; line-height:1.3em; vertical-align:middle;;\">\n",
       "<ul><li><a href=\"/wiki/American_Philosophical_Society\" title=\"American Philosophical Society\">Sociedad Filosófica Estadounidense</a></li><li><a href=\"/wiki/Academia_Estadounidense_de_las_Artes_y_las_Ciencias\" title=\"Academia Estadounidense de las Artes y las Ciencias\">Academia Estadounidense de las Artes y las Ciencias</a></li><li><a href=\"/wiki/Uni%C3%B3n_Astron%C3%B3mica_Internacional\" title=\"Unión Astronómica Internacional\">Unión Astronómica Internacional</a></li><li><a href=\"/wiki/American_Astronomical_Society\" title=\"American Astronomical Society\">American Astronomical Society</a></li><li><a href=\"/wiki/Asociaci%C3%B3n_Estadounidense_para_el_Avance_de_la_Ciencia\" title=\"Asociación Estadounidense para el Avance de la Ciencia\">Asociación Estadounidense para el Avance de la Ciencia</a></li><li><a href=\"/wiki/American_Physical_Society\" title=\"American Physical Society\">American Physical Society</a></li><li><a href=\"/wiki/Proyecto_A119\" title=\"Proyecto A119\">Proyecto A119</a><span class=\"wikidata-link noprint\"> <a href=\"https://www.wikidata.org/wiki/Q410?uselang=es#P463\" title=\"Ver y modificar los datos en Wikidata\"><img alt=\"Ver y modificar los datos en Wikidata\" data-file-height=\"600\" data-file-width=\"600\" decoding=\"async\" height=\"10\" src=\"//upload.wikimedia.org/wikipedia/commons/thumb/7/73/Blue_pencil.svg/10px-Blue_pencil.svg.png\" srcset=\"//upload.wikimedia.org/wikipedia/commons/thumb/7/73/Blue_pencil.svg/15px-Blue_pencil.svg.png 1.5x, //upload.wikimedia.org/wikipedia/commons/thumb/7/73/Blue_pencil.svg/20px-Blue_pencil.svg.png 2x\" style=\"vertical-align: baseline\" width=\"10\"/></a></span></li></ul></td></tr><tr><th scope=\"row\" style=\"text-align:left;width:33%;\">Distinciones</th><td class=\"plainlist\" colspan=\"2\" style=\"padding:0.2em; line-height:1.3em; vertical-align:middle;;\">\n",
       "<a href=\"/wiki/Medalla_de_la_NASA_al_Servicio_P%C3%BAblico_Distinguido\" title=\"Medalla de la NASA al Servicio Público Distinguido\">Medalla de la NASA al Servicio Público Distinguido</a> (1977)<br/><a href=\"/wiki/Premio_Pulitzer\" title=\"Premio Pulitzer\">Premio Pulitzer</a> de Literatura General No Ficción (1978)<br/><a href=\"/wiki/Medalla_Oersted\" title=\"Medalla Oersted\">Medalla Oersted</a> (1990)<br/><a href=\"/wiki/Medalla_de_Bienestar_P%C3%BAblico\" title=\"Medalla de Bienestar Público\">Medalla de Bienestar Público</a> (1994)</td></tr><tr><th scope=\"row\" style=\"text-align:left;width:33%;\">Firma</th><td class=\"biography vcard\" colspan=\"2\" style=\"padding:0.2em; line-height:1.3em; vertical-align:middle;;\">\n",
       "<a class=\"image\" href=\"/wiki/Archivo:Carl_Sagan_Signature.svg\"><img alt=\"Carl Sagan Signature.svg\" data-file-height=\"125\" data-file-width=\"804\" decoding=\"async\" height=\"27\" src=\"//upload.wikimedia.org/wikipedia/commons/thumb/c/c1/Carl_Sagan_Signature.svg/175px-Carl_Sagan_Signature.svg.png\" srcset=\"//upload.wikimedia.org/wikipedia/commons/thumb/c/c1/Carl_Sagan_Signature.svg/263px-Carl_Sagan_Signature.svg.png 1.5x, //upload.wikimedia.org/wikipedia/commons/thumb/c/c1/Carl_Sagan_Signature.svg/350px-Carl_Sagan_Signature.svg.png 2x\" width=\"175\"/></a></td></tr><tr><th colspan=\"3\" style=\"text-align:center;background-color:#8DB1C3;color:#FFF;\">Web</th></tr><tr><th scope=\"row\" style=\"text-align:left;width:33%;\">Sitio web</th><td class=\"plainlinks\" colspan=\"2\" style=\"padding:0.2em; line-height:1.3em; vertical-align:middle;;\">\n",
       "<div style=\"width:14.66em;overflow:hidden;text-overflow:ellipsis;white-space: nowrap;\"><a class=\"external text\" href=\"http://carlsagan.com/\" rel=\"nofollow\">carlsagan.com</a><span class=\"wikidata-link noprint\"> <a href=\"https://www.wikidata.org/wiki/Q410?uselang=es#P856\" title=\"Ver y modificar los datos en Wikidata\"><img alt=\"Ver y modificar los datos en Wikidata\" data-file-height=\"600\" data-file-width=\"600\" decoding=\"async\" height=\"10\" src=\"//upload.wikimedia.org/wikipedia/commons/thumb/7/73/Blue_pencil.svg/10px-Blue_pencil.svg.png\" srcset=\"//upload.wikimedia.org/wikipedia/commons/thumb/7/73/Blue_pencil.svg/15px-Blue_pencil.svg.png 1.5x, //upload.wikimedia.org/wikipedia/commons/thumb/7/73/Blue_pencil.svg/20px-Blue_pencil.svg.png 2x\" style=\"vertical-align: baseline\" width=\"10\"/></a></span></div></td></tr><tr><td class=\"noprint\" colspan=\"3\" style=\"text-align:left;\"><div class=\"plainlinks wikidata-link\" style=\"font-size: 0.85em\">[<a class=\"extiw\" href=\"https://www.wikidata.org/wiki/Q410\" title=\"d:Q410\">editar datos en Wikidata</a>]</div></td></tr></tbody></table>\n",
       "<p><b>Carl Edward Sagan</b> (<a href=\"/wiki/Nueva_York\" title=\"Nueva York\">Nueva York</a>, <a href=\"/wiki/9_de_noviembre\" title=\"9 de noviembre\">9 de noviembre</a> de <a href=\"/wiki/1934\" title=\"1934\">1934</a>-<a href=\"/wiki/Seattle\" title=\"Seattle\">Seattle</a>, <a href=\"/wiki/20_de_diciembre\" title=\"20 de diciembre\">20 de diciembre</a> de <a href=\"/wiki/1996\" title=\"1996\">1996</a>) fue un <a href=\"/wiki/Astronom%C3%ADa\" title=\"Astronomía\">astrónomo</a>, <a href=\"/wiki/Astrof%C3%ADsica\" title=\"Astrofísica\">astrofísico</a>, <a href=\"/wiki/Cosmolog%C3%ADa\" title=\"Cosmología\">cosmólogo</a>, <a href=\"/wiki/Astrobiolog%C3%ADa\" title=\"Astrobiología\">astrobiólogo</a>, escritor y divulgador científico <a href=\"/wiki/Nacionalidad_estadounidense\" title=\"Nacionalidad estadounidense\">estadounidense</a>. Inicialmente fue profesor asociado de la <a href=\"/wiki/Universidad_de_Harvard\" title=\"Universidad de Harvard\">Universidad de Harvard</a> y posteriormente profesor principal de la <a class=\"mw-redirect\" href=\"/wiki/Universidad_de_Cornell\" title=\"Universidad de Cornell\">Universidad de Cornell</a>. En esta última, fue el primer científico en ocupar la <a class=\"new\" href=\"/w/index.php?title=C%C3%A1tedra_David_Duncan_de_Astronom%C3%ADa_y_Ciencias_del_Espacio&amp;action=edit&amp;redlink=1\" title=\"Cátedra David Duncan de Astronomía y Ciencias del Espacio (aún no redactado)\">Cátedra David Duncan de Astronomía y Ciencias del Espacio</a>, creada en <a href=\"/wiki/1976\" title=\"1976\">1976</a>, y además director del <a class=\"new\" href=\"/w/index.php?title=Laboratorio_de_Estudios_Planetarios&amp;action=edit&amp;redlink=1\" title=\"Laboratorio de Estudios Planetarios (aún no redactado)\">Laboratorio de Estudios Planetarios</a>.\n",
       "</p><p>Fue un defensor del <a href=\"/wiki/Escepticismo_cient%C3%ADfico\" title=\"Escepticismo científico\">pensamiento escéptico científico</a> y del <a href=\"/wiki/M%C3%A9todo_cient%C3%ADfico\" title=\"Método científico\">método científico</a>, pionero de la <a class=\"mw-redirect\" href=\"/wiki/Exobiolog%C3%ADa\" title=\"Exobiología\">exobiología</a>, promotor de la búsqueda de inteligencia extraterrestre a través del proyecto <a href=\"/wiki/SETI\" title=\"SETI\">SETI</a>. Impulsó el envío de mensajes a bordo de <a href=\"/wiki/Sonda_espacial\" title=\"Sonda espacial\">sondas espaciales</a>, destinados a informar a posibles civilizaciones extraterrestres acerca de la cultura humana. Mediante sus observaciones de la atmósfera de <a href=\"/wiki/Venus_(planeta)\" title=\"Venus (planeta)\">Venus</a>, fue de los primeros científicos en estudiar el <a href=\"/wiki/Efecto_invernadero\" title=\"Efecto invernadero\">efecto invernadero</a> a escala planetaria.\n",
       "</p><p>Carl Sagan ganó gran popularidad gracias a la galardonada serie documental de TV <i><a class=\"mw-redirect\" href=\"/wiki/Cosmos:_Un_viaje_personal\" title=\"Cosmos: Un viaje personal\">Cosmos: Un viaje personal</a></i>, producida en 1980, de la que fue narrador y coautor. También publicó numerosos artículos científicos,<sup class=\"reference separada\" id=\"cite_ref-1\"><a href=\"#cite_note-1\"><span class=\"corchete-llamada\">[</span>1<span class=\"corchete-llamada\">]</span></a></sup>​ y fue autor, coautor o editor de más de una veintena de libros de divulgación científica, siendo los más populares sus libros <i><a href=\"/wiki/Cosmos_(libro)\" title=\"Cosmos (libro)\">Cosmos</a></i>, publicados como complemento de la serie, y <i><a href=\"/wiki/Contact_(novela)\" title=\"Contact (novela)\">Contacto</a></i>, en el que se basa la <a href=\"/wiki/Contact_(pel%C3%ADcula)\" title=\"Contact (película)\">película homónima</a> de 1997. En 1978 ganó el <a href=\"/wiki/Premio_Pulitzer\" title=\"Premio Pulitzer\">Premio Pulitzer</a> de Literatura General de No Ficción por su libro <i><a href=\"/wiki/Los_dragones_del_Ed%C3%A9n\" title=\"Los dragones del Edén\">Los dragones del Edén</a></i>.\n",
       "</p><p>A lo largo de su vida, Sagan recibió numerosos premios y condecoraciones por su labor como comunicador de la ciencia y la cultura. Hoy es considerado uno de los divulgadores de la ciencia más carismáticos e influyentes, gracias a su capacidad de transmitir las ideas científicas y los aspectos culturales al público no especializado con sencillez no exenta de rigor.\n",
       "</p>\n",
       "<div aria-labelledby=\"mw-toc-heading\" class=\"toc\" id=\"toc\" role=\"navigation\"><input class=\"toctogglecheckbox\" id=\"toctogglecheckbox\" role=\"button\" style=\"display:none\" type=\"checkbox\"/><div class=\"toctitle\" dir=\"ltr\" lang=\"es\"><h2 id=\"mw-toc-heading\">Índice</h2><span class=\"toctogglespan\"><label class=\"toctogglelabel\" for=\"toctogglecheckbox\"></label></span></div>\n",
       "<ul>\n",
       "<li class=\"toclevel-1 tocsection-1\"><a href=\"#Infancia_y_adolescencia\"><span class=\"tocnumber\">1</span> <span class=\"toctext\">Infancia y adolescencia</span></a>\n",
       "<ul>\n",
       "<li class=\"toclevel-2 tocsection-2\"><a href=\"#La_Exposición_Universal_de_1939\"><span class=\"tocnumber\">1.1</span> <span class=\"toctext\">La Exposición Universal de 1939</span></a></li>\n",
       "<li class=\"toclevel-2 tocsection-3\"><a href=\"#La_II_Guerra_Mundial\"><span class=\"tocnumber\">1.2</span> <span class=\"toctext\">La II Guerra Mundial</span></a></li>\n",
       "<li class=\"toclevel-2 tocsection-4\"><a href=\"#Curiosidad_por_la_naturaleza\"><span class=\"tocnumber\">1.3</span> <span class=\"toctext\">Curiosidad por la naturaleza</span></a></li>\n",
       "</ul>\n",
       "</li>\n",
       "<li class=\"toclevel-1 tocsection-5\"><a href=\"#Formación_y_carrera_científica\"><span class=\"tocnumber\">2</span> <span class=\"toctext\">Formación y carrera científica</span></a></li>\n",
       "<li class=\"toclevel-1 tocsection-6\"><a href=\"#Logros_científicos\"><span class=\"tocnumber\">3</span> <span class=\"toctext\">Logros científicos</span></a></li>\n",
       "<li class=\"toclevel-1 tocsection-7\"><a href=\"#Activismo\"><span class=\"tocnumber\">4</span> <span class=\"toctext\">Activismo</span></a>\n",
       "<ul>\n",
       "<li class=\"toclevel-2 tocsection-8\"><a href=\"#Pacifista\"><span class=\"tocnumber\">4.1</span> <span class=\"toctext\">Pacifista</span></a></li>\n",
       "<li class=\"toclevel-2 tocsection-9\"><a href=\"#Búsqueda_de_vida_extraterrestre\"><span class=\"tocnumber\">4.2</span> <span class=\"toctext\">Búsqueda de vida extraterrestre</span></a></li>\n",
       "<li class=\"toclevel-2 tocsection-10\"><a href=\"#Defensor_de_la_marihuana\"><span class=\"tocnumber\">4.3</span> <span class=\"toctext\">Defensor de la marihuana</span></a></li>\n",
       "</ul>\n",
       "</li>\n",
       "<li class=\"toclevel-1 tocsection-11\"><a href=\"#Vida_privada,_ideas_y_creencias\"><span class=\"tocnumber\">5</span> <span class=\"toctext\">Vida privada, ideas y creencias</span></a>\n",
       "<ul>\n",
       "<li class=\"toclevel-2 tocsection-12\"><a href=\"#Matrimonios_y_descendencia\"><span class=\"tocnumber\">5.1</span> <span class=\"toctext\">Matrimonios y descendencia</span></a></li>\n",
       "<li class=\"toclevel-2 tocsection-13\"><a href=\"#Ciencia_y_religión\"><span class=\"tocnumber\">5.2</span> <span class=\"toctext\">Ciencia y religión</span></a></li>\n",
       "<li class=\"toclevel-2 tocsection-14\"><a href=\"#Librepensador_y_escéptico\"><span class=\"tocnumber\">5.3</span> <span class=\"toctext\">Librepensador y escéptico</span></a></li>\n",
       "<li class=\"toclevel-2 tocsection-15\"><a href=\"#El_fenómeno_ovni\"><span class=\"tocnumber\">5.4</span> <span class=\"toctext\">El fenómeno ovni</span></a></li>\n",
       "<li class=\"toclevel-2 tocsection-16\"><a href=\"#Dilema_de_la_desviación\"><span class=\"tocnumber\">5.5</span> <span class=\"toctext\">Dilema de la desviación</span></a></li>\n",
       "<li class=\"toclevel-2 tocsection-17\"><a href=\"#Hipótesis_errónea\"><span class=\"tocnumber\">5.6</span> <span class=\"toctext\">Hipótesis errónea</span></a></li>\n",
       "<li class=\"toclevel-2 tocsection-18\"><a href=\"#2001:_Una_odisea_del_espacio\"><span class=\"tocnumber\">5.7</span> <span class=\"toctext\"><i>2001: Una odisea del espacio</i></span></a></li>\n",
       "</ul>\n",
       "</li>\n",
       "<li class=\"toclevel-1 tocsection-19\"><a href=\"#El_caso_Apple\"><span class=\"tocnumber\">6</span> <span class=\"toctext\">El caso Apple</span></a></li>\n",
       "<li class=\"toclevel-1 tocsection-20\"><a href=\"#Enfermedad_y_fallecimiento\"><span class=\"tocnumber\">7</span> <span class=\"toctext\">Enfermedad y fallecimiento</span></a></li>\n",
       "<li class=\"toclevel-1 tocsection-21\"><a href=\"#Reconocimientos_y_premios\"><span class=\"tocnumber\">8</span> <span class=\"toctext\">Reconocimientos y premios</span></a>\n",
       "<ul>\n",
       "<li class=\"toclevel-2 tocsection-22\"><a href=\"#Reconocimiento_póstumo\"><span class=\"tocnumber\">8.1</span> <span class=\"toctext\">Reconocimiento póstumo</span></a></li>\n",
       "<li class=\"toclevel-2 tocsection-23\"><a href=\"#Miles_de_millones\"><span class=\"tocnumber\">8.2</span> <span class=\"toctext\">Miles de millones</span></a></li>\n",
       "</ul>\n",
       "</li>\n",
       "<li class=\"toclevel-1 tocsection-24\"><a href=\"#Obra_divulgativa\"><span class=\"tocnumber\">9</span> <span class=\"toctext\">Obra divulgativa</span></a>\n",
       "<ul>\n",
       "<li class=\"toclevel-2 tocsection-25\"><a href=\"#Otros_libros\"><span class=\"tocnumber\">9.1</span> <span class=\"toctext\">Otros libros</span></a></li>\n",
       "<li class=\"toclevel-2 tocsection-26\"><a href=\"#Serie_Cosmos\"><span class=\"tocnumber\">9.2</span> <span class=\"toctext\">Serie Cosmos</span></a></li>\n",
       "<li class=\"toclevel-2 tocsection-27\"><a href=\"#El_«efecto_Sagan»\"><span class=\"tocnumber\">9.3</span> <span class=\"toctext\">El «efecto Sagan»</span></a></li>\n",
       "</ul>\n",
       "</li>\n",
       "<li class=\"toclevel-1 tocsection-28\"><a href=\"#Carl_Sagan_en_la_cultura_popular\"><span class=\"tocnumber\">10</span> <span class=\"toctext\">Carl Sagan en la cultura popular</span></a></li>\n",
       "<li class=\"toclevel-1 tocsection-29\"><a href=\"#Véase_también\"><span class=\"tocnumber\">11</span> <span class=\"toctext\">Véase también</span></a></li>\n",
       "<li class=\"toclevel-1 tocsection-30\"><a href=\"#Referencias\"><span class=\"tocnumber\">12</span> <span class=\"toctext\">Referencias</span></a></li>\n",
       "<li class=\"toclevel-1 tocsection-31\"><a href=\"#Bibliografía\"><span class=\"tocnumber\">13</span> <span class=\"toctext\">Bibliografía</span></a></li>\n",
       "<li class=\"toclevel-1 tocsection-32\"><a href=\"#Enlaces_externos\"><span class=\"tocnumber\">14</span> <span class=\"toctext\">Enlaces externos</span></a></li>\n",
       "</ul>\n",
       "</div>\n",
       "<h2><span class=\"mw-headline\" id=\"Infancia_y_adolescencia\">Infancia y adolescencia</span><span class=\"mw-editsection\"><span class=\"mw-editsection-bracket\">[</span><a href=\"/w/index.php?title=Carl_Sagan&amp;action=edit&amp;section=1\" title=\"Editar sección: Infancia y adolescencia\">editar</a><span class=\"mw-editsection-bracket\">]</span></span></h2>\n",
       "<p>Nació en <a href=\"/wiki/Brooklyn\" title=\"Brooklyn\">Brooklyn</a>, Nueva York,<sup class=\"reference separada\" id=\"cite_ref-Poundstone1_2-0\"><a href=\"#cite_note-Poundstone1-2\"><span class=\"corchete-llamada\">[</span>2<span class=\"corchete-llamada\">]</span></a></sup>​ en una familia de judíos ucranianos. Su padre, Sam Sagan, era un obrero de la industria textil nacido en <a class=\"mw-redirect\" href=\"/wiki/Kamianets-Podilsky\" title=\"Kamianets-Podilsky\">Kamianets-Podilsky</a>, <a href=\"/wiki/Ucrania\" title=\"Ucrania\">Ucrania</a>,<sup class=\"reference separada\" id=\"cite_ref-Internet_Accuracy_Project_3-0\"><a href=\"#cite_note-Internet_Accuracy_Project-3\"><span class=\"corchete-llamada\">[</span>3<span class=\"corchete-llamada\">]</span></a></sup>​ y su madre, Rachel Molly Gruber, era ama de casa. Carl recibió su nombre en honor de la madre biológica de Rachel, Chaiya Clara, en palabras de Sagan \"la madre que ella nunca conoció\". Tenía una hermana llamada Carol.\n",
       "</p><p>La familia vivía en un modesto apartamento cerca del océano Atlántico, en <a class=\"new\" href=\"/w/index.php?title=Bensonhurst&amp;action=edit&amp;redlink=1\" title=\"Bensonhurst (aún no redactado)\">Bensonhurst</a>, un barrio de Brooklyn. Según Sagan, eran judíos reformistas, el más liberal de los tres principales grupos judíos. Tanto Carl como su hermana coinciden en que su padre no era especialmente religioso, pero que su madre indudablemente creía en Dios, y participaba activamente en el templo...; y solo servía carne <a class=\"mw-redirect\" href=\"/wiki/Kosher\" title=\"Kosher\">kosher</a>.<sup class=\"reference separada\" id=\"cite_ref-Keay_4-0\"><a href=\"#cite_note-Keay-4\"><span class=\"corchete-llamada\">[</span>4<span class=\"corchete-llamada\">]</span></a></sup>​ Durante el auge de la <a href=\"/wiki/Gran_Depresi%C3%B3n\" title=\"Gran Depresión\">Gran Depresión</a>, su padre tuvo que aceptar un empleo como acomodador de cine.\n",
       "</p><p>Según el biógrafo Keay Davidson, la guerra interior de Sagan era resultado de la estrecha relación que mantenía con sus padres, quienes eran opuestos en muchos sentidos. Sagan atribuía sus posteriores impulsos analíticos a su madre, una mujer que conoció la pobreza extrema siendo niña, y que había crecido casi sin hogar en la ciudad de Nueva York, durante la <a class=\"mw-redirect\" href=\"/wiki/I_Guerra_Mundial\" title=\"I Guerra Mundial\">I Guerra Mundial</a> y la década de 1920.<sup class=\"reference separada\" id=\"cite_ref-Keay_4-1\"><a href=\"#cite_note-Keay-4\"><span class=\"corchete-llamada\">[</span>4<span class=\"corchete-llamada\">]</span></a></sup>​ Tenía las ambiciones propias de una mujer joven, pero bloqueadas por las restricciones sociales, por su pobreza, por ser mujer y esposa, y por ser de etnia judía. Davidson señala que ella, por tanto, adoraba a su hijo; él haría realidad sus sueños no cumplidos.<sup class=\"reference separada\" id=\"cite_ref-Keay_4-2\"><a href=\"#cite_note-Keay-4\"><span class=\"corchete-llamada\">[</span>4<span class=\"corchete-llamada\">]</span></a></sup>​\n",
       "</p><p>Sin embargo, su capacidad para sorprenderse venía de su padre, que era un tranquilo y bondadoso fugitivo del Zar. En su tiempo libre, regalaba manzanas a los pobres o ayudaba a suavizar las tensiones entre patronos y obreros en la tumultuosa industria textil de Nueva York.<sup class=\"reference separada\" id=\"cite_ref-Keay_4-3\"><a href=\"#cite_note-Keay-4\"><span class=\"corchete-llamada\">[</span>4<span class=\"corchete-llamada\">]</span></a></sup>​ Aunque intimidado por la brillantez de Carl, por sus infantiles parloteos sobre estrellas y dinosaurios, se tomó con calma la curiosidad de su hijo, como parte de su educación.<sup class=\"reference separada\" id=\"cite_ref-Keay_4-4\"><a href=\"#cite_note-Keay-4\"><span class=\"corchete-llamada\">[</span>4<span class=\"corchete-llamada\">]</span></a></sup>​ Años más tarde, como escritor y científico, Carl recurriría a sus recuerdos de la infancia para ilustrar ideas científicas, como hizo en su libro <i>El mundo y sus demonios</i>.<sup class=\"reference separada\" id=\"cite_ref-Keay_4-5\"><a href=\"#cite_note-Keay-4\"><span class=\"corchete-llamada\">[</span>4<span class=\"corchete-llamada\">]</span></a></sup>​ Sagan describe así la influencia de sus padres en su pensamiento posterior:\n",
       "</p>\n",
       "<style data-mw-deduplicate=\"TemplateStyles:r119797252\">.mw-parser-output .flexquote{display:flex;flex-direction:column;background-color:#F9F9F9;border-left:3px solid #c8ccd1;font-size:90%;margin:1em 4em;padding:.4em .8em}.mw-parser-output .flexquote>.flex{display:flex;flex-direction:row}.mw-parser-output .flexquote>.flex>.quote{width:100%}.mw-parser-output .flexquote>.flex>.separator{border-left:1px solid #c8ccd1;border-top:1px solid #c8ccd1;margin:.4em .8em}.mw-parser-output .flexquote>.cite{text-align:right}@media all and (max-width:600px){.mw-parser-output .flexquote>.flex{flex-direction:column}}</style>\n",
       "<blockquote class=\"flexquote\">\n",
       "<div class=\"flex\">\n",
       "<div class=\"quote\">Mis padres no eran científicos. No sabían casi nada de ciencia. Pero al iniciarme simultáneamente al escepticismo y a hacerme preguntas, me enseñaron los dos modos de pensamiento que conviven precariamente y que son fundamentales para el método científico.<sup class=\"reference separada\" id=\"cite_ref-Spangenburg_5-0\"><a href=\"#cite_note-Spangenburg-5\"><span class=\"corchete-llamada\">[</span>5<span class=\"corchete-llamada\">]</span></a></sup>​</div>\n",
       "</div>\n",
       "</blockquote>\n",
       "<h3><span id=\"La_Exposici.C3.B3n_Universal_de_1939\"></span><span class=\"mw-headline\" id=\"La_Exposición_Universal_de_1939\">La Exposición Universal de 1939</span><span class=\"mw-editsection\"><span class=\"mw-editsection-bracket\">[</span><a href=\"/w/index.php?title=Carl_Sagan&amp;action=edit&amp;section=2\" title=\"Editar sección: La Exposición Universal de 1939\">editar</a><span class=\"mw-editsection-bracket\">]</span></span></h3>\n",
       "<p>Sagan recordaba que vivió una de sus mejores experiencias cuando, con cuatro o cinco años de edad, sus padres lo llevaron a la <a href=\"/wiki/Exposici%C3%B3n_General_de_segunda_categor%C3%ADa_de_Nueva_York_de_1939\" title=\"Exposición General de segunda categoría de Nueva York de 1939\">Exposición Universal de Nueva York de 1939</a>, lo cual fue un punto de inflexión en su vida. Tiempo después recordaba el mapa móvil de la <i>América del Mañana</i>:\n",
       "</p>\n",
       "<link href=\"mw-data:TemplateStyles:r119797252\" rel=\"mw-deduplicated-inline-style\"/>\n",
       "<blockquote class=\"flexquote\">\n",
       "<div class=\"flex\">\n",
       "<div class=\"quote\">Se veían hermosas autopistas y cruces a nivel y pequeños coches General Motors que llevaban gente a los rascacielos, edificios con bonitos pináculos, arbotantes... ¡y todo tenía una pinta genial!<sup class=\"reference separada\" id=\"cite_ref-Keay_4-6\"><a href=\"#cite_note-Keay-4\"><span class=\"corchete-llamada\">[</span>4<span class=\"corchete-llamada\">]</span></a></sup>​</div>\n",
       "</div>\n",
       "</blockquote>\n",
       "<p>En otras exhibiciones, recordaba cómo una lámpara que iluminaba una célula fotoeléctrica creaba un sonido crujiente, y cómo el sonido de un <a href=\"/wiki/Diapas%C3%B3n\" title=\"Diapasón\">diapasón</a> se convertía en una onda en un <a href=\"/wiki/Osciloscopio\" title=\"Osciloscopio\">osciloscopio</a>. También fue testigo de la tecnología del futuro que reemplazaría a la radio: la <a href=\"/wiki/Televisi%C3%B3n\" title=\"Televisión\">televisión</a>. Sagan escribió:\n",
       "</p>\n",
       "<link href=\"mw-data:TemplateStyles:r119797252\" rel=\"mw-deduplicated-inline-style\"/>\n",
       "<blockquote class=\"flexquote\">\n",
       "<div class=\"flex\">\n",
       "<div class=\"quote\">Sencillamente, el mundo contenía maravillas que yo nunca había imaginado. ¿Cómo podía convertirse un tono en una imagen, y una luz convertirse en ruido?<sup class=\"reference separada\" id=\"cite_ref-Keay_4-7\"><a href=\"#cite_note-Keay-4\"><span class=\"corchete-llamada\">[</span>4<span class=\"corchete-llamada\">]</span></a></sup>​</div>\n",
       "</div>\n",
       "</blockquote>\n",
       "<p>También pudo ver uno de los eventos más publicitados de la Exposición: el entierro de una <a href=\"/wiki/C%C3%A1psula_del_tiempo\" title=\"Cápsula del tiempo\">cápsula del tiempo</a> en <a class=\"mw-redirect\" href=\"/wiki/Flushing_Meadows\" title=\"Flushing Meadows\">Flushing Meadows</a>, que contenía recuerdos de la década de 1930 para ser recuperados por las generaciones venideras de un futuro milenio. \"La cápsula del tiempo emocionó a Carl\", escribe Davidson. De adulto, Sagan y sus colegas crearon cápsulas del tiempo similares, pero para enviarlas a la galaxia: la <a href=\"/wiki/Placa_de_la_Pioneer\" title=\"Placa de la Pioneer\">placa de la Pioneer</a> y el <a href=\"/wiki/Disco_de_oro_de_las_Voyager\" title=\"Disco de oro de las Voyager\">disco de oro de las Voyager</a> fueron producto de los recuerdos de Sagan sobre la Exposición Universal.<sup class=\"reference separada\" id=\"cite_ref-Keay_4-8\"><a href=\"#cite_note-Keay-4\"><span class=\"corchete-llamada\">[</span>4<span class=\"corchete-llamada\">]</span></a></sup>​\n",
       "</p>\n",
       "<h3><span class=\"mw-headline\" id=\"La_II_Guerra_Mundial\">La II Guerra Mundial</span><span class=\"mw-editsection\"><span class=\"mw-editsection-bracket\">[</span><a href=\"/w/index.php?title=Carl_Sagan&amp;action=edit&amp;section=3\" title=\"Editar sección: La II Guerra Mundial\">editar</a><span class=\"mw-editsection-bracket\">]</span></span></h3>\n",
       "<p>Durante la <a class=\"mw-redirect\" href=\"/wiki/II_Guerra_Mundial\" title=\"II Guerra Mundial\">II Guerra Mundial</a>, la familia de Sagan estuvo preocupada por el destino de sus parientes europeos. Sagan, sin embargo y por lo general, no fue consciente de los detalles sobre el curso de la guerra. Escribió: \"Cierto es que tuvimos parientes que quedaron atrapados en el Holocausto. Hitler no era un sujeto popular en nuestra casa... Pero, por otro lado, yo estuve bastante aislado de los horrores de la guerra\". Su hermana, Carol, dijo que su madre por encima de todo quería proteger a Carl... Ella lo estaba pasando extraordinariamente mal con la II Guerra Mundial y el Holocausto.<sup class=\"reference separada\" id=\"cite_ref-Keay_4-9\"><a href=\"#cite_note-Keay-4\"><span class=\"corchete-llamada\">[</span>4<span class=\"corchete-llamada\">]</span></a></sup>​ En su libro <i>El mundo y sus demonios</i> (1996), Sagan incluye sus recuerdos sobre aquel período conflictivo, cuando su familia se enfrentó a la realidad de la guerra en Europa, pero trató de evitar que esta socavara su espíritu optimista.<sup class=\"reference separada\" id=\"cite_ref-Spangenburg_5-1\"><a href=\"#cite_note-Spangenburg-5\"><span class=\"corchete-llamada\">[</span>5<span class=\"corchete-llamada\">]</span></a></sup>​\n",
       "</p>\n",
       "<h3><span class=\"mw-headline\" id=\"Curiosidad_por_la_naturaleza\">Curiosidad por la naturaleza</span><span class=\"mw-editsection\"><span class=\"mw-editsection-bracket\">[</span><a href=\"/w/index.php?title=Carl_Sagan&amp;action=edit&amp;section=4\" title=\"Editar sección: Curiosidad por la naturaleza\">editar</a><span class=\"mw-editsection-bracket\">]</span></span></h3>\n",
       "<p>Poco después de ingresar en la escuela elemental, Sagan comenzó a expresar una fuerte curiosidad por la naturaleza. Sagan recordaba sus primeras visitas en solitario a la biblioteca pública, a la edad de cinco años, cuando su madre le regaló un carné de lector. Quería saber qué eran las estrellas, ya que ninguno de sus amigos ni sus padres sabían darle una respuesta clara:\n",
       "</p>\n",
       "<link href=\"mw-data:TemplateStyles:r119797252\" rel=\"mw-deduplicated-inline-style\"/>\n",
       "<blockquote class=\"flexquote\">\n",
       "<div class=\"flex\">\n",
       "<div class=\"quote\">Fui al bibliotecario y pedí un libro sobre las estrellas... Y la respuesta fue sensacional. Resultó que el Sol era una estrella pero que estaba muy cerca. Las estrellas eran soles, pero tan lejanos que solo parecían puntitos de luz... De repente, la escala del universo se abrió para mí. Fue una especie de experiencia religiosa. Había algo magnífico en ello, una grandiosidad, una escala que jamás me ha abandonado. Que nunca me abandonará.<sup class=\"reference separada\" id=\"cite_ref-Keay_4-10\"><a href=\"#cite_note-Keay-4\"><span class=\"corchete-llamada\">[</span>4<span class=\"corchete-llamada\">]</span></a></sup>​</div>\n",
       "</div>\n",
       "</blockquote>\n",
       "<p>Por la época en que tenía seis o siete años, Sagan y un amigo fueron al <a href=\"/wiki/Museo_Americano_de_Historia_Natural\" title=\"Museo Americano de Historia Natural\">Museo Americano de Historia Natural</a> de la ciudad de Nueva York. Allí estuvieron en el <a href=\"/wiki/Planetario_Hayden\" title=\"Planetario Hayden\">Planetario Hayden</a> y pasearon por las exhibiciones de objetos espaciales del museo, como los <a class=\"mw-redirect\" href=\"/wiki/Meteoritos\" title=\"Meteoritos\">meteoritos</a>, y las muestras de <a class=\"mw-redirect\" href=\"/wiki/Dinosaurios\" title=\"Dinosaurios\">dinosaurios</a> y animales en entornos naturales. Sagan escribió sobre esas visitas:\n",
       "</p>\n",
       "<link href=\"mw-data:TemplateStyles:r119797252\" rel=\"mw-deduplicated-inline-style\"/>\n",
       "<blockquote class=\"flexquote\">\n",
       "<div class=\"flex\">\n",
       "<div class=\"quote\">Me quedaba paralizado ante las representaciones en dioramas realistas de los animales y de sus hábitats de todo el mundo. Pingüinos sobre el hielo apenas iluminado de la Antártida... Una familia de gorilas, con el macho golpeándose el pecho... Un <a href=\"/wiki/Ursus_arctos_horribilis\" title=\"Ursus arctos horribilis\">oso grizzly</a> en pie sobre sus patas traseras, de diez o doce pies de alto, y mirándome fijamente a los ojos.<sup class=\"reference separada\" id=\"cite_ref-Keay_4-11\"><a href=\"#cite_note-Keay-4\"><span class=\"corchete-llamada\">[</span>4<span class=\"corchete-llamada\">]</span></a></sup>​</div>\n",
       "</div>\n",
       "</blockquote>\n",
       "<p>Los padres de Sagan ayudaron a alimentar el creciente interés de este por la ciencia comprándole juegos de química y materiales de lectura.<sup class=\"reference separada\" id=\"cite_ref-6\"><a href=\"#cite_note-6\"><span class=\"corchete-llamada\">[</span>6<span class=\"corchete-llamada\">]</span></a></sup>​ Su interés por el espacio era, sin embargo, su principal foco, especialmente después de leer las historias de ciencia-ficción de escritores como <a href=\"/wiki/Edgar_Rice_Burroughs\" title=\"Edgar Rice Burroughs\">Edgar Rice Burroughs</a>, quienes estimulaban su imaginación acerca de cómo sería la vida en otros planetas, como <a href=\"/wiki/Marte_(planeta)\" title=\"Marte (planeta)\">Marte</a>. Según el biógrafo Ray Spangenburg, estos primeros años en los que Sagan trataba de comprender los misterios de los planetas, se convirtieron en una fuerza motora en su vida, una chispa continua para su intelecto, y una búsqueda que jamás sería olvidada.<sup class=\"reference separada\" id=\"cite_ref-Spangenburg_5-2\"><a href=\"#cite_note-Spangenburg-5\"><span class=\"corchete-llamada\">[</span>5<span class=\"corchete-llamada\">]</span></a></sup>​\n",
       "</p>\n",
       "<h2><span id=\"Formaci.C3.B3n_y_carrera_cient.C3.ADfica\"></span><span class=\"mw-headline\" id=\"Formación_y_carrera_científica\">Formación y carrera científica</span><span class=\"mw-editsection\"><span class=\"mw-editsection-bracket\">[</span><a href=\"/w/index.php?title=Carl_Sagan&amp;action=edit&amp;section=5\" title=\"Editar sección: Formación y carrera científica\">editar</a><span class=\"mw-editsection-bracket\">]</span></span></h2>\n",
       "<p>Carl Sagan se graduó en la <a class=\"new\" href=\"/w/index.php?title=Rahway_High_School&amp;action=edit&amp;redlink=1\" title=\"Rahway High School (aún no redactado)\">Rahway High School</a> de <a href=\"/wiki/Rahway\" title=\"Rahway\">Rahway</a>, <a href=\"/wiki/Nueva_Jersey\" title=\"Nueva Jersey\">Nueva Jersey</a>, en 1951.<sup class=\"reference separada\" id=\"cite_ref-Keay_4-12\"><a href=\"#cite_note-Keay-4\"><span class=\"corchete-llamada\">[</span>4<span class=\"corchete-llamada\">]</span></a></sup>​ Se matriculó en la <a href=\"/wiki/Universidad_de_Chicago\" title=\"Universidad de Chicago\">Universidad de Chicago</a>, donde participó en la Ryerson Astronomical Society.<sup class=\"reference separada\" id=\"cite_ref-7\"><a href=\"#cite_note-7\"><span class=\"corchete-llamada\">[</span>7<span class=\"corchete-llamada\">]</span></a></sup>​ En esta universidad se graduó 1954 en Artes con honores especiales y generales, en 1955 se graduó en Ciencias y en 1956 obtuvo un máster en Física, para luego doctorarse en <a href=\"/wiki/Astronom%C3%ADa\" title=\"Astronomía\">Astronomía</a> y <a href=\"/wiki/Astrof%C3%ADsica\" title=\"Astrofísica\">Astrofísica</a> en 1960.<sup class=\"reference separada\" id=\"cite_ref-8\"><a href=\"#cite_note-8\"><span class=\"corchete-llamada\">[</span>8<span class=\"corchete-llamada\">]</span></a></sup>​ Durante su etapa de pregrado, Sagan trabajó en el laboratorio del genetista <a href=\"/wiki/Hermann_Joseph_Muller\" title=\"Hermann Joseph Muller\">Hermann Joseph Muller</a>. De 1960 a 1962, Sagan disfrutó de una <a class=\"new\" href=\"/w/index.php?title=Becas_Miller_de_Investigaci%C3%B3n&amp;action=edit&amp;redlink=1\" title=\"Becas Miller de Investigación (aún no redactado)\">Beca Miller</a> para la <a class=\"mw-redirect\" href=\"/wiki/Universidad_de_California,_Berkeley\" title=\"Universidad de California, Berkeley\">Universidad de California, Berkeley</a>. De 1962 a 1968, trabajó en el <a class=\"mw-redirect\" href=\"/wiki/Smithsonian_Astrophysical_Observatory\" title=\"Smithsonian Astrophysical Observatory\">Smithsonian Astrophysical Observatory</a> en <a href=\"/wiki/Cambridge_(Massachusetts)\" title=\"Cambridge (Massachusetts)\">Cambridge</a>, <a href=\"/wiki/Massachusetts\" title=\"Massachusetts\">Massachusetts</a>.\n",
       "</p><p>Sagan impartió clases e investigó en la <a href=\"/wiki/Universidad_de_Harvard\" title=\"Universidad de Harvard\">Universidad de Harvard</a> hasta 1968, año en que se incorporó a la <a href=\"/wiki/Universidad_Cornell\" title=\"Universidad Cornell\">Universidad Cornell</a> en <a href=\"/wiki/Ithaca_(Nueva_York)\" title=\"Ithaca (Nueva York)\">Ithaca</a>, Nueva York, donde impartió un curso de <a href=\"/wiki/Pensamiento_cr%C3%ADtico\" title=\"Pensamiento crítico\">pensamiento crítico</a> hasta su muerte en 1996. En 1971, fue nombrado profesor titular y director del Laboratorio de Estudios Planetarios. De 1972 a 1981, Sagan fue Director Asociado del <a class=\"new\" href=\"/w/index.php?title=Centro_de_Radiof%C3%ADsica_e_Investigaci%C3%B3n_Espacial&amp;action=edit&amp;redlink=1\" title=\"Centro de Radiofísica e Investigación Espacial (aún no redactado)\">Centro de Radiofísica e Investigación Espacial</a> de Cornell. Desde 1976 hasta su muerte, fue el primer titular de la <a class=\"new\" href=\"/w/index.php?title=C%C3%A1tedra_David_Duncan_de_Astronom%C3%ADa_y_Ciencias_del_Espacio&amp;action=edit&amp;redlink=1\" title=\"Cátedra David Duncan de Astronomía y Ciencias del Espacio (aún no redactado)\">Cátedra David Duncan de Astronomía y Ciencias del Espacio</a>. En Londres, impartió la edición de 1977 de las <a href=\"/wiki/Royal_Institution_Christmas_Lectures\" title=\"Royal Institution Christmas Lectures\">Royal Institution Christmas Lectures</a>.<sup class=\"reference separada\" id=\"cite_ref-9\"><a href=\"#cite_note-9\"><span class=\"corchete-llamada\">[</span>9<span class=\"corchete-llamada\">]</span></a></sup>​\n",
       "</p>\n",
       "<div class=\"thumb tleft\"><div class=\"thumbinner\" style=\"width:222px;\"><a class=\"image\" href=\"/wiki/Archivo:Planetary_society.jpg\"><img alt=\"\" class=\"thumbimage\" data-file-height=\"1521\" data-file-width=\"1437\" decoding=\"async\" height=\"233\" src=\"//upload.wikimedia.org/wikipedia/commons/thumb/f/f0/Planetary_society.jpg/220px-Planetary_society.jpg\" srcset=\"//upload.wikimedia.org/wikipedia/commons/thumb/f/f0/Planetary_society.jpg/330px-Planetary_society.jpg 1.5x, //upload.wikimedia.org/wikipedia/commons/thumb/f/f0/Planetary_society.jpg/440px-Planetary_society.jpg 2x\" width=\"220\"/></a> <div class=\"thumbcaption\"><div class=\"magnify\"><a class=\"internal\" href=\"/wiki/Archivo:Planetary_society.jpg\" title=\"Aumentar\"></a></div>Los fundadores de la <a href=\"/wiki/Sociedad_Planetaria\" title=\"Sociedad Planetaria\">Sociedad Planetaria</a>. Carl Sagan, sentado a la derecha.</div></div></div>\n",
       "<p>Sagan estuvo vinculado al programa espacial estadounidense desde los inicios de este. Desde la década de 1950, trabajó como asesor de la <a href=\"/wiki/NASA\" title=\"NASA\">NASA</a>, donde uno de sus cometidos fue dar las instrucciones del <a href=\"/wiki/Programa_Apolo\" title=\"Programa Apolo\">Programa Apolo</a> a los astronautas participantes antes de partir hacia la <a href=\"/wiki/Luna\" title=\"Luna\">Luna</a>. Sagan participó en muchas de las misiones que enviaron naves espaciales robóticas a explorar el <a href=\"/wiki/Sistema_solar\" title=\"Sistema solar\">sistema solar</a>, preparando experimentos para varias expediciones. Concibió la idea de añadir un mensaje universal y perdurable a las naves destinadas a abandonar el sistema solar que pudiese ser potencialmente comprensible por cualquier inteligencia extraterrestre que lo encontrase. Sagan preparó el primer mensaje físico enviado al espacio exterior: una <a href=\"/wiki/Placa_de_la_Pioneer\" title=\"Placa de la Pioneer\">placa</a> <a href=\"/wiki/Anodizaci%C3%B3n\" title=\"Anodización\">anodizada</a>, unida a la sonda espacial <a href=\"/wiki/Pioneer_10\" title=\"Pioneer 10\">Pioneer 10</a>, lanzada en 1972. La <a href=\"/wiki/Pioneer_11\" title=\"Pioneer 11\">Pioneer 11</a>, que llevaba otra copia de la placa, fue lanzada al año siguiente. Sagan continuó refinando sus diseños; el mensaje más elaborado que ayudó a desarrollar y preparar fue el <a class=\"mw-redirect\" href=\"/wiki/Disco_de_Oro_de_las_Voyager\" title=\"Disco de Oro de las Voyager\">Disco de Oro de las Voyager</a>, que fue enviado con las sondas espaciales <a href=\"/wiki/Voyager\" title=\"Voyager\">Voyager</a> en 1977. Sagan se opuso frecuentemente a la decisión de financiar el <a href=\"/wiki/Programa_del_transbordador_espacial\" title=\"Programa del transbordador espacial\">transbordador espacial</a> y la <a href=\"/wiki/Skylab\" title=\"Skylab\">estación espacial</a> a expensas de futuras misiones robóticas.<sup class=\"reference separada\" id=\"cite_ref-10\"><a href=\"#cite_note-10\"><span class=\"corchete-llamada\">[</span>10<span class=\"corchete-llamada\">]</span></a></sup>​\n",
       "</p><p>De 1968 a 1979, Sagan fue editor de la <i><a class=\"mw-redirect\" href=\"/wiki/Revista_Icarus\" title=\"Revista Icarus\">Revista Icarus</a></i>, publicación para profesionales sobre investigación planetaria. Fue cofundador de la <i><a href=\"/wiki/Sociedad_Planetaria\" title=\"Sociedad Planetaria\">Sociedad Planetaria</a></i>, el mayor grupo del mundo dedicado a la investigación espacial, con más de cien mil miembros en más de 149 países, y fue miembro del Consejo de Administración del <a href=\"/wiki/Instituto_SETI\" title=\"Instituto SETI\">Instituto SETI</a>. Sagan ejerció también de Presidente de la <a class=\"new\" href=\"/w/index.php?title=Divisi%C3%B3n_de_Ciencia_Planetaria&amp;action=edit&amp;redlink=1\" title=\"División de Ciencia Planetaria (aún no redactado)\">División de Ciencia Planetaria</a> (DPS) de la <a class=\"mw-redirect\" href=\"/wiki/Sociedad_Astron%C3%B3mica_Americana\" title=\"Sociedad Astronómica Americana\">Sociedad Astronómica Americana</a>, de Presidente de la Sección de Planetología de la <a class=\"mw-redirect\" href=\"/wiki/American_Geophysical_Union\" title=\"American Geophysical Union\">American Geophysical Union</a> y de Presidente de la Sección de Astronomía de la <a href=\"/wiki/Asociaci%C3%B3n_Estadounidense_para_el_Avance_de_la_Ciencia\" title=\"Asociación Estadounidense para el Avance de la Ciencia\">Asociación Estadounidense para el Avance de la Ciencia</a>.\n",
       "</p>\n",
       "<h2><span id=\"Logros_cient.C3.ADficos\"></span><span class=\"mw-headline\" id=\"Logros_científicos\">Logros científicos</span><span class=\"mw-editsection\"><span class=\"mw-editsection-bracket\">[</span><a href=\"/w/index.php?title=Carl_Sagan&amp;action=edit&amp;section=6\" title=\"Editar sección: Logros científicos\">editar</a><span class=\"mw-editsection-bracket\">]</span></span></h2>\n",
       "<div class=\"thumb tright\"><div class=\"thumbinner\" style=\"width:252px;\"><a class=\"image\" href=\"/wiki/Archivo:Sagan_Viking.jpg\"><img alt=\"\" class=\"thumbimage\" data-file-height=\"2468\" data-file-width=\"3678\" decoding=\"async\" height=\"168\" src=\"//upload.wikimedia.org/wikipedia/commons/thumb/e/e8/Sagan_Viking.jpg/250px-Sagan_Viking.jpg\" srcset=\"//upload.wikimedia.org/wikipedia/commons/thumb/e/e8/Sagan_Viking.jpg/375px-Sagan_Viking.jpg 1.5x, //upload.wikimedia.org/wikipedia/commons/thumb/e/e8/Sagan_Viking.jpg/500px-Sagan_Viking.jpg 2x\" width=\"250\"/></a> <div class=\"thumbcaption\"><div class=\"magnify\"><a class=\"internal\" href=\"/wiki/Archivo:Sagan_Viking.jpg\" title=\"Aumentar\"></a></div>Sagan junto a una maqueta de las sondas <a href=\"/wiki/Programa_Viking\" title=\"Programa Viking\">Viking</a>, destinadas a posarse sobre <a href=\"/wiki/Marte_(planeta)\" title=\"Marte (planeta)\">Marte</a>. El científico estudió los posibles lugares de aterrizaje con <a class=\"new\" href=\"/w/index.php?title=Mike_Carr&amp;action=edit&amp;redlink=1\" title=\"Mike Carr (aún no redactado)\">Mike Carr</a> y <a class=\"new\" href=\"/w/index.php?title=Hal_Masursky&amp;action=edit&amp;redlink=1\" title=\"Hal Masursky (aún no redactado)\">Hal Masursky</a>.</div></div></div>\n",
       "<p>Las contribuciones de Sagan fueron vitales para el descubrimiento de las altas temperaturas superficiales del planeta <a href=\"/wiki/Venus_(planeta)\" title=\"Venus (planeta)\">Venus</a>. A comienzos de la década de 1960 nadie sabía a ciencia cierta cuáles eran las condiciones básicas de la superficie de dicho planeta, y Sagan enumeró las posibilidades en un informe que posteriormente fue divulgado en un libro de <a class=\"mw-redirect\" href=\"/wiki/Time-Life\" title=\"Time-Life\">Time-Life</a> titulado <i><a class=\"new\" href=\"/w/index.php?title=Planetas_(libro)&amp;action=edit&amp;redlink=1\" title=\"Planetas (libro) (aún no redactado)\">Planetas</a></i>. En su opinión, Venus era un planeta seco y muy caliente, oponiéndose al paraíso templado que otros imaginaban. Había investigado las emisiones de radio procedentes de Venus y llegado a la conclusión de que la temperatura superficial de este debía de ser de unos 380 °C. Como científico visitante del <a class=\"mw-redirect\" href=\"/wiki/Laboratorio_de_Propulsi%C3%B3n_a_Chorro\" title=\"Laboratorio de Propulsión a Chorro\">Laboratorio de Propulsión a Chorro</a> de la NASA, participó en las primeras misiones del <a href=\"/wiki/Programa_Mariner\" title=\"Programa Mariner\">Programa Mariner</a> a Venus, trabajando en el diseño y gestión del proyecto. En 1962, la sonda <a href=\"/wiki/Mariner_2\" title=\"Mariner 2\">Mariner 2</a> confirmó sus conclusiones sobre las condiciones superficiales del planeta.\n",
       "</p><p>Sagan fue de los primeros en plantear la hipótesis de que una de las lunas de <a href=\"/wiki/Saturno_(planeta)\" title=\"Saturno (planeta)\">Saturno</a>, <a href=\"/wiki/Tit%C3%A1n_(sat%C3%A9lite)\" title=\"Titán (satélite)\">Titán</a>, podría albergar océanos de compuestos líquidos en su superficie, y que una de las lunas de <a href=\"/wiki/J%C3%BApiter_(planeta)\" title=\"Júpiter (planeta)\">Júpiter</a>, <a href=\"/wiki/Europa_(sat%C3%A9lite)\" title=\"Europa (satélite)\">Europa</a>, podría tener océanos de agua subterráneos. Esto haría que Europa fuese potencialmente habitable por formas de vida.<sup class=\"reference separada\" id=\"cite_ref-11\"><a href=\"#cite_note-11\"><span class=\"corchete-llamada\">[</span>11<span class=\"corchete-llamada\">]</span></a></sup>​ El océano subterráneo de agua de Europa fue posteriormente confirmado de forma indirecta por la sonda espacial <a href=\"/wiki/Galileo_(sonda_espacial)\" title=\"Galileo (sonda espacial)\">Galileo</a>. El misterio de la bruma rojiza de Titán también fue resuelto con la ayuda de Sagan, debiéndose a <a class=\"mw-redirect\" href=\"/wiki/Mol%C3%A9culas_org%C3%A1nicas\" title=\"Moléculas orgánicas\">moléculas orgánicas</a> complejas en constante lluvia sobre la superficie de la luna saturniana.<sup class=\"reference separada\" id=\"cite_ref-12\"><a href=\"#cite_note-12\"><span class=\"corchete-llamada\">[</span>12<span class=\"corchete-llamada\">]</span></a></sup>​\n",
       "</p><p>Sagan también contribuyó a mejorar la  comprensión de las atmósferas de Venus y Júpiter y de los cambios estacionales de <a href=\"/wiki/Marte_(planeta)\" title=\"Marte (planeta)\">Marte</a>. Determinó que la atmósfera de Venus es extremadamente caliente y densa, con presiones aumentando gradualmente hasta la superficie planetaria. También percibió el <a href=\"/wiki/Calentamiento_global\" title=\"Calentamiento global\">calentamiento global</a> como un peligro creciente de <a class=\"mw-redirect\" href=\"/wiki/Atribuci%C3%B3n_del_cambio_clim%C3%A1tico_reciente\" title=\"Atribución del cambio climático reciente\">origen humano</a>, y comparó su progreso en la Tierra con la evolución natural de Venus: camino a convertirse en un planeta caliente y no apto para la vida como consecuencia de un <a href=\"/wiki/Efecto_invernadero\" title=\"Efecto invernadero\">efecto invernadero</a> fuera de control. También estudió las variaciones de color de la superficie de Marte y concluyó que no se trataba de cambios estacionales o vegetales, como muchos creían, sino de desplazamientos del polvo superficial causados por tormentas de viento.\n",
       "</p><p>Sin embargo, Sagan es más conocido por sus investigaciones sobre la posibilidad de la <a class=\"mw-redirect\" href=\"/wiki/Exobiolog%C3%ADa\" title=\"Exobiología\">vida extraterrestre</a>, incluyendo la demostración experimental de la producción de <a class=\"mw-redirect\" href=\"/wiki/Amino%C3%A1cidos\" title=\"Aminoácidos\">aminoácidos</a> mediante <a href=\"/wiki/Radiaci%C3%B3n\" title=\"Radiación\">radiación</a> y a partir de reacciones químicas básicas.<sup class=\"reference separada\" id=\"cite_ref-13\"><a href=\"#cite_note-13\"><span class=\"corchete-llamada\">[</span>13<span class=\"corchete-llamada\">]</span></a></sup>​ Él y su colega de Cornell, <a class=\"new\" href=\"/w/index.php?title=Edwin_Ernest_Salpeter&amp;action=edit&amp;redlink=1\" title=\"Edwin Ernest Salpeter (aún no redactado)\">Edwin Ernest Salpeter</a>, especularon sobre la posibilidad de la existencia de vida en las nubes de Júpiter, dada la composición de la densa atmósfera del planeta, rica en moléculas orgánicas.\n",
       "</p>\n",
       "<h2><span class=\"mw-headline\" id=\"Activismo\">Activismo</span><span class=\"mw-editsection\"><span class=\"mw-editsection-bracket\">[</span><a href=\"/w/index.php?title=Carl_Sagan&amp;action=edit&amp;section=7\" title=\"Editar sección: Activismo\">editar</a><span class=\"mw-editsection-bracket\">]</span></span></h2>\n",
       "<h3><span class=\"mw-headline\" id=\"Pacifista\">Pacifista</span><span class=\"mw-editsection\"><span class=\"mw-editsection-bracket\">[</span><a href=\"/w/index.php?title=Carl_Sagan&amp;action=edit&amp;section=8\" title=\"Editar sección: Pacifista\">editar</a><span class=\"mw-editsection-bracket\">]</span></span></h3>\n",
       "<p>Sagan creía que la <a href=\"/wiki/Ecuaci%C3%B3n_de_Drake\" title=\"Ecuación de Drake\">ecuación de Drake</a>, a falta de estimaciones más razonables, sugiere la formación de un gran número de civilizaciones extraterrestres, pero la falta de evidencia de la existencia de las mismas, resaltada por la <a href=\"/wiki/Paradoja_de_Fermi\" title=\"Paradoja de Fermi\">paradoja de Fermi</a>, indicaría la tendencia de las civilizaciones tecnológicas hacia la autodestrucción. Esto dio pie a su interés en identificar y dar a conocer las diversas maneras en que la humanidad podría destruirse a sí misma, con la esperanza de poder evitar dicha catástrofe y, finalmente, posibilitar que los seres humanos se conviertan en una especie capaz de viajar por el espacio. La profunda preocupación de Sagan acerca de una potencial destrucción de la civilización humana en un holocausto nuclear quedó plasmada en una memorable secuencia en el último episodio de la serie <i>Cosmos</i>, titulado <i>¿Quién habla en nombre de la Tierra?</i>. Sagan acababa de dimitir de su puesto en el Consejo Científico Asesor de las Fuerzas Aéreas estadounidenses y de rechazar voluntariamente su autorización de acceso a asuntos ultra secretos en protesta por la <a href=\"/wiki/Guerra_de_Vietnam\" title=\"Guerra de Vietnam\">Guerra de Vietnam</a>.<sup class=\"reference separada\" id=\"cite_ref-14\"><a href=\"#cite_note-14\"><span class=\"corchete-llamada\">[</span>14<span class=\"corchete-llamada\">]</span></a></sup>​ Tras su matrimonio con la escritora y activista, <a href=\"/wiki/Ann_Druyan\" title=\"Ann Druyan\">Ann Druyan</a>, en junio de 1981, Sagan incrementó su actividad política, concretamente en su oposición a la carrera armamentística nuclear, durante la presidencia de <a href=\"/wiki/Ronald_Reagan\" title=\"Ronald Reagan\">Ronald Reagan</a>.\n",
       "</p><p>En el clímax de la <a href=\"/wiki/Guerra_Fr%C3%ADa\" title=\"Guerra Fría\">Guerra Fría</a>, Sagan dedicó parte de sus esfuerzos a concienciar a la opinión pública sobre los efectos de una <a href=\"/wiki/Guerra_nuclear\" title=\"Guerra nuclear\">guerra nuclear</a> cuando un modelo matemático del clima sugirió que un intercambio nuclear de proporciones suficientes podría desestabilizar el delicado equilibrio de la vida en la Tierra. Fue uno de los cinco autores (el autor \"S\") del informe <a class=\"new\" href=\"/w/index.php?title=TTAPS&amp;action=edit&amp;redlink=1\" title=\"TTAPS (aún no redactado)\">TTAPS</a>, como fue conocido dicho artículo de investigación. Finalmente, fue coautor del artículo científico que planteaba la hipótesis de un <a href=\"/wiki/Invierno_nuclear\" title=\"Invierno nuclear\">invierno nuclear</a> global tras una guerra nuclear.<sup class=\"reference separada\" id=\"cite_ref-15\"><a href=\"#cite_note-15\"><span class=\"corchete-llamada\">[</span>15<span class=\"corchete-llamada\">]</span></a></sup>​ En su libro <i><a href=\"/wiki/El_mundo_y_sus_demonios\" title=\"El mundo y sus demonios\">El mundo y sus demonios</a></i>, Carl Sagan relató su participación en los debates políticos sobre el invierno nuclear. También fue coautor del libro <i>A Path Where No Man Thought: Nuclear Winter and the End of the Arms Race</i> (\"Un camino que ningún humano pensó: el invierno nuclear y el fin de la carrera armamentista\"), un análisis exhaustivo del fenómeno del invierno nuclear.\n",
       "</p><p>En marzo de 1983, Reagan dio a conocer la llamada <a href=\"/wiki/Iniciativa_de_Defensa_Estrat%C3%A9gica\" title=\"Iniciativa de Defensa Estratégica\">Iniciativa de Defensa Estratégica</a>, un proyecto en el que se invirtieron miles de millones de dólares para desarrollar un completo sistema de defensa contra ataques con misiles nucleares, que fue popularmente conocido como <i>Programa Guerra de las Galaxias</i>. Sagan se opuso al proyecto, argumentando que era técnicamente imposible desarrollar un sistema semejante con el nivel de perfección requerido, y que sería mucho más caro elaborarlo que para un enemigo el eludirlo mediante señuelos u otros medios, y que su construcción desestabilizaría seriamente la balanza nuclear entre los Estados Unidos y la Unión Soviética, tornando imposible cualquier progreso hacia el desarme nuclear.\n",
       "</p><p>Cuando el líder soviético <a href=\"/wiki/Mija%C3%ADl_Gorbachov\" title=\"Mijaíl Gorbachov\">Mijaíl Gorbachov</a> declaró una moratoria unilateral sobre las pruebas de armamento nuclear, que comenzaría el 6 de agosto de 1985, en el 40 aniversario de los <a class=\"mw-redirect\" href=\"/wiki/Bombardeos_at%C3%B3micos_sobre_Hiroshima_y_Nagasaki\" title=\"Bombardeos atómicos sobre Hiroshima y Nagasaki\">bombardeos atómicos sobre Hiroshima y Nagasaki</a>, el gobierno de Reagan desestimó la dramática iniciativa tachándola de propaganda, y rechazó seguir el ejemplo soviético. En respuesta, activistas anti-nucleares y pacifistas estadounidenses llevaron a cabo una serie de protestas en el <a href=\"/wiki/Emplazamiento_de_pruebas_de_Nevada\" title=\"Emplazamiento de pruebas de Nevada\">emplazamiento de pruebas de Nevada</a>, que se iniciarían el domingo de Pascua de 1986 y continuarían hasta 1987. Cientos de personas fueron arrestadas, incluyendo a Sagan, quien fue detenido en dos ocasiones al tratar de saltar un cordón de seguridad.<sup class=\"reference separada\" id=\"cite_ref-Spangenburg_5-3\"><a href=\"#cite_note-Spangenburg-5\"><span class=\"corchete-llamada\">[</span>5<span class=\"corchete-llamada\">]</span></a></sup>​\n",
       "</p>\n",
       "<div class=\"thumb tright\"><div class=\"thumbinner\" style=\"width:252px;\"><div class=\"PopUpMediaTransform\" id=\"mwe_player_0\" style=\"width:250px;\" videopayload='&lt;div class=\"mediaContainer\" style=\"width:396px\"&gt;&lt;video id=\"mwe_player_1\" poster=\"//upload.wikimedia.org/wikipedia/commons/thumb/2/2b/Who%27s_Out_There_%281973%29.ogv/395px--Who%27s_Out_There_%281973%29.ogv.jpg\" controls=\"\" preload=\"none\" autoplay=\"\" style=\"width:396px;height:300px\" class=\"kskin\" data-durationhint=\"1682.3156489823\" data-startoffset=\"0\" data-mwtitle=\"Who&amp;#039;s_Out_There_(1973).ogv\" data-mwprovider=\"wikimediacommons\"&gt;&lt;source src=\"//upload.wikimedia.org/wikipedia/commons/transcoded/2/2b/Who%27s_Out_There_%281973%29.ogv/Who%27s_Out_There_%281973%29.ogv.120p.vp9.webm\" type=\"video/webm; codecs=&amp;quot;vp9, opus&amp;quot;\" data-title=\"Lowest bandwidth VP9 (120P)\" data-shorttitle=\"VP9 120P\" data-transcodekey=\"120p.vp9.webm\" data-width=\"158\" data-height=\"120\" data-bandwidth=\"139040\" data-framerate=\"29.97\"/&gt;&lt;source src=\"//upload.wikimedia.org/wikipedia/commons/transcoded/2/2b/Who%27s_Out_There_%281973%29.ogv/Who%27s_Out_There_%281973%29.ogv.160p.webm\" type=\"video/webm; codecs=&amp;quot;vp8, vorbis&amp;quot;\" data-title=\"Bajo ancho de banda, WebM (160P)\" data-shorttitle=\"WebM 160P\" data-transcodekey=\"160p.webm\" data-width=\"210\" data-height=\"160\" data-bandwidth=\"193888\" data-framerate=\"29.97\"/&gt;&lt;source src=\"//upload.wikimedia.org/wikipedia/commons/transcoded/2/2b/Who%27s_Out_There_%281973%29.ogv/Who%27s_Out_There_%281973%29.ogv.180p.vp9.webm\" type=\"video/webm; codecs=&amp;quot;vp9, opus&amp;quot;\" data-title=\"Low bandwidth VP9 (180P)\" data-shorttitle=\"VP9 180P\" data-transcodekey=\"180p.vp9.webm\" data-width=\"238\" data-height=\"180\" data-bandwidth=\"188352\" data-framerate=\"29.97\"/&gt;&lt;source src=\"//upload.wikimedia.org/wikipedia/commons/transcoded/2/2b/Who%27s_Out_There_%281973%29.ogv/Who%27s_Out_There_%281973%29.ogv.240p.vp9.webm\" type=\"video/webm; codecs=&amp;quot;vp9, opus&amp;quot;\" data-title=\"VP9 pequeño (240P)\" data-shorttitle=\"VP9 240P\" data-transcodekey=\"240p.vp9.webm\" data-width=\"316\" data-height=\"240\" data-bandwidth=\"225856\" data-framerate=\"29.97\"/&gt;&lt;source src=\"//upload.wikimedia.org/wikipedia/commons/transcoded/2/2b/Who%27s_Out_There_%281973%29.ogv/Who%27s_Out_There_%281973%29.ogv.240p.webm\" type=\"video/webm; codecs=&amp;quot;vp8, vorbis&amp;quot;\" data-title=\"WebM pequeño (240P)\" data-shorttitle=\"WebM 240P\" data-transcodekey=\"240p.webm\" data-width=\"316\" data-height=\"240\" data-bandwidth=\"314528\" data-framerate=\"29.97\"/&gt;&lt;source src=\"//upload.wikimedia.org/wikipedia/commons/2/2b/Who%27s_Out_There_%281973%29.ogv\" type=\"video/ogg; codecs=&amp;quot;theora, vorbis&amp;quot;\" data-title=\"Archivo Ogg original, 395 × 300 (587 kbps)\" data-shorttitle=\"Fuente Ogg\" data-width=\"395\" data-height=\"300\" data-bandwidth=\"587148\" data-framerate=\"29.97\"/&gt;&lt;/video&gt;&lt;/div&gt;'><img alt=\"Archivo:Who's Out There (1973).ogv\" src=\"//upload.wikimedia.org/wikipedia/commons/thumb/2/2b/Who%27s_Out_There_%281973%29.ogv/250px-seek%3D285-Who%27s_Out_There_%281973%29.ogv.jpg\" style=\"width:250px;height:190px\"/><a href=\"//upload.wikimedia.org/wikipedia/commons/2/2b/Who%27s_Out_There_%281973%29.ogv\" target=\"new\" title=\"Reproducir contenido multimedia\"><span class=\"play-btn-large\"><span class=\"mw-tmh-playtext\">Reproducir contenido multimedia</span></span></a></div> <div class=\"thumbcaption\"><div class=\"magnify\"><a class=\"internal\" href=\"/wiki/Archivo:Who%27s_Out_There_(1973).ogv\" title=\"Aumentar\"></a></div>Sagan es uno de los que discuten la <a href=\"/wiki/Vida_extraterrestre\" title=\"Vida extraterrestre\">probabilidad de vida en otros planetas</a> en <i><a class=\"extiw\" href=\"https://commons.wikimedia.org/wiki/File:Who%27s_Out_There_(1973).ogv\" title=\"c:File:Who's Out There (1973).ogv\">Who's Out There?</a></i> (1973), un galardonado <a href=\"/wiki/Documental\" title=\"Documental\">documental</a> de la <a href=\"/wiki/NASA\" title=\"NASA\">NASA</a> de <a class=\"new\" href=\"/w/index.php?title=Robert_Drew&amp;action=edit&amp;redlink=1\" title=\"Robert Drew (aún no redactado)\">Robert Drew</a>.</div></div></div>\n",
       "<h3><span id=\"B.C3.BAsqueda_de_vida_extraterrestre\"></span><span class=\"mw-headline\" id=\"Búsqueda_de_vida_extraterrestre\">Búsqueda de vida extraterrestre</span><span class=\"mw-editsection\"><span class=\"mw-editsection-bracket\">[</span><a href=\"/w/index.php?title=Carl_Sagan&amp;action=edit&amp;section=9\" title=\"Editar sección: Búsqueda de vida extraterrestre\">editar</a><span class=\"mw-editsection-bracket\">]</span></span></h3>\n",
       "<p>Sagan defendió la búsqueda de vida extraterrestre, instando a la comunidad científica a utilizar <a class=\"mw-redirect\" href=\"/wiki/Radiotelescopios\" title=\"Radiotelescopios\">radiotelescopios</a> para buscar señales procedentes de formas de vida extraterrestres potencialmente inteligentes. Sagan fue tan persuasivo que, en 1982, logró publicar en la revista <i><a class=\"mw-redirect\" href=\"/wiki/Science_(revista)\" title=\"Science (revista)\">Science</a></i> una petición de defensa del <a class=\"mw-redirect\" href=\"/wiki/Proyecto_SETI\" title=\"Proyecto SETI\">Proyecto SETI</a> firmada por 70 científicos entre los que se encontraban siete ganadores del <a href=\"/wiki/Premio_Nobel\" title=\"Premio Nobel\">Premio Nobel</a>, lo que supuso un enorme espaldarazo a la respetabilidad de un campo tan controvertido. Sagan también ayudó al <a href=\"/wiki/Frank_Drake\" title=\"Frank Drake\">Dr. Frank Drake</a> para preparar el <a href=\"/wiki/Mensaje_de_Arecibo\" title=\"Mensaje de Arecibo\">mensaje de Arecibo</a>, una emisión de radio dirigida al espacio desde el <a href=\"/wiki/Radiotelescopio_de_Arecibo\" title=\"Radiotelescopio de Arecibo\">radiotelescopio de Arecibo</a> el 16 de noviembre de 1974, destinada a informar sobre la existencia de la Tierra a posibles seres extraterrestres.\n",
       "</p>\n",
       "<h3><span class=\"mw-headline\" id=\"Defensor_de_la_marihuana\">Defensor de la marihuana</span><span class=\"mw-editsection\"><span class=\"mw-editsection-bracket\">[</span><a href=\"/w/index.php?title=Carl_Sagan&amp;action=edit&amp;section=10\" title=\"Editar sección: Defensor de la marihuana\">editar</a><span class=\"mw-editsection-bracket\">]</span></span></h3>\n",
       "<p>Sagan fue consumidor y defensor del uso de la <a class=\"mw-disambig\" href=\"/wiki/Marihuana\" title=\"Marihuana\">marihuana</a>. Bajo el pseudónimo <i>Mr. X</i>, aportó un ensayo sobre el cannabis fumado al libro de 1971, <i>Marihuana Reconsidered</i>.<sup class=\"reference separada\" id=\"cite_ref-16\"><a href=\"#cite_note-16\"><span class=\"corchete-llamada\">[</span>16<span class=\"corchete-llamada\">]</span></a></sup>​<sup class=\"reference separada\" id=\"cite_ref-17\"><a href=\"#cite_note-17\"><span class=\"corchete-llamada\">[</span>17<span class=\"corchete-llamada\">]</span></a></sup>​ El ensayo explicaba que el uso de la marihuana había ayudado a inspirar parte de los trabajos de Sagan y a mejorar sus experiencias sensoriales e intelectuales. Tras la muerte de Sagan, su amigo <a class=\"new\" href=\"/w/index.php?title=Lester_Grinspoon&amp;action=edit&amp;redlink=1\" title=\"Lester Grinspoon (aún no redactado)\">Lester Grinspoon</a> desveló esta información al biógrafo Keay Davidson. La publicación de la biografía <i>Carl Sagan: Una vida</i>, en 1999, atrajo la atención de los medios hacia este aspecto de la vida de Sagan.<sup class=\"reference separada\" id=\"cite_ref-18\"><a href=\"#cite_note-18\"><span class=\"corchete-llamada\">[</span>18<span class=\"corchete-llamada\">]</span></a></sup>​<sup class=\"reference separada\" id=\"cite_ref-19\"><a href=\"#cite_note-19\"><span class=\"corchete-llamada\">[</span>19<span class=\"corchete-llamada\">]</span></a></sup>​<sup class=\"reference separada\" id=\"cite_ref-20\"><a href=\"#cite_note-20\"><span class=\"corchete-llamada\">[</span>20<span class=\"corchete-llamada\">]</span></a></sup>​ Poco después de su muerte, su viuda, Ann Druyan, aceptó formar parte de la junta asesora de la <a href=\"/wiki/Organizaci%C3%B3n_Nacional_para_la_Reforma_de_las_Leyes_de_Marihuana\" title=\"Organización Nacional para la Reforma de las Leyes de Marihuana\">NORML</a>, una fundación dedicada a la reforma de la legislación sobre el cannabis.<sup class=\"reference separada\" id=\"cite_ref-21\"><a href=\"#cite_note-21\"><span class=\"corchete-llamada\">[</span>21<span class=\"corchete-llamada\">]</span></a></sup>​\n",
       "</p>\n",
       "<h2><span id=\"Vida_privada.2C_ideas_y_creencias\"></span><span class=\"mw-headline\" id=\"Vida_privada,_ideas_y_creencias\">Vida privada, ideas y creencias</span><span class=\"mw-editsection\"><span class=\"mw-editsection-bracket\">[</span><a href=\"/w/index.php?title=Carl_Sagan&amp;action=edit&amp;section=11\" title=\"Editar sección: Vida privada, ideas y creencias\">editar</a><span class=\"mw-editsection-bracket\">]</span></span></h2>\n",
       "<h3><span class=\"mw-headline\" id=\"Matrimonios_y_descendencia\">Matrimonios y descendencia</span><span class=\"mw-editsection\"><span class=\"mw-editsection-bracket\">[</span><a href=\"/w/index.php?title=Carl_Sagan&amp;action=edit&amp;section=12\" title=\"Editar sección: Matrimonios y descendencia\">editar</a><span class=\"mw-editsection-bracket\">]</span></span></h3>\n",
       "<p>Sagan contrajo matrimonio tres veces: en 1957, con la bióloga <a href=\"/wiki/Lynn_Margulis\" title=\"Lynn Margulis\">Lynn Margulis</a>, madre del escritor <a href=\"/wiki/Dorion_Sagan\" title=\"Dorion Sagan\">Dorion Sagan</a> y del programador y empresario informático <a href=\"/wiki/Jeremy_Sagan\" title=\"Jeremy Sagan\">Jeremy Sagan</a>; en 1968, con la artista y guionista <a class=\"new\" href=\"/w/index.php?title=Linda_Salzman&amp;action=edit&amp;redlink=1\" title=\"Linda Salzman (aún no redactado)\">Linda Salzman</a>, madre del escritor y guionista <a href=\"/wiki/Nick_Sagan\" title=\"Nick Sagan\">Nick Sagan</a>; y en 1981, con la escritora y activista <a href=\"/wiki/Ann_Druyan\" title=\"Ann Druyan\">Ann Druyan</a>, madre de la productora, guionista y directora <a class=\"new\" href=\"/w/index.php?title=Sasha_Sagan&amp;action=edit&amp;redlink=1\" title=\"Sasha Sagan (aún no redactado)\">Sasha Sagan</a> y de <a class=\"new\" href=\"/w/index.php?title=Sam_Sagan&amp;action=edit&amp;redlink=1\" title=\"Sam Sagan (aún no redactado)\">Sam Sagan</a>; unión que duraría hasta la muerte del científico en 1996.\n",
       "</p>\n",
       "<h3><span id=\"Ciencia_y_religi.C3.B3n\"></span><span class=\"mw-headline\" id=\"Ciencia_y_religión\">Ciencia y religión</span><span class=\"mw-editsection\"><span class=\"mw-editsection-bracket\">[</span><a href=\"/w/index.php?title=Carl_Sagan&amp;action=edit&amp;section=13\" title=\"Editar sección: Ciencia y religión\">editar</a><span class=\"mw-editsection-bracket\">]</span></span></h3>\n",
       "<p>El escritor <a href=\"/wiki/Isaac_Asimov\" title=\"Isaac Asimov\">Isaac Asimov</a> describió a Sagan como una de las dos únicas personas que había conocido cuyo intelecto superaba al suyo, siendo la otra el informático y experto en inteligencia artificial, <a href=\"/wiki/Marvin_Minsky\" title=\"Marvin Minsky\">Marvin Minsky</a>.<sup class=\"reference separada\" id=\"cite_ref-22\"><a href=\"#cite_note-22\"><span class=\"corchete-llamada\">[</span>22<span class=\"corchete-llamada\">]</span></a></sup>​\n",
       "</p><p>Sagan escribía a menudo sobre la religión y sobre la relación entre esta y la ciencia,<sup class=\"reference separada\" id=\"cite_ref-23\"><a href=\"#cite_note-23\"><span class=\"corchete-llamada\">[</span>23<span class=\"corchete-llamada\">]</span></a></sup>​ expresando su escepticismo sobre la convencional conceptualización de Dios como ser sapiente:\n",
       "</p>\n",
       "<link href=\"mw-data:TemplateStyles:r119797252\" rel=\"mw-deduplicated-inline-style\"/>\n",
       "<blockquote class=\"flexquote\">\n",
       "<div class=\"flex\">\n",
       "<div class=\"quote\">Alguna gente piensa en Dios imaginándose un hombre anciano, de grandes dimensiones, con una larga barba blanca, sentado en un trono en algún lugar ahí arriba en el cielo, llevando afanosamente la cuenta de la muerte de cada gorrión. Otros —por ejemplo, <a href=\"/wiki/Baruch_Spinoza\" title=\"Baruch Spinoza\">Baruch Spinoza</a> y <a href=\"/wiki/Albert_Einstein\" title=\"Albert Einstein\">Albert Einstein</a>— consideraban que Dios es básicamente la suma total de las leyes físicas que describen al universo. No sé de ningún indicio de peso en favor de algún patriarca capaz de controlar el destino humano desde algún lugar privilegiado oculto en el cielo, pero sería estúpido negar la existencia de las leyes físicas.<sup class=\"reference separada\" id=\"cite_ref-broca_24-0\"><a href=\"#cite_note-broca-24\"><span class=\"corchete-llamada\">[</span>24<span class=\"corchete-llamada\">]</span></a></sup>​</div>\n",
       "</div>\n",
       "</blockquote>\n",
       "<p>En otra descripción de su punto de vista sobre Dios, Sagan afirma rotundamente:\n",
       "</p>\n",
       "<link href=\"mw-data:TemplateStyles:r119797252\" rel=\"mw-deduplicated-inline-style\"/>\n",
       "<blockquote class=\"flexquote\">\n",
       "<div class=\"flex\">\n",
       "<div class=\"quote\">La idea de que Dios es un hombre blanco de grandes dimensiones y de larga barba blanca, sentado en el cielo y que lleva la cuenta de la muerte de cada gorrión es ridícula. Pero si por Dios uno entiende el conjunto de leyes físicas que gobiernan el universo, entonces está claro que dicho Dios existe. Este Dios es emocionalmente insatisfactorio... no tiene mucho sentido rezarle a la ley de la gravedad.<sup class=\"reference separada\" id=\"cite_ref-25\"><a href=\"#cite_note-25\"><span class=\"corchete-llamada\">[</span>25<span class=\"corchete-llamada\">]</span></a></sup>​</div>\n",
       "</div>\n",
       "</blockquote>\n",
       "<p>En el libro <i><a href=\"/wiki/El_mundo_y_sus_demonios\" title=\"El mundo y sus demonios\">El mundo y sus demonios</a></i> (1995), Sagan ejemplifica la <a href=\"/wiki/Falacia\" title=\"Falacia\">falacia</a> del <a href=\"/wiki/Falacia_del_alegato_especial\" title=\"Falacia del alegato especial\">argumento especial</a> con ejemplos exclusivamente religiosos:\n",
       "</p>\n",
       "<link href=\"mw-data:TemplateStyles:r119797252\" rel=\"mw-deduplicated-inline-style\"/>\n",
       "<blockquote class=\"flexquote\">\n",
       "<div class=\"flex\">\n",
       "<div class=\"quote\">\n",
       "<ul><li>un argumento especial, a menudo para salvar una proposición en un problema retórico profundo (p. ej.: ¿Cómo puede un Dios compasivo condenar al tormento a las generaciones futuras porque, contra sus órdenes, una mujer indujo a un hombre a comerse una manzana? Argumento especial: no entiendes la sutil doctrina del libre albedrío. O: ¿Cómo puede haber un Padre, Hijo y Espíritu Santo igualmente divinos en la misma persona? Argumento especial: no entiendes el misterio divino de la Santísima Trinidad. O:  ¿Cómo podía permitir Dios que los seguidores del judaísmo, cristianismo e islam —obligados cada uno a su modo a medidas heroicas de amabilidad afectuosa y compasión— perpetraran tanta crueldad durante tanto tiempo? Argumento especial: otra vez no entiendes el libre albedrío. Y, en todo caso, los caminos de Dios son misteriosos);<sup class=\"reference separada\" id=\"cite_ref-26\"><a href=\"#cite_note-26\"><span class=\"corchete-llamada\">[</span>26<span class=\"corchete-llamada\">]</span></a></sup>​</li></ul></div>\n",
       "</div>\n",
       "</blockquote>\n",
       "<p>En 1996, en respuesta a una pregunta acerca de sus creencias religiosas, Sagan contestó: <i>Soy agnóstico.</i><sup class=\"reference separada\" id=\"cite_ref-27\"><a href=\"#cite_note-27\"><span class=\"corchete-llamada\">[</span>27<span class=\"corchete-llamada\">]</span></a></sup>​ El punto de vista de Sagan sobre la religión ha sido interpretado como una forma de <a href=\"/wiki/Pante%C3%ADsmo\" title=\"Panteísmo\">panteísmo</a> comparable a la creencia de Einstein en el Dios de Spinoza.<sup class=\"reference separada\" id=\"cite_ref-28\"><a href=\"#cite_note-28\"><span class=\"corchete-llamada\">[</span>28<span class=\"corchete-llamada\">]</span></a></sup>​ Sagan sostenía que la idea de un creador del universo era difícil de probar o refutar, y que el único descubrimiento científico que podría desafiarla sería el de un universo infinitamente viejo.<sup class=\"reference separada\" id=\"cite_ref-29\"><a href=\"#cite_note-29\"><span class=\"corchete-llamada\">[</span>29<span class=\"corchete-llamada\">]</span></a></sup>​ Según su última esposa, Ann Druyan, Sagan no era creyente:\n",
       "</p>\n",
       "<link href=\"mw-data:TemplateStyles:r119797252\" rel=\"mw-deduplicated-inline-style\"/>\n",
       "<blockquote class=\"flexquote\">\n",
       "<div class=\"flex\">\n",
       "<div class=\"quote\">Cuando mi esposo murió, debido a que era tan famoso y conocido por ser un no creyente, muchas personas se me acercaban —todavía sucede a veces— a preguntarme si Carl cambió al final y se convirtió en un creyente en la otra vida. También me preguntan con frecuencia si creo que le volveré a ver. Carl se enfrentó a su muerte con infatigable valor y jamás buscó refugio en ilusiones. Lo trágico fue saber que jamás nos volveríamos a ver. No espero volver a reunirme con Carl.<sup class=\"reference separada\" id=\"cite_ref-30\"><a href=\"#cite_note-30\"><span class=\"corchete-llamada\">[</span>30<span class=\"corchete-llamada\">]</span></a></sup>​</div>\n",
       "</div>\n",
       "</blockquote>\n",
       "<p>En 2006, Ann Druyan editó las <a href=\"/wiki/Conferencias_Gifford\" title=\"Conferencias Gifford\">Conferencias Gifford</a> sobre Teología Natural, impartidas por Sagan en <a href=\"/wiki/Glasgow\" title=\"Glasgow\">Glasgow</a>, en el año 1985, incluyéndolas en un libro llamado <i><a href=\"/wiki/La_diversidad_de_la_ciencia\" title=\"La diversidad de la ciencia\">La diversidad de la ciencia: una visión personal de la búsqueda de Dios</a></i>, en el que el astrónomo expone su punto de vista sobre la divinidad en el mundo natural.\n",
       "</p>\n",
       "<h3><span id=\"Librepensador_y_esc.C3.A9ptico\"></span><span class=\"mw-headline\" id=\"Librepensador_y_escéptico\">Librepensador y escéptico</span><span class=\"mw-editsection\"><span class=\"mw-editsection-bracket\">[</span><a href=\"/w/index.php?title=Carl_Sagan&amp;action=edit&amp;section=14\" title=\"Editar sección: Librepensador y escéptico\">editar</a><span class=\"mw-editsection-bracket\">]</span></span></h3>\n",
       "<div class=\"thumb tright\"><div class=\"thumbinner\" style=\"width:222px;\"><a class=\"image\" href=\"/wiki/Archivo:Carl_Sagan_with_two_CDC_employees.png\"><img alt=\"\" class=\"thumbimage\" data-file-height=\"2352\" data-file-width=\"2832\" decoding=\"async\" height=\"183\" src=\"//upload.wikimedia.org/wikipedia/commons/thumb/6/61/Carl_Sagan_with_two_CDC_employees.png/220px-Carl_Sagan_with_two_CDC_employees.png\" srcset=\"//upload.wikimedia.org/wikipedia/commons/thumb/6/61/Carl_Sagan_with_two_CDC_employees.png/330px-Carl_Sagan_with_two_CDC_employees.png 1.5x, //upload.wikimedia.org/wikipedia/commons/thumb/6/61/Carl_Sagan_with_two_CDC_employees.png/440px-Carl_Sagan_with_two_CDC_employees.png 2x\" width=\"220\"/></a> <div class=\"thumbcaption\"><div class=\"magnify\"><a class=\"internal\" href=\"/wiki/Archivo:Carl_Sagan_with_two_CDC_employees.png\" title=\"Aumentar\"></a></div>Carl Sagan (en el centro) charla con trabajadores de los <a class=\"mw-redirect\" href=\"/wiki/Centros_para_el_Control_y_la_Prevenci%C3%B3n_de_Enfermedades_de_los_Estados_Unidos\" title=\"Centros para el Control y la Prevención de Enfermedades de los Estados Unidos\">CDC</a>, en 1988.</div></div></div><p>Sagan también está considerado como <a href=\"/wiki/Librepensador\" title=\"Librepensador\">librepensador</a> y <a href=\"/wiki/Escepticismo_cient%C3%ADfico\" title=\"Escepticismo científico\">escéptico</a>; una de sus frases más famosas, de la serie <i>Cosmos</i>, es: <i>Afirmaciones extraordinarias requieren evidencias extraordinarias</i>.<sup class=\"reference separada\" id=\"cite_ref-31\"><a href=\"#cite_note-31\"><span class=\"corchete-llamada\">[</span>31<span class=\"corchete-llamada\">]</span></a></sup>​ Dicha frase está basada en otra casi idéntica de su colega fundador del <a href=\"/wiki/Comit%C3%A9_para_la_Investigaci%C3%B3n_Esc%C3%A9ptica\" title=\"Comité para la Investigación Escéptica\">Comité para la Investigación Escéptica</a>, <a href=\"/wiki/Marcello_Truzzi\" title=\"Marcello Truzzi\">Marcello Truzzi</a>: <i>Una afirmación extraordinaria requiere una prueba extraordinaria</i>.<sup class=\"reference separada\" id=\"cite_ref-32\"><a href=\"#cite_note-32\"><span class=\"corchete-llamada\">[</span>32<span class=\"corchete-llamada\">]</span></a></sup>​ Esta idea tuvo su origen en <a href=\"/wiki/Pierre-Simon_Laplace\" title=\"Pierre-Simon Laplace\">Pierre-Simon Laplace</a> (1749–1827), matemático y astrónomo francés, quien dijo que <i>el peso de la evidencia de una afirmación extraordinaria debe ser proporcional a su rareza</i>.\n",
       "</p><p>A lo largo de su vida, los libros de Sagan fueron desarrollados sobre su visión del mundo, naturalista y escéptica. En <i><a href=\"/wiki/El_mundo_y_sus_demonios\" title=\"El mundo y sus demonios\">El mundo y sus demonios</a></i>, Sagan presentó herramientas para probar argumentos y detectar falacias y fraudes, abogando esencialmente por el uso extensivo del pensamiento crítico y del <a href=\"/wiki/M%C3%A9todo_cient%C3%ADfico\" title=\"Método científico\">método científico</a>. La recopilación <i><a href=\"/wiki/Miles_de_millones\" title=\"Miles de millones\">Miles de millones</a></i>, publicada en 1997 tras la muerte de Sagan, contiene ensayos, como su visión sobre el <a href=\"/wiki/Aborto\" title=\"Aborto\">aborto</a>, y el relato de su viuda, Ann Druyan, sobre su muerte como escéptico, agnóstico y librepensador.\n",
       "</p><p>Sagan advirtió contra la tendencia humana hacia el <a href=\"/wiki/Antropocentrismo\" title=\"Antropocentrismo\">antropocentrismo</a>. Fue asesor de los Alumnos de Cornell por el Trato Ético hacia los Animales. Hacia el final del capítulo <i>Blues para un planeta rojo</i>, del libro <i>Cosmos</i>, Sagan escribió: «Si hay vida en Marte creo que no deberíamos hacer nada con el planeta. Marte pertenecería entonces a los marcianos, aunque los marcianos fuesen solo microbios».<sup class=\"reference separada\" id=\"cite_ref-33\"><a href=\"#cite_note-33\"><span class=\"corchete-llamada\">[</span>33<span class=\"corchete-llamada\">]</span></a></sup>​\n",
       "</p>\n",
       "<h3><span id=\"El_fen.C3.B3meno_ovni\"></span><span class=\"mw-headline\" id=\"El_fenómeno_ovni\">El fenómeno ovni</span><span class=\"mw-editsection\"><span class=\"mw-editsection-bracket\">[</span><a href=\"/w/index.php?title=Carl_Sagan&amp;action=edit&amp;section=15\" title=\"Editar sección: El fenómeno ovni\">editar</a><span class=\"mw-editsection-bracket\">]</span></span></h3>\n",
       "<p>Sagan mostró interés en los informes sobre el fenómeno <a href=\"/wiki/Ovni\" title=\"Ovni\">ovni</a> al menos desde el 3 de agosto de 1952, cuando escribió una carta al Secretario de Estado estadounidense <a href=\"/wiki/Dean_Acheson\" title=\"Dean Acheson\">Dean Acheson</a> preguntándole cómo responderían los EE. UU. si los platillos volantes resultaran ser de origen extraterrestre.<sup class=\"reference separada\" id=\"cite_ref-34\"><a href=\"#cite_note-34\"><span class=\"corchete-llamada\">[</span>34<span class=\"corchete-llamada\">]</span></a></sup>​ Posteriormente, en 1964, mantuvo varias conversaciones sobre el asunto con <a href=\"/wiki/Jacques_Vall%C3%A9e\" title=\"Jacques Vallée\">Jacques Vallée</a>.<sup class=\"reference separada\" id=\"cite_ref-westrum_35-0\"><a href=\"#cite_note-westrum-35\"><span class=\"corchete-llamada\">[</span>35<span class=\"corchete-llamada\">]</span></a></sup>​ A pesar de su escepticismo acerca de la obtención de cualquier respuesta extraordinaria a la cuestión ovni, Sagan creía que los científicos debían estudiar el fenómeno, aunque solo fuese por el gran interés que el asunto despertaba en el público.\n",
       "</p><p><a class=\"new\" href=\"/w/index.php?title=Stuart_Appelle&amp;action=edit&amp;redlink=1\" title=\"Stuart Appelle (aún no redactado)\">Stuart Appelle</a> comenta que Sagan «escribió frecuentemente sobre lo que él percibía como falacias lógicas y empíricas acerca de los ovnis y las experiencias de <a href=\"/wiki/Abducci%C3%B3n_(ufolog%C3%ADa)\" title=\"Abducción (ufología)\">abducción</a>. Sagan rechazaba la explicación extraterrestre del fenómeno pero tenía la sensación de que examinar los informes ovni tendría beneficios empíricos y pedagógicos, y que el asunto sería, por tanto, una materia de estudio legítima».<sup class=\"reference separada\" id=\"cite_ref-36\"><a href=\"#cite_note-36\"><span class=\"corchete-llamada\">[</span>36<span class=\"corchete-llamada\">]</span></a></sup>​\n",
       "</p><p>En 1966, Sagan fue miembro del Comité Ad Hoc para la Revisión del <a href=\"/wiki/Proyecto_Libro_Azul\" title=\"Proyecto Libro Azul\">Proyecto Libro Azul</a>, promovido por la Fuerza Aérea de los EE. UU. para investigar el fenómeno ovni. El comité concluyó que el Libro Azul dejaba qué desear como estudio científico, y recomendó la realización de un proyecto de corte universitario para someter el fenómeno a un escrutinio más científico. El resultado fue la formación del <a class=\"new\" href=\"/w/index.php?title=Comit%C3%A9_Condon&amp;action=edit&amp;redlink=1\" title=\"Comité Condon (aún no redactado)\">Comité Condon</a> (1966-1968), liderado por el físico <a href=\"/wiki/Edward_Condon\" title=\"Edward Condon\">Edward Condon</a>, y que, en su informe final, dictaminó formalmente que los ovnis, con independencia de su origen y significado, no se comportaban de manera consistente para representar una amenaza a la seguridad nacional.\n",
       "</p><p><a class=\"new\" href=\"/w/index.php?title=Ron_Westrum&amp;action=edit&amp;redlink=1\" title=\"Ron Westrum (aún no redactado)\">Ron Westrum</a> escribe: «El punto culminante del tratamiento que Sagan dio a la cuestión ovni fue el simposio de la <a href=\"/wiki/Asociaci%C3%B3n_Estadounidense_para_el_Avance_de_la_Ciencia\" title=\"Asociación Estadounidense para el Avance de la Ciencia\">AAAS</a> de 1969. Los participantes expusieron un amplio abanico de opiniones formadas en el tema, incluyendo no solo a partidarios como <a class=\"new\" href=\"/w/index.php?title=James_E._McDonald&amp;action=edit&amp;redlink=1\" title=\"James E. McDonald (aún no redactado)\">James McDonald</a> y <a href=\"/wiki/J._Allen_Hynek\" title=\"J. Allen Hynek\">J. Allen Hynek</a> sino también a escépticos como los astrónomos <a class=\"new\" href=\"/w/index.php?title=William_Kenneth_Hartmann&amp;action=edit&amp;redlink=1\" title=\"William Kenneth Hartmann (aún no redactado)\">William Hartmann</a> y <a class=\"new\" href=\"/w/index.php?title=Donald_Menzel&amp;action=edit&amp;redlink=1\" title=\"Donald Menzel (aún no redactado)\">Donald Menzel</a>. La lista de ponentes estaba equilibrada, y es mérito de Sagan el que dicho evento tuviera lugar a pesar de la presión ejercida por <a href=\"/wiki/Edward_Condon\" title=\"Edward Condon\">Edward Condon</a>».<sup class=\"reference separada\" id=\"cite_ref-westrum_35-1\"><a href=\"#cite_note-westrum-35\"><span class=\"corchete-llamada\">[</span>35<span class=\"corchete-llamada\">]</span></a></sup>​ Junto al físico Thornton Page, Sagan editó las conferencias y debates presentados en el simposio; estos se publicaron en 1972 bajo el título <i>UFOs: A Scientific Debate</i>. En algunos de los numerosos libros de Sagan se examina la cuestión ovni (al igual que en uno de los episodios de <i>Cosmos</i>) y se afirma la existencia de un trasfondo religioso del fenómeno.\n",
       "</p><p>En 1980, Sagan volvió a revelar su punto de vista sobre los viajes interestelares en la serie <i>Cosmos</i>. En una de sus últimas obras escritas, Sagan expuso que la probabilidad de que naves espaciales extraterrestres visitasen la Tierra era muy pequeña. Sin embargo, Sagan creía que era plausible que la preocupación causada por la <a href=\"/wiki/Guerra_Fr%C3%ADa\" title=\"Guerra Fría\">Guerra Fría</a> contribuyese a que los gobiernos desorientasen a los ciudadanos acerca de los ovnis, y que «algunos de los análisis e informes sobre ovnis, y quizá archivos voluminosos, hayan sido declarados inaccesibles al público que paga los impuestos... Es hora de que esos archivos sean desclasificados y puestos a disposición de todos». También previno acerca de sacar conclusiones sobre datos eliminados sobre los ovnis e insistió en que no existían claras evidencias de que posibles alienígenas hubieran visitado la Tierra ni en el pasado ni en el presente.<sup class=\"reference separada\" id=\"cite_ref-37\"><a href=\"#cite_note-37\"><span class=\"corchete-llamada\">[</span>37<span class=\"corchete-llamada\">]</span></a></sup>​\n",
       "</p>\n",
       "<h3><span id=\"Dilema_de_la_desviaci.C3.B3n\"></span><span class=\"mw-headline\" id=\"Dilema_de_la_desviación\">Dilema de la desviación</span><span class=\"mw-editsection\"><span class=\"mw-editsection-bracket\">[</span><a href=\"/w/index.php?title=Carl_Sagan&amp;action=edit&amp;section=16\" title=\"Editar sección: Dilema de la desviación\">editar</a><span class=\"mw-editsection-bracket\">]</span></span></h3>\n",
       "<p>En sus últimos años, Sagan abogó por la creación de una búsqueda organizada de <a class=\"mw-redirect\" href=\"/wiki/Objetos_pr%C3%B3ximos_a_la_Tierra\" title=\"Objetos próximos a la Tierra\">objetos cercanos a la Tierra</a> (NEO, por sus siglas en inglés) que pudieran impactar contra esta.<sup class=\"reference separada\" id=\"cite_ref-38\"><a href=\"#cite_note-38\"><span class=\"corchete-llamada\">[</span>38<span class=\"corchete-llamada\">]</span></a></sup>​ Muchos expertos, entre otras soluciones, sugirieron la creación de grandes bombas nucleares,  para poder alterar la órbita de un <a href=\"/wiki/Objeto_pr%C3%B3ximo_a_la_Tierra\" title=\"Objeto próximo a la Tierra\">NEO</a> susceptible a impactar contra la Tierra. Para Sagan, esto vendría a presentar un \"dilema de la desviación\": al existir la capacidad de alejar un asteroide de la Tierra, también existe la capacidad de desviar un objeto no amenazante hacia esta, creando así una auténtica arma de destrucción masiva.<sup class=\"reference separada\" id=\"cite_ref-39\"><a href=\"#cite_note-39\"><span class=\"corchete-llamada\">[</span>39<span class=\"corchete-llamada\">]</span></a></sup>​<sup class=\"reference separada\" id=\"cite_ref-40\"><a href=\"#cite_note-40\"><span class=\"corchete-llamada\">[</span>40<span class=\"corchete-llamada\">]</span></a></sup>​\n",
       "</p>\n",
       "<h3><span id=\"Hip.C3.B3tesis_err.C3.B3nea\"></span><span class=\"mw-headline\" id=\"Hipótesis_errónea\">Hipótesis errónea</span><span class=\"mw-editsection\"><span class=\"mw-editsection-bracket\">[</span><a href=\"/w/index.php?title=Carl_Sagan&amp;action=edit&amp;section=17\" title=\"Editar sección: Hipótesis errónea\">editar</a><span class=\"mw-editsection-bracket\">]</span></span></h3>\n",
       "<p>Debido a los <a href=\"/wiki/Incendios_petroleros_de_Kuwait\" title=\"Incendios petroleros de Kuwait\">incendios petroleros de Kuwait</a> iniciados en enero de 1991, Sagan y sus colegas de \"TTAPS\" advirtieron que si el incendio se mantenía por varios meses, una cantidad suficiente de humo procedente de estos <i>podría alcanzar una altura tal que llegase a desmantelar la actividad agrícola en el sur de Asia</i>. Estas afirmaciones fueron el tema de un debate televisado entre Carl Sagan y el físico <a href=\"/wiki/Frederick_Singer\" title=\"Frederick Singer\">Frederick Singer</a> para el programa televisivo <a class=\"new\" href=\"/w/index.php?title=Nightline&amp;action=edit&amp;redlink=1\" title=\"Nightline (aún no redactado)\">Nightline</a>, en el cual Sagan afirmó que los efectos del humo serían similares a los de un <a href=\"/wiki/Invierno_nuclear\" title=\"Invierno nuclear\">invierno nuclear</a>.\n",
       "</p><p>Los incendios continuaron por varios meses antes de poder ser sofocados y no causaron ningún enfriamiento de talla continental. Sagan posteriormente reconoció, en <i>El mundo y sus demonios</i>, que dicha predicción no resultó ser correcta: estaba <i>oscuro como boca de lobo a mediodía y las temperaturas cayeron entre 4 y 6 °C en el Golfo Pérsico, pero no fue mucho el humo que alcanzó altitudes estratosféricas y Asia se salvó.</i><sup class=\"reference separada\" id=\"cite_ref-41\"><a href=\"#cite_note-41\"><span class=\"corchete-llamada\">[</span>41<span class=\"corchete-llamada\">]</span></a></sup>​ En 2007, un estudio aplicó modelos computacionales modernos a los incendios petroleros de Kuwait, encontrando que las columnas individuales de humo no son capaces de elevarse hasta la estratosfera, pero que el humo procedente de fuegos que abarquen una gran superficie, como algunos incendios forestales o los incendios de ciudades enteras producto de un ataque nuclear, sí que elevarían cantidades significativas de humo a niveles estratosféricos.<sup class=\"reference separada\" id=\"cite_ref-42\"><a href=\"#cite_note-42\"><span class=\"corchete-llamada\">[</span>42<span class=\"corchete-llamada\">]</span></a></sup>​<sup class=\"reference separada\" id=\"cite_ref-43\"><a href=\"#cite_note-43\"><span class=\"corchete-llamada\">[</span>43<span class=\"corchete-llamada\">]</span></a></sup>​<sup class=\"reference separada\" id=\"cite_ref-44\"><a href=\"#cite_note-44\"><span class=\"corchete-llamada\">[</span>44<span class=\"corchete-llamada\">]</span></a></sup>​\n",
       "</p>\n",
       "<h3><span class=\"mw-headline\" id=\"2001:_Una_odisea_del_espacio\"><i>2001: Una odisea del espacio</i></span><span class=\"mw-editsection\"><span class=\"mw-editsection-bracket\">[</span><a href=\"/w/index.php?title=Carl_Sagan&amp;action=edit&amp;section=18\" title=\"Editar sección: 2001: Una odisea del espacio\">editar</a><span class=\"mw-editsection-bracket\">]</span></span></h3>\n",
       "<p>Sagan ejerció brevemente como asesor en la película <i><a class=\"mw-redirect\" href=\"/wiki/2001:_Una_odisea_del_espacio\" title=\"2001: Una odisea del espacio\">2001: Una odisea del espacio</a></i>, dirigida por <a href=\"/wiki/Stanley_Kubrick\" title=\"Stanley Kubrick\">Stanley Kubrick</a>.<sup class=\"reference separada\" id=\"cite_ref-Keay_4-13\"><a href=\"#cite_note-Keay-4\"><span class=\"corchete-llamada\">[</span>4<span class=\"corchete-llamada\">]</span></a></sup>​ Propuso que la película sugiriese, sin mostrarlo, la existencia de una superinteligencia extraterrestre.<sup class=\"reference separada\" id=\"cite_ref-45\"><a href=\"#cite_note-45\"><span class=\"corchete-llamada\">[</span>45<span class=\"corchete-llamada\">]</span></a></sup>​\n",
       "</p>\n",
       "<h2><span class=\"mw-headline\" id=\"El_caso_Apple\">El caso Apple</span><span class=\"mw-editsection\"><span class=\"mw-editsection-bracket\">[</span><a href=\"/w/index.php?title=Carl_Sagan&amp;action=edit&amp;section=19\" title=\"Editar sección: El caso Apple\">editar</a><span class=\"mw-editsection-bracket\">]</span></span></h2>\n",
       "<p>En 1994, los ingenieros de <a class=\"mw-redirect\" href=\"/wiki/Apple_Computer\" title=\"Apple Computer\">Apple Computer</a> bautizaron al <a href=\"/wiki/Power_Macintosh_7100\" title=\"Power Macintosh 7100\">Power Macintosh 7100</a> con el nombre en clave <i>Carl Sagan</i> con la esperanza de que <a href=\"/wiki/Apple\" title=\"Apple\">Apple</a> ganara <i>miles de millones</i> con las ventas del mismo. El nombre solo fue utilizado internamente, pero a Sagan le preocupaba que se convirtiera en un medio de promoción del producto y envió a Apple una carta de desistimiento. Apple aceptó, pero los ingenieros respondieron cambiando el nombre en clave interno a <i>BHA</i> (siglas de <i>Butt-Head Astronomer</i> - <i>Astrónomo Cabezota</i>).<sup class=\"reference separada\" id=\"cite_ref-46\"><a href=\"#cite_note-46\"><span class=\"corchete-llamada\">[</span>46<span class=\"corchete-llamada\">]</span></a></sup>​ Entonces Sagan, denunció a Apple por <a href=\"/wiki/Difamaci%C3%B3n\" title=\"Difamación\">difamación</a> ante el tribunal federal. El tribunal aceptó la petición de Apple de desestimar la acusación de Sagan y opinó, en <i><a href=\"/wiki/Obiter_dictum\" title=\"Obiter dictum\">obiter dictum</a></i>, que un lector situado en el contexto comprendería que Apple estaba <i>tratando claramente de responder de forma humorística y satírica</i>, y que <i>se fuerza la razón al concluir que el acusado trataba de criticar la reputación o competencia del demandante como astrónomo. No se ataca en serio la pericia de un científico al usar la expresión indeterminada \"cabezota\".</i><sup class=\"reference separada\" id=\"cite_ref-47\"><a href=\"#cite_note-47\"><span class=\"corchete-llamada\">[</span>47<span class=\"corchete-llamada\">]</span></a></sup>​ Sagan, entonces, denunció el uso inicial de su nombre por alusiones, pero volvió a perder y Sagan apeló la resolución. En noviembre de 1995, se llegó a un acuerdo extrajudicial, y la oficina de patentes y marcas de Apple emitió un comunicado conciliatorio: <i>Apple siempre ha sentido un gran respeto hacia el Dr. Sagan. Nunca fue intención de Apple el causarle al Dr. Sagan o a su familia ninguna vergüenza o preocupación.</i><sup class=\"reference separada\" id=\"cite_ref-Poundstone2_48-0\"><a href=\"#cite_note-Poundstone2-48\"><span class=\"corchete-llamada\">[</span>48<span class=\"corchete-llamada\">]</span></a></sup>​\n",
       "</p>\n",
       "<h2><span class=\"mw-headline\" id=\"Enfermedad_y_fallecimiento\">Enfermedad y fallecimiento</span><span class=\"mw-editsection\"><span class=\"mw-editsection-bracket\">[</span><a href=\"/w/index.php?title=Carl_Sagan&amp;action=edit&amp;section=20\" title=\"Editar sección: Enfermedad y fallecimiento\">editar</a><span class=\"mw-editsection-bracket\">]</span></span></h2>\n",
       "<p>Dos años después de diagnosticársele una <a class=\"mw-redirect\" href=\"/wiki/Mielodisplasia\" title=\"Mielodisplasia\">mielodisplasia</a>, y después de someterse a tres <a href=\"/wiki/Trasplante_de_m%C3%A9dula_%C3%B3sea\" title=\"Trasplante de médula ósea\">trasplantes de médula ósea</a> procedente de su hermana, el Dr. Carl Sagan falleció de <a href=\"/wiki/Neumon%C3%ADa\" title=\"Neumonía\">neumonía</a> a los 62 años de edad en el <a class=\"new\" href=\"/w/index.php?title=Centro_de_Investigaci%C3%B3n_del_C%C3%A1ncer_Fred_Hutchinson&amp;action=edit&amp;redlink=1\" title=\"Centro de Investigación del Cáncer Fred Hutchinson (aún no redactado)\">Centro de Investigación del Cáncer Fred Hutchinson</a> de <a href=\"/wiki/Seattle\" title=\"Seattle\">Seattle</a>, <a href=\"/wiki/Washington_(estado)\" title=\"Washington (estado)\">Washington</a>, el 20 de diciembre de 1996.<sup class=\"reference separada\" id=\"cite_ref-49\"><a href=\"#cite_note-49\"><span class=\"corchete-llamada\">[</span>49<span class=\"corchete-llamada\">]</span></a></sup>​<sup class=\"reference separada\" id=\"cite_ref-50\"><a href=\"#cite_note-50\"><span class=\"corchete-llamada\">[</span>50<span class=\"corchete-llamada\">]</span></a></sup>​ Fue enterrado en el Cementerio Lakeview, <a href=\"/wiki/Ithaca_(Nueva_York)\" title=\"Ithaca (Nueva York)\">Ithaca, Nueva York</a>.<sup class=\"reference separada\" id=\"cite_ref-51\"><a href=\"#cite_note-51\"><span class=\"corchete-llamada\">[</span>51<span class=\"corchete-llamada\">]</span></a></sup>​\n",
       "</p>\n",
       "<h2><span class=\"mw-headline\" id=\"Reconocimientos_y_premios\">Reconocimientos y premios</span><span class=\"mw-editsection\"><span class=\"mw-editsection-bracket\">[</span><a href=\"/w/index.php?title=Carl_Sagan&amp;action=edit&amp;section=21\" title=\"Editar sección: Reconocimientos y premios\">editar</a><span class=\"mw-editsection-bracket\">]</span></span></h2>\n",
       "<div class=\"thumb tright\"><div class=\"thumbinner\" style=\"width:116px;\"><a class=\"image\" href=\"/wiki/Archivo:NASA_Distinguished_Public_Service_Medal.jpeg\"><img alt=\"\" class=\"thumbimage\" data-file-height=\"200\" data-file-width=\"114\" decoding=\"async\" height=\"200\" src=\"//upload.wikimedia.org/wikipedia/commons/8/8d/NASA_Distinguished_Public_Service_Medal.jpeg\" width=\"114\"/></a> <div class=\"thumbcaption\"><a href=\"/wiki/Medalla_de_la_NASA_al_Servicio_P%C3%BAblico_Distinguido\" title=\"Medalla de la NASA al Servicio Público Distinguido\">Medalla de la NASA al Servicio Público Distinguido</a>. Sagan la obtuvo en 1977.</div></div></div>\n",
       "<p>Carl Sagan ha recibido diversos premios, condecoraciones y honores entre los que destacan:\n",
       "</p>\n",
       "<ul><li><a class=\"new\" href=\"/w/index.php?title=Beca_Miller_de_Investigaci%C3%B3n&amp;action=edit&amp;redlink=1\" title=\"Beca Miller de Investigación (aún no redactado)\">Beca Miller de Investigación</a> (1960-1962) del <a class=\"new\" href=\"/w/index.php?title=Instituto_Miller&amp;action=edit&amp;redlink=1\" title=\"Instituto Miller (aún no redactado)\">Instituto Miller</a>.</li>\n",
       "<li>Premio del <a href=\"/wiki/Programa_Apolo\" title=\"Programa Apolo\">Programa Apolo</a> concedido por la <a href=\"/wiki/NASA\" title=\"NASA\">NASA</a>.</li>\n",
       "<li><a class=\"new\" href=\"/w/index.php?title=Premio_Klumpke-Roberts&amp;action=edit&amp;redlink=1\" title=\"Premio Klumpke-Roberts (aún no redactado)\">Premio Klumpke-Roberts</a> (1974) de la <a href=\"/wiki/Sociedad_Astron%C3%B3mica_del_Pac%C3%ADfico\" title=\"Sociedad Astronómica del Pacífico\">Sociedad Astronómica del Pacífico</a>.</li>\n",
       "<li><a href=\"/wiki/Premio_John_W._Campbell_Memorial\" title=\"Premio John W. Campbell Memorial\">Premio John W. Campbell Memorial</a> Especial no ficción (1974) por <i>La conexión cósmica</i>.<sup class=\"reference separada\" id=\"cite_ref-52\"><a href=\"#cite_note-52\"><span class=\"corchete-llamada\">[</span>52<span class=\"corchete-llamada\">]</span></a></sup>​</li>\n",
       "<li><a href=\"/wiki/Medalla_de_la_NASA_al_Servicio_P%C3%BAblico_Distinguido\" title=\"Medalla de la NASA al Servicio Público Distinguido\">Medalla de la NASA al Servicio Público Distinguido</a> (1977).</li>\n",
       "<li><a class=\"new\" href=\"/w/index.php?title=Medalla_de_la_NASA_al_Logro_Cient%C3%ADfico_Excepcional&amp;action=edit&amp;redlink=1\" title=\"Medalla de la NASA al Logro Científico Excepcional (aún no redactado)\">Medalla de la NASA al Logro Científico Excepcional</a>.</li>\n",
       "<li><a href=\"/wiki/Premio_Pulitzer\" title=\"Premio Pulitzer\">Premio Pulitzer</a> (1978) en la categoría de obra de no ficción general al ensayo <i>Los dragones del Edén</i>.</li>\n",
       "<li>Premio <a href=\"/wiki/Lowell_Thomas\" title=\"Lowell Thomas\">Lowell Thomas</a> del <a class=\"new\" href=\"/w/index.php?title=Club_de_Exploradores&amp;action=edit&amp;redlink=1\" title=\"Club de Exploradores (aún no redactado)\">Club de Exploradores</a> en el 75º Aniversario.</li>\n",
       "<li><a href=\"/wiki/Premios_Peabody\" title=\"Premios Peabody\">Premio Peabody</a> (1980) a la serie <i>Cosmos</i>.</li>\n",
       "<li><a class=\"mw-redirect\" href=\"/wiki/Premio_Emmy\" title=\"Premio Emmy\">Premio Emmy</a> (1981), en la categoría de Logro Destacado Individual, por la serie <i>Cosmos: un viaje personal</i>.</li>\n",
       "<li><a class=\"mw-redirect\" href=\"/wiki/Premio_Primetime_Emmy\" title=\"Premio Primetime Emmy\">Premio Primetime Emmy</a> (1981), en la categoría de Serie Documental Destacada, por la serie <i>Cosmos: un viaje personal</i>.</li>\n",
       "<li><a class=\"new\" href=\"/w/index.php?title=Premio_Anual_a_la_Excelencia_Televisiva&amp;action=edit&amp;redlink=1\" title=\"Premio Anual a la Excelencia Televisiva (aún no redactado)\">Premio Anual a la Excelencia Televisiva</a> (1981) concedido por la <a href=\"/wiki/Universidad_Estatal_de_Ohio\" title=\"Universidad Estatal de Ohio\">Universidad Estatal de Ohio</a> a la serie <i>Cosmos: un viaje personal</i>.</li>\n",
       "<li><a class=\"mw-redirect\" href=\"/wiki/Premio_Hugo\" title=\"Premio Hugo\">Premio Hugo</a> por el \"Mejor Relato de No Ficción\" (1981) al libro <i>Cosmos</i>.<sup class=\"reference separada\" id=\"cite_ref-53\"><a href=\"#cite_note-53\"><span class=\"corchete-llamada\">[</span>53<span class=\"corchete-llamada\">]</span></a></sup>​</li>\n",
       "<li><a class=\"mw-redirect\" href=\"/wiki/Asociaci%C3%B3n_Humanista_Americana#Humanistas_del_año\" title=\"Asociación Humanista Americana\">Humanista del Año</a> (1981) de la <a class=\"mw-redirect\" href=\"/wiki/Asociaci%C3%B3n_Humanista_Americana\" title=\"Asociación Humanista Americana\">Asociación Humanista Americana</a>.</li>\n",
       "<li>Premio John F. Kennedy de Astronáutica (1982) de la <a class=\"new\" href=\"/w/index.php?title=Sociedad_Astron%C3%A1utica_Americana&amp;action=edit&amp;redlink=1\" title=\"Sociedad Astronáutica Americana (aún no redactado)\">Sociedad Astronáutica Americana</a>.<sup class=\"reference separada\" id=\"cite_ref-54\"><a href=\"#cite_note-54\"><span class=\"corchete-llamada\">[</span>54<span class=\"corchete-llamada\">]</span></a></sup>​</li>\n",
       "<li>Premio <a href=\"/wiki/Joseph_Priestley\" title=\"Joseph Priestley\">Joseph Priestley</a> — \"Por destacadas contribuciones al bienestar de la humanidad\".</li>\n",
       "<li>Medalla <a href=\"/wiki/Konstant%C3%ADn_Tsiolkovski\" title=\"Konstantín Tsiolkovski\">Konstantín Tsiolkovski</a> otorgada por la Federación Soviética de Cosmonautas.</li>\n",
       "<li><a class=\"mw-redirect\" href=\"/wiki/Premio_Locus\" title=\"Premio Locus\">Premio Locus</a> (1986) a la novela <i>Contacto</i>.</li>\n",
       "<li>Premio Elogio de la Razón (1987) del <a href=\"/wiki/Comit%C3%A9_para_la_Investigaci%C3%B3n_Esc%C3%A9ptica\" title=\"Comité para la Investigación Escéptica\">Comité para la Investigación Científica de las Afirmaciones de lo Paranormal</a></li>\n",
       "<li><a class=\"new\" href=\"/w/index.php?title=Premio_Masursky&amp;action=edit&amp;redlink=1\" title=\"Premio Masursky (aún no redactado)\">Premio Masursky</a> de la <a class=\"mw-redirect\" href=\"/wiki/Sociedad_Astron%C3%B3mica_Americana\" title=\"Sociedad Astronómica Americana\">Sociedad Astronómica Americana</a>.</li>\n",
       "<li><a href=\"/wiki/Medalla_Oersted\" title=\"Medalla Oersted\">Medalla Oersted</a> (1990) de la <a class=\"new\" href=\"/w/index.php?title=Asociaci%C3%B3n_Americana_de_Profesores_de_F%C3%ADsica&amp;action=edit&amp;redlink=1\" title=\"Asociación Americana de Profesores de Física (aún no redactado)\">Asociación Americana de Profesores de Física</a>.</li>\n",
       "<li><a class=\"new\" href=\"/w/index.php?title=Premio_Galbert&amp;action=edit&amp;redlink=1\" title=\"Premio Galbert (aún no redactado)\">Premio Galbert</a> de Astronáutica.</li>\n",
       "<li>Premio <a href=\"/wiki/Helen_Caldicott\" title=\"Helen Caldicott\">Helen Caldicott</a> al Liderazgo – otorgado por la <a class=\"new\" href=\"/w/index.php?title=Acci%C3%B3n_Femenina_por_el_Desarme_Nuclear&amp;action=edit&amp;redlink=1\" title=\"Acción Femenina por el Desarme Nuclear (aún no redactado)\">Acción Femenina por el Desarme Nuclear</a>.<sup>[<i><a href=\"/wiki/Wikipedia:Verificabilidad\" title=\"Wikipedia:Verificabilidad\">cita requerida</a></i>]</sup></li>\n",
       "<li><a href=\"/wiki/Medalla_de_Bienestar_P%C3%BAblico\" title=\"Medalla de Bienestar Público\">Medalla de Bienestar Público</a> (1994) de la <a class=\"mw-redirect\" href=\"/wiki/Academia_Nacional_de_Ciencias_de_Estados_Unidos\" title=\"Academia Nacional de Ciencias de Estados Unidos\">Academia Nacional de Ciencias</a> por sus <i>destacadas contribuciones a la aplicación de la ciencia al bienestar público.</i>.<sup class=\"reference separada\" id=\"cite_ref-55\"><a href=\"#cite_note-55\"><span class=\"corchete-llamada\">[</span>55<span class=\"corchete-llamada\">]</span></a></sup>​</li>\n",
       "<li><a class=\"new\" href=\"/w/index.php?title=Premio_Isaac_Asimov&amp;action=edit&amp;redlink=1\" title=\"Premio Isaac Asimov (aún no redactado)\">Premio Isaac Asimov</a> (1994) del <a href=\"/wiki/Comit%C3%A9_para_la_Investigaci%C3%B3n_Esc%C3%A9ptica\" title=\"Comité para la Investigación Escéptica\">Comité para la Investigación Científica de las Afirmaciones de lo Paranormal</a>.</li>\n",
       "<li>Premio <a href=\"/wiki/San_Francisco_Chronicle\" title=\"San Francisco Chronicle\">San Francisco Chronicle</a> (1998) por <i>Contact</i>.<sup>[<i><a href=\"/wiki/Wikipedia:Verificabilidad\" title=\"Wikipedia:Verificabilidad\">cita requerida</a></i>]</sup></li>\n",
       "<li>Puesto 99 en la clasificación de estadounidenses más importantes, el 5 de junio de 2005, en la serie <i>The Greatest American</i> del <a href=\"/wiki/Discovery_Channel\" title=\"Discovery Channel\">Discovery Channel</a>.</li>\n",
       "<li>Miembro del Salón de la Fama de Nueva Jersey desde 2009.</li>\n",
       "<li>Miembro Honorario de la <a class=\"new\" href=\"/w/index.php?title=Sociedad_Literaria_Demosteniana&amp;action=edit&amp;redlink=1\" title=\"Sociedad Literaria Demosteniana (aún no redactado)\">Sociedad Literaria Demosteniana</a> el 10 de noviembre de 2011.</li></ul>\n",
       "<h3><span id=\"Reconocimiento_p.C3.B3stumo\"></span><span class=\"mw-headline\" id=\"Reconocimiento_póstumo\">Reconocimiento póstumo</span><span class=\"mw-editsection\"><span class=\"mw-editsection-bracket\">[</span><a href=\"/w/index.php?title=Carl_Sagan&amp;action=edit&amp;section=22\" title=\"Editar sección: Reconocimiento póstumo\">editar</a><span class=\"mw-editsection-bracket\">]</span></span></h3>\n",
       "<div class=\"thumb tright\"><div class=\"thumbinner\" style=\"width:302px;\"><a class=\"image\" href=\"/wiki/Archivo:Carl-sagan-brooklyn.JPG\"><img alt=\"\" class=\"thumbimage\" data-file-height=\"1402\" data-file-width=\"2023\" decoding=\"async\" height=\"208\" src=\"//upload.wikimedia.org/wikipedia/commons/thumb/c/c3/Carl-sagan-brooklyn.JPG/300px-Carl-sagan-brooklyn.JPG\" srcset=\"//upload.wikimedia.org/wikipedia/commons/thumb/c/c3/Carl-sagan-brooklyn.JPG/450px-Carl-sagan-brooklyn.JPG 1.5x, //upload.wikimedia.org/wikipedia/commons/thumb/c/c3/Carl-sagan-brooklyn.JPG/600px-Carl-sagan-brooklyn.JPG 2x\" width=\"300\"/></a> <div class=\"thumbcaption\"><div class=\"magnify\"><a class=\"internal\" href=\"/wiki/Archivo:Carl-sagan-brooklyn.JPG\" title=\"Aumentar\"></a></div>Lápida dedicada a Carl Sagan en el Sendero de los Famosos, del Jardín Botánico de Brooklyn.</div></div></div><p>La película <i><a href=\"/wiki/Contact_(pel%C3%ADcula)\" title=\"Contact (película)\">Contacto</a></i>, de 1997, basada en la novela homónima de Sagan y acabada tras la muerte de este, finaliza con la dedicatoria <i>Para Carl</i>.\n",
       "</p><p>También en 1997 se inauguró en <a href=\"/wiki/Ithaca_(Nueva_York)\" title=\"Ithaca (Nueva York)\">Ithaca, Nueva York</a>, el <a class=\"new\" href=\"/w/index.php?title=Sagan_Planet_Walk&amp;action=edit&amp;redlink=1\" title=\"Sagan Planet Walk (aún no redactado)\">Sagan Planet Walk</a>, una recreación del sistema solar, con una extensión de 1,2 km, desde el centro de la zona peatonal (llamada <i>The Commons</i>) hasta el <a class=\"new\" href=\"/w/index.php?title=Sciencenter&amp;action=edit&amp;redlink=1\" title=\"Sciencenter (aún no redactado)\">Sciencenter</a>, un museo de la ciencia participativo, del que Sagan fue miembro fundador de la junta de asesores.<sup class=\"reference separada\" id=\"cite_ref-56\"><a href=\"#cite_note-56\"><span class=\"corchete-llamada\">[</span>56<span class=\"corchete-llamada\">]</span></a></sup>​\n",
       "</p><p>El lugar de aterrizaje de la nave no tripulada <a href=\"/wiki/Mars_Pathfinder\" title=\"Mars Pathfinder\">Mars Pathfinder</a> fue rebautizado como <a href=\"/wiki/Mars_Pathfinder#Fin_de_la_misión\" title=\"Mars Pathfinder\">Carl Sagan Memorial Station</a> el 5 de julio de 1997. Además, el <a href=\"/wiki/Asteroide\" title=\"Asteroide\">asteroide</a> <a class=\"mw-redirect\" href=\"/wiki/2709_Sagan\" title=\"2709 Sagan\">2709 Sagan</a> lleva dicho nombre en honor al científico.\n",
       "</p><p><a href=\"/wiki/Nick_Sagan\" title=\"Nick Sagan\">Nick Sagan</a>, hijo de Carl, es autor de varios episodios de la franquicia <i><a href=\"/wiki/Star_Trek\" title=\"Star Trek\">Star Trek</a></i>. El episodio de la serie <i><a href=\"/wiki/Star_Trek:_Enterprise\" title=\"Star Trek: Enterprise\">Star Trek: Enterprise</a></i> titulado <a class=\"new\" href=\"/w/index.php?title=Terra_Prime&amp;action=edit&amp;redlink=1\" title=\"Terra Prime (aún no redactado)\">Terra Prime</a>, muestra una breve imagen de los restos del robot explorador <a href=\"/wiki/Mars_Pathfinder#Salida_del_Sojourner\" title=\"Mars Pathfinder\">Sojourner</a>, que formó parte de la misión <i>Mars Pathfinder</i>, situados junto a un monumento conmemorativo en la <a href=\"/wiki/Mars_Pathfinder#Fin_de_la_misión\" title=\"Mars Pathfinder\">Carl Sagan Memorial Station</a>, sobre la superficie marciana. El monumento muestra una frase de Sagan: <i>Sea cual sea la razón por la que esteis en Marte, estoy encantado de que esteis aquí, y yo desearía estar con vosotros.</i> <a class=\"new\" href=\"/w/index.php?title=Steve_Squyres&amp;action=edit&amp;redlink=1\" title=\"Steve Squyres (aún no redactado)\">Steve Squyres</a>, alumno de Sagan, dirigió el equipo que depositó con éxito el <a class=\"new\" href=\"/w/index.php?title=Spirit_Rover&amp;action=edit&amp;redlink=1\" title=\"Spirit Rover (aún no redactado)\">Spirit Rover</a> y el <a class=\"new\" href=\"/w/index.php?title=Opportunity_Rover&amp;action=edit&amp;redlink=1\" title=\"Opportunity Rover (aún no redactado)\">Opportunity Rover</a> sobre Marte en 2004.\n",
       "</p><p>El 9 de noviembre de 2001, en el 67º aniversario del nacimiento de Sagan, el <a class=\"mw-redirect\" href=\"/wiki/Ames_Research_Center\" title=\"Ames Research Center\">Ames Research Center</a> de la NASA dedicó al científico el emplazamiento del <a class=\"new\" href=\"/w/index.php?title=Centro_Carl_Sagan_para_el_Estudio_de_la_Vida_en_el_Cosmos&amp;action=edit&amp;redlink=1\" title=\"Centro Carl Sagan para el Estudio de la Vida en el Cosmos (aún no redactado)\">Centro Carl Sagan para el Estudio de la Vida en el Cosmos</a>. El responsable de la NASA, <a href=\"/wiki/Daniel_Goldin\" title=\"Daniel Goldin\">Daniel Goldin</a> dijo: <i>Carl fue un visionario increíble, y ahora su legado podrá ser preservado y ampliado por un laboratorio de investigación y formación del siglo XXI dedicado a mejorar nuestra comprensión de la vida en el universo y a enarbolar la causa de la exploración espacial por siempre jamás.</i> Ann Druyan estuvo en la apertura de puertas del Centro, el 22 de octubre de 2006.\n",
       "</p><p>Para conmemorar el décimo aniversario de la muerte de Sagan, David Morrison, uno de sus antiguos alumnos, recordó <i>las inmensas contribuciones de Sagan a la investigación planetaria, a la comprensión pública de la ciencia, y al movimiento escéptico</i> en la revista <i><a href=\"/wiki/Skeptical_Inquirer\" title=\"Skeptical Inquirer\">Skeptical Inquirer</a></i>.<sup class=\"reference separada\" id=\"cite_ref-57\"><a href=\"#cite_note-57\"><span class=\"corchete-llamada\">[</span>57<span class=\"corchete-llamada\">]</span></a></sup>​\n",
       "</p><p>Existen, al menos, tres premios que llevan el nombre de Sagan en honor a este:\n",
       "</p>\n",
       "<ul><li>El <a class=\"mw-redirect\" href=\"/wiki/Premio_Carl_Sagan_para_la_Comprensi%C3%B3n_P%C3%BAblica_de_la_Ciencia\" title=\"Premio Carl Sagan para la Comprensión Pública de la Ciencia\">Premio Carl Sagan para la Comprensión Pública de la Ciencia</a> otorgado por el <a class=\"new\" href=\"/w/index.php?title=Consejo_de_Presidentes_de_la_Sociedad_Cient%C3%ADfica&amp;action=edit&amp;redlink=1\" title=\"Consejo de Presidentes de la Sociedad Científica (aún no redactado)\">Consejo de Presidentes de la Sociedad Científica</a> (CSSP). Sagan fue el primer galardonado en 1993.<sup class=\"reference separada\" id=\"cite_ref-58\"><a href=\"#cite_note-58\"><span class=\"corchete-llamada\">[</span>58<span class=\"corchete-llamada\">]</span></a></sup>​</li>\n",
       "<li>El <a href=\"/wiki/Premio_Conmemorativo_Carl_Sagan\" title=\"Premio Conmemorativo Carl Sagan\">Premio Conmemorativo Carl Sagan</a>, otorgado en conjunto desde 1997 por la <a class=\"new\" href=\"/w/index.php?title=Sociedad_Astron%C3%A1utica_Americana&amp;action=edit&amp;redlink=1\" title=\"Sociedad Astronáutica Americana (aún no redactado)\">Sociedad Astronáutica Americana</a> y la <a href=\"/wiki/Sociedad_Planetaria\" title=\"Sociedad Planetaria\">Sociedad Planetaria</a>.</li>\n",
       "<li>La <a href=\"/wiki/Medalla_Carl_Sagan\" title=\"Medalla Carl Sagan\">Medalla Carl Sagan</a> a la Excelencia en la Divulgación de la Ciencia Planetaria, otorgada desde 1998 por la <a class=\"new\" href=\"/w/index.php?title=Divisi%C3%B3n_de_Ciencias_Planetarias&amp;action=edit&amp;redlink=1\" title=\"División de Ciencias Planetarias (aún no redactado)\">División de Ciencias Planetarias</a> (DPS) de la Sociedad Astronómica Americana, a los científicos planetarios en activo que hayan realizado algún trabajo destacado de divulgación. Sagan fue uno de los miembros del comité organizador original de la DPS.</li></ul>\n",
       "<p>En 2006, la Medalla Carl Sagan le fue concedida al astrobiólogo y escritor <a class=\"new\" href=\"/w/index.php?title=David_Grinspoon&amp;action=edit&amp;redlink=1\" title=\"David Grinspoon (aún no redactado)\">David Grinspoon</a>, hijo de <a class=\"new\" href=\"/w/index.php?title=Lester_Grinspoon&amp;action=edit&amp;redlink=1\" title=\"Lester Grinspoon (aún no redactado)\">Lester Grinspoon</a>, amigo de Sagan.\n",
       "</p><p>El 20 de diciembre de 2006, el décimo aniversario de la muerte de Sagan, el bloguero Joel Schlosberg organizó un <i>blogatón</i> para conmemorar el evento. La idea fue apoyada por Nick Sagan,<sup class=\"reference separada\" id=\"cite_ref-59\"><a href=\"#cite_note-59\"><span class=\"corchete-llamada\">[</span>59<span class=\"corchete-llamada\">]</span></a></sup>​ y contó con la participación de muchos miembros de la comunidad bloguera.\n",
       "</p><p>En agosto de 2007, el <a class=\"new\" href=\"/w/index.php?title=Grupo_de_Investigaciones_Independientes&amp;action=edit&amp;redlink=1\" title=\"Grupo de Investigaciones Independientes (aún no redactado)\">Grupo de Investigaciones Independientes</a> (IIG) otorgó a Sagan, a título póstumo, un premio a toda su carrera científica, honor también concedido a <a href=\"/wiki/Harry_Houdini\" title=\"Harry Houdini\">Harry Houdini</a> y a <a href=\"/wiki/James_Randi\" title=\"James Randi\">James Randi</a>.<sup class=\"reference separada\" id=\"cite_ref-60\"><a href=\"#cite_note-60\"><span class=\"corchete-llamada\">[</span>60<span class=\"corchete-llamada\">]</span></a></sup>​\n",
       "</p><p>En 2009, la compañía discográfica <a href=\"/wiki/Third_Man_Records\" title=\"Third Man Records\">Third Man Records</a>, organizó un proyecto de música electrónica denominado <a href=\"/wiki/Symphony_of_Science\" title=\"Symphony of Science\">Symphony of Science</a> a cargo del músico <a class=\"new\" href=\"/w/index.php?title=John_Boswell_(m%C3%BAsico)&amp;action=edit&amp;redlink=1\" title=\"John Boswell (músico) (aún no redactado)\">John Boswell</a>, compuesto a partir de fragmentos sonoros y vídeos remezclados de varias obras de divulgación científica, incluida la serie <i>Cosmos</i>. Los vídeos resultantes almacenados en <a href=\"/wiki/YouTube\" title=\"YouTube\">YouTube</a> han recibido más de veinte millones de visionados. Gracias a las tareas de remezcla, se ha conseguido que Sagan \"cante\" en el tema <i>A Glorious Dawn</i><sup class=\"reference separada\" id=\"cite_ref-61\"><a href=\"#cite_note-61\"><span class=\"corchete-llamada\">[</span>61<span class=\"corchete-llamada\">]</span></a></sup>​<sup class=\"reference separada\" id=\"cite_ref-62\"><a href=\"#cite_note-62\"><span class=\"corchete-llamada\">[</span>62<span class=\"corchete-llamada\">]</span></a></sup>​ y \"colabore\" en otros.\n",
       "</p><p>Desde 2009, por inicitiava del <a href=\"/wiki/Center_for_Inquiry\" title=\"Center for Inquiry\">Center for Inquiry</a>, varias organizaciones en pro del humanismo secular y la investigación científica promueven la celebración del <a href=\"/wiki/D%C3%ADa_de_Carl_Sagan\" title=\"Día de Carl Sagan\">Día de Carl Sagan</a> el 9 de noviembre de cada año.\n",
       "</p><p>El cortometraje de ciencia ficción sueco 2014 Wanderers utiliza fragmentos de la narración de Sagan de su libro <i>Pale Blue Dot</i>, reproducidos sobre imágenes creadas digitalmente de la posible expansión futura de la humanidad en el espacio exterior.<sup class=\"reference separada\" id=\"cite_ref-63\"><a href=\"#cite_note-63\"><span class=\"corchete-llamada\">[</span>63<span class=\"corchete-llamada\">]</span></a></sup>​<sup class=\"reference separada\" id=\"cite_ref-64\"><a href=\"#cite_note-64\"><span class=\"corchete-llamada\">[</span>64<span class=\"corchete-llamada\">]</span></a></sup>​\n",
       "</p><p>En febrero de 2015, la banda de música sinfónica con sede en Finlandia <a href=\"/wiki/Nightwish\" title=\"Nightwish\">Nightwish</a> lanzó la canción \"Sagan\" como una canción extra sin álbum para su single \"Élan\". La canción, escrita por el compositor/tecladista de la banda <a href=\"/wiki/Tuomas_Holopainen\" title=\"Tuomas Holopainen\">Tuomas Holopainen</a>, es un homenaje a la vida y obra del difunto Carl Sagan.<sup class=\"reference separada\" id=\"cite_ref-65\"><a href=\"#cite_note-65\"><span class=\"corchete-llamada\">[</span>65<span class=\"corchete-llamada\">]</span></a></sup>​\n",
       "</p><p>En agosto de 2015, se anunció que <a href=\"/wiki/Warner_Bros.\" title=\"Warner Bros.\">Warner Bros</a> estaba planeando una película biográfica de la vida de Sagan.<sup class=\"reference separada\" id=\"cite_ref-66\"><a href=\"#cite_note-66\"><span class=\"corchete-llamada\">[</span>66<span class=\"corchete-llamada\">]</span></a></sup>​\n",
       "</p>\n",
       "<h3><span class=\"mw-headline\" id=\"Miles_de_millones\">Miles de millones</span><span class=\"mw-editsection\"><span class=\"mw-editsection-bracket\">[</span><a href=\"/w/index.php?title=Carl_Sagan&amp;action=edit&amp;section=23\" title=\"Editar sección: Miles de millones\">editar</a><span class=\"mw-editsection-bracket\">]</span></span></h3>\n",
       "<p>A partir de su aparición en <i>Cosmos</i> y de sus frecuentes apariciones en el programa <i><a href=\"/wiki/The_Tonight_Show_Starring_Johnny_Carson\" title=\"The Tonight Show Starring Johnny Carson\">The Tonight Show Starring Johnny Carson</a></i>, se le acuñó a Sagan la muletilla <i>miles de millones y miles de millones</i> —en inglés estadounidense, <i>billions and billions</i>—. Sagan afirmaba que él nunca utilizó esa frase en la serie.<sup class=\"reference separada\" id=\"cite_ref-BandB_67-0\"><a href=\"#cite_note-BandB-67\"><span class=\"corchete-llamada\">[</span>67<span class=\"corchete-llamada\">]</span></a></sup>​ Lo más parecido que llegó a expresar está en el libro <i>Cosmos</i>, donde habla de \"miles <i>y</i> miles de millones\":<sup class=\"reference separada\" id=\"cite_ref-68\"><a href=\"#cite_note-68\"><span class=\"corchete-llamada\">[</span>68<span class=\"corchete-llamada\">]</span></a></sup>​\n",
       "<link href=\"mw-data:TemplateStyles:r119797252\" rel=\"mw-deduplicated-inline-style\"/>\n",
       "</p>\n",
       "<blockquote class=\"flexquote\">\n",
       "<div class=\"flex\">\n",
       "<div class=\"quote\">Una galaxia se compone de gas y de polvo y de estrellas, de miles y miles de millones de estrellas.</div>\n",
       "</div>\n",
       "</blockquote>\n",
       "<p>Sin embargo, su frecuente uso de la palabra <i>billions</i>, enfatizando la pronunciación de la \"b\" (de forma intencionada para no recurrir a alternativas más farragosas, como decir <i>billions with a \"b\"</i>, para que el espectador distinguiese claramente dicha palabra de <i>millions</i> —millones—),<sup class=\"reference separada\" id=\"cite_ref-BandB_67-1\"><a href=\"#cite_note-BandB-67\"><span class=\"corchete-llamada\">[</span>67<span class=\"corchete-llamada\">]</span></a></sup>​ le convirtieron en el blanco favorito de humoristas como <a href=\"/wiki/Johnny_Carson\" title=\"Johnny Carson\">Johnny Carson</a>,<sup class=\"reference separada\" id=\"cite_ref-69\"><a href=\"#cite_note-69\"><span class=\"corchete-llamada\">[</span>69<span class=\"corchete-llamada\">]</span></a></sup>​ <a class=\"new\" href=\"/w/index.php?title=Gary_Kroeger&amp;action=edit&amp;redlink=1\" title=\"Gary Kroeger (aún no redactado)\">Gary Kroeger</a>, <a href=\"/wiki/Mike_Myers\" title=\"Mike Myers\">Mike Myers</a>, <a href=\"/wiki/Bronson_Pinchot\" title=\"Bronson Pinchot\">Bronson Pinchot</a>, <a href=\"/wiki/Penn_Jillette\" title=\"Penn Jillette\">Penn Jillette</a>, <a href=\"/wiki/Harry_Shearer\" title=\"Harry Shearer\">Harry Shearer</a>, y otros. <a href=\"/wiki/Frank_Zappa\" title=\"Frank Zappa\">Frank Zappa</a> satirizó la expresión en su canción <i>Be In My Video</i>, junto con el término \"luz atómica\" (<i>atomic light</i>). Sagan se tomó todo esto de buen humor hasta tal punto que su último libro se tituló <i><a href=\"/wiki/Miles_de_millones\" title=\"Miles de millones\">Miles de millones</a></i>, iniciándolo con un análisis burlesco de la famosa expresión, señalando que el propio Carson era un aficionado a la astronomía y que sus números a menudo incluían elementos de ciencia real.<sup class=\"reference separada\" id=\"cite_ref-BandB_67-2\"><a href=\"#cite_note-BandB-67\"><span class=\"corchete-llamada\">[</span>67<span class=\"corchete-llamada\">]</span></a></sup>​\n",
       "</p><p>Sus habituales descripciones de enormes cantidades a escala cósmica inculcaron en la percepción popular la maravilla de la inmensidad del espacio y el tiempo, como por ejemplo, su frase <i>El número total de estrellas en el Universo es mayor que el de todos los granos de arena de todas las playas del planeta Tierra.</i> Como homenaje humorístico, se ha definido un <i>sagan</i> como una <a href=\"/wiki/Unidad_de_medida\" title=\"Unidad de medida\">unidad de medida</a> equivalente, al menos, a cuatro mil millones, puesto que el número más pequeño que puede ser descrito como <i>miles de millones y miles de millones</i> es dos mil millones más dos mil millones.<sup class=\"reference separada\" id=\"cite_ref-70\"><a href=\"#cite_note-70\"><span class=\"corchete-llamada\">[</span>70<span class=\"corchete-llamada\">]</span></a></sup>​<sup class=\"reference separada\" id=\"cite_ref-71\"><a href=\"#cite_note-71\"><span class=\"corchete-llamada\">[</span>71<span class=\"corchete-llamada\">]</span></a></sup>​\n",
       "</p>\n",
       "<h2><span class=\"mw-headline\" id=\"Obra_divulgativa\">Obra divulgativa</span><span class=\"mw-editsection\"><span class=\"mw-editsection-bracket\">[</span><a href=\"/w/index.php?title=Carl_Sagan&amp;action=edit&amp;section=24\" title=\"Editar sección: Obra divulgativa\">editar</a><span class=\"mw-editsection-bracket\">]</span></span></h2>\n",
       "<div class=\"thumb tright\"><div class=\"thumbinner\" style=\"width:182px;\"><a class=\"image\" href=\"/wiki/Archivo:Pale_Blue_Dot_(uitsnede).png\"><img alt=\"\" class=\"thumbimage\" data-file-height=\"180\" data-file-width=\"180\" decoding=\"async\" height=\"180\" src=\"//upload.wikimedia.org/wikipedia/commons/3/3a/Pale_Blue_Dot_%28uitsnede%29.png\" width=\"180\"/></a> <div class=\"thumbcaption\"><div class=\"magnify\"><a class=\"internal\" href=\"/wiki/Archivo:Pale_Blue_Dot_(uitsnede).png\" title=\"Aumentar\"></a></div><a href=\"/wiki/Un_punto_azul_p%C3%A1lido\" title=\"Un punto azul pálido\">Un punto azul pálido</a>: La Tierra no es más que un píxel brillante fotografiado desde la <i><a href=\"/wiki/Voyager_1\" title=\"Voyager 1\">Voyager 1</a></i>, a 6.000 millones de kilómetros de distancia (más allá de Plutón). Sagan convenció a la NASA para que generase esta imagen.</div></div></div>\n",
       "<p>Sagan fue conocido por su labor como divulgador de la ciencia, por sus esfuerzos para incrementar la comprensión científica del público en general y por su posición en favor del <a href=\"/wiki/Escepticismo_cient%C3%ADfico\" title=\"Escepticismo científico\">escepticismo científico</a> y contra las <a class=\"mw-redirect\" href=\"/wiki/Pseudociencias\" title=\"Pseudociencias\">pseudociencias</a>. Escribió libros de divulgación científica que reflejan y desarrollan algunos de los temas tratados en <i>Cosmos</i>, entre los que destacan <i><a href=\"/wiki/Los_dragones_del_Ed%C3%A9n\" title=\"Los dragones del Edén\">Los dragones del Edén: Especulaciones sobre la evolución de la inteligencia humana</a></i> (1977), que ganó un <a href=\"/wiki/Premio_Pulitzer\" title=\"Premio Pulitzer\">Premio Pulitzer</a> y se convirtió en el libro de ciencia en inglés más vendido de todos los tiempos;<sup class=\"reference separada\" id=\"cite_ref-72\"><a href=\"#cite_note-72\"><span class=\"corchete-llamada\">[</span>72<span class=\"corchete-llamada\">]</span></a></sup>​ y <i><a href=\"/wiki/El_cerebro_de_Broca\" title=\"El cerebro de Broca\">El cerebro de Broca: Reflexiones sobre el romance de la ciencia</a></i>.\n",
       "</p><p>También escribió, en 1985, la exitosa novela de ciencia-ficción <a href=\"/wiki/Contact_(novela)\" title=\"Contact (novela)\"><i>Contacto</i></a>, basada en un proyecto de guion que ideó con su esposa en 1979, pero no viviría para ver la <a class=\"mw-redirect\" href=\"/wiki/Contacto_(pel%C3%ADcula)\" title=\"Contacto (película)\">adaptación cinematográfica</a> del mismo, estrenada en 1997. Luego de <i>Cosmos</i>, escribió un libro llamado <i><a href=\"/wiki/Un_punto_azul_p%C3%A1lido_(libro)\" title=\"Un punto azul pálido (libro)\">Un punto azul pálido: Una visión del futuro humano en el espacio</a></i>, que fue seleccionado como libro destacado de 1995 por <i><a href=\"/wiki/The_New_York_Times\" title=\"The New York Times\">The New York Times</a></i>. En enero de ese año, Sagan apareció en el programa de <a href=\"/wiki/Charlie_Rose\" title=\"Charlie Rose\">Charlie Rose</a>, en el <a class=\"mw-redirect\" href=\"/wiki/Public_Broadcasting_Service\" title=\"Public Broadcasting Service\">PBS</a>.<sup class=\"reference separada\" id=\"cite_ref-73\"><a href=\"#cite_note-73\"><span class=\"corchete-llamada\">[</span>73<span class=\"corchete-llamada\">]</span></a></sup>​ También escribió una introducción al exitoso libro de <a href=\"/wiki/Stephen_Hawking\" title=\"Stephen Hawking\">Stephen Hawking</a>, <i><a class=\"mw-redirect\" href=\"/wiki/Breve_Historia_del_Tiempo\" title=\"Breve Historia del Tiempo\">Breve historia del tiempo</a></i>, en su primera edición en lengua inglesa (1988). Dicha introducción fue sustituida en posteriores ediciones debido a que Sagan era el propietario de los derechos de copia.\n",
       "</p>\n",
       "<h3><span class=\"mw-headline\" id=\"Otros_libros\">Otros libros</span><span class=\"mw-editsection\"><span class=\"mw-editsection-bracket\">[</span><a href=\"/w/index.php?title=Carl_Sagan&amp;action=edit&amp;section=25\" title=\"Editar sección: Otros libros\">editar</a><span class=\"mw-editsection-bracket\">]</span></span></h3>\n",
       "<p>Los años corresponden a las fechas de primera publicación en lengua inglesa. El ISBN puede no estar relacionado con el año.\n",
       "</p>\n",
       "<ul><li><i><a class=\"new\" href=\"/w/index.php?title=Vida_inteligente_en_el_Universo&amp;action=edit&amp;redlink=1\" title=\"Vida inteligente en el Universo (aún no redactado)\">Vida inteligente en el Universo</a></i> (<a href=\"/wiki/I%C3%B3sif_Shklovski\" title=\"Iósif Shklovski\">Iósif Shklovski</a>; coautor) (1966) <a class=\"internal mw-magiclink-isbn\" href=\"/wiki/Especial:FuentesDeLibros/9788476349113\">ISBN 978-84-7634-911-3</a></li>\n",
       "<li><i><a class=\"new\" href=\"/w/index.php?title=Comunicaci%C3%B3n_con_inteligencias_extraterrestres&amp;action=edit&amp;redlink=1\" title=\"Comunicación con inteligencias extraterrestres (aún no redactado)\">Comunicación con inteligencias extraterrestres</a></i> (1973) <a class=\"internal mw-magiclink-isbn\" href=\"/wiki/Especial:FuentesDeLibros/9788432035517\">ISBN 978-84-320-3551-7</a></li>\n",
       "<li><i><a href=\"/wiki/La_conexi%C3%B3n_c%C3%B3smica\" title=\"La conexión cósmica\">La conexión cósmica</a></i> (1973) - Discute la probabilidad de la existencia de vida extraterrestre inteligente - <a class=\"internal mw-magiclink-isbn\" href=\"/wiki/Especial:FuentesDeLibros/9788401470905\">ISBN 978-84-01-47090-5</a></li>\n",
       "<li><i><a href=\"/wiki/El_cerebro_de_Broca\" title=\"El cerebro de Broca\">El cerebro de Broca: reflexiones sobre el apasionante mundo de la ciencia</a></i> (1979) - Recopilación de artículos científicos - <a class=\"internal mw-magiclink-isbn\" href=\"/wiki/Especial:FuentesDeLibros/9788425313349\">ISBN 978-84-253-1334-9</a></li>\n",
       "<li><i><a href=\"/wiki/Cosmos_(libro)\" title=\"Cosmos (libro)\">Cosmos</a></i> (1980) - libro complementario sobre la serie documental homónima; es su obra de divulgación más popular e influyente, y la que le hizo mundialmente famoso - <a class=\"internal mw-magiclink-isbn\" href=\"/wiki/Especial:FuentesDeLibros/9788408053040\">ISBN 978-84-08-05304-0</a></li>\n",
       "<li><i><a class=\"new\" href=\"/w/index.php?title=Murmullos_de_la_Tierra:_el_mensaje_interestelar_del_Voyager&amp;action=edit&amp;redlink=1\" title=\"Murmullos de la Tierra: el mensaje interestelar del Voyager (aún no redactado)\">Murmullos de la Tierra: el mensaje interestelar del Voyager</a></i> (1981) <a class=\"internal mw-magiclink-isbn\" href=\"/wiki/Especial:FuentesDeLibros/9788432035982\">ISBN 978-84-320-3598-2</a></li>\n",
       "<li><i><a class=\"new\" href=\"/w/index.php?title=El_fr%C3%ADo_y_las_tinieblas:_el_mundo_despu%C3%A9s_de_una_guerra_nuclear&amp;action=edit&amp;redlink=1\" title=\"El frío y las tinieblas: el mundo después de una guerra nuclear (aún no redactado)\">El frío y las tinieblas: el mundo después de una guerra nuclear</a></i> (de <a href=\"/wiki/Paul_R._Ehrlich\" title=\"Paul R. Ehrlich\">Paul R. Ehrlich</a>; coautor) (1986) <a class=\"internal mw-magiclink-isbn\" href=\"/wiki/Especial:FuentesDeLibros/9788420695259\">ISBN 978-84-206-9525-9</a></li>\n",
       "<li><i><a href=\"/wiki/El_cometa\" title=\"El cometa\">El cometa</a></i> (con <a href=\"/wiki/Ann_Druyan\" title=\"Ann Druyan\">Ann Druyan</a>) (1985) - Acerca del origen de los cometas, fue escrito en anticipación al paso del <a href=\"/wiki/Cometa_Halley\" title=\"Cometa Halley\">cometa Halley</a>, de 1986 - <a class=\"internal mw-magiclink-isbn\" href=\"/wiki/Especial:FuentesDeLibros/9788432043680\">ISBN 978-84-320-4368-0</a></li>\n",
       "<li><i><a href=\"/wiki/Contact_(novela)\" title=\"Contact (novela)\">Contacto</a></i> (1985) - Novela sobre un eventual contacto con una civilización extraterrestre; sirvió de base para la película homónima de 1997 - <a class=\"internal mw-magiclink-isbn\" href=\"/wiki/Especial:FuentesDeLibros/9788401462238\">ISBN 978-84-01-46223-8</a></li>\n",
       "<li><i><a class=\"new\" href=\"/w/index.php?title=El_invierno_nuclear&amp;action=edit&amp;redlink=1\" title=\"El invierno nuclear (aún no redactado)\">El invierno nuclear</a></i> (con <a class=\"new\" href=\"/w/index.php?title=Richard_Turco&amp;action=edit&amp;redlink=1\" title=\"Richard Turco (aún no redactado)\">Richard Turco</a>) (1991) - Analiza las posibles consecuencias que tendría una guerra nuclear sobre el clima terrestre - <a class=\"internal mw-magiclink-isbn\" href=\"/wiki/Especial:FuentesDeLibros/9788401240379\">ISBN 978-84-01-24037-9</a></li>\n",
       "<li><i><a class=\"new\" href=\"/w/index.php?title=Sombras_de_antepasados_olvidados&amp;action=edit&amp;redlink=1\" title=\"Sombras de antepasados olvidados (aún no redactado)\">Sombras de antepasados olvidados</a></i> (con <a href=\"/wiki/Ann_Druyan\" title=\"Ann Druyan\">Ann Druyan</a>) - Acerca de los orígenes de la especie humana y el desarrollo de las sociedades prehistóricas - (1993) <a class=\"internal mw-magiclink-isbn\" href=\"/wiki/Especial:FuentesDeLibros/9788422648536\">ISBN 978-84-226-4853-6</a></li>\n",
       "<li><i><a href=\"/wiki/Un_punto_azul_p%C3%A1lido_(libro)\" title=\"Un punto azul pálido (libro)\">Un punto azul pálido: una visión del futuro humano en el espacio</a></i> (1994) - Planteado como secuela de <i>Cosmos</i>, discute la posición del ser humano en el Universo y analiza sus posibilidades como especie viajera en el espacio - <a class=\"internal mw-magiclink-isbn\" href=\"/wiki/Especial:FuentesDeLibros/9788408059073\">ISBN 978-84-08-05907-3</a></li>\n",
       "<li><i><a href=\"/wiki/El_mundo_y_sus_demonios\" title=\"El mundo y sus demonios\">El mundo y sus demonios: la ciencia como una luz en la oscuridad</a></i> - Una defensa del <a href=\"/wiki/M%C3%A9todo_cient%C3%ADfico\" title=\"Método científico\">método científico</a> y del <a href=\"/wiki/Escepticismo_cient%C3%ADfico\" title=\"Escepticismo científico\">escepticismo</a> frente a la superstición y la pseudociencia - (1995) <a class=\"internal mw-magiclink-isbn\" href=\"/wiki/Especial:FuentesDeLibros/9788408060154\">ISBN 978-84-08-06015-4</a></li>\n",
       "<li><i><a href=\"/wiki/Miles_de_millones\" title=\"Miles de millones\">Miles de millones: pensamientos de vida y muerte en la antesala del milenio</a></i> (1997) - Última obra escrita por Sagan, considerada como su testamento ideológico - <a class=\"internal mw-magiclink-isbn\" href=\"/wiki/Especial:FuentesDeLibros/8440680099\">ISBN 84-406-8009-9</a></li>\n",
       "<li><i><a href=\"/wiki/La_diversidad_de_la_ciencia\" title=\"La diversidad de la ciencia\">La diversidad de la ciencia: una visión personal de la búsqueda de Dios</a></i> (2006) - Recopilación póstuma de las intervenciones de Sagan en las <a href=\"/wiki/Conferencias_Gifford\" title=\"Conferencias Gifford\">Conferencias Gifford</a> sobre Teología Natural - <a class=\"internal mw-magiclink-isbn\" href=\"/wiki/Especial:FuentesDeLibros/9788408074557\">ISBN 978-84-08-07455-7</a></li>\n",
       "<li><i>Planetas</i> (1966), de Carl Sagan, Jonathon Norton Leonard y editores de <i>Life</i>.</li>\n",
       "<li><i>Marte y la mente del hombre</i>(1973).</li>\n",
       "<li><i>Otros mundos</i> (1975).</li></ul>\n",
       "<h3><span class=\"mw-headline\" id=\"Serie_Cosmos\">Serie Cosmos</span><span class=\"mw-editsection\"><span class=\"mw-editsection-bracket\">[</span><a href=\"/w/index.php?title=Carl_Sagan&amp;action=edit&amp;section=26\" title=\"Editar sección: Serie Cosmos\">editar</a><span class=\"mw-editsection-bracket\">]</span></span></h3>\n",
       "<div class=\"noprint AP rellink\"><span style=\"font-size:88%\">Artículo principal:</span> <i><a href=\"/wiki/Cosmos:_un_viaje_personal\" title=\"Cosmos: un viaje personal\"> Cosmos: un viaje personal</a></i></div>\n",
       "<p>En 1980, Sagan fue presentador, coautor y coproductor, junto a su esposa <a href=\"/wiki/Ann_Druyan\" title=\"Ann Druyan\">Ann Druyan</a> y <a class=\"new\" href=\"/w/index.php?title=Steven_Soter&amp;action=edit&amp;redlink=1\" title=\"Steven Soter (aún no redactado)\">Steven Soter</a>, de la popular serie de televisión de trece capítulos, <i><a class=\"mw-redirect\" href=\"/wiki/Cosmos:_Un_viaje_personal\" title=\"Cosmos: Un viaje personal\">Cosmos: Un viaje personal</a></i>, producida por el <a class=\"mw-redirect\" href=\"/wiki/Public_Broadcasting_Service\" title=\"Public Broadcasting Service\">PBS</a>, y que seguía el formato de la también serie <i><a href=\"/wiki/El_ascenso_del_hombre\" title=\"El ascenso del hombre\">El ascenso del hombre</a></i>, presentada por <a href=\"/wiki/Jacob_Bronowski\" title=\"Jacob Bronowski\">Jacob Bronowski</a>. Esta abarcó un amplio espectro de materias científica que incluían el <a class=\"mw-redirect\" href=\"/wiki/Origen_de_la_vida\" title=\"Origen de la vida\">origen de la vida</a> y la evolución del Universo y de la cultura de la especie humana, planteada esta como medio de autoconocimiento del primero. Es su obra de divulgación más popular e influyente, y la que le hizo mundialmente famoso.\n",
       "</p><p>La serie ganó un <a class=\"mw-redirect\" href=\"/wiki/Premio_Emmy\" title=\"Premio Emmy\">Premio Emmy</a> y un <a class=\"mw-redirect\" href=\"/wiki/Premio_Peabody\" title=\"Premio Peabody\">Premio Peabody</a>. Ha sido emitida en más de 60 países y vista por más de 600 millones de personas, convirtiéndose en el programa del <a class=\"mw-redirect\" href=\"/wiki/Public_Broadcasting_Service\" title=\"Public Broadcasting Service\">PBS</a> más visto de la historia.<sup class=\"reference separada\" id=\"cite_ref-74\"><a href=\"#cite_note-74\"><span class=\"corchete-llamada\">[</span>74<span class=\"corchete-llamada\">]</span></a></sup>​ Además, la revista <i>Time</i> publicó un artículo de portada sobre Sagan poco después del estreno, refiriéndose a él como <i>el creador, autor principal, narrador y presentador de la nueva serie de la televisión pública Cosmos.</i><sup class=\"reference separada\" id=\"cite_ref-75\"><a href=\"#cite_note-75\"><span class=\"corchete-llamada\">[</span>75<span class=\"corchete-llamada\">]</span></a></sup>​\n",
       "</p>\n",
       "<h3><span id=\"El_.C2.ABefecto_Sagan.C2.BB\"></span><span class=\"mw-headline\" id=\"El_«efecto_Sagan»\">El «efecto Sagan»</span><span class=\"mw-editsection\"><span class=\"mw-editsection-bracket\">[</span><a href=\"/w/index.php?title=Carl_Sagan&amp;action=edit&amp;section=27\" title=\"Editar sección: El «efecto Sagan»\">editar</a><span class=\"mw-editsection-bracket\">]</span></span></h3>\n",
       "<p>El éxito y fama cosechados por Sagan, debidos a su dedicación a la divulgación, le causaron problemas profesionales y que algunos colegas le ridiculizasen. En la década de 1990 se difundió entre el mundo académico la idea de que se dedicaba más a la divulgación que a investigar, y perdió así la oportunidad de ingresar como numerario en la <a href=\"/wiki/Universidad_de_Harvard\" title=\"Universidad de Harvard\">Universidad de Harvard</a> y en la <a class=\"mw-redirect\" href=\"/wiki/Academia_Nacional_de_Ciencias_de_Estados_Unidos\" title=\"Academia Nacional de Ciencias de Estados Unidos\">Academia Nacional de Ciencias de Estados Unidos</a>. Sin embargo la producción científica de Sagan había mantenido los mismos niveles. Este tipo de situaciones, que son relativamente comunes entre científicos que se dedican además a la divulgación de la ciencia y se exponen a la opinión pública, se conocen como «efecto Sagan»<sup class=\"reference separada\" id=\"cite_ref-76\"><a href=\"#cite_note-76\"><span class=\"corchete-llamada\">[</span>76<span class=\"corchete-llamada\">]</span></a></sup>​ a raíz del caso del astrofísico.<sup class=\"reference separada\" id=\"cite_ref-77\"><a href=\"#cite_note-77\"><span class=\"corchete-llamada\">[</span>77<span class=\"corchete-llamada\">]</span></a></sup>​\n",
       "</p>\n",
       "<h2><span class=\"mw-headline\" id=\"Carl_Sagan_en_la_cultura_popular\">Carl Sagan en la cultura popular</span><span class=\"mw-editsection\"><span class=\"mw-editsection-bracket\">[</span><a href=\"/w/index.php?title=Carl_Sagan&amp;action=edit&amp;section=28\" title=\"Editar sección: Carl Sagan en la cultura popular\">editar</a><span class=\"mw-editsection-bracket\">]</span></span></h2>\n",
       "<ul><li>Carl Sagan aparece en algunos de los vídeos musicales que componen la obra <a href=\"/wiki/Symphony_of_Science\" title=\"Symphony of Science\">Symphony of Science</a> de John Boswell: «<i>A Glorious Dawn</i>»,<sup class=\"reference separada\" id=\"cite_ref-AGloriousDawn_78-0\"><a href=\"#cite_note-AGloriousDawn-78\"><span class=\"corchete-llamada\">[</span>78<span class=\"corchete-llamada\">]</span></a></sup>​ «<i>We are all conected</i>»,<sup class=\"reference separada\" id=\"cite_ref-Weareallconected_79-0\"><a href=\"#cite_note-Weareallconected-79\"><span class=\"corchete-llamada\">[</span>79<span class=\"corchete-llamada\">]</span></a></sup>​ «<i>Our place in the Cosmos</i>»,<sup class=\"reference separada\" id=\"cite_ref-OurplaceintheCosmos_80-0\"><a href=\"#cite_note-OurplaceintheCosmos-80\"><span class=\"corchete-llamada\">[</span>80<span class=\"corchete-llamada\">]</span></a></sup>​ «<i>The Unbroken Thread</i>»,<sup class=\"reference separada\" id=\"cite_ref-TheUnbrokenThread_81-0\"><a href=\"#cite_note-TheUnbrokenThread-81\"><span class=\"corchete-llamada\">[</span>81<span class=\"corchete-llamada\">]</span></a></sup>​ «<i>The Poetry of Reality (An Anthem for Science)</i>»,<sup class=\"reference separada\" id=\"cite_ref-ThePoetryofReality_82-0\"><a href=\"#cite_note-ThePoetryofReality-82\"><span class=\"corchete-llamada\">[</span>82<span class=\"corchete-llamada\">]</span></a></sup>​ «<i>The Case of Mars</i>»,<sup class=\"reference separada\" id=\"cite_ref-TheCaseofMars_83-0\"><a href=\"#cite_note-TheCaseofMars-83\"><span class=\"corchete-llamada\">[</span>83<span class=\"corchete-llamada\">]</span></a></sup>​ «<i>A Wave of Reason</i>»,<sup class=\"reference separada\" id=\"cite_ref-AWaveofReason_84-0\"><a href=\"#cite_note-AWaveofReason-84\"><span class=\"corchete-llamada\">[</span>84<span class=\"corchete-llamada\">]</span></a></sup>​ «<i>The Big Begining</i>»,<sup class=\"reference separada\" id=\"cite_ref-TheBigBegining_85-0\"><a href=\"#cite_note-TheBigBegining-85\"><span class=\"corchete-llamada\">[</span>85<span class=\"corchete-llamada\">]</span></a></sup>​ «<i>Ode to the Brain</i>»<sup class=\"reference separada\" id=\"cite_ref-OdetotheBrain_86-0\"><a href=\"#cite_note-OdetotheBrain-86\"><span class=\"corchete-llamada\">[</span>86<span class=\"corchete-llamada\">]</span></a></sup>​ y «<i>Beyond the Horizon</i>».<sup class=\"reference separada\" id=\"cite_ref-BeyondtheHorizon_87-0\"><a href=\"#cite_note-BeyondtheHorizon-87\"><span class=\"corchete-llamada\">[</span>87<span class=\"corchete-llamada\">]</span></a></sup>​</li></ul>\n",
       "<h2><span id=\"V.C3.A9ase_tambi.C3.A9n\"></span><span class=\"mw-headline\" id=\"Véase_también\">Véase también</span><span class=\"mw-editsection\"><span class=\"mw-editsection-bracket\">[</span><a href=\"/w/index.php?title=Carl_Sagan&amp;action=edit&amp;section=29\" title=\"Editar sección: Véase también\">editar</a><span class=\"mw-editsection-bracket\">]</span></span></h2>\n",
       "<ul><li><i><a href=\"/wiki/Cosmos:_un_viaje_personal\" title=\"Cosmos: un viaje personal\">Cosmos: un viaje personal</a></i></li>\n",
       "<li><a href=\"/wiki/Disco_de_oro_de_las_Voyager\" title=\"Disco de oro de las Voyager\">Disco de oro de las Voyager</a></li>\n",
       "<li><a href=\"/wiki/Paradoja_del_Sol_joven_y_d%C3%A9bil\" title=\"Paradoja del Sol joven y débil\">Paradoja del Sol joven y débil</a></li>\n",
       "<li><a href=\"/wiki/Programa_Pioneer\" title=\"Programa Pioneer\">Programa Pioneer</a></li>\n",
       "<li><a href=\"/wiki/Pioneer_10\" title=\"Pioneer 10\">Pioneer 10</a></li>\n",
       "<li><a href=\"/wiki/Pioneer_11\" title=\"Pioneer 11\">Pioneer 11</a></li>\n",
       "<li><a href=\"/wiki/Placa_de_la_Pioneer\" title=\"Placa de la Pioneer\">Placa de la Pioneer</a></li>\n",
       "<li><a href=\"/wiki/SETI\" title=\"SETI\">SETI</a></li>\n",
       "<li><a href=\"/wiki/Voyager\" title=\"Voyager\">Voyager</a></li>\n",
       "<li><a href=\"/wiki/Voyager_1\" title=\"Voyager 1\">Voyager 1</a></li>\n",
       "<li><a href=\"/wiki/Voyager_2\" title=\"Voyager 2\">Voyager 2</a></li></ul>\n",
       "<h2><span class=\"mw-headline\" id=\"Referencias\">Referencias</span><span class=\"mw-editsection\"><span class=\"mw-editsection-bracket\">[</span><a href=\"/w/index.php?title=Carl_Sagan&amp;action=edit&amp;section=30\" title=\"Editar sección: Referencias\">editar</a><span class=\"mw-editsection-bracket\">]</span></span></h2>\n",
       "<div class=\"listaref\" style=\"-moz-column-count:2; -webkit-column-count:2; column-count:2; list-style-type: decimal;\"><ol class=\"references\">\n",
       "<li id=\"cite_note-1\"><span class=\"mw-cite-backlink\"><a href=\"#cite_ref-1\">↑</a></span> <span class=\"reference-text\">Algunos de los trabajos de Carl Sagan (NASA ADS) (en inglés) <a class=\"external text\" href=\"http://adsabs.harvard.edu/cgi-bin/nph-abs_connect?db_key=AST&amp;db_key=PRE&amp;qform=AST&amp;arxiv_sel=astro-ph&amp;arxiv_sel=cond-mat&amp;arxiv_sel=cs&amp;arxiv_sel=gr-qc&amp;arxiv_sel=hep-ex&amp;arxiv_sel=hep-lat&amp;arxiv_sel=hep-ph&amp;arxiv_sel=hep-th&amp;arxiv_sel=math&amp;arxiv_sel=math-ph&amp;arxiv_sel=nlin&amp;arxiv_sel=nucl-ex&amp;arxiv_sel=nucl-th&amp;arxiv_sel=physics&amp;arxiv_sel=quant-ph&amp;arxiv_sel=q-bio&amp;sim_query=YES&amp;ned_query=YES&amp;adsobj_query=YES&amp;aut_logic=OR&amp;obj_logic=OR&amp;author=%5ESagan%2C+Carl&amp;object=&amp;start_mon=&amp;start_year=&amp;end_mon=&amp;end_year=1997&amp;ttl_logic=OR&amp;title=&amp;txt_logic=OR&amp;text=&amp;nr_to_return=200&amp;start_nr=1&amp;jou_pick=NO&amp;ref_stems=&amp;data_and=ALL&amp;group_and=ALL&amp;start_entry_day=&amp;start_entry_mon=&amp;start_entry_year=&amp;end_entry_day=&amp;end_entry_mon=&amp;end_entry_year=&amp;min_score=&amp;sort=SCORE&amp;data_type=SHORT&amp;aut_syn=YES&amp;ttl_syn=YES&amp;txt_syn=YES&amp;aut_wt=1.0&amp;obj_wt=1.0&amp;ttl_wt=0.3&amp;txt_wt=3.0&amp;aut_wgt=YES&amp;obj_wgt=YES&amp;ttl_wgt=YES&amp;txt_wgt=YES&amp;ttl_sco=YES&amp;txt_sco=YES&amp;version=1\" rel=\"nofollow\">documentos</a></span>\n",
       "</li>\n",
       "<li id=\"cite_note-Poundstone1-2\"><span class=\"mw-cite-backlink\"><a href=\"#cite_ref-Poundstone1_2-0\">↑</a></span> <span class=\"reference-text\"><span class=\"citation libro\" id=\"CITAREFPoundstone2015\">Poundstone, William (2015). <i>Carl Sagan - Una vida en el cosmos</i> (1ª edición). Tres Cantos - Madrid: Ediciones Akal. p. 19. <small><a href=\"/wiki/ISBN\" title=\"ISBN\">ISBN</a> <a href=\"/wiki/Especial:FuentesDeLibros/9788446041931\" title=\"Especial:FuentesDeLibros/9788446041931\">9788446041931</a></small>.</span><span class=\"Z3988\" title=\"ctx_ver=Z39.88-2004&amp;rfr_id=info%3Asid%2Fes.wikipedia.org%3ACarl+Sagan&amp;rft.au=Poundstone%2C+William&amp;rft.aufirst=William&amp;rft.aulast=Poundstone&amp;rft.btitle=Carl+Sagan+-+Una+vida+en+el+cosmos&amp;rft.date=2015&amp;rft.edition=1%C2%AA&amp;rft.genre=book&amp;rft.isbn=9788446041931&amp;rft.pages=19&amp;rft.place=Tres+Cantos+-+Madrid&amp;rft.pub=Ediciones+Akal&amp;rft_val_fmt=info%3Aofi%2Ffmt%3Akev%3Amtx%3Abook\"><span style=\"display:none;\"> </span></span> <span class=\"error citation-comment\" style=\"display:none;font-size:100%\"><code>|fechaacceso=</code> requiere <code>|url=</code> (<a href=\"/wiki/Ayuda:Errores_en_las_referencias#accessdate_missing_url\" title=\"Ayuda:Errores en las referencias\">ayuda</a>)</span></span>\n",
       "</li>\n",
       "<li id=\"cite_note-Internet_Accuracy_Project-3\"><span class=\"mw-cite-backlink\"><a href=\"#cite_ref-Internet_Accuracy_Project_3-0\">↑</a></span> <span class=\"reference-text\"><a class=\"external text\" href=\"http://www.accuracyproject.org/cbe-Sagan,Carl.html\" rel=\"nofollow\">Carl Sagan: Biographical fast facts</a></span>\n",
       "</li>\n",
       "<li id=\"cite_note-Keay-4\"><span class=\"mw-cite-backlink\">↑ <a href=\"#cite_ref-Keay_4-0\"><sup><i><b>a</b></i></sup></a> <a href=\"#cite_ref-Keay_4-1\"><sup><i><b>b</b></i></sup></a> <a href=\"#cite_ref-Keay_4-2\"><sup><i><b>c</b></i></sup></a> <a href=\"#cite_ref-Keay_4-3\"><sup><i><b>d</b></i></sup></a> <a href=\"#cite_ref-Keay_4-4\"><sup><i><b>e</b></i></sup></a> <a href=\"#cite_ref-Keay_4-5\"><sup><i><b>f</b></i></sup></a> <a href=\"#cite_ref-Keay_4-6\"><sup><i><b>g</b></i></sup></a> <a href=\"#cite_ref-Keay_4-7\"><sup><i><b>h</b></i></sup></a> <a href=\"#cite_ref-Keay_4-8\"><sup><i><b>i</b></i></sup></a> <a href=\"#cite_ref-Keay_4-9\"><sup><i><b>j</b></i></sup></a> <a href=\"#cite_ref-Keay_4-10\"><sup><i><b>k</b></i></sup></a> <a href=\"#cite_ref-Keay_4-11\"><sup><i><b>l</b></i></sup></a> <a href=\"#cite_ref-Keay_4-12\"><sup><i><b>m</b></i></sup></a> <a href=\"#cite_ref-Keay_4-13\"><sup><i><b>n</b></i></sup></a></span> <span class=\"reference-text\"><span class=\"citation libro\" id=\"CITAREFDavidsonSagan1999\">Davidson, Keay; Sagan, Carl (1999).  John Wiley &amp; Sons, ed. <a class=\"external text\" href=\"http://books.google.com/?id=TXDvAAAAMAAJ\" rel=\"nofollow\"><i>Carl Sagan: A Life</i></a>. p. 168. <small><a href=\"/wiki/ISBN\" title=\"ISBN\">ISBN</a> <a href=\"/wiki/Especial:FuentesDeLibros/0-471-25286-7\" title=\"Especial:FuentesDeLibros/0-471-25286-7\">0-471-25286-7</a></small>.</span><span class=\"Z3988\" title=\"ctx_ver=Z39.88-2004&amp;rfr_id=info%3Asid%2Fes.wikipedia.org%3ACarl+Sagan&amp;rft.au=Davidson%2C+Keay&amp;rft.au=Sagan%2C+Carl&amp;rft.aufirst=Keay&amp;rft.aulast=Davidson&amp;rft.btitle=Carl+Sagan%3A+A+Life&amp;rft.date=1999&amp;rft.genre=book&amp;rft.isbn=0-471-25286-7&amp;rft.pages=168&amp;rft_id=http%3A%2F%2Fbooks.google.com%2F%3Fid%3DTXDvAAAAMAAJ&amp;rft_val_fmt=info%3Aofi%2Ffmt%3Akev%3Amtx%3Abook\"><span style=\"display:none;\"> </span></span></span>\n",
       "</li>\n",
       "<li id=\"cite_note-Spangenburg-5\"><span class=\"mw-cite-backlink\">↑ <a href=\"#cite_ref-Spangenburg_5-0\"><sup><i><b>a</b></i></sup></a> <a href=\"#cite_ref-Spangenburg_5-1\"><sup><i><b>b</b></i></sup></a> <a href=\"#cite_ref-Spangenburg_5-2\"><sup><i><b>c</b></i></sup></a> <a href=\"#cite_ref-Spangenburg_5-3\"><sup><i><b>d</b></i></sup></a></span> <span class=\"reference-text\">Spangenburg, Ray; Moser, Diane. <i>Carl Sagan: A Biography</i>, Greenwood Publ. (2004) pp. 2–5</span>\n",
       "</li>\n",
       "<li id=\"cite_note-6\"><span class=\"mw-cite-backlink\"><a href=\"#cite_ref-6\">↑</a></span> <span class=\"reference-text\"><span class=\"citation web\"><a class=\"external text\" href=\"http://www.famousscientists.org/carl-sagan\" rel=\"nofollow\">«Carl Sagan»</a>. FamousScientists.org<span class=\"reference-accessdate\">. Consultado el 15 de diciembre de 2011</span>.</span><span class=\"Z3988\" title=\"ctx_ver=Z39.88-2004&amp;rfr_id=info%3Asid%2Fes.wikipedia.org%3ACarl+Sagan&amp;rft.btitle=Carl+Sagan&amp;rft.genre=book&amp;rft.pub=FamousScientists.org&amp;rft_id=http%3A%2F%2Fwww.famousscientists.org%2Fcarl-sagan&amp;rft_val_fmt=info%3Aofi%2Ffmt%3Akev%3Amtx%3Abook\"><span style=\"display:none;\"> </span></span></span>\n",
       "</li>\n",
       "<li id=\"cite_note-7\"><span class=\"mw-cite-backlink\"><a href=\"#cite_ref-7\">↑</a></span> <span class=\"reference-text\"><a class=\"external free\" href=\"http://astro.uchicago.edu/RAS/\" rel=\"nofollow\">http://astro.uchicago.edu/RAS/</a></span>\n",
       "</li>\n",
       "<li id=\"cite_note-8\"><span class=\"mw-cite-backlink\"><a href=\"#cite_ref-8\">↑</a></span> <span class=\"reference-text\"><a class=\"external text\" href=\"http://chronicle.uchicago.edu/931111/sagan.shtml\" rel=\"nofollow\">Graduate students receive first Sagan teaching awards</a></span>\n",
       "</li>\n",
       "<li id=\"cite_note-9\"><span class=\"mw-cite-backlink\"><a href=\"#cite_ref-9\">↑</a></span> <span class=\"reference-text\"><span class=\"citation web\"><a class=\"external text\" href=\"http://richannel.org/christmas-lectures/1977/1977-carl-sagan\" rel=\"nofollow\">«Christmas Lectures 1977: The Planets: Ri Channel»</a><span class=\"reference-accessdate\">. Consultado el 23 de febrero de 2012</span>.</span><span class=\"Z3988\" title=\"ctx_ver=Z39.88-2004&amp;rfr_id=info%3Asid%2Fes.wikipedia.org%3ACarl+Sagan&amp;rft.btitle=Christmas+Lectures+1977%3A+The+Planets%3A+Ri+Channel&amp;rft.genre=book&amp;rft_id=http%3A%2F%2Frichannel.org%2Fchristmas-lectures%2F1977%2F1977-carl-sagan&amp;rft_val_fmt=info%3Aofi%2Ffmt%3Akev%3Amtx%3Abook\"><span style=\"display:none;\"> </span></span></span>\n",
       "</li>\n",
       "<li id=\"cite_note-10\"><span class=\"mw-cite-backlink\"><a href=\"#cite_ref-10\">↑</a></span> <span class=\"reference-text\"><span class=\"citation cita-episodio\">«[<a class=\"external text\" href=\"http://www.charlierose.com/view/interview/7121%7CA\" rel=\"nofollow\">conversation with Carl Sagan</a>]». <i><a href=\"/wiki/Charlie_Rose\" title=\"Charlie Rose\">Charlie Rose</a></i>.</span><span class=\"Z3988\" title=\"ctx_ver=Z39.88-2004&amp;rft_val_fmt=info%3Aofi%2Ffmt%3Akev%3Amtx%3Abook&amp;rft.genre=bookitem&amp;rft.btitle=%5B%5Bhttp%3A%2F%2Fwww.charlierose.com%2Fview%2Finterview%2F7121%7CA+conversation+with+Carl+Sagan%5D%5D&amp;rft.atitle=&amp;rft.series=%27%27%5B%5BCharlie+Rose%5D%5D%27%27&amp;rfr_id=info:sid/es.wikipedia.org:Carl_Sagan\"><span style=\"display: none;\"> </span></span></span>\n",
       "</li>\n",
       "<li id=\"cite_note-11\"><span class=\"mw-cite-backlink\"><a href=\"#cite_ref-11\">↑</a></span> <span class=\"reference-text\">Gran parte de las investigaciones de Sagan en el campo de las ciencias planetarias han sido resumidas por William Poundstone. La biografía de Poundstone sobre Sagan incluye una lista de ocho páginas sobre los artículos científicos de Sagan publicados de 1957 a 1998. Puede obtenerse información detallada sobre la labor científica de Sagan a partir de los principales artículos de investigación. Por ejemplo: Sagan, C., Thompson, W. R., y Khare, B. N. <i><span style=\"background-color: rgb(255, 145, 145);\" title=\"titán\">Titan</span>: A Laboratory for Prebiological Organic Chemistry</i>, <a class=\"external autonumber\" href=\"https://en.wikipedia.org/wiki/Accounts_of_Chemical_Research\">[1]</a>, volumen 25, página 286 (1992). Este artículo de investigación sobre Titán está comentado en <a class=\"external text\" href=\"http://www.daviddarling.info/encyclopedia/T/Titanprebiotic.html\" rel=\"nofollow\">The Encyclopedia of Astrobiology, Astronomy, and Spaceflight</a>.</span>\n",
       "</li>\n",
       "<li id=\"cite_note-12\"><span class=\"mw-cite-backlink\"><a href=\"#cite_ref-12\">↑</a></span> <span class=\"reference-text\"><span class=\"citation libro\" id=\"CITAREFPafumi2010\">Pafumi, G.R. (2010).  Xlibris Corporation, ed. <a class=\"external text\" href=\"http://books.google.com/books?id=ySNfuGKwfMcC&amp;lpg=PP1&amp;pg=PA57#v=onepage&amp;q&amp;f=false\" rel=\"nofollow\"><i>Is Our Vision of God Obsolete?</i></a>. p. 338.</span><span class=\"Z3988\" title=\"ctx_ver=Z39.88-2004&amp;rfr_id=info%3Asid%2Fes.wikipedia.org%3ACarl+Sagan&amp;rft.au=Pafumi%2C+G.R.&amp;rft.aufirst=G.R.&amp;rft.aulast=Pafumi&amp;rft.btitle=Is+Our+Vision+of+God+Obsolete%3F&amp;rft.date=2010&amp;rft.genre=book&amp;rft.pages=338&amp;rft_id=http%3A%2F%2Fbooks.google.com%2Fbooks%3Fid%3DySNfuGKwfMcC%26lpg%3DPP1%26pg%3DPA57%23v%3Donepage%26q%26f%3Dfalse&amp;rft_val_fmt=info%3Aofi%2Ffmt%3Akev%3Amtx%3Abook\"><span style=\"display:none;\"> </span></span></span>\n",
       "</li>\n",
       "<li id=\"cite_note-13\"><span class=\"mw-cite-backlink\"><a href=\"#cite_ref-13\">↑</a></span> <span class=\"reference-text\"><span class=\"citation web\" id=\"CITAREFThe_Columbia_Encyclopedia\">The Columbia Encyclopedia.  <a href=\"/wiki/Columbia_University_Press\" title=\"Columbia University Press\">Columbia University Press</a>, ed. <a class=\"external text\" href=\"https://web.archive.org/web/20071011220013/http://bartelby.com/65/sa/Sagan-Ca.html\" rel=\"nofollow\">«Sagan, Carl Edward»</a>. Archivado desde <a class=\"external text\" href=\"http://www.bartelby.com/65/sa/Sagan-Ca.html\" rel=\"nofollow\">el original</a> el 11 de octubre de 2007<span class=\"reference-accessdate\">. Consultado el 14 de febrero de 2012</span>.</span><span class=\"Z3988\" title=\"ctx_ver=Z39.88-2004&amp;rfr_id=info%3Asid%2Fes.wikipedia.org%3ACarl+Sagan&amp;rft.au=The+Columbia+Encyclopedia&amp;rft.aulast=The+Columbia+Encyclopedia&amp;rft.btitle=Sagan%2C+Carl+Edward&amp;rft.genre=book&amp;rft_id=http%3A%2F%2Fwww.bartelby.com%2F65%2Fsa%2FSagan-Ca.html&amp;rft_val_fmt=info%3Aofi%2Ffmt%3Akev%3Amtx%3Abook\"><span style=\"display:none;\"> </span></span></span>\n",
       "</li>\n",
       "<li id=\"cite_note-14\"><span class=\"mw-cite-backlink\"><a href=\"#cite_ref-14\">↑</a></span> <span class=\"reference-text\"><span class=\"citation noticia\" id=\"CITAREFDruyan2000\">Druyan, Ann (2000). <a class=\"external text\" href=\"https://archive.is/20120529135420/http://findarticles.com/p/articles/mi_m1374/is_6_60/ai_78889720/\" rel=\"nofollow\">«A New Sense of the Sacred Carl Sagan's \"Cosmic Connection<span style=\"padding-right:0.2em;\">\"</span>»</a>. Archivado desde <a class=\"external text\" href=\"http://findarticles.com/p/articles/mi_m1374/is_6_60/ai_78889720/\" rel=\"nofollow\">el original</a> el 29 de mayo de 2012.</span><span class=\"Z3988\" title=\"ctx_ver=Z39.88-2004&amp;rfr_id=info%3Asid%2Fes.wikipedia.org%3ACarl+Sagan&amp;rft.au=Druyan%2C+Ann&amp;rft.aufirst=Ann&amp;rft.aulast=Druyan&amp;rft.btitle=A+New+Sense+of+the+Sacred+Carl+Sagan%27s+%22Cosmic+Connection%22&amp;rft.date=2000&amp;rft.genre=book&amp;rft_id=http%3A%2F%2Ffindarticles.com%2Fp%2Farticles%2Fmi_m1374%2Fis_6_60%2Fai_78889720%2F&amp;rft_val_fmt=info%3Aofi%2Ffmt%3Akev%3Amtx%3Abook\"><span style=\"display:none;\"> </span></span></span>\n",
       "</li>\n",
       "<li id=\"cite_note-15\"><span class=\"mw-cite-backlink\"><a href=\"#cite_ref-15\">↑</a></span> <span class=\"reference-text\"><span class=\"citation publicación\" id=\"CITAREFTurco,_R.P.,_Toon,_A.B.,_Ackerman,_T.P.,_Pollack,_J.B.,_Sagan,_C._(TTAPS)1990\">Turco, R.P., Toon, A.B., Ackerman, T.P., Pollack, J.B., Sagan, C. (TTAPS) (January de 1990). <a class=\"external text\" href=\"http://www.atmos.washington.edu/~ackerman/Articles/Turco_Nuclear_Winter_90.pdf\" rel=\"nofollow\">«Climate and Smoke: An Appraisal of Nuclear Winter»</a>. <i>Science</i> <b>247</b> (4939): 167-8. <small><a href=\"/wiki/Bibcode\" title=\"Bibcode\">Bibcode</a>:<a class=\"external text\" href=\"http://adsabs.harvard.edu/abs/1990Sci...247..166T\" rel=\"nofollow\">1990Sci...247..166T</a></small>. <small><a class=\"mw-redirect\" href=\"/wiki/PubMed_Identifier\" title=\"PubMed Identifier\">PMID</a> <a class=\"external text\" href=\"//www.ncbi.nlm.nih.gov/pubmed/11538069\" rel=\"nofollow\">11538069</a></small>. <small><a class=\"mw-redirect\" href=\"/wiki/Digital_object_identifier\" title=\"Digital object identifier\">doi</a>:<a class=\"external text\" href=\"https://dx.doi.org/10.1126%2Fscience.11538069\" rel=\"nofollow\">10.1126/science.11538069</a></small>.</span><span class=\"Z3988\" title=\"ctx_ver=Z39.88-2004&amp;rfr_id=info%3Asid%2Fes.wikipedia.org%3ACarl+Sagan&amp;rft.atitle=Climate+and+Smoke%3A+An+Appraisal+of+Nuclear+Winter&amp;rft.au=Turco%2C+R.P.%2C+Toon%2C+A.B.%2C+Ackerman%2C+T.P.%2C+Pollack%2C+J.B.%2C+Sagan%2C+C.+%28TTAPS%29&amp;rft.aulast=Turco%2C+R.P.%2C+Toon%2C+A.B.%2C+Ackerman%2C+T.P.%2C+Pollack%2C+J.B.%2C+Sagan%2C+C.+%28TTAPS%29&amp;rft.date=January+de+1990&amp;rft.genre=article&amp;rft.issue=4939&amp;rft.jtitle=Science&amp;rft.pages=167-8&amp;rft.volume=247&amp;rft_id=http%3A%2F%2Fwww.atmos.washington.edu%2F~ackerman%2FArticles%2FTurco_Nuclear_Winter_90.pdf&amp;rft_id=info%3Abibcode%2F1990Sci...247..166T&amp;rft_id=info%3Adoi%2F10.1126%2Fscience.11538069&amp;rft_id=info%3Apmid%2F11538069&amp;rft_val_fmt=info%3Aofi%2Ffmt%3Akev%3Amtx%3Ajournal\"><span style=\"display:none;\"> </span></span> <span class=\"error citation-comment\" style=\"display:none;font-size:100%\">La referencia utiliza el parámetro obsoleto <code>|mes=</code> (<a href=\"/wiki/Ayuda:Errores_en_las_referencias#deprecated_params\" title=\"Ayuda:Errores en las referencias\">ayuda</a>)</span></span>\n",
       "</li>\n",
       "<li id=\"cite_note-16\"><span class=\"mw-cite-backlink\"><a href=\"#cite_ref-16\">↑</a></span> <span class=\"reference-text\"><span class=\"citation libro\" id=\"CITAREFGrinspoon1994\">Grinspoon, Lester (1994).  Quick American Archives, ed. <a class=\"external text\" href=\"https://archive.org/details/marijuanareconsi00grin\" rel=\"nofollow\"><i>Marihuana Reconsidered</i></a> (segunda edición). <small><a href=\"/wiki/ISBN\" title=\"ISBN\">ISBN</a> <a href=\"/wiki/Especial:FuentesDeLibros/0-932-55113-0\" title=\"Especial:FuentesDeLibros/0-932-55113-0\">0-932-55113-0</a></small>.</span><span class=\"Z3988\" title=\"ctx_ver=Z39.88-2004&amp;rfr_id=info%3Asid%2Fes.wikipedia.org%3ACarl+Sagan&amp;rft.au=Grinspoon%2C+Lester&amp;rft.aufirst=Lester&amp;rft.aulast=Grinspoon&amp;rft.btitle=Marihuana+Reconsidered&amp;rft.date=1994&amp;rft.edition=segunda&amp;rft.genre=book&amp;rft.isbn=0-932-55113-0&amp;rft_id=https%3A%2F%2Farchive.org%2Fdetails%2Fmarijuanareconsi00grin&amp;rft_val_fmt=info%3Aofi%2Ffmt%3Akev%3Amtx%3Abook\"><span style=\"display:none;\"> </span></span></span>\n",
       "</li>\n",
       "<li id=\"cite_note-17\"><span class=\"mw-cite-backlink\"><a href=\"#cite_ref-17\">↑</a></span> <span class=\"reference-text\"><span class=\"citation web\" id=\"CITAREFSagan,_Carl\">Sagan, Carl.  Marihuana-Uses.com, ed. <a class=\"external text\" href=\"http://marihuana-uses.com/mr-x/\" rel=\"nofollow\">«Mr. X»</a><span class=\"reference-accessdate\">. Consultado el 3 de abril de 2012</span>.</span><span class=\"Z3988\" title=\"ctx_ver=Z39.88-2004&amp;rfr_id=info%3Asid%2Fes.wikipedia.org%3ACarl+Sagan&amp;rft.au=Sagan%2C+Carl&amp;rft.aulast=Sagan%2C+Carl&amp;rft.btitle=Mr.+X&amp;rft.genre=book&amp;rft_id=http%3A%2F%2Fmarihuana-uses.com%2Fmr-x%2F&amp;rft_val_fmt=info%3Aofi%2Ffmt%3Akev%3Amtx%3Abook\"><span style=\"display:none;\"> </span></span></span>\n",
       "</li>\n",
       "<li id=\"cite_note-18\"><span class=\"mw-cite-backlink\"><a href=\"#cite_ref-18\">↑</a></span> <span class=\"reference-text\"><span class=\"citation noticia\" id=\"CITAREFWhitehouse,_David15_de_octubre_de_1999\">Whitehouse, David (15 de octubre de 1999).  BBC News, ed. <a class=\"external text\" href=\"http://news.bbc.co.uk/1/hi/sci/tech/475954.stm\" rel=\"nofollow\">«Carl Sagan: A Life in the Cosmos»</a><span class=\"reference-accessdate\">. Consultado el 3 de abril de 2012</span>.</span><span class=\"Z3988\" title=\"ctx_ver=Z39.88-2004&amp;rfr_id=info%3Asid%2Fes.wikipedia.org%3ACarl+Sagan&amp;rft.au=Whitehouse%2C+David&amp;rft.aulast=Whitehouse%2C+David&amp;rft.btitle=Carl+Sagan%3A+A+Life+in+the+Cosmos&amp;rft.date=15+de+octubre+de+1999&amp;rft.genre=book&amp;rft_id=http%3A%2F%2Fnews.bbc.co.uk%2F1%2Fhi%2Fsci%2Ftech%2F475954.stm&amp;rft_val_fmt=info%3Aofi%2Ffmt%3Akev%3Amtx%3Abook\"><span style=\"display:none;\"> </span></span></span>\n",
       "</li>\n",
       "<li id=\"cite_note-19\"><span class=\"mw-cite-backlink\"><a href=\"#cite_ref-19\">↑</a></span> <span class=\"reference-text\"><span class=\"citation noticia\" id=\"CITAREFDavidson,_Keay22_de_agosto_de_1999\">Davidson, Keay (22 de agosto de 1999). <a class=\"external text\" href=\"http://www.druglibrary.org/think/~jnr/sagan.htm\" rel=\"nofollow\">«US: Billions and Billions of '60s Flashbacks»</a>. <i>San Francisco Examiner</i><span class=\"reference-accessdate\">. Consultado el 3 de abril de 2012</span>.</span><span class=\"Z3988\" title=\"ctx_ver=Z39.88-2004&amp;rfr_id=info%3Asid%2Fes.wikipedia.org%3ACarl+Sagan&amp;rft.atitle=US%3A+Billions+and+Billions+of+%2760s+Flashbacks&amp;rft.au=Davidson%2C+Keay&amp;rft.aulast=Davidson%2C+Keay&amp;rft.date=22+de+agosto+de+1999&amp;rft.genre=article&amp;rft.jtitle=San+Francisco+Examiner&amp;rft_id=http%3A%2F%2Fwww.druglibrary.org%2Fthink%2F~jnr%2Fsagan.htm&amp;rft_val_fmt=info%3Aofi%2Ffmt%3Akev%3Amtx%3Ajournal\"><span style=\"display:none;\"> </span></span></span>\n",
       "</li>\n",
       "<li id=\"cite_note-20\"><span class=\"mw-cite-backlink\"><a href=\"#cite_ref-20\">↑</a></span> <span class=\"reference-text\"><span class=\"citation noticia\" id=\"CITAREFLarsen,_Dana1_de_noviembre_de_1999\">Larsen, Dana (1 de noviembre de 1999). <a class=\"external text\" href=\"http://cannabisculture.com/articles/63.html\" rel=\"nofollow\">«Carl Sagan: Toking Astronomer»</a>. <i>Cannabis Culture Magazine</i><span class=\"reference-accessdate\">. Consultado el 2 de mayo de 2007</span>.</span><span class=\"Z3988\" title=\"ctx_ver=Z39.88-2004&amp;rfr_id=info%3Asid%2Fes.wikipedia.org%3ACarl+Sagan&amp;rft.atitle=Carl+Sagan%3A+Toking+Astronomer&amp;rft.au=Larsen%2C+Dana&amp;rft.aulast=Larsen%2C+Dana&amp;rft.date=1+de+noviembre+de+1999&amp;rft.genre=article&amp;rft.jtitle=Cannabis+Culture+Magazine&amp;rft_id=http%3A%2F%2Fcannabisculture.com%2Farticles%2F63.html&amp;rft_val_fmt=info%3Aofi%2Ffmt%3Akev%3Amtx%3Ajournal\"><span style=\"display:none;\"> </span></span></span>\n",
       "</li>\n",
       "<li id=\"cite_note-21\"><span class=\"mw-cite-backlink\"><a href=\"#cite_ref-21\">↑</a></span> <span class=\"reference-text\"><span class=\"citation web\" id=\"CITAREFNORML_and_the_NORML_Foundation\">NORML and the NORML Foundation (ed.). <a class=\"external text\" href=\"http://norml.org/index.cfm?Group_ID=4493\" rel=\"nofollow\">«Ann Druyan – NORML»</a>. <i>ABOUT NORML</i><span class=\"reference-accessdate\">. Consultado el 3 de abril de 2012</span>.</span><span class=\"Z3988\" title=\"ctx_ver=Z39.88-2004&amp;rfr_id=info%3Asid%2Fes.wikipedia.org%3ACarl+Sagan&amp;rft.atitle=Ann+Druyan+%E2%80%93+NORML&amp;rft.genre=article&amp;rft.jtitle=ABOUT+NORML&amp;rft_id=http%3A%2F%2Fnorml.org%2Findex.cfm%3FGroup_ID%3D4493&amp;rft_val_fmt=info%3Aofi%2Ffmt%3Akev%3Amtx%3Ajournal\"><span style=\"display:none;\"> </span></span></span>\n",
       "</li>\n",
       "<li id=\"cite_note-22\"><span class=\"mw-cite-backlink\"><a href=\"#cite_ref-22\">↑</a></span> <span class=\"reference-text\"><span class=\"citation libro\" id=\"CITAREFAsimov,_Isaac1980\">Asimov, Isaac (1980).  Doubleday/Avon, ed. <a class=\"external text\" href=\"https://archive.org/details/injoystillfelt00isaa/page/217\" rel=\"nofollow\"><i>In Joy Still Felt: The Autobiography of Isaac Asimov, 1954-1978</i></a>. pp. <a class=\"external text\" href=\"https://archive.org/details/injoystillfelt00isaa/page/217\" rel=\"nofollow\">217, 302</a>. <small><a href=\"/wiki/ISBN\" title=\"ISBN\">ISBN</a> <a href=\"/wiki/Especial:FuentesDeLibros/0-380-53025-2\" title=\"Especial:FuentesDeLibros/0-380-53025-2\">0-380-53025-2</a></small>.</span><span class=\"Z3988\" title=\"ctx_ver=Z39.88-2004&amp;rfr_id=info%3Asid%2Fes.wikipedia.org%3ACarl+Sagan&amp;rft.au=Asimov%2C+Isaac&amp;rft.aulast=Asimov%2C+Isaac&amp;rft.btitle=In+Joy+Still+Felt%3A+The+Autobiography+of+Isaac+Asimov%2C+1954-1978&amp;rft.date=1980&amp;rft.genre=book&amp;rft.isbn=0-380-53025-2&amp;rft.pages=217%2C+302&amp;rft_id=https%3A%2F%2Farchive.org%2Fdetails%2Finjoystillfelt00isaa%2Fpage%2F217&amp;rft_val_fmt=info%3Aofi%2Ffmt%3Akev%3Amtx%3Abook\"><span style=\"display:none;\"> </span></span></span>\n",
       "</li>\n",
       "<li id=\"cite_note-23\"><span class=\"mw-cite-backlink\"><a href=\"#cite_ref-23\">↑</a></span> <span class=\"reference-text\"><span class=\"citation libro\" id=\"CITAREFGibersonArtigas2012\"><a class=\"mw-redirect\" href=\"/wiki/Karl_Giberson\" title=\"Karl Giberson\">Giberson, Karl</a>; <a href=\"/wiki/Mariano_Artigas\" title=\"Mariano Artigas\">Artigas, Mariano</a> (2012). <a class=\"external text\" href=\"https://books.google.com/books?id=G6tCXfCWXj8C&amp;pg=PA177\" rel=\"nofollow\">«Una luz en la oscuridad»</a>. <i>Oráculos de la ciencia: Científicos famosos contra Dios y la religión</i>. Encuentro. pp. 177 y ss. <small><a href=\"/wiki/ISBN\" title=\"ISBN\">ISBN</a> <a href=\"/wiki/Especial:FuentesDeLibros/9788499209920\" title=\"Especial:FuentesDeLibros/9788499209920\">9788499209920</a></small>.</span><span class=\"Z3988\" title=\"ctx_ver=Z39.88-2004&amp;rfr_id=info%3Asid%2Fes.wikipedia.org%3ACarl+Sagan&amp;rft.atitle=Or%C3%A1culos+de+la+ciencia%3A+Cient%C3%ADficos+famosos+contra+Dios+y+la+religi%C3%B3n&amp;rft.au=Artigas%2C+Mariano&amp;rft.au=Giberson%2C+Karl&amp;rft.aufirst=Karl&amp;rft.aulast=Giberson&amp;rft.btitle=Una+luz+en+la+oscuridad&amp;rft.date=2012&amp;rft.genre=bookitem&amp;rft.isbn=9788499209920&amp;rft.pages=177+y+ss&amp;rft.pub=Encuentro&amp;rft_id=https%3A%2F%2Fbooks.google.com%2Fbooks%3Fid%3DG6tCXfCWXj8C%26pg%3DPA177&amp;rft_val_fmt=info%3Aofi%2Ffmt%3Akev%3Amtx%3Abook\"><span style=\"display:none;\"> </span></span></span>\n",
       "</li>\n",
       "<li id=\"cite_note-broca-24\"><span class=\"mw-cite-backlink\"><a href=\"#cite_ref-broca_24-0\">↑</a></span> <span class=\"reference-text\"><span class=\"citation libro\" id=\"CITAREFSagan1984\">Sagan, Carl (1984). «23 - El sermón dominical».  En Editorial Grijalbo, S.A., ed. <i>El cerebro de Broca: Reflexiones sobre el apasionante mundo de la ciencia</i>. p. 181. <small><a href=\"/wiki/ISBN\" title=\"ISBN\">ISBN</a> <a href=\"/wiki/Especial:FuentesDeLibros/968-419-420-X\" title=\"Especial:FuentesDeLibros/968-419-420-X\">968-419-420-X</a></small>.</span><span class=\"Z3988\" title=\"ctx_ver=Z39.88-2004&amp;rfr_id=info%3Asid%2Fes.wikipedia.org%3ACarl+Sagan&amp;rft.atitle=El+cerebro+de+Broca%3A+Reflexiones+sobre+el+apasionante+mundo+de+la+ciencia&amp;rft.au=Sagan%2C+Carl&amp;rft.aufirst=Carl&amp;rft.aulast=Sagan&amp;rft.btitle=23+-+El+serm%C3%B3n+dominical&amp;rft.date=1984&amp;rft.genre=bookitem&amp;rft.isbn=968-419-420-X&amp;rft.pages=181&amp;rft_val_fmt=info%3Aofi%2Ffmt%3Akev%3Amtx%3Abook\"><span style=\"display:none;\"> </span></span></span>\n",
       "</li>\n",
       "<li id=\"cite_note-25\"><span class=\"mw-cite-backlink\"><a href=\"#cite_ref-25\">↑</a></span> <span class=\"reference-text\"><a class=\"external free\" href=\"http://atheism.about.com/library/quotes/bl_q_CSagan.htm\" rel=\"nofollow\">http://atheism.about.com/library/quotes/bl_q_CSagan.htm</a></span>\n",
       "</li>\n",
       "<li id=\"cite_note-26\"><span class=\"mw-cite-backlink\"><a href=\"#cite_ref-26\">↑</a></span> <span class=\"reference-text\"><span class=\"citation libro\" id=\"CITAREFSagan1995\">Sagan, Carl (1995). <i>El mundo y sus demonios</i>. Barcelona: Planeta. p. 236. <small><a href=\"/wiki/ISBN\" title=\"ISBN\">ISBN</a> <a href=\"/wiki/Especial:FuentesDeLibros/9788408020431\" title=\"Especial:FuentesDeLibros/9788408020431\">9788408020431</a></small>.</span><span class=\"Z3988\" title=\"ctx_ver=Z39.88-2004&amp;rfr_id=info%3Asid%2Fes.wikipedia.org%3ACarl+Sagan&amp;rft.au=Sagan%2C+Carl&amp;rft.aufirst=Carl&amp;rft.aulast=Sagan&amp;rft.btitle=El+mundo+y+sus+demonios&amp;rft.date=1995&amp;rft.genre=book&amp;rft.isbn=9788408020431&amp;rft.pages=236&amp;rft.place=Barcelona&amp;rft.pub=Planeta&amp;rft_val_fmt=info%3Aofi%2Ffmt%3Akev%3Amtx%3Abook\"><span style=\"display:none;\"> </span></span></span>\n",
       "</li>\n",
       "<li id=\"cite_note-27\"><span class=\"mw-cite-backlink\"><a href=\"#cite_ref-27\">↑</a></span> <span class=\"reference-text\"><span class=\"citation publicación\" id=\"CITAREFHead,_Tom\">Head, Tom. «Conversations with Carl». <i>Skeptic</i> <b>13</b> (1): 32-38.</span><span class=\"Z3988\" title=\"ctx_ver=Z39.88-2004&amp;rfr_id=info%3Asid%2Fes.wikipedia.org%3ACarl+Sagan&amp;rft.atitle=Conversations+with+Carl&amp;rft.au=Head%2C+Tom&amp;rft.aulast=Head%2C+Tom&amp;rft.genre=article&amp;rft.issue=1&amp;rft.jtitle=Skeptic&amp;rft.pages=32-38&amp;rft.volume=13&amp;rft_val_fmt=info%3Aofi%2Ffmt%3Akev%3Amtx%3Ajournal\"><span style=\"display:none;\"> </span></span> Citada en <span class=\"citation libro\" id=\"CITAREFHead,_Tom,_ed.2006\">Head, Tom, ed. (2006).  University of Mississippi Press, ed. <i>Conversations with Carl Sagan</i>. <small><a href=\"/wiki/ISBN\" title=\"ISBN\">ISBN</a> <a href=\"/wiki/Especial:FuentesDeLibros/1578067367\" title=\"Especial:FuentesDeLibros/1578067367\">1578067367</a></small>.</span><span class=\"Z3988\" title=\"ctx_ver=Z39.88-2004&amp;rfr_id=info%3Asid%2Fes.wikipedia.org%3ACarl+Sagan&amp;rft.au=Head%2C+Tom%2C+ed.&amp;rft.aulast=Head%2C+Tom%2C+ed.&amp;rft.btitle=Conversations+with+Carl+Sagan&amp;rft.date=2006&amp;rft.genre=book&amp;rft.isbn=1578067367&amp;rft_val_fmt=info%3Aofi%2Ffmt%3Akev%3Amtx%3Abook\"><span style=\"display:none;\"> </span></span></span>\n",
       "</li>\n",
       "<li id=\"cite_note-28\"><span class=\"mw-cite-backlink\"><a href=\"#cite_ref-28\">↑</a></span> <span class=\"reference-text\">Tracy, David. \"Kenosis, Sunyata, and Trinity: A Dialogue with Masao Abe.\" In The Emptying God: A Buddhist-Jewish-Christian Conversation, eds. John B. Cobb Jr., and Christopher Ives. Maryknoll, N.Y.: Orbis, 1990, pg. 52, <a class=\"internal mw-magiclink-isbn\" href=\"/wiki/Especial:FuentesDeLibros/8170304903\">ISBN 81-7030-490-3</a></span>\n",
       "</li>\n",
       "<li id=\"cite_note-29\"><span class=\"mw-cite-backlink\"><a href=\"#cite_ref-29\">↑</a></span> <span class=\"reference-text\"><span class=\"citation libro\" id=\"CITAREFSagan1996\">Sagan, Carl (1996). «5 - El sueño de Newton». <i><a href=\"/wiki/El_mundo_y_sus_demonios\" title=\"El mundo y sus demonios\">El mundo y sus demonios</a></i>. <small><a href=\"/wiki/ISBN\" title=\"ISBN\">ISBN</a> <a href=\"/wiki/Especial:FuentesDeLibros/9788408020431\" title=\"Especial:FuentesDeLibros/9788408020431\">9788408020431</a></small>.</span><span class=\"Z3988\" title=\"ctx_ver=Z39.88-2004&amp;rfr_id=info%3Asid%2Fes.wikipedia.org%3ACarl+Sagan&amp;rft.atitle=El+mundo+y+sus+demonios&amp;rft.au=Sagan%2C+Carl&amp;rft.aufirst=Carl&amp;rft.aulast=Sagan&amp;rft.btitle=5+-+El+sue%C3%B1o+de+Newton&amp;rft.date=1996&amp;rft.genre=bookitem&amp;rft.isbn=9788408020431&amp;rft_val_fmt=info%3Aofi%2Ffmt%3Akev%3Amtx%3Abook\"><span style=\"display:none;\"> </span></span></span>\n",
       "</li>\n",
       "<li id=\"cite_note-30\"><span class=\"mw-cite-backlink\"><a href=\"#cite_ref-30\">↑</a></span> <span class=\"reference-text\"><span class=\"citation publicación\" id=\"CITAREFDruyan2003\">Druyan, Ann (noviembre/diciembre de 2003). <a class=\"external text\" href=\"http://www.csicop.org/si/show/ann_druyan_talks_about_science_religion/\" rel=\"nofollow\">«Ann Druyan talks about science, religion, wonder, awe ... and Carl Sagan»</a>.  En <a class=\"mw-redirect\" href=\"/wiki/Committee_for_Skeptical_Inquiry\" title=\"Committee for Skeptical Inquiry\">Committee for Skeptical Inquiry</a>, ed. <i><a href=\"/wiki/Skeptical_Inquirer\" title=\"Skeptical Inquirer\">Skeptical Inquirer</a></i> <b>27</b> (6). <small><a class=\"mw-redirect\" href=\"/wiki/ISSN\" title=\"ISSN\">ISSN</a> <a class=\"external text\" href=\"//issn.org/resource/issn/0194-6730\" rel=\"nofollow\">0194-6730</a></small><span class=\"reference-accessdate\">. Consultado el 3 de abril de 2012</span>.</span><span class=\"Z3988\" title=\"ctx_ver=Z39.88-2004&amp;rfr_id=info%3Asid%2Fes.wikipedia.org%3ACarl+Sagan&amp;rft.atitle=Ann+Druyan+talks+about+science%2C+religion%2C+wonder%2C+awe%26nbsp%3B...+and+Carl+Sagan&amp;rft.au=Druyan%2C+Ann&amp;rft.aufirst=Ann&amp;rft.aulast=Druyan&amp;rft.date=noviembre%2Fdiciembre+de+2003&amp;rft.genre=article&amp;rft.issn=0194-6730&amp;rft.issue=6&amp;rft.jtitle=Skeptical+Inquirer&amp;rft.volume=27&amp;rft_id=http%3A%2F%2Fwww.csicop.org%2Fsi%2Fshow%2Fann_druyan_talks_about_science_religion%2F&amp;rft_val_fmt=info%3Aofi%2Ffmt%3Akev%3Amtx%3Ajournal\"><span style=\"display:none;\"> </span></span> <span class=\"error citation-comment\" style=\"display:none;font-size:100%\">La referencia utiliza el parámetro obsoleto <code>|mes=</code> (<a href=\"/wiki/Ayuda:Errores_en_las_referencias#deprecated_params\" title=\"Ayuda:Errores en las referencias\">ayuda</a>)</span></span>\n",
       "</li>\n",
       "<li id=\"cite_note-31\"><span class=\"mw-cite-backlink\"><a href=\"#cite_ref-31\">↑</a></span> <span class=\"reference-text\"><span class=\"citation cita-episodio\" id=\"CITAREFCarl_Sagan_(guionista/presentador)\">Carl Sagan (guionista/presentador). «Enciclopedia Galáctica». <i>Cosmos</i>. PBS. min. 01:24.</span><span class=\"Z3988\" title=\"ctx_ver=Z39.88-2004&amp;rft_val_fmt=info%3Aofi%2Ffmt%3Akev%3Amtx%3Abook&amp;rft.genre=bookitem&amp;rft.btitle=Enciclopedia+Gal%C3%A1ctica&amp;rft.atitle=&amp;rft.aulast=Carl+Sagan+%28guionista%2Fpresentador%29&amp;rft.au=Carl+Sagan+%28guionista%2Fpresentador%29&amp;rft.series=%27%27Cosmos%27%27&amp;rft.pages=min.+01%3A24&amp;rft.pub=PBS&amp;rfr_id=info:sid/es.wikipedia.org:Carl_Sagan\"><span style=\"display: none;\"> </span></span></span>\n",
       "</li>\n",
       "<li id=\"cite_note-32\"><span class=\"mw-cite-backlink\"><a href=\"#cite_ref-32\">↑</a></span> <span class=\"reference-text\"><span class=\"citation publicación\" id=\"CITAREFMarcello_Truzzi1978\">Marcello Truzzi (1978). <a class=\"external text\" href=\"http://www.tricksterbook.com/truzzi/ZS-Issues-PDFs/ZeteticScholarNo1.pdf\" rel=\"nofollow\">«On the Extraordinary: An Attempt at Clarification»</a>. <i><a class=\"new\" href=\"/w/index.php?title=Zetetic_Scholar&amp;action=edit&amp;redlink=1\" title=\"Zetetic Scholar (aún no redactado)\">Zetetic Scholar</a></i> <b>1</b> (1): 11.</span><span class=\"Z3988\" title=\"ctx_ver=Z39.88-2004&amp;rfr_id=info%3Asid%2Fes.wikipedia.org%3ACarl+Sagan&amp;rft.atitle=On+the+Extraordinary%3A+An+Attempt+at+Clarification&amp;rft.au=Marcello+Truzzi&amp;rft.aulast=Marcello+Truzzi&amp;rft.date=1978&amp;rft.genre=article&amp;rft.issue=1&amp;rft.jtitle=Zetetic+Scholar&amp;rft.pages=11&amp;rft.volume=1&amp;rft_id=http%3A%2F%2Fwww.tricksterbook.com%2Ftruzzi%2FZS-Issues-PDFs%2FZeteticScholarNo1.pdf&amp;rft_val_fmt=info%3Aofi%2Ffmt%3Akev%3Amtx%3Ajournal\"><span style=\"display:none;\"> </span></span></span>\n",
       "</li>\n",
       "<li id=\"cite_note-33\"><span class=\"mw-cite-backlink\"><a href=\"#cite_ref-33\">↑</a></span> <span class=\"reference-text\"><span class=\"citation libro\" id=\"CITAREFSagan1982\"><a class=\"mw-selflink selflink\">Sagan, Carl</a> (1982). «V». <i>Cosmos</i> (Primera edición). Último párrafo página 130: Editorial Planeta, S.A. p. 365. <small><a href=\"/wiki/ISBN\" title=\"ISBN\">ISBN</a> <a href=\"/wiki/Especial:FuentesDeLibros/84-320-3626-9\" title=\"Especial:FuentesDeLibros/84-320-3626-9\">84-320-3626-9</a></small>.</span><span class=\"Z3988\" title=\"ctx_ver=Z39.88-2004&amp;rfr_id=info%3Asid%2Fes.wikipedia.org%3ACarl+Sagan&amp;rft.atitle=Cosmos&amp;rft.au=Sagan%2C+Carl&amp;rft.aufirst=Carl&amp;rft.aulast=Sagan&amp;rft.btitle=V&amp;rft.date=1982&amp;rft.edition=Primera&amp;rft.genre=bookitem&amp;rft.isbn=84-320-3626-9&amp;rft.pages=365&amp;rft.place=%C3%9Altimo+p%C3%A1rrafo+p%C3%A1gina+130&amp;rft.pub=Editorial+Planeta%2C+S.A.&amp;rft_val_fmt=info%3Aofi%2Ffmt%3Akev%3Amtx%3Abook\"><span style=\"display:none;\"> </span></span> <span class=\"error citation-comment\" style=\"display:none;font-size:100%\"><code>|fechaacceso=</code> requiere <code>|url=</code> (<a href=\"/wiki/Ayuda:Errores_en_las_referencias#accessdate_missing_url\" title=\"Ayuda:Errores en las referencias\">ayuda</a>)</span></span>\n",
       "</li>\n",
       "<li id=\"cite_note-34\"><span class=\"mw-cite-backlink\"><a href=\"#cite_ref-34\">↑</a></span> <span class=\"reference-text\"><span class=\"citation libro\" id=\"CITAREFDavidson1999\">Davidson, Keay (1999). <a class=\"external text\" href=\"https://archive.org/details/carlsaganlife00davi/page/51\" rel=\"nofollow\">«Chicago»</a>.  En John Wiley and Sons, Inc, ed. <i>Carl Sagan: A Life</i>. pp. <a class=\"external text\" href=\"https://archive.org/details/carlsaganlife00davi/page/51\" rel=\"nofollow\">51-52</a>. <small><a href=\"/wiki/ISBN\" title=\"ISBN\">ISBN</a> <a href=\"/wiki/Especial:FuentesDeLibros/0-471-25286-7\" title=\"Especial:FuentesDeLibros/0-471-25286-7\">0-471-25286-7</a></small>.</span><span class=\"Z3988\" title=\"ctx_ver=Z39.88-2004&amp;rfr_id=info%3Asid%2Fes.wikipedia.org%3ACarl+Sagan&amp;rft.atitle=Carl+Sagan%3A+A+Life&amp;rft.au=Davidson%2C+Keay&amp;rft.aufirst=Keay&amp;rft.aulast=Davidson&amp;rft.btitle=Chicago&amp;rft.date=1999&amp;rft.genre=bookitem&amp;rft.isbn=0-471-25286-7&amp;rft.pages=51-52&amp;rft_id=https%3A%2F%2Farchive.org%2Fdetails%2Fcarlsaganlife00davi%2Fpage%2F51&amp;rft_val_fmt=info%3Aofi%2Ffmt%3Akev%3Amtx%3Abook\"><span style=\"display:none;\"> </span></span></span>\n",
       "</li>\n",
       "<li id=\"cite_note-westrum-35\"><span class=\"mw-cite-backlink\">↑ <a href=\"#cite_ref-westrum_35-0\"><sup><i><b>a</b></i></sup></a> <a href=\"#cite_ref-westrum_35-1\"><sup><i><b>b</b></i></sup></a></span> <span class=\"reference-text\"><span class=\"citation libro\" id=\"CITAREFWestrum2000\">Westrum, Ron; Jacobs, David Michael (ed.) (2000). <a class=\"external text\" href=\"https://archive.org/details/ufosabductions00davi/page/30\" rel=\"nofollow\">«Limited Access: Six Natural Scientists and the UFO Phenomenon»</a>.  En University Press of Kansas, ed. <i>UFOs and abductions: Challenging the Borders of Knowledge</i>. pp. <a class=\"external text\" href=\"https://archive.org/details/ufosabductions00davi/page/30\" rel=\"nofollow\">30-55</a>. <small><a href=\"/wiki/ISBN\" title=\"ISBN\">ISBN</a> <a href=\"/wiki/Especial:FuentesDeLibros/0-700-61032-4\" title=\"Especial:FuentesDeLibros/0-700-61032-4\">0-700-61032-4</a></small>.</span><span class=\"Z3988\" title=\"ctx_ver=Z39.88-2004&amp;rfr_id=info%3Asid%2Fes.wikipedia.org%3ACarl+Sagan&amp;rft.atitle=UFOs+and+abductions%3A+Challenging+the+Borders+of+Knowledge&amp;rft.au=Westrum%2C+Ron&amp;rft.aufirst=Ron&amp;rft.aulast=Westrum&amp;rft.btitle=Limited+Access%3A+Six+Natural+Scientists+and+the+UFO+Phenomenon&amp;rft.date=2000&amp;rft.genre=bookitem&amp;rft.isbn=0-700-61032-4&amp;rft.pages=30-55&amp;rft_id=https%3A%2F%2Farchive.org%2Fdetails%2Fufosabductions00davi%2Fpage%2F30&amp;rft_val_fmt=info%3Aofi%2Ffmt%3Akev%3Amtx%3Abook\"><span style=\"display:none;\"> </span></span> <span class=\"error citation-comment\" style=\"display:none;font-size:100%\">La referencia utiliza el parámetro obsoleto <code>|coautores=</code> (<a href=\"/wiki/Ayuda:Errores_en_las_referencias#deprecated_params\" title=\"Ayuda:Errores en las referencias\">ayuda</a>)</span></span>\n",
       "</li>\n",
       "<li id=\"cite_note-36\"><span class=\"mw-cite-backlink\"><a href=\"#cite_ref-36\">↑</a></span> <span class=\"reference-text\"><span class=\"citation libro\" id=\"CITAREFAppelle2000\">Appelle, Stuart; Jacobs, David Michael (ed.) (2000). <a class=\"external text\" href=\"https://archive.org/details/ufosabductions00davi/page/7\" rel=\"nofollow\">«Ufology and Academia: The UFO Phenomenon as a Scholarly Discipline»</a>.  En University Press of Kansas, ed. <i>UFOs and abductions: Challenging the Borders of Knowledge</i>. pp. <a class=\"external text\" href=\"https://archive.org/details/ufosabductions00davi/page/7\" rel=\"nofollow\">7-30</a>. <small><a href=\"/wiki/ISBN\" title=\"ISBN\">ISBN</a> <a href=\"/wiki/Especial:FuentesDeLibros/0-700-61032-4\" title=\"Especial:FuentesDeLibros/0-700-61032-4\">0-700-61032-4</a></small>.</span><span class=\"Z3988\" title=\"ctx_ver=Z39.88-2004&amp;rfr_id=info%3Asid%2Fes.wikipedia.org%3ACarl+Sagan&amp;rft.atitle=UFOs+and+abductions%3A+Challenging+the+Borders+of+Knowledge&amp;rft.au=Appelle%2C+Stuart&amp;rft.aufirst=Stuart&amp;rft.aulast=Appelle&amp;rft.btitle=Ufology+and+Academia%3A+The+UFO+Phenomenon+as+a+Scholarly+Discipline&amp;rft.date=2000&amp;rft.genre=bookitem&amp;rft.isbn=0-700-61032-4&amp;rft.pages=7-30&amp;rft_id=https%3A%2F%2Farchive.org%2Fdetails%2Fufosabductions00davi%2Fpage%2F7&amp;rft_val_fmt=info%3Aofi%2Ffmt%3Akev%3Amtx%3Abook\"><span style=\"display:none;\"> </span></span> <span class=\"error citation-comment\" style=\"display:none;font-size:100%\">La referencia utiliza el parámetro obsoleto <code>|coautores=</code> (<a href=\"/wiki/Ayuda:Errores_en_las_referencias#deprecated_params\" title=\"Ayuda:Errores en las referencias\">ayuda</a>)</span></span>\n",
       "</li>\n",
       "<li id=\"cite_note-37\"><span class=\"mw-cite-backlink\"><a href=\"#cite_ref-37\">↑</a></span> <span class=\"reference-text\">Sagan, 1996: 81–96, 99–104</span>\n",
       "</li>\n",
       "<li id=\"cite_note-38\"><span class=\"mw-cite-backlink\"><a href=\"#cite_ref-38\">↑</a></span> <span class=\"reference-text\"><span class=\"citation libro\" id=\"CITAREFHead2006\">Head, Tom (2006).  University Press of Mississippi, ed. <i>Conversations With Carl Sagan</i>. pp. 86-87. <small><a href=\"/wiki/ISBN\" title=\"ISBN\">ISBN</a> <a href=\"/wiki/Especial:FuentesDeLibros/1-578-06736-7\" title=\"Especial:FuentesDeLibros/1-578-06736-7\">1-578-06736-7</a></small>.</span><span class=\"Z3988\" title=\"ctx_ver=Z39.88-2004&amp;rfr_id=info%3Asid%2Fes.wikipedia.org%3ACarl+Sagan&amp;rft.au=Head%2C+Tom&amp;rft.aufirst=Tom&amp;rft.aulast=Head&amp;rft.btitle=Conversations+With+Carl+Sagan&amp;rft.date=2006&amp;rft.genre=book&amp;rft.isbn=1-578-06736-7&amp;rft.pages=86-87&amp;rft_val_fmt=info%3Aofi%2Ffmt%3Akev%3Amtx%3Abook\"><span style=\"display:none;\"> </span></span></span>\n",
       "</li>\n",
       "<li id=\"cite_note-39\"><span class=\"mw-cite-backlink\"><a href=\"#cite_ref-39\">↑</a></span> <span class=\"reference-text\"><span class=\"citation cita-episodio\">«<a class=\"external text\" href=\"http://www.astrosociety.org/education/podcast/index.html\" rel=\"nofollow\">David Morrison—Taking a Hit: Asteroid Impacts &amp; Evolution</a>». <i>Silicon Valley Astronomy Lectures</i>Temporada 2007–2008<span class=\"printonly\">. <a class=\"external free\" href=\"http://www.astrosociety.org/education/podcast/index.html\" rel=\"nofollow\">http://www.astrosociety.org/education/podcast/index.html</a></span>.</span><span class=\"Z3988\" title=\"ctx_ver=Z39.88-2004&amp;rft_val_fmt=info%3Aofi%2Ffmt%3Akev%3Amtx%3Abook&amp;rft.genre=bookitem&amp;rft.btitle=David+Morrison%E2%80%94Taking+a+Hit%3A+Asteroid+Impacts+%26+Evolution&amp;rft.atitle=&amp;rft.series=%27%27Silicon+Valley+Astronomy+Lectures%27%27Temporada+2007%E2%80%932008&amp;rft_id=http%3A%2F%2Fwww.astrosociety.org%2Feducation%2Fpodcast%2Findex.html&amp;rfr_id=info:sid/es.wikipedia.org:Carl_Sagan\"><span style=\"display: none;\"> </span></span></span>\n",
       "</li>\n",
       "<li id=\"cite_note-40\"><span class=\"mw-cite-backlink\"><a href=\"#cite_ref-40\">↑</a></span> <span class=\"reference-text\"><span class=\"citation publicación\" id=\"CITAREFSaganOstro1994\">Sagan, Carl; Ostro (1994). «Long-Range Consequences of Interplanetary Collisions». <i>Issues in Science and Technology</i> <b>X</b> (4).</span><span class=\"Z3988\" title=\"ctx_ver=Z39.88-2004&amp;rfr_id=info%3Asid%2Fes.wikipedia.org%3ACarl+Sagan&amp;rft.atitle=Long-Range+Consequences+of+Interplanetary+Collisions&amp;rft.au=Ostro&amp;rft.au=Sagan%2C+Carl&amp;rft.aufirst=Carl&amp;rft.aulast=Sagan&amp;rft.date=1994&amp;rft.genre=article&amp;rft.issue=4&amp;rft.jtitle=Issues+in+Science+and+Technology&amp;rft.volume=X&amp;rft_val_fmt=info%3Aofi%2Ffmt%3Akev%3Amtx%3Ajournal\"><span style=\"display:none;\"> </span></span></span>\n",
       "</li>\n",
       "<li id=\"cite_note-41\"><span class=\"mw-cite-backlink\"><a href=\"#cite_ref-41\">↑</a></span> <span class=\"reference-text\"><span class=\"citation libro\" id=\"CITAREFSagan,_Carl1996\">Sagan, Carl (1996).  Random House, ed. <i>El mundo y sus demonios: La ciencia como una vela en la oscuridad</i>. Nueva York. p. 257. <small><a href=\"/wiki/ISBN\" title=\"ISBN\">ISBN</a> <a href=\"/wiki/Especial:FuentesDeLibros/9788408020431\" title=\"Especial:FuentesDeLibros/9788408020431\">9788408020431</a></small>.</span><span class=\"Z3988\" title=\"ctx_ver=Z39.88-2004&amp;rfr_id=info%3Asid%2Fes.wikipedia.org%3ACarl+Sagan&amp;rft.au=Sagan%2C+Carl&amp;rft.aulast=Sagan%2C+Carl&amp;rft.btitle=El+mundo+y+sus+demonios%3A+La+ciencia+como+una+vela+en+la+oscuridad&amp;rft.date=1996&amp;rft.genre=book&amp;rft.isbn=9788408020431&amp;rft.pages=257&amp;rft.place=Nueva+York&amp;rft_val_fmt=info%3Aofi%2Ffmt%3Akev%3Amtx%3Abook\"><span style=\"display:none;\"> </span></span></span>\n",
       "</li>\n",
       "<li id=\"cite_note-42\"><span class=\"mw-cite-backlink\"><a href=\"#cite_ref-42\">↑</a></span> <span class=\"reference-text\"><span class=\"citation web\"><a class=\"external text\" href=\"https://web.archive.org/web/20080410131921/http://www.espo.nasa.gov/docs/crystalface/Jost2004.grl.pdf\" rel=\"nofollow\">«In-situ observations of mid-latitude forest fire plumes deep in the stratosphere»</a>. Archivado desde <a class=\"external text\" href=\"http://www.espo.nasa.gov/docs/crystalface/Jost2004.grl.pdf\" rel=\"nofollow\">el original</a> el 10 de abril de 2008<span class=\"reference-accessdate\">. Consultado el 23 de febrero de 2012</span>.</span><span class=\"Z3988\" title=\"ctx_ver=Z39.88-2004&amp;rfr_id=info%3Asid%2Fes.wikipedia.org%3ACarl+Sagan&amp;rft.btitle=In-situ+observations+of+mid-latitude+forest+fire+plumes+deep+in+the+stratosphere&amp;rft.genre=book&amp;rft_id=http%3A%2F%2Fwww.espo.nasa.gov%2Fdocs%2Fcrystalface%2FJost2004.grl.pdf&amp;rft_val_fmt=info%3Aofi%2Ffmt%3Akev%3Amtx%3Abook\"><span style=\"display:none;\"> </span></span></span>\n",
       "</li>\n",
       "<li id=\"cite_note-43\"><span class=\"mw-cite-backlink\"><a href=\"#cite_ref-43\">↑</a></span> <span class=\"reference-text\"><a class=\"external text\" href=\"https://web.archive.org/web/20070802021728/http://earthobservatory.nasa.gov/Newsroom/NewImages/images.php3?img_id=16641\" rel=\"nofollow\">EO Newsroom: New Images — Smoke Soars to Stratospheric Heights</a></span>\n",
       "</li>\n",
       "<li id=\"cite_note-44\"><span class=\"mw-cite-backlink\"><a href=\"#cite_ref-44\">↑</a></span> <span class=\"reference-text\"><span class=\"citation publicación\" id=\"CITAREFFromm2006\">Fromm (2006). <a class=\"external text\" href=\"https://web.archive.org/web/20080124034041/http://www.agu.org/cgi-bin/SFgate/SFgate?&amp;listenv=table&amp;multiple=1&amp;range=1&amp;directget=1&amp;application=fm06&amp;database=%2Fdata%2Fepubs%2Fwais%2Findexes%2Ffm06%2Ffm06&amp;maxhits=200&amp;=%22U14A-04%22\" rel=\"nofollow\">«Smoke in the Stratosphere: What Wildfires have Taught Us About Nuclear Winter»</a>. <i>Eos Trans. AGU</i> <b>87</b> (52 Fall Meet. Suppl.): Resumen U14A-04. <small><a href=\"/wiki/Bibcode\" title=\"Bibcode\">Bibcode</a>:<a class=\"external text\" href=\"http://adsabs.harvard.edu/abs/2006EOSTr..87...14Z\" rel=\"nofollow\">2006EOSTr..87...14Z</a></small>. <small><a class=\"mw-redirect\" href=\"/wiki/Digital_object_identifier\" title=\"Digital object identifier\">doi</a>:<a class=\"external text\" href=\"https://dx.doi.org/10.1029%2F2006EO020009\" rel=\"nofollow\">10.1029/2006EO020009</a></small>. Archivado desde <a class=\"external text\" href=\"http://www.agu.org/cgi-bin/SFgate/SFgate?&amp;listenv=table&amp;multiple=1&amp;range=1&amp;directget=1&amp;application=fm06&amp;database=%2Fdata%2Fepubs%2Fwais%2Findexes%2Ffm06%2Ffm06&amp;maxhits=200&amp;=%22U14A-04%22\" rel=\"nofollow\">el original</a> el 24 de enero de 2008.</span><span class=\"Z3988\" title=\"ctx_ver=Z39.88-2004&amp;rfr_id=info%3Asid%2Fes.wikipedia.org%3ACarl+Sagan&amp;rft.atitle=Smoke+in+the+Stratosphere%3A+What+Wildfires+have+Taught+Us+About+Nuclear+Winter&amp;rft.au=Fromm&amp;rft.aulast=Fromm&amp;rft.date=2006&amp;rft.genre=article&amp;rft.issue=52+Fall+Meet.+Suppl.&amp;rft.jtitle=Eos+Trans.+AGU&amp;rft.pages=Resumen+U14A-04&amp;rft.volume=87&amp;rft_id=http%3A%2F%2Fwww.agu.org%2Fcgi-bin%2FSFgate%2FSFgate%3F%26listenv%3Dtable%26multiple%3D1%26range%3D1%26directget%3D1%26application%3Dfm06%26database%3D%252Fdata%252Fepubs%252Fwais%252Findexes%252Ffm06%252Ffm06%26maxhits%3D200%26%3D%2522U14A-04%2522&amp;rft_id=info%3Abibcode%2F2006EOSTr..87...14Z&amp;rft_id=info%3Adoi%2F10.1029%2F2006EO020009&amp;rft_val_fmt=info%3Aofi%2Ffmt%3Akev%3Amtx%3Ajournal\"><span style=\"display:none;\"> </span></span></span>\n",
       "</li>\n",
       "<li id=\"cite_note-45\"><span class=\"mw-cite-backlink\"><a href=\"#cite_ref-45\">↑</a></span> <span class=\"reference-text\"><span class=\"citation libro\" id=\"CITAREFSagan2000\">Sagan, Carl (2000).  <a href=\"/wiki/Cambridge_University_Press\" title=\"Cambridge University Press\">Cambridge University Press</a>, ed. <a class=\"external text\" href=\"http://books.google.com/?id=lL57o9YB0mAC\" rel=\"nofollow\"><i>Carl Sagan's cosmic connection: an extraterrestrial perspective</i></a> (2 edición). p. 183. <small><a href=\"/wiki/ISBN\" title=\"ISBN\">ISBN</a> <a href=\"/wiki/Especial:FuentesDeLibros/0-521-78303-8\" title=\"Especial:FuentesDeLibros/0-521-78303-8\">0-521-78303-8</a></small>.</span><span class=\"Z3988\" title=\"ctx_ver=Z39.88-2004&amp;rfr_id=info%3Asid%2Fes.wikipedia.org%3ACarl+Sagan&amp;rft.au=Sagan%2C+Carl&amp;rft.aufirst=Carl&amp;rft.aulast=Sagan&amp;rft.btitle=Carl+Sagan%27s+cosmic+connection%3A+an+extraterrestrial+perspective&amp;rft.date=2000&amp;rft.edition=2&amp;rft.genre=book&amp;rft.isbn=0-521-78303-8&amp;rft.pages=183&amp;rft_id=http%3A%2F%2Fbooks.google.com%2F%3Fid%3DlL57o9YB0mAC&amp;rft_val_fmt=info%3Aofi%2Ffmt%3Akev%3Amtx%3Abook\"><span style=\"display:none;\"> </span></span>, <a class=\"external text\" href=\"http://books.google.com/books?id=lL57o9YB0mAC&amp;pg=PA183\" rel=\"nofollow\">Capítulo 25, página 183</a></span>\n",
       "</li>\n",
       "<li id=\"cite_note-46\"><span class=\"mw-cite-backlink\"><a href=\"#cite_ref-46\">↑</a></span> <span class=\"reference-text\"><span class=\"citation web\" id=\"CITAREFThe_Mac_Observer\">The Mac Observer (ed.). <a class=\"external text\" href=\"http://www.macobserver.com/columns/thisweek/2004/20041120.shtml\" rel=\"nofollow\">«This Week in Apple History: November 14-20»</a>.</span><span class=\"Z3988\" title=\"ctx_ver=Z39.88-2004&amp;rfr_id=info%3Asid%2Fes.wikipedia.org%3ACarl+Sagan&amp;rft.btitle=This+Week+in+Apple+History%3A+November%26nbsp%3B14-20&amp;rft.genre=book&amp;rft_id=http%3A%2F%2Fwww.macobserver.com%2Fcolumns%2Fthisweek%2F2004%2F20041120.shtml&amp;rft_val_fmt=info%3Aofi%2Ffmt%3Akev%3Amtx%3Abook\"><span style=\"display:none;\"> </span></span></span>\n",
       "</li>\n",
       "<li id=\"cite_note-47\"><span class=\"mw-cite-backlink\"><a href=\"#cite_ref-47\">↑</a></span> <span class=\"reference-text\">Sagan v. Apple Computer, Inc., 874 F.Supp. 1072 (USDC C.D. Cal. 1994), CV 94-2180 LGB (BRx); 1994 U.S. Dist. LEXIS 20154.</span>\n",
       "</li>\n",
       "<li id=\"cite_note-Poundstone2-48\"><span class=\"mw-cite-backlink\"><a href=\"#cite_ref-Poundstone2_48-0\">↑</a></span> <span class=\"reference-text\"><span class=\"citation libro\" id=\"CITAREFPoundstone2015\">Poundstone, William (2015). <i>Carl Sagan - Una vida en el cosmos</i> (1ª edición). Tres Cantos - Madrid: Ediciones Akal. p. 468. <small><a href=\"/wiki/ISBN\" title=\"ISBN\">ISBN</a> <a href=\"/wiki/Especial:FuentesDeLibros/9788446041931\" title=\"Especial:FuentesDeLibros/9788446041931\">9788446041931</a></small>.</span><span class=\"Z3988\" title=\"ctx_ver=Z39.88-2004&amp;rfr_id=info%3Asid%2Fes.wikipedia.org%3ACarl+Sagan&amp;rft.au=Poundstone%2C+William&amp;rft.aufirst=William&amp;rft.aulast=Poundstone&amp;rft.btitle=Carl+Sagan+-+Una+vida+en+el+cosmos&amp;rft.date=2015&amp;rft.edition=1%C2%AA&amp;rft.genre=book&amp;rft.isbn=9788446041931&amp;rft.pages=468&amp;rft.place=Tres+Cantos+-+Madrid&amp;rft.pub=Ediciones+Akal&amp;rft_val_fmt=info%3Aofi%2Ffmt%3Akev%3Amtx%3Abook\"><span style=\"display:none;\"> </span></span> <span class=\"error citation-comment\" style=\"display:none;font-size:100%\"><code>|fechaacceso=</code> requiere <code>|url=</code> (<a href=\"/wiki/Ayuda:Errores_en_las_referencias#accessdate_missing_url\" title=\"Ayuda:Errores en las referencias\">ayuda</a>)</span></span>\n",
       "</li>\n",
       "<li id=\"cite_note-49\"><span class=\"mw-cite-backlink\"><a href=\"#cite_ref-49\">↑</a></span> <span class=\"reference-text\">\n",
       "<span class=\"citation noticia\" id=\"CITAREFCNN20_de_diciembre_de_1996\">CNN, ed. (20 de diciembre de 1996). <a class=\"external text\" href=\"http://www.cnn.com/US/9612/20/sagan/\" rel=\"nofollow\">«Carl Sagan dies at 62»</a><span class=\"reference-accessdate\">. Consultado el 4 de abril de 2012</span>.</span><span class=\"Z3988\" title=\"ctx_ver=Z39.88-2004&amp;rfr_id=info%3Asid%2Fes.wikipedia.org%3ACarl+Sagan&amp;rft.btitle=Carl+Sagan+dies+at+62&amp;rft.date=20+de+diciembre+de+1996&amp;rft.genre=book&amp;rft_id=http%3A%2F%2Fwww.cnn.com%2FUS%2F9612%2F20%2Fsagan%2F&amp;rft_val_fmt=info%3Aofi%2Ffmt%3Akev%3Amtx%3Abook\"><span style=\"display:none;\"> </span></span></span>\n",
       "</li>\n",
       "<li id=\"cite_note-50\"><span class=\"mw-cite-backlink\"><a href=\"#cite_ref-50\">↑</a></span> <span class=\"reference-text\"><a class=\"external text\" href=\"http://edant.clarin.com/diario/96/12/21/e-07201d.htm\" rel=\"nofollow\">Murió Carl Sagan, el científico que se acercó a las estrellas</a>, Clarín</span>\n",
       "</li>\n",
       "<li id=\"cite_note-51\"><span class=\"mw-cite-backlink\"><a href=\"#cite_ref-51\">↑</a></span> <span class=\"reference-text\"><span class=\"citation web\"><a class=\"external text\" href=\"https://www.findagrave.com/memorial/1347\" rel=\"nofollow\">«Tumba de Carl Sagan»</a> <span style=\"color:#555;\">(en inglés)</span>. <a href=\"/wiki/Find_a_Grave\" title=\"Find a Grave\">Find a Grave</a>.</span><span class=\"Z3988\" title=\"ctx_ver=Z39.88-2004&amp;rfr_id=info%3Asid%2Fes.wikipedia.org%3ACarl+Sagan&amp;rft.btitle=Tumba+de+Carl+Sagan&amp;rft.genre=book&amp;rft.pub=Find+a+Grave&amp;rft_id=https%3A%2F%2Fwww.findagrave.com%2Fmemorial%2F1347&amp;rft_val_fmt=info%3Aofi%2Ffmt%3Akev%3Amtx%3Abook\"><span style=\"display:none;\"> </span></span></span>\n",
       "</li>\n",
       "<li id=\"cite_note-52\"><span class=\"mw-cite-backlink\"><a href=\"#cite_ref-52\">↑</a></span> <span class=\"reference-text\"><a class=\"external text\" href=\"http://www.sfcenter.ku.edu/campbell.htm\" rel=\"nofollow\">The John W. Campbell Memorial Award</a></span>\n",
       "</li>\n",
       "<li id=\"cite_note-53\"><span class=\"mw-cite-backlink\"><a href=\"#cite_ref-53\">↑</a></span> <span class=\"reference-text\"><a class=\"external text\" href=\"https://web.archive.org/web/20170208102505/http://www.thehugoawards.org/hugo-history/1981-hugo-awards/\" rel=\"nofollow\">1981 Hugo Awards</a></span>\n",
       "</li>\n",
       "<li id=\"cite_note-54\"><span class=\"mw-cite-backlink\"><a href=\"#cite_ref-54\">↑</a></span> <span class=\"reference-text\"><a class=\"external text\" href=\"http://www.astronautical.org/awards/kennedy\" rel=\"nofollow\">John F. Kennedy Astronautics Award</a></span>\n",
       "</li>\n",
       "<li id=\"cite_note-55\"><span class=\"mw-cite-backlink\"><a href=\"#cite_ref-55\">↑</a></span> <span class=\"reference-text\"><span class=\"citation web\" id=\"CITAREFThe_Planetary_Society\">The Planetary Society.  The Planetary Society, ed. <a class=\"external text\" href=\"http://www.planetary.org/about/founders/carl_sagan.html\" rel=\"nofollow\">«Carl Sagan»</a>.</span><span class=\"Z3988\" title=\"ctx_ver=Z39.88-2004&amp;rfr_id=info%3Asid%2Fes.wikipedia.org%3ACarl+Sagan&amp;rft.au=The+Planetary+Society&amp;rft.aulast=The+Planetary+Society&amp;rft.btitle=Carl+Sagan&amp;rft.genre=book&amp;rft_id=http%3A%2F%2Fwww.planetary.org%2Fabout%2Ffounders%2Fcarl_sagan.html&amp;rft_val_fmt=info%3Aofi%2Ffmt%3Akev%3Amtx%3Abook\"><span style=\"display:none;\"> </span></span></span>\n",
       "</li>\n",
       "<li id=\"cite_note-56\"><span class=\"mw-cite-backlink\"><a href=\"#cite_ref-56\">↑</a></span> <span class=\"reference-text\"><a class=\"external free\" href=\"https://web.archive.org/web/20130205135839/http://www.sciencenter.org/saganpw/\" rel=\"nofollow\">https://web.archive.org/web/20130205135839/http://www.sciencenter.org/saganpw/</a></span>\n",
       "</li>\n",
       "<li id=\"cite_note-57\"><span class=\"mw-cite-backlink\"><a href=\"#cite_ref-57\">↑</a></span> <span class=\"reference-text\">Morrison, David (2007). Man for the Cosmos: Carl Sagan's Life and Legacy as Scientist, Teacher, and Skeptic. <i><a class=\"external text\" href=\"http://www.csicop.org/si/2007-01/sagan.html\" rel=\"nofollow\">Skeptical Inquirer</a> <a class=\"external text\" href=\"https://web.archive.org/web/20090813200031/http://www.csicop.org/si/2007-01/sagan.html\" rel=\"nofollow\">Archivado</a> el 13 de agosto de 2009 en la <a href=\"/wiki/Wayback_Machine\" title=\"Wayback Machine\">Wayback Machine</a>.</i> enero/febrero, <b>31</b>(1), pp. 29–38.</span>\n",
       "</li>\n",
       "<li id=\"cite_note-58\"><span class=\"mw-cite-backlink\"><a href=\"#cite_ref-58\">↑</a></span> <span class=\"reference-text\"><span class=\"citation web\" id=\"CITAREFThe_Council_of_Scientific_Society_Presidents\">The Council of Scientific Society Presidents (ed.). <a class=\"external text\" href=\"https://web.archive.org/web/20070726075012/http://cssp.us/index.php?option=content&amp;task=view&amp;id=17&amp;Itemid=47\" rel=\"nofollow\">«Sagan Award for Public Understanding of Science»</a>. Archivado desde <a class=\"external text\" href=\"http://cssp.us/index.php?option=content&amp;task=view&amp;id=17&amp;Itemid=47\" rel=\"nofollow\">el original</a> el 26 de julio de 2007<span class=\"reference-accessdate\">. Consultado el 9 de abril de 2012</span>.</span><span class=\"Z3988\" title=\"ctx_ver=Z39.88-2004&amp;rfr_id=info%3Asid%2Fes.wikipedia.org%3ACarl+Sagan&amp;rft.btitle=Sagan+Award+for+Public+Understanding+of+Science&amp;rft.genre=book&amp;rft_id=http%3A%2F%2Fcssp.us%2Findex.php%3Foption%3Dcontent%26task%3Dview%26id%3D17%26Itemid%3D47&amp;rft_val_fmt=info%3Aofi%2Ffmt%3Akev%3Amtx%3Abook\"><span style=\"display:none;\"> </span></span></span>\n",
       "</li>\n",
       "<li id=\"cite_note-59\"><span class=\"mw-cite-backlink\"><a href=\"#cite_ref-59\">↑</a></span> <span class=\"reference-text\"><a class=\"external text\" href=\"http://joelschlosberg.blogspot.com/2006/11/announcing-carl-sagan-memorial-blog.html\" rel=\"nofollow\">Joel's humanistic blog: Announcing the Carl Sagan memorial blog-a-thon</a></span>\n",
       "</li>\n",
       "<li id=\"cite_note-60\"><span class=\"mw-cite-backlink\"><a href=\"#cite_ref-60\">↑</a></span> <span class=\"reference-text\"><span class=\"citation web\" id=\"CITAREFIigwest.com21_de_agosto_de_2010\">Iigwest.com, ed. (21 de agosto de 2010). <a class=\"external text\" href=\"http://www.iigwest.com/iigawards/2006/index.html\" rel=\"nofollow\">«IIG | The IIG Awards»</a><span class=\"reference-accessdate\">. Consultado el 9 de abril de 2012</span>.</span><span class=\"Z3988\" title=\"ctx_ver=Z39.88-2004&amp;rfr_id=info%3Asid%2Fes.wikipedia.org%3ACarl+Sagan&amp;rft.btitle=IIG+%26%23124%3B+The+IIG+Awards&amp;rft.date=21+de+agosto+de+2010&amp;rft.genre=book&amp;rft_id=http%3A%2F%2Fwww.iigwest.com%2Fiigawards%2F2006%2Findex.html&amp;rft_val_fmt=info%3Aofi%2Ffmt%3Akev%3Amtx%3Abook\"><span style=\"display:none;\"> </span></span></span>\n",
       "</li>\n",
       "<li id=\"cite_note-61\"><span class=\"mw-cite-backlink\"><a href=\"#cite_ref-61\">↑</a></span> <span class=\"reference-text\"><span class=\"citation web\"><a class=\"external text\" href=\"http://www.nme.com/news/the-white-stripes/48225\" rel=\"nofollow\">«Jack White's Third Man Records to release Stephen Hawking-featuring single – video»</a> <span style=\"color:#555;\">(en inglés)</span>. <a href=\"/wiki/NME\" title=\"NME\">NME</a>. 4 de noviembre de 2009<span class=\"reference-accessdate\">. Consultado el 9 de abril de 2012</span>.</span><span class=\"Z3988\" title=\"ctx_ver=Z39.88-2004&amp;rfr_id=info%3Asid%2Fes.wikipedia.org%3ACarl+Sagan&amp;rft.btitle=Jack+White%27s+Third+Man+Records+to+release+Stephen+Hawking-featuring+single+%E2%80%93+video&amp;rft.date=4+de+noviembre+de+2009&amp;rft.genre=book&amp;rft.pub=NME&amp;rft_id=http%3A%2F%2Fwww.nme.com%2Fnews%2Fthe-white-stripes%2F48225&amp;rft_val_fmt=info%3Aofi%2Ffmt%3Akev%3Amtx%3Abook\"><span style=\"display:none;\"> </span></span></span>\n",
       "</li>\n",
       "<li id=\"cite_note-62\"><span class=\"mw-cite-backlink\"><a href=\"#cite_ref-62\">↑</a></span> <span class=\"reference-text\">Carl Sagan – <a class=\"external text\" href=\"https://www.youtube.com/watch?v=zSgiXGELjbc\" rel=\"nofollow\">A Glorious Dawn</a></span>\n",
       "</li>\n",
       "<li id=\"cite_note-63\"><span class=\"mw-cite-backlink\"><a href=\"#cite_ref-63\">↑</a></span> <span class=\"reference-text\"><span class=\"citation noticia\" id=\"CITAREFD'Orazio30_de_noviembre_de_2014\">D'Orazio, Dante (30 de noviembre de 2014). <a class=\"external text\" href=\"https://www.theverge.com/2014/11/30/7310433/wanderers-sci-fi-short-film-imagines-when-humans-conquer-the-solar-system\" rel=\"nofollow\">«Wonderful short film imagines the day when we conquer the solar system»</a>. <i>The Verge</i><span class=\"reference-accessdate\">. Consultado el 19 de febrero de 2016</span>.</span><span class=\"Z3988\" title=\"ctx_ver=Z39.88-2004&amp;rfr_id=info%3Asid%2Fes.wikipedia.org%3ACarl+Sagan&amp;rft.atitle=Wonderful+short+film+imagines+the+day+when+we+conquer+the+solar+system&amp;rft.au=D%27Orazio%2C+Dante&amp;rft.aufirst=Dante&amp;rft.aulast=D%27Orazio&amp;rft.date=30+de+noviembre+de+2014&amp;rft.genre=article&amp;rft.jtitle=The+Verge&amp;rft_id=https%3A%2F%2Fwww.theverge.com%2F2014%2F11%2F30%2F7310433%2Fwanderers-sci-fi-short-film-imagines-when-humans-conquer-the-solar-system&amp;rft_val_fmt=info%3Aofi%2Ffmt%3Akev%3Amtx%3Ajournal\"><span style=\"display:none;\"> </span></span></span>\n",
       "</li>\n",
       "<li id=\"cite_note-64\"><span class=\"mw-cite-backlink\"><a href=\"#cite_ref-64\">↑</a></span> <span class=\"reference-text\"><span class=\"citation noticia\" id=\"CITAREFDavid1_de_diciembre_de_2014\">David, Leonard (1 de diciembre de 2014). <a class=\"external text\" href=\"http://www.space.com/27895-wanderers-science-fiction-short-film.html\" rel=\"nofollow\">«Epic Short Film 'Wanderers' Envisions Humanity's Future in Space»</a>. Space.com<span class=\"reference-accessdate\">. Consultado el 21 de febrero de 2016</span>.</span><span class=\"Z3988\" title=\"ctx_ver=Z39.88-2004&amp;rfr_id=info%3Asid%2Fes.wikipedia.org%3ACarl+Sagan&amp;rft.au=David%2C+Leonard&amp;rft.aufirst=Leonard&amp;rft.aulast=David&amp;rft.btitle=Epic+Short+Film+%27Wanderers%27+Envisions+Humanity%27s+Future+in+Space&amp;rft.date=1+de+diciembre+de+2014&amp;rft.genre=book&amp;rft.place=Space.com&amp;rft_id=http%3A%2F%2Fwww.space.com%2F27895-wanderers-science-fiction-short-film.html&amp;rft_val_fmt=info%3Aofi%2Ffmt%3Akev%3Amtx%3Abook\"><span style=\"display:none;\"> </span></span></span>\n",
       "</li>\n",
       "<li id=\"cite_note-65\"><span class=\"mw-cite-backlink\"><a href=\"#cite_ref-65\">↑</a></span> <span class=\"reference-text\"><span class=\"citation web\"><a class=\"external text\" href=\"http://www.nightwish.com/en/news?page=2\" rel=\"nofollow\">«Latest News - Nightwish – The Official Website»</a>. <i>nightwish.com</i>.</span><span class=\"Z3988\" title=\"ctx_ver=Z39.88-2004&amp;rfr_id=info%3Asid%2Fes.wikipedia.org%3ACarl+Sagan&amp;rft.atitle=Latest+News+-+Nightwish+%E2%80%93+The+Official+Website&amp;rft.genre=article&amp;rft.jtitle=nightwish.com&amp;rft_id=http%3A%2F%2Fwww.nightwish.com%2Fen%2Fnews%3Fpage%3D2&amp;rft_val_fmt=info%3Aofi%2Ffmt%3Akev%3Amtx%3Ajournal\"><span style=\"display:none;\"> </span></span></span>\n",
       "</li>\n",
       "<li id=\"cite_note-66\"><span class=\"mw-cite-backlink\"><a href=\"#cite_ref-66\">↑</a></span> <span class=\"reference-text\"><a class=\"external text\" href=\"http://www.tracking-board.com/tb-exclusive-warner-bros-heads-to-the-cosmos-with-carl-sagan-biopic/\" rel=\"nofollow\">\"WARNER BROS. HEADS TO THE COSMOS WITH CARL SAGAN BIOPIC\"</a>, <i>Tracking Board</i>, August 17, 2015</span>\n",
       "</li>\n",
       "<li id=\"cite_note-BandB-67\"><span class=\"mw-cite-backlink\">↑ <a href=\"#cite_ref-BandB_67-0\"><sup><i><b>a</b></i></sup></a> <a href=\"#cite_ref-BandB_67-1\"><sup><i><b>b</b></i></sup></a> <a href=\"#cite_ref-BandB_67-2\"><sup><i><b>c</b></i></sup></a></span> <span class=\"reference-text\"><span class=\"citation libro\" id=\"CITAREFSagan1998\">Sagan, Carl; p. 3-4 (1998).  Ballantine Books, ed. <i><a class=\"new\" href=\"/w/index.php?title=Billions_and_Billions:_Thoughts_on_Life_and_Death_at_the_Brink_of_the_Millennium&amp;action=edit&amp;redlink=1\" title=\"Billions and Billions: Thoughts on Life and Death at the Brink of the Millennium (aún no redactado)\">Billions and Billions</a></i>. <small><a href=\"/wiki/ISBN\" title=\"ISBN\">ISBN</a> <a href=\"/wiki/Especial:FuentesDeLibros/0-345-37918-7\" title=\"Especial:FuentesDeLibros/0-345-37918-7\">0-345-37918-7</a></small>.</span><span class=\"Z3988\" title=\"ctx_ver=Z39.88-2004&amp;rfr_id=info%3Asid%2Fes.wikipedia.org%3ACarl+Sagan&amp;rft.au=Sagan%2C+Carl&amp;rft.aufirst=Carl&amp;rft.aulast=Sagan&amp;rft.btitle=Billions+and+Billions&amp;rft.date=1998&amp;rft.genre=book&amp;rft.isbn=0-345-37918-7&amp;rft_val_fmt=info%3Aofi%2Ffmt%3Akev%3Amtx%3Abook\"><span style=\"display:none;\"> </span></span> <span class=\"error citation-comment\" style=\"display:none;font-size:100%\">La referencia utiliza el parámetro obsoleto <code>|coautores=</code> (<a href=\"/wiki/Ayuda:Errores_en_las_referencias#deprecated_params\" title=\"Ayuda:Errores en las referencias\">ayuda</a>)</span></span>\n",
       "</li>\n",
       "<li id=\"cite_note-68\"><span class=\"mw-cite-backlink\"><a href=\"#cite_ref-68\">↑</a></span> <span class=\"reference-text\"><span class=\"citation enciclopedia\" id=\"CITAREFFred_R._Shapiro_y_Joseph_Epstein2006\">Fred R. Shapiro y Joseph Epstein (2006). <a class=\"external text\" href=\"https://archive.org/details/isbn_9780300107982/page/660\" rel=\"nofollow\">«Carl Sagan»</a>.  En <a href=\"/wiki/Yale_University_Press\" title=\"Yale University Press\">Yale University Press</a>, ed. <i>The Yale Book of Quotations</i>. pp. <a class=\"external text\" href=\"https://archive.org/details/isbn_9780300107982/page/660\" rel=\"nofollow\">660</a>. <small><a href=\"/wiki/ISBN\" title=\"ISBN\">ISBN</a> <a href=\"/wiki/Especial:FuentesDeLibros/9780300107982\" title=\"Especial:FuentesDeLibros/9780300107982\">9780300107982</a></small>.</span><span class=\"Z3988\" title=\"ctx_ver=Z39.88-2004&amp;rfr_id=info%3Asid%2Fes.wikipedia.org%3ACarl+Sagan&amp;rft.atitle=The+Yale+Book+of+Quotations&amp;rft.au=Fred+R.+Shapiro+y+Joseph+Epstein&amp;rft.aulast=Fred+R.+Shapiro+y+Joseph+Epstein&amp;rft.btitle=Carl+Sagan&amp;rft.date=2006&amp;rft.genre=bookitem&amp;rft.isbn=9780300107982&amp;rft.pages=https%3A%2F%2Farchive.org%2Fdetails%2Fisbn_9780300107982%2Fpage%2F660+660&amp;rft_id=https%3A%2F%2Farchive.org%2Fdetails%2Fisbn_9780300107982%2Fpage%2F660&amp;rft_val_fmt=info%3Aofi%2Ffmt%3Akev%3Amtx%3Abook\"><span style=\"display:none;\"> </span></span></span>\n",
       "</li>\n",
       "<li id=\"cite_note-69\"><span class=\"mw-cite-backlink\"><a href=\"#cite_ref-69\">↑</a></span> <span class=\"reference-text\"><span class=\"citation web\" id=\"CITAREFThe_Committee_for_Skeptical_Inquiry26_de_junio_de_1994\">The Committee for Skeptical Inquiry, ed. (26 de junio de 1994). <a class=\"external text\" href=\"https://web.archive.org/web/20161221054208/http://www.csicop.org/si/show/carl_sagan_takes_questions\" rel=\"nofollow\">«Carl Sagan Takes Questions: More From His 'Wonder and Skepticism' CSICOP 1994 Keynote»</a>. Archivado desde <a class=\"external text\" href=\"http://www.csicop.org/si/show/carl_sagan_takes_questions\" rel=\"nofollow\">el original</a> el 21 de diciembre de 2016<span class=\"reference-accessdate\">. Consultado el 25 de marzo de 2010</span>.</span><span class=\"Z3988\" title=\"ctx_ver=Z39.88-2004&amp;rfr_id=info%3Asid%2Fes.wikipedia.org%3ACarl+Sagan&amp;rft.btitle=Carl+Sagan+Takes+Questions%3A+More+From+His+%27Wonder+and+Skepticism%27+CSICOP+1994+Keynote&amp;rft.date=26+de+junio+de+1994&amp;rft.genre=book&amp;rft_id=http%3A%2F%2Fwww.csicop.org%2Fsi%2Fshow%2Fcarl_sagan_takes_questions&amp;rft_val_fmt=info%3Aofi%2Ffmt%3Akev%3Amtx%3Abook\"><span style=\"display:none;\"> </span></span></span>\n",
       "</li>\n",
       "<li id=\"cite_note-70\"><span class=\"mw-cite-backlink\"><a href=\"#cite_ref-70\">↑</a></span> <span class=\"reference-text\"><a class=\"external text\" href=\"http://dictionary.reference.com/browse/sagan\" rel=\"nofollow\">sagan</a> en dictionary.reference.com (definición extraída del <a href=\"/wiki/Jargon_File\" title=\"Jargon File\">Jargon File</a>)</span>\n",
       "</li>\n",
       "<li id=\"cite_note-71\"><span class=\"mw-cite-backlink\"><a href=\"#cite_ref-71\">↑</a></span> <span class=\"reference-text\"><a href=\"/wiki/William_Safire\" title=\"William Safire\">William Safire</a>, <a class=\"external text\" href=\"http://query.nytimes.com/gst/fullpage.html?res=9507E3DF143EF934A25757C0A962958260\" rel=\"nofollow\">ON LANGUAGE; Footprints on the Infobahn</a>, <i><a class=\"mw-redirect\" href=\"/wiki/New_York_Times\" title=\"New York Times\">New York Times</a></i>, 17 de abril de 1994</span>\n",
       "</li>\n",
       "<li id=\"cite_note-72\"><span class=\"mw-cite-backlink\"><a href=\"#cite_ref-72\">↑</a></span> <span class=\"reference-text\"><span class=\"citation web\" id=\"CITAREFThe_Science_Channel\">The Science Channel (ed.). <a class=\"external text\" href=\"https://web.archive.org/web/20120229134215/http://science.discovery.com/convergence/cosmos/bio/bio.html?clik=fsmain_feat3\" rel=\"nofollow\">«Meet Dr. Carl Sagan»</a>. Archivado desde <a class=\"external text\" href=\"http://science.discovery.com/convergence/cosmos/bio/bio.html?clik=fsmain_feat3\" rel=\"nofollow\">el original</a> el 29 de febrero de 2012<span class=\"reference-accessdate\">. Consultado el 23 de febrero de 2012</span>.</span><span class=\"Z3988\" title=\"ctx_ver=Z39.88-2004&amp;rfr_id=info%3Asid%2Fes.wikipedia.org%3ACarl+Sagan&amp;rft.btitle=Meet+Dr.+Carl+Sagan&amp;rft.genre=book&amp;rft_id=http%3A%2F%2Fscience.discovery.com%2Fconvergence%2Fcosmos%2Fbio%2Fbio.html%3Fclik%3Dfsmain_feat3&amp;rft_val_fmt=info%3Aofi%2Ffmt%3Akev%3Amtx%3Abook\"><span style=\"display:none;\"> </span></span></span>\n",
       "</li>\n",
       "<li id=\"cite_note-73\"><span class=\"mw-cite-backlink\"><a href=\"#cite_ref-73\">↑</a></span> <span class=\"reference-text\"><span class=\"citation entrevista\" id=\"CITAREFSagan5_de_enero_de_1995\">Sagan, Carl (5 de enero de 1995). <a class=\"external text\" href=\"https://web.archive.org/web/20120105125348/http://video.google.com/videoplay?docid=-1127834163386485385#2370s\" rel=\"nofollow\"><i>Carl Sagan, Astronomer: Author of Pale Blue Dot: A Vision of the Human Future in Space</i></a> <span style=\"color:#555;\">(.SWF)</span>. Entrevista con Charlie Rose. Nueva York.  Charlie Rose. PBS. Archivado desde <a class=\"external text\" href=\"http://video.google.com/videoplay?docid=-1127834163386485385\" rel=\"nofollow\">el original</a> el 5 de enero de 2012<span class=\"reference-accessdate\">. Consultado el 23 de febrero de 2012</span>.</span><span class=\"Z3988\" title=\"ctx_ver=Z39.88-2004&amp;rfr_id=info%3Asid%2Fes.wikipedia.org%3ACarl+Sagan&amp;rft.au=Sagan%2C+Carl&amp;rft.aufirst=Carl&amp;rft.aulast=Sagan&amp;rft.btitle=Carl+Sagan%2C+Astronomer%3A+Author+of+Pale+Blue+Dot%3A+A+Vision+of+the+Human+Future+in+Space&amp;rft.date=5+de+enero+de+1995&amp;rft.genre=book&amp;rft.place=Nueva+York&amp;rft_id=http%3A%2F%2Fvideo.google.com%2Fvideoplay%3Fdocid%3D-1127834163386485385&amp;rft_val_fmt=info%3Aofi%2Ffmt%3Akev%3Amtx%3Abook\"><span style=\"display:none;\"> </span></span> comienza en el minuto 00:39:29</span>\n",
       "</li>\n",
       "<li id=\"cite_note-74\"><span class=\"mw-cite-backlink\"><a href=\"#cite_ref-74\">↑</a></span> <span class=\"reference-text\"><span class=\"citation web\" id=\"CITAREFCosmoLearning\">CosmoLearning (ed.). <a class=\"external text\" href=\"http://www.cosmolearning.com/documentaries/cosmos/\" rel=\"nofollow\">«CosmoLearning Astronomy»</a><span class=\"reference-accessdate\">. Consultado el 23 de febrero de 2012</span>.</span><span class=\"Z3988\" title=\"ctx_ver=Z39.88-2004&amp;rfr_id=info%3Asid%2Fes.wikipedia.org%3ACarl+Sagan&amp;rft.btitle=CosmoLearning+Astronomy&amp;rft.genre=book&amp;rft_id=http%3A%2F%2Fwww.cosmolearning.com%2Fdocumentaries%2Fcosmos%2F&amp;rft_val_fmt=info%3Aofi%2Ffmt%3Akev%3Amtx%3Abook\"><span style=\"display:none;\"> </span></span></span>\n",
       "</li>\n",
       "<li id=\"cite_note-75\"><span class=\"mw-cite-backlink\"><a href=\"#cite_ref-75\">↑</a></span> <span class=\"reference-text\"><a class=\"external text\" href=\"http://www.time.com/time/magazine/article/0,9171,951539,00.html\" rel=\"nofollow\"><i>Time</i> <span style=\"background-color: rgb(255, 145, 145);\" title=\"magacín, magazín\">magazine</span></a>, portada, 20 de octubre de 1980</span>\n",
       "</li>\n",
       "<li id=\"cite_note-76\"><span class=\"mw-cite-backlink\"><a href=\"#cite_ref-76\">↑</a></span> <span class=\"reference-text\"><span class=\"citation web\" id=\"CITAREFPineda21_de_octubre_de_2011\">Pineda, Oscar (21 de octubre de 2011). <a class=\"external text\" href=\"https://web.archive.org/web/20130826034000/http://www.guatemalasecular.org/blogs/2011/10/21/el-efecto-sagan/\" rel=\"nofollow\">«El \"efecto Sagan<span style=\"padding-right:0.2em;\">\"</span>»</a>. <i>Guatemala Secular</i>. Archivado desde <a class=\"external text\" href=\"http://www.guatemalasecular.org/blogs/2011/10/21/el-efecto-sagan/\" rel=\"nofollow\">el original</a> el 26 de agosto de 2013<span class=\"reference-accessdate\">. Consultado el 20 de diciembre de 2017</span>. «Si esto no confirma la harta razón que tenía Einstein cuando dijo que “Aquellos que tienen el privilegio de saber, tienen la obligación de actuar”, no se que lo haría.»</span><span class=\"Z3988\" title=\"ctx_ver=Z39.88-2004&amp;rfr_id=info%3Asid%2Fes.wikipedia.org%3ACarl+Sagan&amp;rft.atitle=El+%22efecto+Sagan%22&amp;rft.au=Pineda%2C+Oscar&amp;rft.aufirst=Oscar&amp;rft.aulast=Pineda&amp;rft.date=21+de+octubre+de+2011&amp;rft.genre=article&amp;rft.jtitle=Guatemala+Secular&amp;rft_id=http%3A%2F%2Fwww.guatemalasecular.org%2Fblogs%2F2011%2F10%2F21%2Fel-efecto-sagan%2F&amp;rft_val_fmt=info%3Aofi%2Ffmt%3Akev%3Amtx%3Ajournal\"><span style=\"display:none;\"> </span></span></span>\n",
       "</li>\n",
       "<li id=\"cite_note-77\"><span class=\"mw-cite-backlink\"><a href=\"#cite_ref-77\">↑</a></span> <span class=\"reference-text\"><span style=\"background-color: rgb(255, 145, 145);\" title=\"Martínez\">Martinez</span>-Conde, S.; Powell, D. y Macknik, S. (2016) «Las cuitas del científico divulgador». <i>Investigación y Ciencia</i>, <b>483</b> (diciembre): 76-79</span>\n",
       "</li>\n",
       "<li id=\"cite_note-AGloriousDawn-78\"><span class=\"mw-cite-backlink\"><a href=\"#cite_ref-AGloriousDawn_78-0\">↑</a></span> <span class=\"reference-text\"><span class=\"citation web\" id=\"CITAREFBoswell17_de_septiembre_de_2009\">Boswell, John D. (17 de septiembre de 2009). <a class=\"external text\" href=\"https://www.youtube.com/watch?v=zSgiXGELjbc\" rel=\"nofollow\">«A Glorious Dawn»</a>. <i>Symphony of Science</i> <span style=\"color:#555;\">(en inglés - subtítulos en español)</span>. melodysheep<span class=\"reference-accessdate\">. Consultado el 2 de enero de 2018</span>.</span><span class=\"Z3988\" title=\"ctx_ver=Z39.88-2004&amp;rfr_id=info%3Asid%2Fes.wikipedia.org%3ACarl+Sagan&amp;rft.atitle=A+Glorious+Dawn&amp;rft.au=Boswell%2C+John+D.&amp;rft.aufirst=John+D.&amp;rft.aulast=Boswell&amp;rft.date=17+de+septiembre+de+2009&amp;rft.genre=article&amp;rft.jtitle=Symphony+of+Science&amp;rft.pub=melodysheep&amp;rft_id=https%3A%2F%2Fwww.youtube.com%2Fwatch%3Fv%3DzSgiXGELjbc&amp;rft_val_fmt=info%3Aofi%2Ffmt%3Akev%3Amtx%3Ajournal\"><span style=\"display:none;\"> </span></span></span>\n",
       "</li>\n",
       "<li id=\"cite_note-Weareallconected-79\"><span class=\"mw-cite-backlink\"><a href=\"#cite_ref-Weareallconected_79-0\">↑</a></span> <span class=\"reference-text\"><span class=\"citation web\" id=\"CITAREFBoswell19_de_octubre_de_2009\">Boswell, John D. (19 de octubre de 2009). <a class=\"external text\" href=\"https://www.youtube.com/watch?v=XGK84Poeynk\" rel=\"nofollow\">«We are all conected»</a> <span style=\"color:#555;\">(en inglés - subtítulos en español)</span>. melodysheep<span class=\"reference-accessdate\">. Consultado el 2 de enero de 2018</span>.</span><span class=\"Z3988\" title=\"ctx_ver=Z39.88-2004&amp;rfr_id=info%3Asid%2Fes.wikipedia.org%3ACarl+Sagan&amp;rft.au=Boswell%2C+John+D.&amp;rft.aufirst=John+D.&amp;rft.aulast=Boswell&amp;rft.btitle=We+are+all+conected&amp;rft.date=19+de+octubre+de+2009&amp;rft.genre=book&amp;rft.pub=melodysheep&amp;rft_id=https%3A%2F%2Fwww.youtube.com%2Fwatch%3Fv%3DXGK84Poeynk&amp;rft_val_fmt=info%3Aofi%2Ffmt%3Akev%3Amtx%3Abook\"><span style=\"display:none;\"> </span></span></span>\n",
       "</li>\n",
       "<li id=\"cite_note-OurplaceintheCosmos-80\"><span class=\"mw-cite-backlink\"><a href=\"#cite_ref-OurplaceintheCosmos_80-0\">↑</a></span> <span class=\"reference-text\"><span class=\"citation web\" id=\"CITAREFBoswell23_de_noviembre_de_2009\">Boswell, John D. (23 de noviembre de 2009). <a class=\"external text\" href=\"https://www.youtube.com/watch?v=vioZf4TjoUI\" rel=\"nofollow\">«Our place in the Cosmos»</a>. <i>Symphony of Science</i> <span style=\"color:#555;\">(en inglés - subtítulos en español)</span>. melodysheep<span class=\"reference-accessdate\">. Consultado el 2 de enero de 2018</span>.</span><span class=\"Z3988\" title=\"ctx_ver=Z39.88-2004&amp;rfr_id=info%3Asid%2Fes.wikipedia.org%3ACarl+Sagan&amp;rft.atitle=Our+place+in+the+Cosmos&amp;rft.au=Boswell%2C+John+D.&amp;rft.aufirst=John+D.&amp;rft.aulast=Boswell&amp;rft.date=23+de+noviembre+de+2009&amp;rft.genre=article&amp;rft.jtitle=Symphony+of+Science&amp;rft.pub=melodysheep&amp;rft_id=https%3A%2F%2Fwww.youtube.com%2Fwatch%3Fv%3DvioZf4TjoUI&amp;rft_val_fmt=info%3Aofi%2Ffmt%3Akev%3Amtx%3Ajournal\"><span style=\"display:none;\"> </span></span></span>\n",
       "</li>\n",
       "<li id=\"cite_note-TheUnbrokenThread-81\"><span class=\"mw-cite-backlink\"><a href=\"#cite_ref-TheUnbrokenThread_81-0\">↑</a></span> <span class=\"reference-text\"><span class=\"citation web\" id=\"CITAREFBoswell6_de_enero_de_2010\">Boswell, John D. (6 de enero de 2010). <a class=\"external text\" href=\"https://www.youtube.com/watch?v=hOLAGYmUQV0\" rel=\"nofollow\">«The Unbroken Thread»</a>. <i>Symphony of Science</i> <span style=\"color:#555;\">(en inglés - subtítulos en español)</span>. melodysheep<span class=\"reference-accessdate\">. Consultado el 2 de enero de 2018</span>.</span><span class=\"Z3988\" title=\"ctx_ver=Z39.88-2004&amp;rfr_id=info%3Asid%2Fes.wikipedia.org%3ACarl+Sagan&amp;rft.atitle=The+Unbroken+Thread&amp;rft.au=Boswell%2C+John+D.&amp;rft.aufirst=John+D.&amp;rft.aulast=Boswell&amp;rft.date=6+de+enero+de+2010&amp;rft.genre=article&amp;rft.jtitle=Symphony+of+Science&amp;rft.pub=melodysheep&amp;rft_id=https%3A%2F%2Fwww.youtube.com%2Fwatch%3Fv%3DhOLAGYmUQV0&amp;rft_val_fmt=info%3Aofi%2Ffmt%3Akev%3Amtx%3Ajournal\"><span style=\"display:none;\"> </span></span></span>\n",
       "</li>\n",
       "<li id=\"cite_note-ThePoetryofReality-82\"><span class=\"mw-cite-backlink\"><a href=\"#cite_ref-ThePoetryofReality_82-0\">↑</a></span> <span class=\"reference-text\"><span class=\"citation web\" id=\"CITAREFBoswell25_de_febrero_de_2010\">Boswell, John D. (25 de febrero de 2010). <a class=\"external text\" href=\"https://www.youtube.com/watch?v=9Cd36WJ79z4\" rel=\"nofollow\">«The Poetry of Reality (An Anthem for Science)»</a>. <i>Symphony of Science</i> <span style=\"color:#555;\">(en inglés - subtítulos en español)</span>. melodysheep<span class=\"reference-accessdate\">. Consultado el 2 de enero de 2018</span>.</span><span class=\"Z3988\" title=\"ctx_ver=Z39.88-2004&amp;rfr_id=info%3Asid%2Fes.wikipedia.org%3ACarl+Sagan&amp;rft.atitle=The+Poetry+of+Reality+%28An+Anthem+for+Science%29&amp;rft.au=Boswell%2C+John+D.&amp;rft.aufirst=John+D.&amp;rft.aulast=Boswell&amp;rft.date=25+de+febrero+de+2010&amp;rft.genre=article&amp;rft.jtitle=Symphony+of+Science&amp;rft.pub=melodysheep&amp;rft_id=https%3A%2F%2Fwww.youtube.com%2Fwatch%3Fv%3D9Cd36WJ79z4&amp;rft_val_fmt=info%3Aofi%2Ffmt%3Akev%3Amtx%3Ajournal\"><span style=\"display:none;\"> </span></span></span>\n",
       "</li>\n",
       "<li id=\"cite_note-TheCaseofMars-83\"><span class=\"mw-cite-backlink\"><a href=\"#cite_ref-TheCaseofMars_83-0\">↑</a></span> <span class=\"reference-text\"><span class=\"citation web\" id=\"CITAREFBoswell3_de_junio_de_2010\">Boswell, John D. (3 de junio de 2010). <a class=\"external text\" href=\"https://www.youtube.com/watch?v=BZ5sWfhkpE0\" rel=\"nofollow\">«The Case of Mars»</a>. <i>Symphony of Science</i> <span style=\"color:#555;\">(en inglés - subtítulos en español)</span>. melodysheep<span class=\"reference-accessdate\">. Consultado el 2 de enero de 2018</span>.</span><span class=\"Z3988\" title=\"ctx_ver=Z39.88-2004&amp;rfr_id=info%3Asid%2Fes.wikipedia.org%3ACarl+Sagan&amp;rft.atitle=The+Case+of+Mars&amp;rft.au=Boswell%2C+John+D.&amp;rft.aufirst=John+D.&amp;rft.aulast=Boswell&amp;rft.date=3+de+junio+de+2010&amp;rft.genre=article&amp;rft.jtitle=Symphony+of+Science&amp;rft.pub=melodysheep&amp;rft_id=https%3A%2F%2Fwww.youtube.com%2Fwatch%3Fv%3DBZ5sWfhkpE0&amp;rft_val_fmt=info%3Aofi%2Ffmt%3Akev%3Amtx%3Ajournal\"><span style=\"display:none;\"> </span></span></span>\n",
       "</li>\n",
       "<li id=\"cite_note-AWaveofReason-84\"><span class=\"mw-cite-backlink\"><a href=\"#cite_ref-AWaveofReason_84-0\">↑</a></span> <span class=\"reference-text\"><span class=\"citation web\" id=\"CITAREFBoswell22_de_noviembre_de_2010\">Boswell, John D. (22 de noviembre de 2010). <a class=\"external text\" href=\"https://www.youtube.com/watch?v=1PT90dAA49Q\" rel=\"nofollow\">«A Wave of Reason»</a>. <i>Symphony of Science</i> <span style=\"color:#555;\">(en inglés - subtítulos en español)</span>. melodysheep<span class=\"reference-accessdate\">. Consultado el 2 de enero de 2018</span>.</span><span class=\"Z3988\" title=\"ctx_ver=Z39.88-2004&amp;rfr_id=info%3Asid%2Fes.wikipedia.org%3ACarl+Sagan&amp;rft.atitle=A+Wave+of+Reason&amp;rft.au=Boswell%2C+John+D.&amp;rft.aufirst=John+D.&amp;rft.aulast=Boswell&amp;rft.date=22+de+noviembre+de+2010&amp;rft.genre=article&amp;rft.jtitle=Symphony+of+Science&amp;rft.pub=melodysheep&amp;rft_id=https%3A%2F%2Fwww.youtube.com%2Fwatch%3Fv%3D1PT90dAA49Q&amp;rft_val_fmt=info%3Aofi%2Ffmt%3Akev%3Amtx%3Ajournal\"><span style=\"display:none;\"> </span></span></span>\n",
       "</li>\n",
       "<li id=\"cite_note-TheBigBegining-85\"><span class=\"mw-cite-backlink\"><a href=\"#cite_ref-TheBigBegining_85-0\">↑</a></span> <span class=\"reference-text\"><span class=\"citation web\" id=\"CITAREFBoswell20_de_enero_de_2011\">Boswell, John D. (20 de enero de 2011). <a class=\"external text\" href=\"https://www.youtube.com/watch?v=1HBkZPyfpdE\" rel=\"nofollow\">«The Big Begining»</a>. <i>Symphony of Science</i> <span style=\"color:#555;\">(en inglés - subtítulos en español)</span>. melodysheep<span class=\"reference-accessdate\">. Consultado el 2 de enero de 2018</span>.</span><span class=\"Z3988\" title=\"ctx_ver=Z39.88-2004&amp;rfr_id=info%3Asid%2Fes.wikipedia.org%3ACarl+Sagan&amp;rft.atitle=The+Big+Begining&amp;rft.au=Boswell%2C+John+D.&amp;rft.aufirst=John+D.&amp;rft.aulast=Boswell&amp;rft.date=20+de+enero+de+2011&amp;rft.genre=article&amp;rft.jtitle=Symphony+of+Science&amp;rft.pub=melodysheep&amp;rft_id=https%3A%2F%2Fwww.youtube.com%2Fwatch%3Fv%3D1HBkZPyfpdE&amp;rft_val_fmt=info%3Aofi%2Ffmt%3Akev%3Amtx%3Ajournal\"><span style=\"display:none;\"> </span></span></span>\n",
       "</li>\n",
       "<li id=\"cite_note-OdetotheBrain-86\"><span class=\"mw-cite-backlink\"><a href=\"#cite_ref-OdetotheBrain_86-0\">↑</a></span> <span class=\"reference-text\"><span class=\"citation web\" id=\"CITAREFBoswell23_de_marzo_de_2011\">Boswell, John D. (23 de marzo de 2011). <a class=\"external text\" href=\"https://www.youtube.com/watch?v=JB7jSFeVz1U\" rel=\"nofollow\">«Ode to the Brain»</a>. <i>Symphony of Science</i> <span style=\"color:#555;\">(en inglés - subtítulos en español)</span>. melodysheep<span class=\"reference-accessdate\">. Consultado el 2 de enero de 2018</span>.</span><span class=\"Z3988\" title=\"ctx_ver=Z39.88-2004&amp;rfr_id=info%3Asid%2Fes.wikipedia.org%3ACarl+Sagan&amp;rft.atitle=Ode+to+the+Brain&amp;rft.au=Boswell%2C+John+D.&amp;rft.aufirst=John+D.&amp;rft.aulast=Boswell&amp;rft.date=23+de+marzo+de+2011&amp;rft.genre=article&amp;rft.jtitle=Symphony+of+Science&amp;rft.pub=melodysheep&amp;rft_id=https%3A%2F%2Fwww.youtube.com%2Fwatch%3Fv%3DJB7jSFeVz1U&amp;rft_val_fmt=info%3Aofi%2Ffmt%3Akev%3Amtx%3Ajournal\"><span style=\"display:none;\"> </span></span></span>\n",
       "</li>\n",
       "<li id=\"cite_note-BeyondtheHorizon-87\"><span class=\"mw-cite-backlink\"><a href=\"#cite_ref-BeyondtheHorizon_87-0\">↑</a></span> <span class=\"reference-text\"><span class=\"citation web\" id=\"CITAREFBoswell24_de_octubre_de_2015\">Boswell, John D. (24 de octubre de 2015). <a class=\"external text\" href=\"https://www.youtube.com/watch?v=tKjbHv_0KKY\" rel=\"nofollow\">«Beyond the Horizon»</a>. <i>Symphony of Science</i> <span style=\"color:#555;\">(en inglés - subtítulos en español)</span>. melodysheep<span class=\"reference-accessdate\">. Consultado el 2 de enero de 2018</span>.</span><span class=\"Z3988\" title=\"ctx_ver=Z39.88-2004&amp;rfr_id=info%3Asid%2Fes.wikipedia.org%3ACarl+Sagan&amp;rft.atitle=Beyond+the+Horizon&amp;rft.au=Boswell%2C+John+D.&amp;rft.aufirst=John+D.&amp;rft.aulast=Boswell&amp;rft.date=24+de+octubre+de+2015&amp;rft.genre=article&amp;rft.jtitle=Symphony+of+Science&amp;rft.pub=melodysheep&amp;rft_id=https%3A%2F%2Fwww.youtube.com%2Fwatch%3Fv%3DtKjbHv_0KKY&amp;rft_val_fmt=info%3Aofi%2Ffmt%3Akev%3Amtx%3Ajournal\"><span style=\"display:none;\"> </span></span></span>\n",
       "</li>\n",
       "</ol></div>\n",
       "<h2><span id=\"Bibliograf.C3.ADa\"></span><span class=\"mw-headline\" id=\"Bibliografía\">Bibliografía</span><span class=\"mw-editsection\"><span class=\"mw-editsection-bracket\">[</span><a href=\"/w/index.php?title=Carl_Sagan&amp;action=edit&amp;section=31\" title=\"Editar sección: Bibliografía\">editar</a><span class=\"mw-editsection-bracket\">]</span></span></h2>\n",
       "<ul><li>Davidson, Keay, <i>Carl Sagan: Una vida</i>. John Wiley &amp; Sons, 31 de agosto de 2000, <a class=\"internal mw-magiclink-isbn\" href=\"/wiki/Especial:FuentesDeLibros/0471395366\">ISBN 0-471-39536-6</a>, 560 p.</li>\n",
       "<li>Terzian, Yervant y Elizabeth Bilson (eds.), <i>El Universo de Carl Sagan</i>. Cambridge University Press, 1997, ISSN 052157286X</li></ul>\n",
       "<h2><span class=\"mw-headline\" id=\"Enlaces_externos\">Enlaces externos</span><span class=\"mw-editsection\"><span class=\"mw-editsection-bracket\">[</span><a href=\"/w/index.php?title=Carl_Sagan&amp;action=edit&amp;section=32\" title=\"Editar sección: Enlaces externos\">editar</a><span class=\"mw-editsection-bracket\">]</span></span></h2>\n",
       "<ul><li><img alt=\"\" data-file-height=\"1376\" data-file-width=\"1024\" decoding=\"async\" height=\"20\" src=\"//upload.wikimedia.org/wikipedia/commons/thumb/4/4a/Commons-logo.svg/15px-Commons-logo.svg.png\" srcset=\"//upload.wikimedia.org/wikipedia/commons/thumb/4/4a/Commons-logo.svg/23px-Commons-logo.svg.png 1.5x, //upload.wikimedia.org/wikipedia/commons/thumb/4/4a/Commons-logo.svg/30px-Commons-logo.svg.png 2x\" width=\"15\"/> <a href=\"/wiki/Wikimedia_Commons\" title=\"Wikimedia Commons\">Wikimedia Commons</a> alberga una categoría multimedia sobre <b><a class=\"extiw\" href=\"https://commons.wikimedia.org/wiki/Category:Carl_Sagan\" title=\"commons:Category:Carl Sagan\">Carl Sagan</a></b>.</li>\n",
       "<li><img alt=\"\" data-file-height=\"330\" data-file-width=\"272\" decoding=\"async\" height=\"15\" src=\"//upload.wikimedia.org/wikipedia/commons/thumb/1/13/Spanish_Wikiquote.SVG/12px-Spanish_Wikiquote.SVG.png\" srcset=\"//upload.wikimedia.org/wikipedia/commons/thumb/1/13/Spanish_Wikiquote.SVG/19px-Spanish_Wikiquote.SVG.png 1.5x, //upload.wikimedia.org/wikipedia/commons/thumb/1/13/Spanish_Wikiquote.SVG/25px-Spanish_Wikiquote.SVG.png 2x\" width=\"12\"/> <a href=\"/wiki/Wikiquote\" title=\"Wikiquote\">Wikiquote</a> alberga frases célebres de o sobre <b><a class=\"extiw\" href=\"https://es.wikiquote.org/wiki/Carl_Sagan\" title=\"q:Carl Sagan\">Carl Sagan</a></b>.</li>\n",
       "<li><a class=\"external text\" href=\"http://www.carlsagan.com\" rel=\"nofollow\">Sitio web oficial</a> <span style=\"color:#555;\">(en inglés)</span></li>\n",
       "<li><a class=\"external text\" href=\"http://antwrp.gsfc.nasa.gov/apod/ap961226.html\" rel=\"nofollow\"><i>Astronomy Picture of the Day</i></a>, foto homenaje a Carl Sagan de la NASA en tamaño grande (<a href=\"/wiki/26_de_diciembre\" title=\"26 de diciembre\">26 de diciembre</a> de <a href=\"/wiki/1996\" title=\"1996\">1996</a>) <span style=\"color:#555;\">(en inglés)</span></li>\n",
       "<li>Entrevista con <a href=\"/wiki/Ted_Turner\" title=\"Ted Turner\">Ted Turner</a> en 1989 o 1990 <a class=\"external text\" href=\"https://www.youtube.com/watch?v=A_b6AXfnoCI\" rel=\"nofollow\">YouTube</a></li>\n",
       "<li>Última entrevista (27 de mayo de 1996) <a class=\"external text\" href=\"https://www.youtube.com/watch?v=_P7H6B6zYeE\" rel=\"nofollow\">YouTube</a></li>\n",
       "<li>Biografía en <a class=\"mw-redirect\" href=\"/wiki/A%26E\" title=\"A&amp;E\">A&amp;E</a> parcialmente doblada y subtitulada <a class=\"external text\" href=\"https://www.youtube.com/watch?v=P1rZWMJPQN8\" rel=\"nofollow\">YouTube</a></li>\n",
       "<li><a class=\"external text\" href=\"http://www.historiasdelaciencia.com/?p=376\" rel=\"nofollow\">Carl Sagan según su hijo</a></li>\n",
       "<li><a class=\"external text\" href=\"https://biblioweb.sindominio.net/escepticos/sagan.pdf\" rel=\"nofollow\"><i>La carga del escepticismo</i></a></li></ul>\n",
       "<style data-mw-deduplicate=\"TemplateStyles:r118746331\">.mw-parser-output .mw-authority-control{margin-top:1.5em}.mw-parser-output .mw-authority-control .navbox hr:last-child{display:none}.mw-parser-output .mw-authority-control .navbox+.mw-mf-linked-projects{display:none}.mw-parser-output .mw-authority-control .mw-mf-linked-projects{display:flex;padding:0.5em;border:1px solid #c8ccd1;background-color:#eaecf0;color:#222222}.mw-parser-output .mw-authority-control .mw-mf-linked-projects ul li{margin-bottom:0}</style><div class=\"mw-authority-control\"><div aria-label=\"Navbox\" class=\"navbox\" role=\"navigation\" style=\"width: inherit;padding:3px\"><table class=\"hlist navbox-inner\" style=\"border-spacing:0;background:transparent;color:inherit\"><tbody><tr><th class=\"navbox-group\" scope=\"row\" style=\"width: 12%; text-align:center;\"><a href=\"/wiki/Ayuda:Control_de_autoridades\" title=\"Ayuda:Control de autoridades\">Control de autoridades</a></th><td class=\"navbox-list navbox-odd\" style=\"text-align:left;border-left-width:2px;border-left-style:solid;width:100%;padding:0px\"><div style=\"padding:0em 0.25em\">\n",
       "<ul><li><b>Proyectos Wikimedia</b></li>\n",
       "<li><span style=\"white-space:nowrap;\"><a href=\"/wiki/Wikidata\" title=\"Wikidata\"><img alt=\"Wd\" data-file-height=\"590\" data-file-width=\"1050\" decoding=\"async\" height=\"11\" src=\"//upload.wikimedia.org/wikipedia/commons/thumb/f/ff/Wikidata-logo.svg/20px-Wikidata-logo.svg.png\" srcset=\"//upload.wikimedia.org/wikipedia/commons/thumb/f/ff/Wikidata-logo.svg/30px-Wikidata-logo.svg.png 1.5x, //upload.wikimedia.org/wikipedia/commons/thumb/f/ff/Wikidata-logo.svg/40px-Wikidata-logo.svg.png 2x\" width=\"20\"/></a> Datos:</span> <span class=\"uid\"><a class=\"extiw\" href=\"https://www.wikidata.org/wiki/Q410\" title=\"wikidata:Q410\">Q410</a></span></li>\n",
       "<li><span style=\"white-space:nowrap;\"><a href=\"/wiki/Wikimedia_Commons\" title=\"Commonscat\"><img alt=\"Commonscat\" data-file-height=\"1376\" data-file-width=\"1024\" decoding=\"async\" height=\"20\" src=\"//upload.wikimedia.org/wikipedia/commons/thumb/4/4a/Commons-logo.svg/15px-Commons-logo.svg.png\" srcset=\"//upload.wikimedia.org/wikipedia/commons/thumb/4/4a/Commons-logo.svg/23px-Commons-logo.svg.png 1.5x, //upload.wikimedia.org/wikipedia/commons/thumb/4/4a/Commons-logo.svg/30px-Commons-logo.svg.png 2x\" width=\"15\"/></a> Multimedia:</span> <span class=\"uid\"><span class=\"plainlinks\"><a class=\"external text\" href=\"https://commons.wikimedia.org/wiki/Category:Carl_Sagan\">Carl Sagan</a></span></span></li>\n",
       "<li><span style=\"white-space:nowrap;\"><a href=\"/wiki/Wikiquote\" title=\"Wikiquote\"><img alt=\"Wikiquote\" data-file-height=\"355\" data-file-width=\"300\" decoding=\"async\" height=\"18\" src=\"//upload.wikimedia.org/wikipedia/commons/thumb/f/fa/Wikiquote-logo.svg/15px-Wikiquote-logo.svg.png\" srcset=\"//upload.wikimedia.org/wikipedia/commons/thumb/f/fa/Wikiquote-logo.svg/23px-Wikiquote-logo.svg.png 1.5x, //upload.wikimedia.org/wikipedia/commons/thumb/f/fa/Wikiquote-logo.svg/30px-Wikiquote-logo.svg.png 2x\" width=\"15\"/></a> Citas célebres:</span> <span class=\"uid\"><a class=\"extiw\" href=\"https://es.wikiquote.org/wiki/Carl_Sagan\" title=\"q:Carl Sagan\">Carl Sagan</a></span></li></ul>\n",
       "<hr/>\n",
       "<ul><li><b>Identificadores</b></li>\n",
       "<li><a class=\"external text\" href=\"//www.worldcat.org/identities/containsVIAFID/36997809\" rel=\"nofollow\">WorldCat</a></li>\n",
       "<li><span style=\"white-space:nowrap;\"><a class=\"mw-redirect\" href=\"/wiki/Virtual_International_Authority_File\" title=\"Virtual International Authority File\">VIAF</a>:</span> <span class=\"uid\"><a class=\"external text\" href=\"https://viaf.org/viaf/36997809\" rel=\"nofollow\">36997809</a></span></li>\n",
       "<li><span style=\"white-space:nowrap;\"><a href=\"/wiki/International_Standard_Name_Identifier\" title=\"International Standard Name Identifier\">ISNI</a>:</span> <span class=\"uid\"><a class=\"external text\" href=\"https://isni.oclc.org/xslt/DB=1.2//CMD?ACT=SRCH&amp;IKT=8006&amp;TRM=ISN%3A0000%200001%202128%202295\" rel=\"nofollow\">0000 0001 2128 2295</a></span></li>\n",
       "<li><span style=\"white-space:nowrap;\"><a href=\"/wiki/Biblioteca_Nacional_de_Espa%C3%B1a\" title=\"Biblioteca Nacional de España\">BNE</a>:</span> <span class=\"uid\"><a class=\"external text\" href=\"http://datos.bne.es/resource/XX989452\" rel=\"nofollow\">XX989452</a></span></li>\n",
       "<li><span style=\"white-space:nowrap;\"><a class=\"mw-redirect\" href=\"/wiki/Biblioth%C3%A8que_nationale_de_France\" title=\"Bibliothèque nationale de France\">BNF</a>:</span> <span class=\"uid\"><a class=\"external text\" href=\"https://catalogue.bnf.fr/ark:/12148/cb12375841d\" rel=\"nofollow\">12375841d</a> <a class=\"external text\" href=\"http://data.bnf.fr/ark:/12148/cb12375841d\" rel=\"nofollow\">(data)</a></span></li>\n",
       "<li><span style=\"white-space:nowrap;\"><a href=\"/wiki/Biblioteca_de_Catalu%C3%B1a\" title=\"Biblioteca de Cataluña\">CANTIC</a>:</span> <span class=\"uid\"><a class=\"external text\" href=\"http://cantic.bnc.cat/registres/CUCId/a10577129\" rel=\"nofollow\">a10577129</a></span></li>\n",
       "<li><span style=\"white-space:nowrap;\"><a class=\"mw-redirect\" href=\"/wiki/Integrated_Authority_File\" title=\"Integrated Authority File\">GND</a>:</span> <span class=\"uid\"><a class=\"external text\" href=\"https://d-nb.info/gnd/115873937\" rel=\"nofollow\">115873937</a></span></li>\n",
       "<li><span style=\"white-space:nowrap;\"><a href=\"/wiki/Library_of_Congress_Control_Number\" title=\"Library of Congress Control Number\">LCCN</a>:</span> <span class=\"uid\"><a class=\"external text\" href=\"https://id.loc.gov/authorities/n79064998\" rel=\"nofollow\">n79064998</a></span></li>\n",
       "<li><span style=\"white-space:nowrap;\"><a class=\"mw-redirect\" href=\"/wiki/National_Diet_Library\" title=\"National Diet Library\">NDL</a>:</span> <span class=\"uid\"><a class=\"external text\" href=\"https://id.ndl.go.jp/auth/ndlna/00455136\" rel=\"nofollow\">00455136</a></span></li>\n",
       "<li><span style=\"white-space:nowrap;\"><a class=\"mw-redirect\" href=\"/wiki/National_Library_of_the_Czech_Republic\" title=\"National Library of the Czech Republic\">NKC</a>:</span> <span class=\"uid\"><a class=\"external text\" href=\"https://aleph.nkp.cz/F/?func=find-c&amp;local_base=aut&amp;ccl_term=ica=jn19990007295\" rel=\"nofollow\">jn19990007295</a></span></li>\n",
       "<li><span style=\"white-space:nowrap;\"><a class=\"mw-redirect\" href=\"/wiki/National_Library_of_Australia\" title=\"National Library of Australia\">NLA</a>:</span> <span class=\"uid\"><a class=\"external text\" href=\"https://librariesaustralia.nla.gov.au/search/display?dbid=auth&amp;id=35471465\" rel=\"nofollow\">35471465</a></span></li>\n",
       "<li><span style=\"white-space:nowrap;\"><a class=\"extiw\" href=\"https://www.wikidata.org/wiki/Q29861311\" title=\"d:Q29861311\">SNAC</a>:</span> <span class=\"uid\"><a class=\"external text\" href=\"https://snaccooperative.org/ark:/99166/w6vm4fjv\" rel=\"nofollow\">w6vm4fjv</a></span></li>\n",
       "<li><span style=\"white-space:nowrap;\"><a href=\"/wiki/Syst%C3%A8me_universitaire_de_documentation\" title=\"Système universitaire de documentation\">SUDOC</a>:</span> <span class=\"uid\"><a class=\"external text\" href=\"https://www.idref.fr/032799128\" rel=\"nofollow\">032799128</a></span></li>\n",
       "<li><span style=\"white-space:nowrap;\"><a href=\"/wiki/Universidad_de_Barcelona\" title=\"Universidad de Barcelona\">UB</a>:</span> <span class=\"uid\"><a class=\"external text\" href=\"https://crai.ub.edu/sites/default/files/autoritats/permanent/a1001327\" rel=\"nofollow\">a1001327</a></span></li>\n",
       "<li><span style=\"white-space:nowrap;\"><a href=\"/wiki/Mathematics_Genealogy_Project\" title=\"Mathematics Genealogy Project\">MGP</a>:</span> <span class=\"uid\"><a class=\"external text\" href=\"https://mathgenealogy.org/id.php?id=226265\" rel=\"nofollow\">226265</a></span></li>\n",
       "<li><span style=\"white-space:nowrap;\"><a href=\"/wiki/Open_Library\" title=\"Open Library\">Open Library</a>:</span> <span class=\"uid\"><a class=\"external text\" href=\"https://openlibrary.org/works/OL450295A\" rel=\"nofollow\">OL450295A</a></span></li>\n",
       "<li><b>Diccionarios y enciclopedias</b></li>\n",
       "<li><span style=\"white-space:nowrap;\"><a href=\"/wiki/Enciclopedia_Brit%C3%A1nica\" title=\"Enciclopedia Británica\">Britannica</a>:</span> <span class=\"uid\"><a class=\"external text\" href=\"https://www.britannica.com/biography/Carl-Sagan\" rel=\"nofollow\">url</a></span></li>\n",
       "<li><b>Repositorios digitales</b></li>\n",
       "<li><span style=\"white-space:nowrap;\"><a href=\"/wiki/Dialnet\" title=\"Dialnet\">Dialnet</a>:</span> <span class=\"uid\"><a class=\"external text\" href=\"https://dialnet.unirioja.es/servlet/autor?codigo=266906\" rel=\"nofollow\">266906</a></span></li></ul>\n",
       "</div></td></tr></tbody></table></div><div class=\"mw-mf-linked-projects hlist\">\n",
       "<ul><li><span style=\"white-space:nowrap;\"><a href=\"/wiki/Wikidata\" title=\"Wikidata\"><img alt=\"Wd\" data-file-height=\"590\" data-file-width=\"1050\" decoding=\"async\" height=\"11\" src=\"//upload.wikimedia.org/wikipedia/commons/thumb/f/ff/Wikidata-logo.svg/20px-Wikidata-logo.svg.png\" srcset=\"//upload.wikimedia.org/wikipedia/commons/thumb/f/ff/Wikidata-logo.svg/30px-Wikidata-logo.svg.png 1.5x, //upload.wikimedia.org/wikipedia/commons/thumb/f/ff/Wikidata-logo.svg/40px-Wikidata-logo.svg.png 2x\" width=\"20\"/></a> Datos:</span> <span class=\"uid\"><a class=\"extiw\" href=\"https://www.wikidata.org/wiki/Q410\" title=\"wikidata:Q410\">Q410</a></span></li>\n",
       "<li><span style=\"white-space:nowrap;\"><a href=\"/wiki/Wikimedia_Commons\" title=\"Commonscat\"><img alt=\"Commonscat\" data-file-height=\"1376\" data-file-width=\"1024\" decoding=\"async\" height=\"20\" src=\"//upload.wikimedia.org/wikipedia/commons/thumb/4/4a/Commons-logo.svg/15px-Commons-logo.svg.png\" srcset=\"//upload.wikimedia.org/wikipedia/commons/thumb/4/4a/Commons-logo.svg/23px-Commons-logo.svg.png 1.5x, //upload.wikimedia.org/wikipedia/commons/thumb/4/4a/Commons-logo.svg/30px-Commons-logo.svg.png 2x\" width=\"15\"/></a> Multimedia:</span> <span class=\"uid\"><span class=\"plainlinks\"><a class=\"external text\" href=\"https://commons.wikimedia.org/wiki/Category:Carl_Sagan\">Carl Sagan</a></span></span></li>\n",
       "<li><span style=\"white-space:nowrap;\"><a href=\"/wiki/Wikiquote\" title=\"Wikiquote\"><img alt=\"Wikiquote\" data-file-height=\"355\" data-file-width=\"300\" decoding=\"async\" height=\"18\" src=\"//upload.wikimedia.org/wikipedia/commons/thumb/f/fa/Wikiquote-logo.svg/15px-Wikiquote-logo.svg.png\" srcset=\"//upload.wikimedia.org/wikipedia/commons/thumb/f/fa/Wikiquote-logo.svg/23px-Wikiquote-logo.svg.png 1.5x, //upload.wikimedia.org/wikipedia/commons/thumb/f/fa/Wikiquote-logo.svg/30px-Wikiquote-logo.svg.png 2x\" width=\"15\"/></a> Citas célebres:</span> <span class=\"uid\"><a class=\"extiw\" href=\"https://es.wikiquote.org/wiki/Carl_Sagan\" title=\"q:Carl Sagan\">Carl Sagan</a></span></li></ul>\n",
       "</div></div>\n",
       "<!-- \n",
       "NewPP limit report\n",
       "Parsed by mw1403\n",
       "Cached time: 20200823124827\n",
       "Cache expiry: 2592000\n",
       "Dynamic content: false\n",
       "Complications: []\n",
       "CPU time usage: 0.948 seconds\n",
       "Real time usage: 1.172 seconds\n",
       "Preprocessor visited node count: 6403/1000000\n",
       "Post‐expand include size: 152424/2097152 bytes\n",
       "Template argument size: 11364/2097152 bytes\n",
       "Highest expansion depth: 20/40\n",
       "Expensive parser function count: 18/500\n",
       "Unstrip recursion depth: 0/20\n",
       "Unstrip post‐expand size: 112164/5000000 bytes\n",
       "Lua time usage: 0.509/10.000 seconds\n",
       "Lua memory usage: 9.4 MB/50 MB\n",
       "Number of Wikibase entities loaded: 19/400\n",
       "-->\n",
       "<!--\n",
       "Transclusion expansion time report (%,ms,calls,template)\n",
       "100.00%  968.664      1 -total\n",
       " 31.54%  305.547      1 Plantilla:Listaref\n",
       " 30.98%  300.053      1 Plantilla:NF\n",
       " 23.70%  229.582      1 Plantilla:Ficha_de_persona\n",
       "  7.06%   68.387     26 Plantilla:Cita_web\n",
       "  6.97%   67.503     19 Plantilla:Cita_libro\n",
       "  4.41%   42.676      3 Plantilla:Cita_episodio\n",
       "  3.93%   38.040      3 Plantilla:Obra_citada/núcleo\n",
       "  2.60%   25.208     10 Plantilla:Cita\n",
       "  2.01%   19.484      1 Plantilla:Y-e\n",
       "-->\n",
       "<!-- Saved in parser cache with key eswiki:pcache:idhash:634-0!canonical and timestamp 20200823124826 and revision id 128532376\n",
       " -->\n",
       "</div><noscript><img alt=\"\" height=\"1\" src=\"//es.wikipedia.org/wiki/Special:CentralAutoLogin/start?type=1x1\" style=\"border: none; position: absolute;\" title=\"\" width=\"1\"/></noscript>\n",
       "<div class=\"printfooter\">Obtenido de «<a dir=\"ltr\" href=\"https://es.wikipedia.org/w/index.php?title=Carl_Sagan&amp;oldid=128532376\">https://es.wikipedia.org/w/index.php?title=Carl_Sagan&amp;oldid=128532376</a>»</div></div>\n",
       "<div class=\"catlinks\" data-mw=\"interface\" id=\"catlinks\"><div class=\"mw-normal-catlinks\" id=\"mw-normal-catlinks\"><a href=\"/wiki/Especial:Categor%C3%ADas\" title=\"Especial:Categorías\">Categorías</a>: <ul><li><a href=\"/wiki/Categor%C3%ADa:Hombres\" title=\"Categoría:Hombres\">Hombres</a></li><li><a href=\"/wiki/Categor%C3%ADa:Nacidos_en_1934\" title=\"Categoría:Nacidos en 1934\">Nacidos en 1934</a></li><li><a href=\"/wiki/Categor%C3%ADa:Fallecidos_en_1996\" title=\"Categoría:Fallecidos en 1996\">Fallecidos en 1996</a></li><li><a href=\"/wiki/Categor%C3%ADa:Carl_Sagan\" title=\"Categoría:Carl Sagan\">Carl Sagan</a></li><li><a href=\"/wiki/Categor%C3%ADa:Brooklynenses\" title=\"Categoría:Brooklynenses\">Brooklynenses</a></li><li><a href=\"/wiki/Categor%C3%ADa:Alumnado_de_la_Universidad_de_Chicago\" title=\"Categoría:Alumnado de la Universidad de Chicago\">Alumnado de la Universidad de Chicago</a></li><li><a href=\"/wiki/Categor%C3%ADa:Profesores_de_la_Universidad_Cornell\" title=\"Categoría:Profesores de la Universidad Cornell\">Profesores de la Universidad Cornell</a></li><li><a href=\"/wiki/Categor%C3%ADa:Escritores_de_Estados_Unidos_del_siglo_XX\" title=\"Categoría:Escritores de Estados Unidos del siglo XX\">Escritores de Estados Unidos del siglo XX</a></li><li><a href=\"/wiki/Categor%C3%ADa:Escritores_de_ciencia_ficci%C3%B3n_de_Estados_Unidos\" title=\"Categoría:Escritores de ciencia ficción de Estados Unidos\">Escritores de ciencia ficción de Estados Unidos</a></li><li><a href=\"/wiki/Categor%C3%ADa:Escritores_de_divulgaci%C3%B3n_cient%C3%ADfica\" title=\"Categoría:Escritores de divulgación científica\">Escritores de divulgación científica</a></li><li><a href=\"/wiki/Categor%C3%ADa:Escritores_en_ingl%C3%A9s_del_siglo_XX\" title=\"Categoría:Escritores en inglés del siglo XX\">Escritores en inglés del siglo XX</a></li><li><a href=\"/wiki/Categor%C3%ADa:Activistas_de_Estados_Unidos\" title=\"Categoría:Activistas de Estados Unidos\">Activistas de Estados Unidos</a></li><li><a href=\"/wiki/Categor%C3%ADa:Astr%C3%B3nomos_de_Estados_Unidos_del_siglo_XX\" title=\"Categoría:Astrónomos de Estados Unidos del siglo XX\">Astrónomos de Estados Unidos del siglo XX</a></li><li><a href=\"/wiki/Categor%C3%ADa:Astrof%C3%ADsicos_de_Estados_Unidos\" title=\"Categoría:Astrofísicos de Estados Unidos\">Astrofísicos de Estados Unidos</a></li><li><a href=\"/wiki/Categor%C3%ADa:Cosm%C3%B3logos\" title=\"Categoría:Cosmólogos\">Cosmólogos</a></li><li><a href=\"/wiki/Categor%C3%ADa:Pol%C3%ADmatas\" title=\"Categoría:Polímatas\">Polímatas</a></li><li><a href=\"/wiki/Categor%C3%ADa:Divulgadores_cient%C3%ADficos_en_medios_audiovisuales\" title=\"Categoría:Divulgadores científicos en medios audiovisuales\">Divulgadores científicos en medios audiovisuales</a></li><li><a href=\"/wiki/Categor%C3%ADa:Esc%C3%A9pticos\" title=\"Categoría:Escépticos\">Escépticos</a></li><li><a href=\"/wiki/Categor%C3%ADa:Agn%C3%B3sticos_de_Estados_Unidos\" title=\"Categoría:Agnósticos de Estados Unidos\">Agnósticos de Estados Unidos</a></li><li><a href=\"/wiki/Categor%C3%ADa:Agn%C3%B3sticos_jud%C3%ADos\" title=\"Categoría:Agnósticos judíos\">Agnósticos judíos</a></li><li><a href=\"/wiki/Categor%C3%ADa:Ganadores_del_Premio_Pulitzer\" title=\"Categoría:Ganadores del Premio Pulitzer\">Ganadores del Premio Pulitzer</a></li><li><a href=\"/wiki/Categor%C3%ADa:Premio_Carl_Sagan_para_la_comprensi%C3%B3n_p%C3%BAblica_de_la_ciencia\" title=\"Categoría:Premio Carl Sagan para la comprensión pública de la ciencia\">Premio Carl Sagan para la comprensión pública de la ciencia</a></li><li><a href=\"/wiki/Categor%C3%ADa:Fallecidos_por_neumon%C3%ADa\" title=\"Categoría:Fallecidos por neumonía\">Fallecidos por neumonía</a></li><li><a href=\"/wiki/Categor%C3%ADa:Conferencias_Gifford\" title=\"Categoría:Conferencias Gifford\">Conferencias Gifford</a></li><li><a href=\"/wiki/Categor%C3%ADa:Graduados_honorarios_de_la_Universidad_de_Illinois_en_Urbana-Champaign\" title=\"Categoría:Graduados honorarios de la Universidad de Illinois en Urbana-Champaign\">Graduados honorarios de la Universidad de Illinois en Urbana-Champaign</a></li><li><a href=\"/wiki/Categor%C3%ADa:Profesores_de_la_Universidad_de_Harvard\" title=\"Categoría:Profesores de la Universidad de Harvard\">Profesores de la Universidad de Harvard</a></li></ul></div><div class=\"mw-hidden-catlinks mw-hidden-cats-hidden\" id=\"mw-hidden-catlinks\">Categorías ocultas: <ul><li><a href=\"/wiki/Categor%C3%ADa:Wikipedia:P%C3%A1ginas_con_referencias_sin_URL_y_con_fecha_de_acceso\" title=\"Categoría:Wikipedia:Páginas con referencias sin URL y con fecha de acceso\">Wikipedia:Páginas con referencias sin URL y con fecha de acceso</a></li><li><a href=\"/wiki/Categor%C3%ADa:Wikipedia:P%C3%A1ginas_con_referencias_con_par%C3%A1metros_obsoletos\" title=\"Categoría:Wikipedia:Páginas con referencias con parámetros obsoletos\">Wikipedia:Páginas con referencias con parámetros obsoletos</a></li><li><a href=\"/wiki/Categor%C3%ADa:Wikipedia:P%C3%A1ginas_con_enlaces_m%C3%A1gicos_de_ISBN\" title=\"Categoría:Wikipedia:Páginas con enlaces mágicos de ISBN\">Wikipedia:Páginas con enlaces mágicos de ISBN</a></li><li><a href=\"/wiki/Categor%C3%ADa:Wikipedia:Art%C3%ADculos_destacados_en_la_Wikipedia_en_gallego\" title=\"Categoría:Wikipedia:Artículos destacados en la Wikipedia en gallego\">Wikipedia:Artículos destacados en la Wikipedia en gallego</a></li><li><a href=\"/wiki/Categor%C3%ADa:Wikipedia:Art%C3%ADculos_destacados_en_la_Wikipedia_en_macedonio\" title=\"Categoría:Wikipedia:Artículos destacados en la Wikipedia en macedonio\">Wikipedia:Artículos destacados en la Wikipedia en macedonio</a></li><li><a href=\"/wiki/Categor%C3%ADa:Wikipedia:Art%C3%ADculos_con_pasajes_que_requieren_referencias\" title=\"Categoría:Wikipedia:Artículos con pasajes que requieren referencias\">Wikipedia:Artículos con pasajes que requieren referencias</a></li><li><a href=\"/wiki/Categor%C3%ADa:Wikipedia:Art%C3%ADculos_con_identificadores_VIAF\" title=\"Categoría:Wikipedia:Artículos con identificadores VIAF\">Wikipedia:Artículos con identificadores VIAF</a></li><li><a href=\"/wiki/Categor%C3%ADa:Wikipedia:Art%C3%ADculos_con_identificadores_ISNI\" title=\"Categoría:Wikipedia:Artículos con identificadores ISNI\">Wikipedia:Artículos con identificadores ISNI</a></li><li><a href=\"/wiki/Categor%C3%ADa:Wikipedia:Art%C3%ADculos_con_identificadores_BNE\" title=\"Categoría:Wikipedia:Artículos con identificadores BNE\">Wikipedia:Artículos con identificadores BNE</a></li><li><a href=\"/wiki/Categor%C3%ADa:Wikipedia:Art%C3%ADculos_con_identificadores_BNF\" title=\"Categoría:Wikipedia:Artículos con identificadores BNF\">Wikipedia:Artículos con identificadores BNF</a></li><li><a href=\"/wiki/Categor%C3%ADa:Wikipedia:Art%C3%ADculos_con_identificadores_CANTIC\" title=\"Categoría:Wikipedia:Artículos con identificadores CANTIC\">Wikipedia:Artículos con identificadores CANTIC</a></li><li><a href=\"/wiki/Categor%C3%ADa:Wikipedia:Art%C3%ADculos_con_identificadores_GND\" title=\"Categoría:Wikipedia:Artículos con identificadores GND\">Wikipedia:Artículos con identificadores GND</a></li><li><a href=\"/wiki/Categor%C3%ADa:Wikipedia:Art%C3%ADculos_con_identificadores_LCCN\" title=\"Categoría:Wikipedia:Artículos con identificadores LCCN\">Wikipedia:Artículos con identificadores LCCN</a></li><li><a href=\"/wiki/Categor%C3%ADa:Wikipedia:Art%C3%ADculos_con_identificadores_NLA\" title=\"Categoría:Wikipedia:Artículos con identificadores NLA\">Wikipedia:Artículos con identificadores NLA</a></li><li><a href=\"/wiki/Categor%C3%ADa:Wikipedia:Art%C3%ADculos_con_identificadores_SNAC\" title=\"Categoría:Wikipedia:Artículos con identificadores SNAC\">Wikipedia:Artículos con identificadores SNAC</a></li><li><a href=\"/wiki/Categor%C3%ADa:Wikipedia:Art%C3%ADculos_con_identificadores_UB\" title=\"Categoría:Wikipedia:Artículos con identificadores UB\">Wikipedia:Artículos con identificadores UB</a></li><li><a href=\"/wiki/Categor%C3%ADa:Wikipedia:Art%C3%ADculos_con_identificadores_Open_Library\" title=\"Categoría:Wikipedia:Artículos con identificadores Open Library\">Wikipedia:Artículos con identificadores Open Library</a></li><li><a href=\"/wiki/Categor%C3%ADa:Wikipedia:Art%C3%ADculos_con_identificadores_Dialnet\" title=\"Categoría:Wikipedia:Artículos con identificadores Dialnet\">Wikipedia:Artículos con identificadores Dialnet</a></li><li><a href=\"/wiki/Categor%C3%ADa:Wikipedia:Control_de_autoridades_con_20_elementos\" title=\"Categoría:Wikipedia:Control de autoridades con 20 elementos\">Wikipedia:Control de autoridades con 20 elementos</a></li></ul></div></div>\n",
       "</div>\n",
       "</div>\n",
       "<div id=\"mw-data-after-content\">\n",
       "<div class=\"read-more-container\"></div>\n",
       "</div>\n",
       "<div id=\"mw-navigation\">\n",
       "<h2>Menú de navegación</h2>\n",
       "<div id=\"mw-head\">\n",
       "<!-- Please do not use role attribute as CSS selector, it is deprecated. -->\n",
       "<nav aria-labelledby=\"p-personal-label\" class=\"vector-menu\" id=\"p-personal\" role=\"navigation\">\n",
       "<h3 id=\"p-personal-label\">\n",
       "<span>Herramientas personales</span>\n",
       "</h3>\n",
       "<!-- Please do not use the .body class, it is deprecated. -->\n",
       "<div class=\"body vector-menu-content\">\n",
       "<!-- Please do not use the .menu class, it is deprecated. -->\n",
       "<ul class=\"vector-menu-content-list\"><li id=\"pt-anonuserpage\">No has accedido</li><li id=\"pt-anontalk\"><a accesskey=\"n\" href=\"/wiki/Especial:MiDiscusi%C3%B3n\" title=\"Discusión sobre ediciones hechas desde esta dirección IP [n]\">Discusión</a></li><li id=\"pt-anoncontribs\"><a accesskey=\"y\" href=\"/wiki/Especial:MisContribuciones\" title=\"Una lista de modificaciones hechas desde esta dirección IP [y]\">Contribuciones</a></li><li id=\"pt-createaccount\"><a href=\"/w/index.php?title=Especial:Crear_una_cuenta&amp;returnto=Carl+Sagan\" title=\"Te recomendamos crear una cuenta e iniciar sesión; sin embargo, no es obligatorio\">Crear una cuenta</a></li><li id=\"pt-login\"><a accesskey=\"o\" href=\"/w/index.php?title=Especial:Entrar&amp;returnto=Carl+Sagan\" title=\"Te recomendamos iniciar sesión, aunque no es obligatorio [o]\">Acceder</a></li></ul>\n",
       "</div>\n",
       "</nav>\n",
       "<div id=\"left-navigation\">\n",
       "<!-- Please do not use role attribute as CSS selector, it is deprecated. -->\n",
       "<nav aria-labelledby=\"p-namespaces-label\" class=\"vector-menu vector-menu-tabs vectorTabs\" id=\"p-namespaces\" role=\"navigation\">\n",
       "<h3 id=\"p-namespaces-label\">\n",
       "<span>Espacios de nombres</span>\n",
       "</h3>\n",
       "<!-- Please do not use the .body class, it is deprecated. -->\n",
       "<div class=\"body vector-menu-content\">\n",
       "<!-- Please do not use the .menu class, it is deprecated. -->\n",
       "<ul class=\"vector-menu-content-list\"><li class=\"selected\" id=\"ca-nstab-main\"><a accesskey=\"c\" href=\"/wiki/Carl_Sagan\" title=\"Ver la página de contenido [c]\">Artículo</a></li><li id=\"ca-talk\"><a accesskey=\"t\" href=\"/wiki/Discusi%C3%B3n:Carl_Sagan\" rel=\"discussion\" title=\"Discusión acerca de la página [t]\">Discusión</a></li></ul>\n",
       "</div>\n",
       "</nav>\n",
       "<!-- Please do not use role attribute as CSS selector, it is deprecated. -->\n",
       "<nav aria-labelledby=\"p-variants-label\" class=\"vector-menu-empty emptyPortlet vector-menu vector-menu-dropdown vectorMenu\" id=\"p-variants\" role=\"navigation\">\n",
       "<input aria-labelledby=\"p-variants-label\" class=\"vector-menu-checkbox vectorMenuCheckbox\" type=\"checkbox\"/>\n",
       "<h3 id=\"p-variants-label\">\n",
       "<span>Variantes</span>\n",
       "</h3>\n",
       "<!-- Please do not use the .body class, it is deprecated. -->\n",
       "<div class=\"body vector-menu-content\">\n",
       "<!-- Please do not use the .menu class, it is deprecated. -->\n",
       "<ul class=\"menu vector-menu-content-list\"></ul>\n",
       "</div>\n",
       "</nav>\n",
       "</div>\n",
       "<div id=\"right-navigation\">\n",
       "<!-- Please do not use role attribute as CSS selector, it is deprecated. -->\n",
       "<nav aria-labelledby=\"p-views-label\" class=\"vector-menu vector-menu-tabs vectorTabs\" id=\"p-views\" role=\"navigation\">\n",
       "<h3 id=\"p-views-label\">\n",
       "<span>Vistas</span>\n",
       "</h3>\n",
       "<!-- Please do not use the .body class, it is deprecated. -->\n",
       "<div class=\"body vector-menu-content\">\n",
       "<!-- Please do not use the .menu class, it is deprecated. -->\n",
       "<ul class=\"vector-menu-content-list\"><li class=\"selected\" id=\"ca-view\"><a href=\"/wiki/Carl_Sagan\">Leer</a></li><li id=\"ca-edit\"><a accesskey=\"e\" href=\"/w/index.php?title=Carl_Sagan&amp;action=edit\" title=\"Editar esta página [e]\">Editar</a></li><li id=\"ca-history\"><a accesskey=\"h\" href=\"/w/index.php?title=Carl_Sagan&amp;action=history\" title=\"Versiones anteriores de esta página [h]\">Ver historial</a></li></ul>\n",
       "</div>\n",
       "</nav>\n",
       "<!-- Please do not use role attribute as CSS selector, it is deprecated. -->\n",
       "<nav aria-labelledby=\"p-cactions-label\" class=\"vector-menu-empty emptyPortlet vector-menu vector-menu-dropdown vectorMenu\" id=\"p-cactions\" role=\"navigation\">\n",
       "<input aria-labelledby=\"p-cactions-label\" class=\"vector-menu-checkbox vectorMenuCheckbox\" type=\"checkbox\"/>\n",
       "<h3 id=\"p-cactions-label\">\n",
       "<span>Más</span>\n",
       "</h3>\n",
       "<!-- Please do not use the .body class, it is deprecated. -->\n",
       "<div class=\"body vector-menu-content\">\n",
       "<!-- Please do not use the .menu class, it is deprecated. -->\n",
       "<ul class=\"menu vector-menu-content-list\"></ul>\n",
       "</div>\n",
       "</nav>\n",
       "<div id=\"p-search\" role=\"search\">\n",
       "<h3>\n",
       "<label for=\"searchInput\">Buscar</label>\n",
       "</h3>\n",
       "<form action=\"/w/index.php\" id=\"searchform\">\n",
       "<div id=\"simpleSearch\">\n",
       "<input accesskey=\"f\" id=\"searchInput\" name=\"search\" placeholder=\"Buscar en Wikipedia\" title=\"Buscar en este wiki [f]\" type=\"search\"/>\n",
       "<input name=\"title\" type=\"hidden\" value=\"Especial:Buscar\"/>\n",
       "<input class=\"searchButton mw-fallbackSearchButton\" id=\"mw-searchButton\" name=\"fulltext\" title=\"Busca páginas con este texto.\" type=\"submit\" value=\"Buscar\">\n",
       "<input class=\"searchButton\" id=\"searchButton\" name=\"go\" title=\"Ir a la página con este nombre exacto si existe\" type=\"submit\" value=\"Ir\"/>\n",
       "</input></div>\n",
       "</form>\n",
       "</div>\n",
       "</div>\n",
       "</div>\n",
       "<div id=\"mw-panel\">\n",
       "<div id=\"p-logo\" role=\"banner\">\n",
       "<a class=\"mw-wiki-logo\" href=\"/wiki/Wikipedia:Portada\" title=\"Visitar la página principal\"></a>\n",
       "</div>\n",
       "<!-- Please do not use role attribute as CSS selector, it is deprecated. -->\n",
       "<nav aria-labelledby=\"p-navigation-label\" class=\"vector-menu vector-menu-portal portal portal-first\" id=\"p-navigation\" role=\"navigation\">\n",
       "<h3 id=\"p-navigation-label\">\n",
       "<span>Navegación</span>\n",
       "</h3>\n",
       "<!-- Please do not use the .body class, it is deprecated. -->\n",
       "<div class=\"body vector-menu-content\">\n",
       "<!-- Please do not use the .menu class, it is deprecated. -->\n",
       "<ul class=\"vector-menu-content-list\"><li id=\"n-mainpage-description\"><a accesskey=\"z\" href=\"/wiki/Wikipedia:Portada\" title=\"Visitar la página principal [z]\">Portada</a></li><li id=\"n-portal\"><a href=\"/wiki/Portal:Comunidad\" title=\"Acerca del proyecto, lo que puedes hacer, dónde encontrar información\">Portal de la comunidad</a></li><li id=\"n-currentevents\"><a href=\"/wiki/Portal:Actualidad\" title=\"Encuentra información de contexto sobre acontecimientos actuales\">Actualidad</a></li><li id=\"n-recentchanges\"><a accesskey=\"r\" href=\"/wiki/Especial:CambiosRecientes\" title=\"Lista de cambios recientes en el wiki [r]\">Cambios recientes</a></li><li id=\"n-newpages\"><a href=\"/wiki/Especial:P%C3%A1ginasNuevas\">Páginas nuevas</a></li><li id=\"n-randompage\"><a accesskey=\"x\" href=\"/wiki/Especial:Aleatoria\" title=\"Cargar una página al azar [x]\">Página aleatoria</a></li><li id=\"n-help\"><a href=\"/wiki/Ayuda:Contenidos\" title=\"El lugar para aprender\">Ayuda</a></li><li id=\"n-sitesupport\"><a href=\"//donate.wikimedia.org/wiki/Special:FundraiserRedirector?utm_source=donate&amp;utm_medium=sidebar&amp;utm_campaign=C13_es.wikipedia.org&amp;uselang=es\" title=\"Apóyanos\">Donaciones</a></li><li id=\"n-bug_in_article\"><a href=\"/wiki/Wikipedia:Informes_de_error\">Notificar un error</a></li></ul>\n",
       "</div>\n",
       "</nav>\n",
       "<!-- Please do not use role attribute as CSS selector, it is deprecated. -->\n",
       "<nav aria-labelledby=\"p-tb-label\" class=\"vector-menu vector-menu-portal portal\" id=\"p-tb\" role=\"navigation\">\n",
       "<h3 id=\"p-tb-label\">\n",
       "<span>Herramientas</span>\n",
       "</h3>\n",
       "<!-- Please do not use the .body class, it is deprecated. -->\n",
       "<div class=\"body vector-menu-content\">\n",
       "<!-- Please do not use the .menu class, it is deprecated. -->\n",
       "<ul class=\"vector-menu-content-list\"><li id=\"t-whatlinkshere\"><a accesskey=\"j\" href=\"/wiki/Especial:LoQueEnlazaAqu%C3%AD/Carl_Sagan\" title=\"Lista de todas las páginas del wiki que enlazan aquí [j]\">Lo que enlaza aquí</a></li><li id=\"t-recentchangeslinked\"><a accesskey=\"k\" href=\"/wiki/Especial:CambiosEnEnlazadas/Carl_Sagan\" rel=\"nofollow\" title=\"Cambios recientes en las páginas que enlazan con esta [k]\">Cambios en enlazadas</a></li><li id=\"t-upload\"><a accesskey=\"u\" href=\"//commons.wikimedia.org/wiki/Special:UploadWizard?uselang=es\" title=\"Subir archivos [u]\">Subir archivo</a></li><li id=\"t-specialpages\"><a accesskey=\"q\" href=\"/wiki/Especial:P%C3%A1ginasEspeciales\" title=\"Lista de todas las páginas especiales [q]\">Páginas especiales</a></li><li id=\"t-permalink\"><a href=\"/w/index.php?title=Carl_Sagan&amp;oldid=128532376\" title=\"Enlace permanente a esta versión de la página\">Enlace permanente</a></li><li id=\"t-info\"><a href=\"/w/index.php?title=Carl_Sagan&amp;action=info\" title=\"Más información sobre esta página\">Información de la página</a></li><li id=\"t-cite\"><a href=\"/w/index.php?title=Especial:Citar&amp;page=Carl_Sagan&amp;id=128532376&amp;wpFormIdentifier=titleform\" title=\"Información sobre cómo citar esta página\">Citar esta página</a></li><li id=\"t-wikibase\"><a accesskey=\"g\" href=\"https://www.wikidata.org/wiki/Special:EntityPage/Q410\" title=\"Enlace al elemento conectado del repositorio de datos [g]\">Elemento de Wikidata</a></li></ul>\n",
       "</div>\n",
       "</nav>\n",
       "<!-- Please do not use role attribute as CSS selector, it is deprecated. -->\n",
       "<nav aria-labelledby=\"p-coll-print_export-label\" class=\"vector-menu vector-menu-portal portal\" id=\"p-coll-print_export\" role=\"navigation\">\n",
       "<h3 id=\"p-coll-print_export-label\">\n",
       "<span>Imprimir/exportar</span>\n",
       "</h3>\n",
       "<!-- Please do not use the .body class, it is deprecated. -->\n",
       "<div class=\"body vector-menu-content\">\n",
       "<!-- Please do not use the .menu class, it is deprecated. -->\n",
       "<ul class=\"vector-menu-content-list\"><li id=\"coll-create_a_book\"><a href=\"/w/index.php?title=Especial:Libro&amp;bookcmd=book_creator&amp;referer=Carl+Sagan\">Crear un libro</a></li><li id=\"coll-download-as-rl\"><a href=\"/w/index.php?title=Especial:DownloadAsPdf&amp;page=Carl_Sagan&amp;action=show-download-screen\">Descargar como PDF</a></li><li id=\"t-print\"><a accesskey=\"p\" href=\"/w/index.php?title=Carl_Sagan&amp;printable=yes\" title=\"Versión imprimible de esta página [p]\">Versión para imprimir</a></li></ul>\n",
       "</div>\n",
       "</nav>\n",
       "<!-- Please do not use role attribute as CSS selector, it is deprecated. -->\n",
       "<nav aria-labelledby=\"p-wikibase-otherprojects-label\" class=\"vector-menu vector-menu-portal portal\" id=\"p-wikibase-otherprojects\" role=\"navigation\">\n",
       "<h3 id=\"p-wikibase-otherprojects-label\">\n",
       "<span>En otros proyectos</span>\n",
       "</h3>\n",
       "<!-- Please do not use the .body class, it is deprecated. -->\n",
       "<div class=\"body vector-menu-content\">\n",
       "<!-- Please do not use the .menu class, it is deprecated. -->\n",
       "<ul class=\"vector-menu-content-list\"><li class=\"wb-otherproject-link wb-otherproject-commons\"><a href=\"https://commons.wikimedia.org/wiki/Category:Carl_Sagan\" hreflang=\"en\">Wikimedia Commons</a></li><li class=\"wb-otherproject-link wb-otherproject-wikiquote\"><a href=\"https://es.wikiquote.org/wiki/Carl_Sagan\" hreflang=\"es\">Wikiquote</a></li></ul>\n",
       "</div>\n",
       "</nav>\n",
       "<!-- Please do not use role attribute as CSS selector, it is deprecated. -->\n",
       "<nav aria-labelledby=\"p-lang-label\" class=\"vector-menu vector-menu-portal portal\" id=\"p-lang\" role=\"navigation\">\n",
       "<h3 id=\"p-lang-label\">\n",
       "<span>En otros idiomas</span>\n",
       "</h3>\n",
       "<!-- Please do not use the .body class, it is deprecated. -->\n",
       "<div class=\"body vector-menu-content\">\n",
       "<!-- Please do not use the .menu class, it is deprecated. -->\n",
       "<ul class=\"vector-menu-content-list\"><li class=\"interlanguage-link interwiki-af\"><a class=\"interlanguage-link-target\" href=\"https://af.wikipedia.org/wiki/Carl_Sagan\" hreflang=\"af\" lang=\"af\" title=\"Carl Sagan (afrikáans)\">Afrikaans</a></li><li class=\"interlanguage-link interwiki-an\"><a class=\"interlanguage-link-target\" href=\"https://an.wikipedia.org/wiki/Carl_Sagan\" hreflang=\"an\" lang=\"an\" title=\"Carl Sagan (aragonés)\">Aragonés</a></li><li class=\"interlanguage-link interwiki-ar\"><a class=\"interlanguage-link-target\" href=\"https://ar.wikipedia.org/wiki/%D9%83%D8%A7%D8%B1%D9%84_%D8%B3%D8%A7%D8%BA%D8%A7%D9%86\" hreflang=\"ar\" lang=\"ar\" title=\"كارل ساغان (árabe)\">العربية</a></li><li class=\"interlanguage-link interwiki-arz\"><a class=\"interlanguage-link-target\" href=\"https://arz.wikipedia.org/wiki/%D9%83%D8%A7%D8%B1%D9%84_%D8%B3%D8%A7%D8%AC%D8%A7%D9%86\" hreflang=\"arz\" lang=\"arz\" title=\"كارل ساجان (Egyptian Arabic)\">مصرى</a></li><li class=\"interlanguage-link interwiki-as\"><a class=\"interlanguage-link-target\" href=\"https://as.wikipedia.org/wiki/%E0%A6%95%E0%A6%BE%E0%A7%B0%E0%A7%8D%E0%A6%B2_%E0%A6%9A%E0%A6%BE%E0%A6%97%E0%A6%BE%E0%A6%A8\" hreflang=\"as\" lang=\"as\" title=\"কাৰ্ল চাগান (asamés)\">অসমীয়া</a></li><li class=\"interlanguage-link interwiki-ast\"><a class=\"interlanguage-link-target\" href=\"https://ast.wikipedia.org/wiki/Carl_Sagan\" hreflang=\"ast\" lang=\"ast\" title=\"Carl Sagan (asturiano)\">Asturianu</a></li><li class=\"interlanguage-link interwiki-az\"><a class=\"interlanguage-link-target\" href=\"https://az.wikipedia.org/wiki/Karl_Saqan\" hreflang=\"az\" lang=\"az\" title=\"Karl Saqan (azerbaiyano)\">Azərbaycanca</a></li><li class=\"interlanguage-link interwiki-azb\"><a class=\"interlanguage-link-target\" href=\"https://azb.wikipedia.org/wiki/%DA%A9%D8%A7%D8%B1%D9%84_%D8%B3%DB%8C%D9%82%D9%86\" hreflang=\"azb\" lang=\"azb\" title=\"کارل سیقن (South Azerbaijani)\">تۆرکجه</a></li><li class=\"interlanguage-link interwiki-ban\"><a class=\"interlanguage-link-target\" href=\"https://ban.wikipedia.org/wiki/Carl_Sagan\" hreflang=\"ban\" lang=\"ban\" title=\"Carl Sagan (balinés)\">Bali</a></li><li class=\"interlanguage-link interwiki-bcl\"><a class=\"interlanguage-link-target\" href=\"https://bcl.wikipedia.org/wiki/Carl_Sagan\" hreflang=\"bcl\" lang=\"bcl\" title=\"Carl Sagan (Central Bikol)\">Bikol Central</a></li><li class=\"interlanguage-link interwiki-be\"><a class=\"interlanguage-link-target\" href=\"https://be.wikipedia.org/wiki/%D0%9A%D0%B0%D1%80%D0%BB_%D0%A1%D0%B0%D0%B3%D0%B0%D0%BD\" hreflang=\"be\" lang=\"be\" title=\"Карл Саган (bielorruso)\">Беларуская</a></li><li class=\"interlanguage-link interwiki-bg\"><a class=\"interlanguage-link-target\" href=\"https://bg.wikipedia.org/wiki/%D0%9A%D0%B0%D1%80%D0%BB_%D0%A1%D0%B5%D0%B9%D0%B3%D1%8A%D0%BD\" hreflang=\"bg\" lang=\"bg\" title=\"Карл Сейгън (búlgaro)\">Български</a></li><li class=\"interlanguage-link interwiki-bn\"><a class=\"interlanguage-link-target\" href=\"https://bn.wikipedia.org/wiki/%E0%A6%95%E0%A6%BE%E0%A6%B0%E0%A7%8D%E0%A6%B2_%E0%A6%B8%E0%A7%87%E0%A6%97%E0%A6%BE%E0%A6%A8\" hreflang=\"bn\" lang=\"bn\" title=\"কার্ল সেগান (bengalí)\">বাংলা</a></li><li class=\"interlanguage-link interwiki-bs\"><a class=\"interlanguage-link-target\" href=\"https://bs.wikipedia.org/wiki/Carl_Sagan\" hreflang=\"bs\" lang=\"bs\" title=\"Carl Sagan (bosnio)\">Bosanski</a></li><li class=\"interlanguage-link interwiki-ca\"><a class=\"interlanguage-link-target\" href=\"https://ca.wikipedia.org/wiki/Carl_Sagan\" hreflang=\"ca\" lang=\"ca\" title=\"Carl Sagan (catalán)\">Català</a></li><li class=\"interlanguage-link interwiki-ckb\"><a class=\"interlanguage-link-target\" href=\"https://ckb.wikipedia.org/wiki/%DA%A9%D8%A7%D8%B1%D9%84_%D8%B3%DB%95%DB%8C%DA%AF%D9%86\" hreflang=\"ckb\" lang=\"ckb\" title=\"کارل سەیگن (kurdo sorani)\">کوردی</a></li><li class=\"interlanguage-link interwiki-cs\"><a class=\"interlanguage-link-target\" href=\"https://cs.wikipedia.org/wiki/Carl_Sagan\" hreflang=\"cs\" lang=\"cs\" title=\"Carl Sagan (checo)\">Čeština</a></li><li class=\"interlanguage-link interwiki-cy\"><a class=\"interlanguage-link-target\" href=\"https://cy.wikipedia.org/wiki/Carl_Sagan\" hreflang=\"cy\" lang=\"cy\" title=\"Carl Sagan (galés)\">Cymraeg</a></li><li class=\"interlanguage-link interwiki-da\"><a class=\"interlanguage-link-target\" href=\"https://da.wikipedia.org/wiki/Carl_Sagan\" hreflang=\"da\" lang=\"da\" title=\"Carl Sagan (danés)\">Dansk</a></li><li class=\"interlanguage-link interwiki-de\"><a class=\"interlanguage-link-target\" href=\"https://de.wikipedia.org/wiki/Carl_Sagan\" hreflang=\"de\" lang=\"de\" title=\"Carl Sagan (alemán)\">Deutsch</a></li><li class=\"interlanguage-link interwiki-el\"><a class=\"interlanguage-link-target\" href=\"https://el.wikipedia.org/wiki/%CE%9A%CE%B1%CF%81%CE%BB_%CE%A3%CE%B1%CE%B3%CE%BA%CE%AC%CE%BD\" hreflang=\"el\" lang=\"el\" title=\"Καρλ Σαγκάν (griego)\">Ελληνικά</a></li><li class=\"interlanguage-link interwiki-en\"><a class=\"interlanguage-link-target\" href=\"https://en.wikipedia.org/wiki/Carl_Sagan\" hreflang=\"en\" lang=\"en\" title=\"Carl Sagan (inglés)\">English</a></li><li class=\"interlanguage-link interwiki-eo\"><a class=\"interlanguage-link-target\" href=\"https://eo.wikipedia.org/wiki/Carl_Sagan\" hreflang=\"eo\" lang=\"eo\" title=\"Carl Sagan (esperanto)\">Esperanto</a></li><li class=\"interlanguage-link interwiki-et\"><a class=\"interlanguage-link-target\" href=\"https://et.wikipedia.org/wiki/Carl_Sagan\" hreflang=\"et\" lang=\"et\" title=\"Carl Sagan (estonio)\">Eesti</a></li><li class=\"interlanguage-link interwiki-eu\"><a class=\"interlanguage-link-target\" href=\"https://eu.wikipedia.org/wiki/Carl_Sagan\" hreflang=\"eu\" lang=\"eu\" title=\"Carl Sagan (euskera)\">Euskara</a></li><li class=\"interlanguage-link interwiki-fa\"><a class=\"interlanguage-link-target\" href=\"https://fa.wikipedia.org/wiki/%DA%A9%D8%A7%D8%B1%D9%84_%D8%B3%DB%8C%DA%AF%D9%86\" hreflang=\"fa\" lang=\"fa\" title=\"کارل سیگن (persa)\">فارسی</a></li><li class=\"interlanguage-link interwiki-fi\"><a class=\"interlanguage-link-target\" href=\"https://fi.wikipedia.org/wiki/Carl_Sagan\" hreflang=\"fi\" lang=\"fi\" title=\"Carl Sagan (finés)\">Suomi</a></li><li class=\"interlanguage-link interwiki-fr\"><a class=\"interlanguage-link-target\" href=\"https://fr.wikipedia.org/wiki/Carl_Sagan\" hreflang=\"fr\" lang=\"fr\" title=\"Carl Sagan (francés)\">Français</a></li><li class=\"interlanguage-link interwiki-ga\"><a class=\"interlanguage-link-target\" href=\"https://ga.wikipedia.org/wiki/Carl_Sagan\" hreflang=\"ga\" lang=\"ga\" title=\"Carl Sagan (irlandés)\">Gaeilge</a></li><li class=\"interlanguage-link interwiki-gl badge-Q17437796 badge-featuredarticle\" title=\"artículo destacado\"><a class=\"interlanguage-link-target\" href=\"https://gl.wikipedia.org/wiki/Carl_Sagan\" hreflang=\"gl\" lang=\"gl\" title=\"Carl Sagan (gallego)\">Galego</a></li><li class=\"interlanguage-link interwiki-he\"><a class=\"interlanguage-link-target\" href=\"https://he.wikipedia.org/wiki/%D7%A7%D7%A8%D7%9C_%D7%A1%D7%99%D7%99%D7%92%D7%9F\" hreflang=\"he\" lang=\"he\" title=\"קרל סייגן (hebreo)\">עברית</a></li><li class=\"interlanguage-link interwiki-hi\"><a class=\"interlanguage-link-target\" href=\"https://hi.wikipedia.org/wiki/%E0%A4%95%E0%A4%BE%E0%A4%B0%E0%A5%8D%E0%A4%B2_%E0%A4%B8%E0%A5%87%E0%A4%97%E0%A4%A8\" hreflang=\"hi\" lang=\"hi\" title=\"कार्ल सेगन (hindi)\">हिन्दी</a></li><li class=\"interlanguage-link interwiki-hr\"><a class=\"interlanguage-link-target\" href=\"https://hr.wikipedia.org/wiki/Carl_Sagan\" hreflang=\"hr\" lang=\"hr\" title=\"Carl Sagan (croata)\">Hrvatski</a></li><li class=\"interlanguage-link interwiki-hu\"><a class=\"interlanguage-link-target\" href=\"https://hu.wikipedia.org/wiki/Carl_Sagan\" hreflang=\"hu\" lang=\"hu\" title=\"Carl Sagan (húngaro)\">Magyar</a></li><li class=\"interlanguage-link interwiki-hy\"><a class=\"interlanguage-link-target\" href=\"https://hy.wikipedia.org/wiki/%D4%BF%D5%A1%D6%80%D5%AC_%D5%8D%D5%A1%D5%A3%D5%A1%D5%B6\" hreflang=\"hy\" lang=\"hy\" title=\"Կարլ Սագան (armenio)\">Հայերեն</a></li><li class=\"interlanguage-link interwiki-id\"><a class=\"interlanguage-link-target\" href=\"https://id.wikipedia.org/wiki/Carl_Sagan\" hreflang=\"id\" lang=\"id\" title=\"Carl Sagan (indonesio)\">Bahasa Indonesia</a></li><li class=\"interlanguage-link interwiki-io\"><a class=\"interlanguage-link-target\" href=\"https://io.wikipedia.org/wiki/Carl_Sagan\" hreflang=\"io\" lang=\"io\" title=\"Carl Sagan (ido)\">Ido</a></li><li class=\"interlanguage-link interwiki-is\"><a class=\"interlanguage-link-target\" href=\"https://is.wikipedia.org/wiki/Carl_Sagan\" hreflang=\"is\" lang=\"is\" title=\"Carl Sagan (islandés)\">Íslenska</a></li><li class=\"interlanguage-link interwiki-it\"><a class=\"interlanguage-link-target\" href=\"https://it.wikipedia.org/wiki/Carl_Sagan\" hreflang=\"it\" lang=\"it\" title=\"Carl Sagan (italiano)\">Italiano</a></li><li class=\"interlanguage-link interwiki-ja\"><a class=\"interlanguage-link-target\" href=\"https://ja.wikipedia.org/wiki/%E3%82%AB%E3%83%BC%E3%83%AB%E3%83%BB%E3%82%BB%E3%83%BC%E3%82%AC%E3%83%B3\" hreflang=\"ja\" lang=\"ja\" title=\"カール・セーガン (japonés)\">日本語</a></li><li class=\"interlanguage-link interwiki-jv\"><a class=\"interlanguage-link-target\" href=\"https://jv.wikipedia.org/wiki/Carl_Sagan\" hreflang=\"jv\" lang=\"jv\" title=\"Carl Sagan (javanés)\">Jawa</a></li><li class=\"interlanguage-link interwiki-ka\"><a class=\"interlanguage-link-target\" href=\"https://ka.wikipedia.org/wiki/%E1%83%99%E1%83%90%E1%83%A0%E1%83%9A_%E1%83%A1%E1%83%94%E1%83%98%E1%83%92%E1%83%90%E1%83%9C%E1%83%98\" hreflang=\"ka\" lang=\"ka\" title=\"კარლ სეიგანი (georgiano)\">ქართული</a></li><li class=\"interlanguage-link interwiki-kn\"><a class=\"interlanguage-link-target\" href=\"https://kn.wikipedia.org/wiki/%E0%B2%95%E0%B2%BE%E0%B2%B0%E0%B3%8D%E0%B2%B2%E0%B3%8D_%E0%B2%B8%E0%B2%97%E0%B2%BE%E0%B2%A8%E0%B3%8D\" hreflang=\"kn\" lang=\"kn\" title=\"ಕಾರ್ಲ್ ಸಗಾನ್ (canarés)\">ಕನ್ನಡ</a></li><li class=\"interlanguage-link interwiki-ko\"><a class=\"interlanguage-link-target\" href=\"https://ko.wikipedia.org/wiki/%EC%B9%BC_%EC%84%B8%EC%9D%B4%EA%B1%B4\" hreflang=\"ko\" lang=\"ko\" title=\"칼 세이건 (coreano)\">한국어</a></li><li class=\"interlanguage-link interwiki-la\"><a class=\"interlanguage-link-target\" href=\"https://la.wikipedia.org/wiki/Carolus_Sagan\" hreflang=\"la\" lang=\"la\" title=\"Carolus Sagan (latín)\">Latina</a></li><li class=\"interlanguage-link interwiki-lb\"><a class=\"interlanguage-link-target\" href=\"https://lb.wikipedia.org/wiki/Carl_Sagan\" hreflang=\"lb\" lang=\"lb\" title=\"Carl Sagan (luxemburgués)\">Lëtzebuergesch</a></li><li class=\"interlanguage-link interwiki-li\"><a class=\"interlanguage-link-target\" href=\"https://li.wikipedia.org/wiki/Carl_Sagan\" hreflang=\"li\" lang=\"li\" title=\"Carl Sagan (limburgués)\">Limburgs</a></li><li class=\"interlanguage-link interwiki-lt\"><a class=\"interlanguage-link-target\" href=\"https://lt.wikipedia.org/wiki/Carl_Sagan\" hreflang=\"lt\" lang=\"lt\" title=\"Carl Sagan (lituano)\">Lietuvių</a></li><li class=\"interlanguage-link interwiki-lv\"><a class=\"interlanguage-link-target\" href=\"https://lv.wikipedia.org/wiki/Karls_Sagans\" hreflang=\"lv\" lang=\"lv\" title=\"Karls Sagans (letón)\">Latviešu</a></li><li class=\"interlanguage-link interwiki-mg\"><a class=\"interlanguage-link-target\" href=\"https://mg.wikipedia.org/wiki/Carl_Sagan\" hreflang=\"mg\" lang=\"mg\" title=\"Carl Sagan (malgache)\">Malagasy</a></li><li class=\"interlanguage-link interwiki-min\"><a class=\"interlanguage-link-target\" href=\"https://min.wikipedia.org/wiki/Carl_Sagan\" hreflang=\"min\" lang=\"min\" title=\"Carl Sagan (minangkabau)\">Minangkabau</a></li><li class=\"interlanguage-link interwiki-mk badge-Q17437796 badge-featuredarticle\" title=\"artículo destacado\"><a class=\"interlanguage-link-target\" href=\"https://mk.wikipedia.org/wiki/%D0%9A%D0%B0%D1%80%D0%BB_%D0%A1%D0%B5%D1%98%D0%B3%D0%B0%D0%BD\" hreflang=\"mk\" lang=\"mk\" title=\"Карл Сејган (macedonio)\">Македонски</a></li><li class=\"interlanguage-link interwiki-ml\"><a class=\"interlanguage-link-target\" href=\"https://ml.wikipedia.org/wiki/%E0%B4%95%E0%B4%BE%E0%B5%BE_%E0%B4%B8%E0%B4%BE%E0%B4%97%E0%B5%BB\" hreflang=\"ml\" lang=\"ml\" title=\"കാൾ സാഗൻ (malayalam)\">മലയാളം</a></li><li class=\"interlanguage-link interwiki-mr\"><a class=\"interlanguage-link-target\" href=\"https://mr.wikipedia.org/wiki/%E0%A4%95%E0%A4%BE%E0%A4%B0%E0%A5%8D%E0%A4%B2_%E0%A4%B8%E0%A5%87%E0%A4%97%E0%A4%A8\" hreflang=\"mr\" lang=\"mr\" title=\"कार्ल सेगन (maratí)\">मराठी</a></li><li class=\"interlanguage-link interwiki-ms\"><a class=\"interlanguage-link-target\" href=\"https://ms.wikipedia.org/wiki/Carl_Sagan\" hreflang=\"ms\" lang=\"ms\" title=\"Carl Sagan (malayo)\">Bahasa Melayu</a></li><li class=\"interlanguage-link interwiki-my\"><a class=\"interlanguage-link-target\" href=\"https://my.wikipedia.org/wiki/%E1%80%80%E1%80%AC%E1%80%B8%E1%80%9C%E1%80%BA_%E1%80%86%E1%80%B1%E1%80%82%E1%80%94%E1%80%BA\" hreflang=\"my\" lang=\"my\" title=\"ကားလ် ဆေဂန် (birmano)\">မြန်မာဘာသာ</a></li><li class=\"interlanguage-link interwiki-nah\"><a class=\"interlanguage-link-target\" href=\"https://nah.wikipedia.org/wiki/Carl_Sagan\" hreflang=\"nah\" lang=\"nah\" title=\"Carl Sagan (Nāhuatl)\">Nāhuatl</a></li><li class=\"interlanguage-link interwiki-nl\"><a class=\"interlanguage-link-target\" href=\"https://nl.wikipedia.org/wiki/Carl_Sagan\" hreflang=\"nl\" lang=\"nl\" title=\"Carl Sagan (neerlandés)\">Nederlands</a></li><li class=\"interlanguage-link interwiki-nn\"><a class=\"interlanguage-link-target\" href=\"https://nn.wikipedia.org/wiki/Carl_Sagan\" hreflang=\"nn\" lang=\"nn\" title=\"Carl Sagan (noruego nynorsk)\">Norsk nynorsk</a></li><li class=\"interlanguage-link interwiki-no\"><a class=\"interlanguage-link-target\" href=\"https://no.wikipedia.org/wiki/Carl_Sagan\" hreflang=\"nb\" lang=\"nb\" title=\"Carl Sagan (noruego bokmal)\">Norsk bokmål</a></li><li class=\"interlanguage-link interwiki-oc\"><a class=\"interlanguage-link-target\" href=\"https://oc.wikipedia.org/wiki/Carl_Sagan\" hreflang=\"oc\" lang=\"oc\" title=\"Carl Sagan (occitano)\">Occitan</a></li><li class=\"interlanguage-link interwiki-pa\"><a class=\"interlanguage-link-target\" href=\"https://pa.wikipedia.org/wiki/%E0%A8%95%E0%A8%BE%E0%A8%B0%E0%A8%B2_%E0%A8%90%E0%A8%A1%E0%A8%B5%E0%A8%B0%E0%A8%A1_%E0%A8%B8%E0%A9%87%E0%A8%97%E0%A8%A8\" hreflang=\"pa\" lang=\"pa\" title=\"ਕਾਰਲ ਐਡਵਰਡ ਸੇਗਨ (punyabí)\">ਪੰਜਾਬੀ</a></li><li class=\"interlanguage-link interwiki-pl\"><a class=\"interlanguage-link-target\" href=\"https://pl.wikipedia.org/wiki/Carl_Sagan\" hreflang=\"pl\" lang=\"pl\" title=\"Carl Sagan (polaco)\">Polski</a></li><li class=\"interlanguage-link interwiki-pnb\"><a class=\"interlanguage-link-target\" href=\"https://pnb.wikipedia.org/wiki/%DA%A9%D8%A7%D8%B1%D9%84_%D8%A7%DB%8C%DA%88%D9%88%D8%B1%DA%88_%D8%B3%DB%8C%DA%AF%D9%86\" hreflang=\"pnb\" lang=\"pnb\" title=\"کارل ایڈورڈ سیگن (Western Punjabi)\">پنجابی</a></li><li class=\"interlanguage-link interwiki-pt\"><a class=\"interlanguage-link-target\" href=\"https://pt.wikipedia.org/wiki/Carl_Sagan\" hreflang=\"pt\" lang=\"pt\" title=\"Carl Sagan (portugués)\">Português</a></li><li class=\"interlanguage-link interwiki-qu\"><a class=\"interlanguage-link-target\" href=\"https://qu.wikipedia.org/wiki/Carl_Sagan\" hreflang=\"qu\" lang=\"qu\" title=\"Carl Sagan (quechua)\">Runa Simi</a></li><li class=\"interlanguage-link interwiki-ro\"><a class=\"interlanguage-link-target\" href=\"https://ro.wikipedia.org/wiki/Carl_Sagan\" hreflang=\"ro\" lang=\"ro\" title=\"Carl Sagan (rumano)\">Română</a></li><li class=\"interlanguage-link interwiki-ru\"><a class=\"interlanguage-link-target\" href=\"https://ru.wikipedia.org/wiki/%D0%A1%D0%B0%D0%B3%D0%B0%D0%BD,_%D0%9A%D0%B0%D1%80%D0%BB\" hreflang=\"ru\" lang=\"ru\" title=\"Саган, Карл (ruso)\">Русский</a></li><li class=\"interlanguage-link interwiki-sco\"><a class=\"interlanguage-link-target\" href=\"https://sco.wikipedia.org/wiki/Carl_Sagan\" hreflang=\"sco\" lang=\"sco\" title=\"Carl Sagan (escocés)\">Scots</a></li><li class=\"interlanguage-link interwiki-sd\"><a class=\"interlanguage-link-target\" href=\"https://sd.wikipedia.org/wiki/%DA%AA%D8%A7%D8%B1%D9%84_%D8%B3%D8%A7%DA%AF%D8%A7%D9%86\" hreflang=\"sd\" lang=\"sd\" title=\"ڪارل ساگان (sindhi)\">سنڌي</a></li><li class=\"interlanguage-link interwiki-sh\"><a class=\"interlanguage-link-target\" href=\"https://sh.wikipedia.org/wiki/Carl_Sagan\" hreflang=\"sh\" lang=\"sh\" title=\"Carl Sagan (serbocroata)\">Srpskohrvatski / српскохрватски</a></li><li class=\"interlanguage-link interwiki-simple\"><a class=\"interlanguage-link-target\" href=\"https://simple.wikipedia.org/wiki/Carl_Sagan\" hreflang=\"en-simple\" lang=\"en-simple\" title=\"Carl Sagan (Simple English)\">Simple English</a></li><li class=\"interlanguage-link interwiki-sk\"><a class=\"interlanguage-link-target\" href=\"https://sk.wikipedia.org/wiki/Carl_Sagan\" hreflang=\"sk\" lang=\"sk\" title=\"Carl Sagan (eslovaco)\">Slovenčina</a></li><li class=\"interlanguage-link interwiki-sl\"><a class=\"interlanguage-link-target\" href=\"https://sl.wikipedia.org/wiki/Carl_Sagan\" hreflang=\"sl\" lang=\"sl\" title=\"Carl Sagan (esloveno)\">Slovenščina</a></li><li class=\"interlanguage-link interwiki-sq\"><a class=\"interlanguage-link-target\" href=\"https://sq.wikipedia.org/wiki/Carl_Sagan\" hreflang=\"sq\" lang=\"sq\" title=\"Carl Sagan (albanés)\">Shqip</a></li><li class=\"interlanguage-link interwiki-sr\"><a class=\"interlanguage-link-target\" href=\"https://sr.wikipedia.org/wiki/%D0%9A%D0%B0%D1%80%D0%BB_%D0%A1%D0%B5%D1%98%D0%B3%D0%B0%D0%BD\" hreflang=\"sr\" lang=\"sr\" title=\"Карл Сејган (serbio)\">Српски / srpski</a></li><li class=\"interlanguage-link interwiki-sv\"><a class=\"interlanguage-link-target\" href=\"https://sv.wikipedia.org/wiki/Carl_Sagan\" hreflang=\"sv\" lang=\"sv\" title=\"Carl Sagan (sueco)\">Svenska</a></li><li class=\"interlanguage-link interwiki-sw\"><a class=\"interlanguage-link-target\" href=\"https://sw.wikipedia.org/wiki/Carl_Sagan\" hreflang=\"sw\" lang=\"sw\" title=\"Carl Sagan (suajili)\">Kiswahili</a></li><li class=\"interlanguage-link interwiki-ta\"><a class=\"interlanguage-link-target\" href=\"https://ta.wikipedia.org/wiki/%E0%AE%95%E0%AE%BE%E0%AE%B0%E0%AF%8D%E0%AE%B2%E0%AF%8D_%E0%AE%9A%E0%AF%87%E0%AE%95%E0%AE%A9%E0%AF%8D\" hreflang=\"ta\" lang=\"ta\" title=\"கார்ல் சேகன் (tamil)\">தமிழ்</a></li><li class=\"interlanguage-link interwiki-tg\"><a class=\"interlanguage-link-target\" href=\"https://tg.wikipedia.org/wiki/%D0%9A%D0%B0%D1%80%D0%BB_%D0%A1%D0%B0%D0%B3%D0%B0%D0%BD\" hreflang=\"tg\" lang=\"tg\" title=\"Карл Саган (tayiko)\">Тоҷикӣ</a></li><li class=\"interlanguage-link interwiki-th\"><a class=\"interlanguage-link-target\" href=\"https://th.wikipedia.org/wiki/%E0%B8%84%E0%B8%B2%E0%B8%A3%E0%B9%8C%E0%B8%A5_%E0%B9%80%E0%B8%8B%E0%B9%81%E0%B8%81%E0%B8%99\" hreflang=\"th\" lang=\"th\" title=\"คาร์ล เซแกน (tailandés)\">ไทย</a></li><li class=\"interlanguage-link interwiki-tk\"><a class=\"interlanguage-link-target\" href=\"https://tk.wikipedia.org/wiki/Karl_Se%C3%BDgan\" hreflang=\"tk\" lang=\"tk\" title=\"Karl Seýgan (turcomano)\">Türkmençe</a></li><li class=\"interlanguage-link interwiki-tl\"><a class=\"interlanguage-link-target\" href=\"https://tl.wikipedia.org/wiki/Carl_Sagan\" hreflang=\"tl\" lang=\"tl\" title=\"Carl Sagan (tagalo)\">Tagalog</a></li><li class=\"interlanguage-link interwiki-tr\"><a class=\"interlanguage-link-target\" href=\"https://tr.wikipedia.org/wiki/Carl_Sagan\" hreflang=\"tr\" lang=\"tr\" title=\"Carl Sagan (turco)\">Türkçe</a></li><li class=\"interlanguage-link interwiki-uk\"><a class=\"interlanguage-link-target\" href=\"https://uk.wikipedia.org/wiki/%D0%9A%D0%B0%D1%80%D0%BB_%D0%A1%D0%B0%D0%B3%D0%B0%D0%BD\" hreflang=\"uk\" lang=\"uk\" title=\"Карл Саган (ucraniano)\">Українська</a></li><li class=\"interlanguage-link interwiki-ur\"><a class=\"interlanguage-link-target\" href=\"https://ur.wikipedia.org/wiki/%DA%A9%D8%A7%D8%B1%D9%84_%D8%B3%D8%A7%DA%AF%D8%A7%D9%86\" hreflang=\"ur\" lang=\"ur\" title=\"کارل ساگان (urdu)\">اردو</a></li><li class=\"interlanguage-link interwiki-vi\"><a class=\"interlanguage-link-target\" href=\"https://vi.wikipedia.org/wiki/Carl_Sagan\" hreflang=\"vi\" lang=\"vi\" title=\"Carl Sagan (vietnamita)\">Tiếng Việt</a></li><li class=\"interlanguage-link interwiki-war\"><a class=\"interlanguage-link-target\" href=\"https://war.wikipedia.org/wiki/Carl_Sagan\" hreflang=\"war\" lang=\"war\" title=\"Carl Sagan (waray)\">Winaray</a></li><li class=\"interlanguage-link interwiki-wuu\"><a class=\"interlanguage-link-target\" href=\"https://wuu.wikipedia.org/wiki/%E5%8D%A1%E5%B0%94%C2%B7%E8%90%A8%E6%A0%B9\" hreflang=\"wuu\" lang=\"wuu\" title=\"卡尔·萨根 (chino wu)\">吴语</a></li><li class=\"interlanguage-link interwiki-zh\"><a class=\"interlanguage-link-target\" href=\"https://zh.wikipedia.org/wiki/%E5%8D%A1%E5%B0%94%C2%B7%E8%90%A8%E6%A0%B9\" hreflang=\"zh\" lang=\"zh\" title=\"卡尔·萨根 (chino)\">中文</a></li><li class=\"interlanguage-link interwiki-zh-min-nan\"><a class=\"interlanguage-link-target\" href=\"https://zh-min-nan.wikipedia.org/wiki/Carl_Sagan\" hreflang=\"nan\" lang=\"nan\" title=\"Carl Sagan (Chinese (Min Nan))\">Bân-lâm-gú</a></li><li class=\"interlanguage-link interwiki-zh-yue\"><a class=\"interlanguage-link-target\" href=\"https://zh-yue.wikipedia.org/wiki/%E5%8D%A1%E7%88%BE%E8%96%A9%E6%A0%B9\" hreflang=\"yue\" lang=\"yue\" title=\"卡爾薩根 (Cantonese)\">粵語</a></li></ul>\n",
       "<div class=\"after-portlet after-portlet-lang\"><span class=\"wb-langlinks-edit wb-langlinks-link\"><a class=\"wbc-editpage\" href=\"https://www.wikidata.org/wiki/Special:EntityPage/Q410#sitelinks-wikipedia\" title=\"Editar enlaces interlingüísticos\">Editar enlaces</a></span></div>\n",
       "</div>\n",
       "</nav>\n",
       "</div>\n",
       "</div>\n",
       "<footer class=\"mw-footer\" id=\"footer\" role=\"contentinfo\">\n",
       "<ul id=\"footer-info\">\n",
       "<li id=\"footer-info-lastmod\"> Esta página se editó por última vez el 17 ago 2020 a las 02:30.</li>\n",
       "<li id=\"footer-info-copyright\">El texto está disponible bajo la <a href=\"//es.wikipedia.org/wiki/Wikipedia:Texto_de_la_Licencia_Creative_Commons_Atribuci%C3%B3n-CompartirIgual_3.0_Unported\" rel=\"license\">Licencia Creative Commons Atribución Compartir Igual 3.0</a><a href=\"http://creativecommons.org/licenses/by-sa/3.0/\" rel=\"license\" style=\"display:none;\"></a>;\n",
       "pueden aplicarse cláusulas adicionales. Al usar este sitio, usted acepta nuestros <a href=\"//wikimediafoundation.org/wiki/Terms_of_Use\">términos de uso</a> y nuestra <a href=\"//wikimediafoundation.org/wiki/Privacy_policy\">política de privacidad</a>. <br/>Wikipedia® es una marca registrada de la <a href=\"//www.wikimediafoundation.org/\">Fundación Wikimedia, Inc.</a>, una organización sin ánimo de lucro.</li>\n",
       "</ul>\n",
       "<ul id=\"footer-places\">\n",
       "<li id=\"footer-places-privacy\"><a class=\"extiw\" href=\"https://meta.wikimedia.org/wiki/Privacy_policy/es\" title=\"m:Privacy policy/es\">Política de privacidad</a></li>\n",
       "<li id=\"footer-places-about\"><a href=\"/wiki/Wikipedia:Acerca_de\" title=\"Wikipedia:Acerca de\">Acerca de Wikipedia</a></li>\n",
       "<li id=\"footer-places-disclaimer\"><a href=\"/wiki/Wikipedia:Limitaci%C3%B3n_general_de_responsabilidad\" title=\"Wikipedia:Limitación general de responsabilidad\">Limitación de responsabilidad</a></li>\n",
       "<li id=\"footer-places-mobileview\"><a class=\"noprint stopMobileRedirectToggle\" href=\"//es.m.wikipedia.org/w/index.php?title=Carl_Sagan&amp;mobileaction=toggle_view_mobile\">Versión para móviles</a></li>\n",
       "<li id=\"footer-places-developers\"><a href=\"https://www.mediawiki.org/wiki/Special:MyLanguage/How_to_contribute\">Desarrolladores</a></li>\n",
       "<li id=\"footer-places-statslink\"><a href=\"https://stats.wikimedia.org/#/es.wikipedia.org\">Estadísticas</a></li>\n",
       "<li id=\"footer-places-cookiestatement\"><a href=\"https://foundation.wikimedia.org/wiki/Cookie_statement/es\">Declaración de cookies</a></li>\n",
       "</ul>\n",
       "<ul class=\"noprint\" id=\"footer-icons\">\n",
       "<li id=\"footer-copyrightico\"><a href=\"https://wikimediafoundation.org/\"><img alt=\"Wikimedia Foundation\" height=\"31\" loading=\"lazy\" src=\"/static/images/footer/wikimedia-button.png\" srcset=\"/static/images/footer/wikimedia-button-1.5x.png 1.5x, /static/images/footer/wikimedia-button-2x.png 2x\" width=\"88\"/></a></li>\n",
       "<li id=\"footer-poweredbyico\"><a href=\"https://www.mediawiki.org/\"><img alt=\"Powered by MediaWiki\" height=\"31\" loading=\"lazy\" src=\"/static/images/footer/poweredby_mediawiki_88x31.png\" srcset=\"/static/images/footer/poweredby_mediawiki_132x47.png 1.5x, /static/images/footer/poweredby_mediawiki_176x62.png 2x\" width=\"88\"/></a></li>\n",
       "</ul>\n",
       "<div style=\"clear: both;\"></div>\n",
       "</footer>\n",
       "<script>(RLQ=window.RLQ||[]).push(function(){mw.config.set({\"wgPageParseReport\":{\"limitreport\":{\"cputime\":\"0.948\",\"walltime\":\"1.172\",\"ppvisitednodes\":{\"value\":6403,\"limit\":1000000},\"postexpandincludesize\":{\"value\":152424,\"limit\":2097152},\"templateargumentsize\":{\"value\":11364,\"limit\":2097152},\"expansiondepth\":{\"value\":20,\"limit\":40},\"expensivefunctioncount\":{\"value\":18,\"limit\":500},\"unstrip-depth\":{\"value\":0,\"limit\":20},\"unstrip-size\":{\"value\":112164,\"limit\":5000000},\"entityaccesscount\":{\"value\":19,\"limit\":400},\"timingprofile\":[\"100.00%  968.664      1 -total\",\" 31.54%  305.547      1 Plantilla:Listaref\",\" 30.98%  300.053      1 Plantilla:NF\",\" 23.70%  229.582      1 Plantilla:Ficha_de_persona\",\"  7.06%   68.387     26 Plantilla:Cita_web\",\"  6.97%   67.503     19 Plantilla:Cita_libro\",\"  4.41%   42.676      3 Plantilla:Cita_episodio\",\"  3.93%   38.040      3 Plantilla:Obra_citada/núcleo\",\"  2.60%   25.208     10 Plantilla:Cita\",\"  2.01%   19.484      1 Plantilla:Y-e\"]},\"scribunto\":{\"limitreport-timeusage\":{\"value\":\"0.509\",\"limit\":\"10.000\"},\"limitreport-memusage\":{\"value\":9859641,\"limit\":52428800},\"limitreport-logs\":\"\\\"Estadounidense\\\"\\n\"},\"cachereport\":{\"origin\":\"mw1403\",\"timestamp\":\"20200823124827\",\"ttl\":2592000,\"transientcontent\":false}}});});</script>\n",
       "<script type=\"application/ld+json\">{\"@context\":\"https:\\/\\/schema.org\",\"@type\":\"Article\",\"name\":\"Carl Sagan\",\"url\":\"https:\\/\\/es.wikipedia.org\\/wiki\\/Carl_Sagan\",\"sameAs\":\"http:\\/\\/www.wikidata.org\\/entity\\/Q410\",\"mainEntity\":\"http:\\/\\/www.wikidata.org\\/entity\\/Q410\",\"author\":{\"@type\":\"Organization\",\"name\":\"Colaboradores de los proyectos Wikimedia\"},\"publisher\":{\"@type\":\"Organization\",\"name\":\"Wikimedia Foundation, Inc.\",\"logo\":{\"@type\":\"ImageObject\",\"url\":\"https:\\/\\/www.wikimedia.org\\/static\\/images\\/wmf-hor-googpub.png\"}},\"datePublished\":\"2002-02-08T03:10:57Z\",\"dateModified\":\"2020-08-17T02:30:22Z\",\"image\":\"https:\\/\\/upload.wikimedia.org\\/wikipedia\\/commons\\/0\\/09\\/Carl_Sagan%2C_1994.jpg\",\"headline\":\"astrof\\u00edsico, cosm\\u00f3logo y divulgador cient\\u00edfico estadounidense.\"}</script>\n",
       "<script>(RLQ=window.RLQ||[]).push(function(){mw.config.set({\"wgBackendResponseTime\":198,\"wgHostname\":\"mw1326\"});});</script>\n",
       "</body></html>"
      ]
     },
     "execution_count": 63,
     "metadata": {},
     "output_type": "execute_result"
    }
   ],
   "source": [
    "soup = bs.BeautifulSoup(fuente, 'html.parser')\n",
    "soup"
   ]
  },
  {
   "cell_type": "markdown",
   "metadata": {},
   "source": [
    "**Encabezado**"
   ]
  },
  {
   "cell_type": "code",
   "execution_count": 74,
   "metadata": {},
   "outputs": [
    {
     "data": {
      "text/plain": [
       "['Carl Sagan']"
      ]
     },
     "execution_count": 74,
     "metadata": {},
     "output_type": "execute_result"
    }
   ],
   "source": [
    "soup.find('h1').contents"
   ]
  },
  {
   "cell_type": "markdown",
   "metadata": {},
   "source": [
    "**Párrafos**"
   ]
  },
  {
   "cell_type": "code",
   "execution_count": 95,
   "metadata": {},
   "outputs": [],
   "source": [
    "parrafos = soup.find_all('p')"
   ]
  },
  {
   "cell_type": "code",
   "execution_count": 97,
   "metadata": {
    "scrolled": true
   },
   "outputs": [
    {
     "data": {
      "text/plain": [
       "75"
      ]
     },
     "execution_count": 97,
     "metadata": {},
     "output_type": "execute_result"
    }
   ],
   "source": [
    "#Cantidad de párrafos\n",
    "\n",
    "len(parrafos)"
   ]
  },
  {
   "cell_type": "markdown",
   "metadata": {},
   "source": [
    "Primer párrafo:"
   ]
  },
  {
   "cell_type": "code",
   "execution_count": 145,
   "metadata": {},
   "outputs": [],
   "source": [
    "parrafo_1 = parrafos[0]"
   ]
  },
  {
   "cell_type": "markdown",
   "metadata": {},
   "source": [
    "Links primer párrafo:"
   ]
  },
  {
   "cell_type": "code",
   "execution_count": 137,
   "metadata": {},
   "outputs": [],
   "source": [
    "link_1 = parrafo_1.find_all('a')"
   ]
  },
  {
   "cell_type": "markdown",
   "metadata": {},
   "source": [
    "Extraccion de los contenidos y titulos:"
   ]
  },
  {
   "cell_type": "code",
   "execution_count": 146,
   "metadata": {},
   "outputs": [],
   "source": [
    "contenidos = []\n",
    "\n",
    "for i in range(0,len(link_1)):\n",
    "    contenidos.append(link_1[i].contents)"
   ]
  },
  {
   "cell_type": "code",
   "execution_count": 147,
   "metadata": {},
   "outputs": [],
   "source": [
    "titulos = []\n",
    "\n",
    "for i in range(0,len(link_1)):\n",
    "    titulos.append(link_1[i].get('title'))"
   ]
  },
  {
   "cell_type": "markdown",
   "metadata": {},
   "source": [
    "**Resultados:**"
   ]
  },
  {
   "cell_type": "code",
   "execution_count": 152,
   "metadata": {},
   "outputs": [
    {
     "name": "stdout",
     "output_type": "stream",
     "text": [
      "Link:\n",
      "<a href=\"/wiki/Nueva_York\" title=\"Nueva York\">Nueva York</a>\n",
      "Contenido:\n",
      "['Nueva York']\n",
      "Titulo:\n",
      "Nueva York\n",
      "\n",
      "Link:\n",
      "<a href=\"/wiki/9_de_noviembre\" title=\"9 de noviembre\">9 de noviembre</a>\n",
      "Contenido:\n",
      "['9 de noviembre']\n",
      "Titulo:\n",
      "9 de noviembre\n",
      "\n",
      "Link:\n",
      "<a href=\"/wiki/1934\" title=\"1934\">1934</a>\n",
      "Contenido:\n",
      "['1934']\n",
      "Titulo:\n",
      "1934\n",
      "\n",
      "Link:\n",
      "<a href=\"/wiki/Seattle\" title=\"Seattle\">Seattle</a>\n",
      "Contenido:\n",
      "['Seattle']\n",
      "Titulo:\n",
      "Seattle\n",
      "\n",
      "Link:\n",
      "<a href=\"/wiki/20_de_diciembre\" title=\"20 de diciembre\">20 de diciembre</a>\n",
      "Contenido:\n",
      "['20 de diciembre']\n",
      "Titulo:\n",
      "20 de diciembre\n",
      "\n",
      "Link:\n",
      "<a href=\"/wiki/1996\" title=\"1996\">1996</a>\n",
      "Contenido:\n",
      "['1996']\n",
      "Titulo:\n",
      "1996\n",
      "\n",
      "Link:\n",
      "<a href=\"/wiki/Astronom%C3%ADa\" title=\"Astronomía\">astrónomo</a>\n",
      "Contenido:\n",
      "['astrónomo']\n",
      "Titulo:\n",
      "Astronomía\n",
      "\n",
      "Link:\n",
      "<a href=\"/wiki/Astrof%C3%ADsica\" title=\"Astrofísica\">astrofísico</a>\n",
      "Contenido:\n",
      "['astrofísico']\n",
      "Titulo:\n",
      "Astrofísica\n",
      "\n",
      "Link:\n",
      "<a href=\"/wiki/Cosmolog%C3%ADa\" title=\"Cosmología\">cosmólogo</a>\n",
      "Contenido:\n",
      "['cosmólogo']\n",
      "Titulo:\n",
      "Cosmología\n",
      "\n",
      "Link:\n",
      "<a href=\"/wiki/Astrobiolog%C3%ADa\" title=\"Astrobiología\">astrobiólogo</a>\n",
      "Contenido:\n",
      "['astrobiólogo']\n",
      "Titulo:\n",
      "Astrobiología\n",
      "\n",
      "Link:\n",
      "<a href=\"/wiki/Nacionalidad_estadounidense\" title=\"Nacionalidad estadounidense\">estadounidense</a>\n",
      "Contenido:\n",
      "['estadounidense']\n",
      "Titulo:\n",
      "Nacionalidad estadounidense\n",
      "\n",
      "Link:\n",
      "<a href=\"/wiki/Universidad_de_Harvard\" title=\"Universidad de Harvard\">Universidad de Harvard</a>\n",
      "Contenido:\n",
      "['Universidad de Harvard']\n",
      "Titulo:\n",
      "Universidad de Harvard\n",
      "\n",
      "Link:\n",
      "<a class=\"mw-redirect\" href=\"/wiki/Universidad_de_Cornell\" title=\"Universidad de Cornell\">Universidad de Cornell</a>\n",
      "Contenido:\n",
      "['Universidad de Cornell']\n",
      "Titulo:\n",
      "Universidad de Cornell\n",
      "\n",
      "Link:\n",
      "<a class=\"new\" href=\"/w/index.php?title=C%C3%A1tedra_David_Duncan_de_Astronom%C3%ADa_y_Ciencias_del_Espacio&amp;action=edit&amp;redlink=1\" title=\"Cátedra David Duncan de Astronomía y Ciencias del Espacio (aún no redactado)\">Cátedra David Duncan de Astronomía y Ciencias del Espacio</a>\n",
      "Contenido:\n",
      "['Cátedra David Duncan de Astronomía y Ciencias del Espacio']\n",
      "Titulo:\n",
      "Cátedra David Duncan de Astronomía y Ciencias del Espacio (aún no redactado)\n",
      "\n",
      "Link:\n",
      "<a href=\"/wiki/1976\" title=\"1976\">1976</a>\n",
      "Contenido:\n",
      "['1976']\n",
      "Titulo:\n",
      "1976\n",
      "\n",
      "Link:\n",
      "<a class=\"new\" href=\"/w/index.php?title=Laboratorio_de_Estudios_Planetarios&amp;action=edit&amp;redlink=1\" title=\"Laboratorio de Estudios Planetarios (aún no redactado)\">Laboratorio de Estudios Planetarios</a>\n",
      "Contenido:\n",
      "['Laboratorio de Estudios Planetarios']\n",
      "Titulo:\n",
      "Laboratorio de Estudios Planetarios (aún no redactado)\n",
      "\n"
     ]
    }
   ],
   "source": [
    "for i in range(0,len(link_1)):\n",
    "    print('Link:\\n{}\\n'.format(link_1[i])+\n",
    "      'Contenido:\\n{}\\nTitulo:\\n{}\\n'.format(contenidos[i],titulos[i]))"
   ]
  },
  {
   "cell_type": "markdown",
   "metadata": {},
   "source": [
    "**Una vez hecho el analisis para la página de `Carl Sagan`, vamos a realizar una funcion que realice todos los cálculos y que reciba por parámetro la url de la página.**"
   ]
  },
  {
   "cell_type": "markdown",
   "metadata": {},
   "source": [
    " "
   ]
  },
  {
   "cell_type": "markdown",
   "metadata": {},
   "source": [
    "Definición de la función:"
   ]
  },
  {
   "cell_type": "code",
   "execution_count": 183,
   "metadata": {},
   "outputs": [],
   "source": [
    "def informacion_url(url):\n",
    "    \n",
    "    request = urllib.request.urlopen(url)\n",
    "    fuente = request.read()\n",
    "    request.close()\n",
    "    \n",
    "    html = bs.BeautifulSoup(fuente, 'html.parser')\n",
    "    \n",
    "    encabezado = html.find('h1').contents\n",
    "    \n",
    "    parrafos = html.find_all('p')\n",
    "    parrafo_1 = parrafos[0]\n",
    "    \n",
    "    link_1 = parrafo_1.find_all('a')\n",
    "    \n",
    "    contenidos = []\n",
    "    for i in range(0,len(link_1)):\n",
    "        contenidos.append(link_1[i].contents)\n",
    "        \n",
    "    titulos = []\n",
    "    for i in range(0,len(link_1)):\n",
    "        titulos.append(link_1[i].get('title'))\n",
    "        \n",
    "    lista = []\n",
    "    for i in range(0,len(link_1)):\n",
    "        lista.append(str('Link: {}'.format(link_1[i]))+\n",
    "                     str(' Contenido: {} Titulo: {}'.format(contenidos[i],titulos[i])))\n",
    "    \n",
    "    return(lista)"
   ]
  },
  {
   "cell_type": "markdown",
   "metadata": {},
   "source": [
    "url's de las páginas:"
   ]
  },
  {
   "cell_type": "code",
   "execution_count": 199,
   "metadata": {},
   "outputs": [],
   "source": [
    "# Carl Sagan\n",
    "url1 = 'https://es.wikipedia.org/wiki/Carl_Sagan'\n",
    "\n",
    "# Diomedes Diaz\n",
    "url2 = 'https://es.wikipedia.org/wiki/Diomedes_D%C3%ADaz'\n",
    "\n",
    "# Rafael Orozco\n",
    "url3 = 'https://es.wikipedia.org/wiki/Rafael_Orozco_Maestre'\n",
    "\n",
    "# Jean Carlo Centeno\n",
    "url4 = 'https://es.wikipedia.org/wiki/Jean_Carlos_Centeno'\n",
    "\n",
    "# Israel Romero\n",
    "url5 = 'https://es.wikipedia.org/wiki/Israel_Romero'\n",
    "\n",
    "# Jorge Celedón\n",
    "url6 = 'https://es.wikipedia.org/wiki/Jorge_Celed%C3%B3n'\n",
    "\n",
    "# Gustavo Petro\n",
    "url7 = 'https://es.wikipedia.org/wiki/Gustavo_Petro'\n",
    "\n",
    "# Paulo Freire\n",
    "url8 = 'https://es.wikipedia.org/wiki/Paulo_Freire'\n",
    "\n",
    "# Friedrich Nietzsche\n",
    "url9 = 'https://es.wikipedia.org/wiki/Friedrich_Nietzsche'\n",
    "\n",
    "# Inmanuel Kant\n",
    "url10 = 'https://es.wikipedia.org/wiki/Immanuel_Kant'"
   ]
  },
  {
   "cell_type": "code",
   "execution_count": 218,
   "metadata": {},
   "outputs": [],
   "source": [
    "lista_url = ['https://es.wikipedia.org/wiki/Carl_Sagan',\n",
    "             'https://es.wikipedia.org/wiki/Diomedes_D%C3%ADaz',\n",
    "             'https://es.wikipedia.org/wiki/Rafael_Orozco_Maestre',\n",
    "             'https://es.wikipedia.org/wiki/Jean_Carlos_Centeno',\n",
    "             'https://es.wikipedia.org/wiki/Israel_Romero',\n",
    "             'https://es.wikipedia.org/wiki/Jorge_Celed%C3%B3n',\n",
    "             'https://es.wikipedia.org/wiki/Gustavo_Petro',\n",
    "             'https://es.wikipedia.org/wiki/Paulo_Freire',\n",
    "             'https://es.wikipedia.org/wiki/Friedrich_Nietzsche',\n",
    "             'https://es.wikipedia.org/wiki/Immanuel_Kant']"
   ]
  },
  {
   "cell_type": "markdown",
   "metadata": {},
   "source": [
    "**Resultados:**"
   ]
  },
  {
   "cell_type": "code",
   "execution_count": 237,
   "metadata": {},
   "outputs": [
    {
     "name": "stdout",
     "output_type": "stream",
     "text": [
      "url: https://es.wikipedia.org/wiki/Carl_Sagan\n",
      "\t\n",
      "['Link: <a href=\"/wiki/Nueva_York\" title=\"Nueva York\">Nueva York</a> Contenido: [\\'Nueva York\\'] Titulo: Nueva York', 'Link: <a href=\"/wiki/9_de_noviembre\" title=\"9 de noviembre\">9 de noviembre</a> Contenido: [\\'9 de noviembre\\'] Titulo: 9 de noviembre', 'Link: <a href=\"/wiki/1934\" title=\"1934\">1934</a> Contenido: [\\'1934\\'] Titulo: 1934', 'Link: <a href=\"/wiki/Seattle\" title=\"Seattle\">Seattle</a> Contenido: [\\'Seattle\\'] Titulo: Seattle', 'Link: <a href=\"/wiki/20_de_diciembre\" title=\"20 de diciembre\">20 de diciembre</a> Contenido: [\\'20 de diciembre\\'] Titulo: 20 de diciembre', 'Link: <a href=\"/wiki/1996\" title=\"1996\">1996</a> Contenido: [\\'1996\\'] Titulo: 1996', 'Link: <a href=\"/wiki/Astronom%C3%ADa\" title=\"Astronomía\">astrónomo</a> Contenido: [\\'astrónomo\\'] Titulo: Astronomía', 'Link: <a href=\"/wiki/Astrof%C3%ADsica\" title=\"Astrofísica\">astrofísico</a> Contenido: [\\'astrofísico\\'] Titulo: Astrofísica', 'Link: <a href=\"/wiki/Cosmolog%C3%ADa\" title=\"Cosmología\">cosmólogo</a> Contenido: [\\'cosmólogo\\'] Titulo: Cosmología', 'Link: <a href=\"/wiki/Astrobiolog%C3%ADa\" title=\"Astrobiología\">astrobiólogo</a> Contenido: [\\'astrobiólogo\\'] Titulo: Astrobiología', 'Link: <a href=\"/wiki/Nacionalidad_estadounidense\" title=\"Nacionalidad estadounidense\">estadounidense</a> Contenido: [\\'estadounidense\\'] Titulo: Nacionalidad estadounidense', 'Link: <a href=\"/wiki/Universidad_de_Harvard\" title=\"Universidad de Harvard\">Universidad de Harvard</a> Contenido: [\\'Universidad de Harvard\\'] Titulo: Universidad de Harvard', 'Link: <a class=\"mw-redirect\" href=\"/wiki/Universidad_de_Cornell\" title=\"Universidad de Cornell\">Universidad de Cornell</a> Contenido: [\\'Universidad de Cornell\\'] Titulo: Universidad de Cornell', 'Link: <a class=\"new\" href=\"/w/index.php?title=C%C3%A1tedra_David_Duncan_de_Astronom%C3%ADa_y_Ciencias_del_Espacio&amp;action=edit&amp;redlink=1\" title=\"Cátedra David Duncan de Astronomía y Ciencias del Espacio (aún no redactado)\">Cátedra David Duncan de Astronomía y Ciencias del Espacio</a> Contenido: [\\'Cátedra David Duncan de Astronomía y Ciencias del Espacio\\'] Titulo: Cátedra David Duncan de Astronomía y Ciencias del Espacio (aún no redactado)', 'Link: <a href=\"/wiki/1976\" title=\"1976\">1976</a> Contenido: [\\'1976\\'] Titulo: 1976', 'Link: <a class=\"new\" href=\"/w/index.php?title=Laboratorio_de_Estudios_Planetarios&amp;action=edit&amp;redlink=1\" title=\"Laboratorio de Estudios Planetarios (aún no redactado)\">Laboratorio de Estudios Planetarios</a> Contenido: [\\'Laboratorio de Estudios Planetarios\\'] Titulo: Laboratorio de Estudios Planetarios (aún no redactado)']\n",
      "****************************************************************************************************\n",
      "url: https://es.wikipedia.org/wiki/Diomedes_D%C3%ADaz\n",
      "\t\n",
      "['Link: <a href=\"/wiki/San_Juan_del_Cesar\" title=\"San Juan del Cesar\">San Juan del Cesar</a> Contenido: [\\'San Juan del Cesar\\'] Titulo: San Juan del Cesar', 'Link: <a href=\"/wiki/Valledupar\" title=\"Valledupar\">Valledupar</a> Contenido: [\\'Valledupar\\'] Titulo: Valledupar', 'Link: <a class=\"mw-redirect\" href=\"/wiki/M%C3%BAsica_vallenata\" title=\"Música vallenata\">música vallenata</a> Contenido: [\\'música vallenata\\'] Titulo: Música vallenata', 'Link: <a href=\"#cite_note-diomedesregistro-3\"><span class=\"corchete-llamada\">[</span>3<span class=\"corchete-llamada\">]</span></a> Contenido: [<span class=\"corchete-llamada\">[</span>, \\'3\\', <span class=\"corchete-llamada\">]</span>] Titulo: None']\n",
      "****************************************************************************************************\n",
      "url: https://es.wikipedia.org/wiki/Immanuel_Kant\n",
      "\t\n",
      "['Link: <a href=\"/wiki/Alfabeto_Fon%C3%A9tico_Internacional\" title=\"Alfabeto Fonético Internacional\">[ɪˈmaːnu̯eːl ˈkant]</a> Contenido: [\\'[ɪˈmaːnu̯eːl ˈkant]\\'] Titulo: Alfabeto Fonético Internacional', 'Link: <a href=\"/wiki/K%C3%B6nigsberg\" title=\"Königsberg\">Königsberg</a> Contenido: [\\'Königsberg\\'] Titulo: Königsberg', 'Link: <a href=\"/wiki/Reino_de_Prusia\" title=\"Reino de Prusia\">Prusia</a> Contenido: [\\'Prusia\\'] Titulo: Reino de Prusia', 'Link: <a href=\"/wiki/22_de_abril\" title=\"22 de abril\">22 de abril</a> Contenido: [\\'22 de abril\\'] Titulo: 22 de abril', 'Link: <a href=\"/wiki/1724\" title=\"1724\">1724</a> Contenido: [\\'1724\\'] Titulo: 1724', 'Link: <a class=\"mw-redirect\" href=\"/wiki/Ib%C3%ADdem\" title=\"Ibídem\">ibídem</a> Contenido: [\\'ibídem\\'] Titulo: Ibídem', 'Link: <a href=\"/wiki/12_de_febrero\" title=\"12 de febrero\">12 de febrero</a> Contenido: [\\'12 de febrero\\'] Titulo: 12 de febrero', 'Link: <a href=\"/wiki/1804\" title=\"1804\">1804</a> Contenido: [\\'1804\\'] Titulo: 1804', 'Link: <a href=\"/wiki/Ilustraci%C3%B3n\" title=\"Ilustración\">Ilustración</a> Contenido: [\\'Ilustración\\'] Titulo: Ilustración', 'Link: <a href=\"/wiki/Criticismo\" title=\"Criticismo\">criticismo</a> Contenido: [\\'criticismo\\'] Titulo: Criticismo', 'Link: <a href=\"/wiki/Idealismo_alem%C3%A1n\" title=\"Idealismo alemán\">idealismo alemán</a> Contenido: [\\'idealismo alemán\\'] Titulo: Idealismo alemán', 'Link: <a href=\"/wiki/Filosof%C3%ADa_contempor%C3%A1nea\" title=\"Filosofía contemporánea\">filosofía contemporánea</a> Contenido: [\\'filosofía contemporánea\\'] Titulo: Filosofía contemporánea', 'Link: <a class=\"mw-redirect\" href=\"/wiki/Hegel\" title=\"Hegel\">Hegel</a> Contenido: [\\'Hegel\\'] Titulo: Hegel']\n",
      "****************************************************************************************************\n"
     ]
    }
   ],
   "source": [
    "for url in lista_url:\n",
    "    \n",
    "    print(f\"url: {url}\")\n",
    "    print(\"\\t\")\n",
    "    print(informacion_url(url))\n",
    "    #print(\"\\n\")\n",
    "    print(\"*\"*100)"
   ]
  },
  {
   "cell_type": "markdown",
   "metadata": {},
   "source": [
    " "
   ]
  },
  {
   "cell_type": "markdown",
   "metadata": {},
   "source": [
    "**Resultados (opcional ya que con el item anterior se generaliza)**"
   ]
  },
  {
   "cell_type": "markdown",
   "metadata": {},
   "source": [
    "url 1:"
   ]
  },
  {
   "cell_type": "code",
   "execution_count": 188,
   "metadata": {},
   "outputs": [
    {
     "data": {
      "text/plain": [
       "['Link: <a href=\"/wiki/Nueva_York\" title=\"Nueva York\">Nueva York</a> Contenido: [\\'Nueva York\\'] Titulo: Nueva York',\n",
       " 'Link: <a href=\"/wiki/9_de_noviembre\" title=\"9 de noviembre\">9 de noviembre</a> Contenido: [\\'9 de noviembre\\'] Titulo: 9 de noviembre',\n",
       " 'Link: <a href=\"/wiki/1934\" title=\"1934\">1934</a> Contenido: [\\'1934\\'] Titulo: 1934',\n",
       " 'Link: <a href=\"/wiki/Seattle\" title=\"Seattle\">Seattle</a> Contenido: [\\'Seattle\\'] Titulo: Seattle',\n",
       " 'Link: <a href=\"/wiki/20_de_diciembre\" title=\"20 de diciembre\">20 de diciembre</a> Contenido: [\\'20 de diciembre\\'] Titulo: 20 de diciembre',\n",
       " 'Link: <a href=\"/wiki/1996\" title=\"1996\">1996</a> Contenido: [\\'1996\\'] Titulo: 1996',\n",
       " 'Link: <a href=\"/wiki/Astronom%C3%ADa\" title=\"Astronomía\">astrónomo</a> Contenido: [\\'astrónomo\\'] Titulo: Astronomía',\n",
       " 'Link: <a href=\"/wiki/Astrof%C3%ADsica\" title=\"Astrofísica\">astrofísico</a> Contenido: [\\'astrofísico\\'] Titulo: Astrofísica',\n",
       " 'Link: <a href=\"/wiki/Cosmolog%C3%ADa\" title=\"Cosmología\">cosmólogo</a> Contenido: [\\'cosmólogo\\'] Titulo: Cosmología',\n",
       " 'Link: <a href=\"/wiki/Astrobiolog%C3%ADa\" title=\"Astrobiología\">astrobiólogo</a> Contenido: [\\'astrobiólogo\\'] Titulo: Astrobiología',\n",
       " 'Link: <a href=\"/wiki/Nacionalidad_estadounidense\" title=\"Nacionalidad estadounidense\">estadounidense</a> Contenido: [\\'estadounidense\\'] Titulo: Nacionalidad estadounidense',\n",
       " 'Link: <a href=\"/wiki/Universidad_de_Harvard\" title=\"Universidad de Harvard\">Universidad de Harvard</a> Contenido: [\\'Universidad de Harvard\\'] Titulo: Universidad de Harvard',\n",
       " 'Link: <a class=\"mw-redirect\" href=\"/wiki/Universidad_de_Cornell\" title=\"Universidad de Cornell\">Universidad de Cornell</a> Contenido: [\\'Universidad de Cornell\\'] Titulo: Universidad de Cornell',\n",
       " 'Link: <a class=\"new\" href=\"/w/index.php?title=C%C3%A1tedra_David_Duncan_de_Astronom%C3%ADa_y_Ciencias_del_Espacio&amp;action=edit&amp;redlink=1\" title=\"Cátedra David Duncan de Astronomía y Ciencias del Espacio (aún no redactado)\">Cátedra David Duncan de Astronomía y Ciencias del Espacio</a> Contenido: [\\'Cátedra David Duncan de Astronomía y Ciencias del Espacio\\'] Titulo: Cátedra David Duncan de Astronomía y Ciencias del Espacio (aún no redactado)',\n",
       " 'Link: <a href=\"/wiki/1976\" title=\"1976\">1976</a> Contenido: [\\'1976\\'] Titulo: 1976',\n",
       " 'Link: <a class=\"new\" href=\"/w/index.php?title=Laboratorio_de_Estudios_Planetarios&amp;action=edit&amp;redlink=1\" title=\"Laboratorio de Estudios Planetarios (aún no redactado)\">Laboratorio de Estudios Planetarios</a> Contenido: [\\'Laboratorio de Estudios Planetarios\\'] Titulo: Laboratorio de Estudios Planetarios (aún no redactado)']"
      ]
     },
     "execution_count": 188,
     "metadata": {},
     "output_type": "execute_result"
    }
   ],
   "source": [
    "informacion_url(url1)"
   ]
  },
  {
   "cell_type": "markdown",
   "metadata": {},
   "source": [
    "url 2:"
   ]
  },
  {
   "cell_type": "code",
   "execution_count": 189,
   "metadata": {},
   "outputs": [
    {
     "data": {
      "text/plain": [
       "['Link: <a href=\"/wiki/San_Juan_del_Cesar\" title=\"San Juan del Cesar\">San Juan del Cesar</a> Contenido: [\\'San Juan del Cesar\\'] Titulo: San Juan del Cesar',\n",
       " 'Link: <a href=\"/wiki/Valledupar\" title=\"Valledupar\">Valledupar</a> Contenido: [\\'Valledupar\\'] Titulo: Valledupar',\n",
       " 'Link: <a class=\"mw-redirect\" href=\"/wiki/M%C3%BAsica_vallenata\" title=\"Música vallenata\">música vallenata</a> Contenido: [\\'música vallenata\\'] Titulo: Música vallenata',\n",
       " 'Link: <a href=\"#cite_note-diomedesregistro-3\"><span class=\"corchete-llamada\">[</span>3<span class=\"corchete-llamada\">]</span></a> Contenido: [<span class=\"corchete-llamada\">[</span>, \\'3\\', <span class=\"corchete-llamada\">]</span>] Titulo: None']"
      ]
     },
     "execution_count": 189,
     "metadata": {},
     "output_type": "execute_result"
    }
   ],
   "source": [
    "informacion_url(url2)"
   ]
  }
 ],
 "metadata": {
  "kernelspec": {
   "display_name": "Python 3",
   "language": "python",
   "name": "python3"
  },
  "language_info": {
   "codemirror_mode": {
    "name": "ipython",
    "version": 3
   },
   "file_extension": ".py",
   "mimetype": "text/x-python",
   "name": "python",
   "nbconvert_exporter": "python",
   "pygments_lexer": "ipython3",
   "version": "3.7.3"
  }
 },
 "nbformat": 4,
 "nbformat_minor": 2
}
