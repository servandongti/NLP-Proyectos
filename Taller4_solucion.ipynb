{
 "cells": [
  {
   "cell_type": "markdown",
   "metadata": {},
   "source": [
    "# Punto 1: Pre-Procesamiento\n",
    "\n",
    "- `[11 pts]` Leer el archivo `dialogos.csv` usando `pandas`\n",
    "- `[11 pts]` Crear una nueva columna con el texto en minúscula, sin caracteres especiales ni números y sin palabras vacias"
   ]
  },
  {
   "cell_type": "markdown",
   "metadata": {},
   "source": [
    "- Importar librerias:"
   ]
  },
  {
   "cell_type": "code",
   "execution_count": 46,
   "metadata": {},
   "outputs": [],
   "source": [
    "import re\n",
    "import pandas as pd\n",
    "\n",
    "from nltk.corpus import stopwords\n",
    "stopwords_sp = stopwords.words('spanish')\n",
    "\n",
    "from sklearn.feature_extraction.text import CountVectorizer\n",
    "\n",
    "import operator"
   ]
  },
  {
   "cell_type": "markdown",
   "metadata": {},
   "source": [
    "**1.1 Lectura archivo:**"
   ]
  },
  {
   "cell_type": "code",
   "execution_count": 2,
   "metadata": {},
   "outputs": [
    {
     "data": {
      "text/html": [
       "<div>\n",
       "<style scoped>\n",
       "    .dataframe tbody tr th:only-of-type {\n",
       "        vertical-align: middle;\n",
       "    }\n",
       "\n",
       "    .dataframe tbody tr th {\n",
       "        vertical-align: top;\n",
       "    }\n",
       "\n",
       "    .dataframe thead th {\n",
       "        text-align: right;\n",
       "    }\n",
       "</style>\n",
       "<table border=\"1\" class=\"dataframe\">\n",
       "  <thead>\n",
       "    <tr style=\"text-align: right;\">\n",
       "      <th></th>\n",
       "      <th>Locución</th>\n",
       "    </tr>\n",
       "  </thead>\n",
       "  <tbody>\n",
       "    <tr>\n",
       "      <th>0</th>\n",
       "      <td>Francamente no</td>\n",
       "    </tr>\n",
       "    <tr>\n",
       "      <th>1</th>\n",
       "      <td>Lo del canadiense. Por favor, como que vosotro...</td>\n",
       "    </tr>\n",
       "    <tr>\n",
       "      <th>2</th>\n",
       "      <td>Tienes razón. A lo mejor así te liberas de tu ...</td>\n",
       "    </tr>\n",
       "    <tr>\n",
       "      <th>3</th>\n",
       "      <td>Pues, tú sabrás</td>\n",
       "    </tr>\n",
       "    <tr>\n",
       "      <th>4</th>\n",
       "      <td>Para mí que fue Krieger</td>\n",
       "    </tr>\n",
       "  </tbody>\n",
       "</table>\n",
       "</div>"
      ],
      "text/plain": [
       "                                            Locución\n",
       "0                                     Francamente no\n",
       "1  Lo del canadiense. Por favor, como que vosotro...\n",
       "2  Tienes razón. A lo mejor así te liberas de tu ...\n",
       "3                                    Pues, tú sabrás\n",
       "4                            Para mí que fue Krieger"
      ]
     },
     "execution_count": 2,
     "metadata": {},
     "output_type": "execute_result"
    }
   ],
   "source": [
    "# lectura de archivo\n",
    "dialogos = pd.read_csv('dialogos.csv', sep=',')\n",
    "dialogos.head()"
   ]
  },
  {
   "cell_type": "code",
   "execution_count": 3,
   "metadata": {},
   "outputs": [
    {
     "data": {
      "text/plain": [
       "(959, 1)"
      ]
     },
     "execution_count": 3,
     "metadata": {},
     "output_type": "execute_result"
    }
   ],
   "source": [
    "dialogos.shape"
   ]
  },
  {
   "cell_type": "markdown",
   "metadata": {},
   "source": [
    "**1.2 texto en minúscula, sin caracteres especiales ni números y sin palabras vacias:**"
   ]
  },
  {
   "cell_type": "markdown",
   "metadata": {},
   "source": [
    "- Definición de funciones:"
   ]
  },
  {
   "cell_type": "code",
   "execution_count": 31,
   "metadata": {},
   "outputs": [],
   "source": [
    "def quitar_tildes(s):\n",
    "    tildes = (\n",
    "        (\"á\", \"a\"),\n",
    "        (\"é\", \"e\"),\n",
    "        (\"í\", \"i\"),\n",
    "        (\"ó\", \"o\"),\n",
    "        (\"ú\", \"u\"),\n",
    "    )\n",
    "    for origen, destino in tildes:\n",
    "        s = s.replace(origen, destino)\n",
    "    return s"
   ]
  },
  {
   "cell_type": "code",
   "execution_count": 32,
   "metadata": {},
   "outputs": [],
   "source": [
    "def Preprocesamiento(s):\n",
    "    \n",
    "    texto_min = s.lower()\n",
    "    texto_l = re.sub(r\"[\\W\\d_]+\", \" \",texto_min)\n",
    "    texto_sint = quitar_tildes(texto_l)\n",
    "    texto_t = texto_sint.split()\n",
    "    texto_stopW = [palabra for palabra in texto_t if palabra not in stopwords_sp]\n",
    "    texto_procesado = \" \".join(texto_stopW)\n",
    "    \n",
    "    return texto_procesado"
   ]
  },
  {
   "cell_type": "markdown",
   "metadata": {},
   "source": [
    "- Creación de nueva columna con el pre-procesamiento:"
   ]
  },
  {
   "cell_type": "code",
   "execution_count": 35,
   "metadata": {},
   "outputs": [],
   "source": [
    "dialogos['pre-procesado'] = dialogos['Locución'].apply(lambda comentario: Preprocesamiento(comentario))"
   ]
  },
  {
   "cell_type": "code",
   "execution_count": 36,
   "metadata": {},
   "outputs": [
    {
     "data": {
      "text/html": [
       "<div>\n",
       "<style scoped>\n",
       "    .dataframe tbody tr th:only-of-type {\n",
       "        vertical-align: middle;\n",
       "    }\n",
       "\n",
       "    .dataframe tbody tr th {\n",
       "        vertical-align: top;\n",
       "    }\n",
       "\n",
       "    .dataframe thead th {\n",
       "        text-align: right;\n",
       "    }\n",
       "</style>\n",
       "<table border=\"1\" class=\"dataframe\">\n",
       "  <thead>\n",
       "    <tr style=\"text-align: right;\">\n",
       "      <th></th>\n",
       "      <th>Locución</th>\n",
       "      <th>pre-procesado</th>\n",
       "    </tr>\n",
       "  </thead>\n",
       "  <tbody>\n",
       "    <tr>\n",
       "      <th>0</th>\n",
       "      <td>Francamente no</td>\n",
       "      <td>francamente</td>\n",
       "    </tr>\n",
       "    <tr>\n",
       "      <th>1</th>\n",
       "      <td>Lo del canadiense. Por favor, como que vosotro...</td>\n",
       "      <td>canadiense favor tirariais alli si pudieseis</td>\n",
       "    </tr>\n",
       "    <tr>\n",
       "      <th>2</th>\n",
       "      <td>Tienes razón. A lo mejor así te liberas de tu ...</td>\n",
       "      <td>razon mejor asi liberas energia nagativa</td>\n",
       "    </tr>\n",
       "    <tr>\n",
       "      <th>3</th>\n",
       "      <td>Pues, tú sabrás</td>\n",
       "      <td>pues sabras</td>\n",
       "    </tr>\n",
       "    <tr>\n",
       "      <th>4</th>\n",
       "      <td>Para mí que fue Krieger</td>\n",
       "      <td>krieger</td>\n",
       "    </tr>\n",
       "    <tr>\n",
       "      <th>...</th>\n",
       "      <td>...</td>\n",
       "      <td>...</td>\n",
       "    </tr>\n",
       "    <tr>\n",
       "      <th>954</th>\n",
       "      <td>Yo qué sé, digo yo qué será</td>\n",
       "      <td>digo sera</td>\n",
       "    </tr>\n",
       "    <tr>\n",
       "      <th>955</th>\n",
       "      <td>Lo han entendido mal. Las joyas que venden en ...</td>\n",
       "      <td>entendido mal joyas venden canales siquiera in...</td>\n",
       "    </tr>\n",
       "    <tr>\n",
       "      <th>956</th>\n",
       "      <td>Oooo... Me llamo Vivian</td>\n",
       "      <td>oooo llamo vivian</td>\n",
       "    </tr>\n",
       "    <tr>\n",
       "      <th>957</th>\n",
       "      <td>¿De dónde? ¿Del coño de tu madre?</td>\n",
       "      <td>coño madre</td>\n",
       "    </tr>\n",
       "    <tr>\n",
       "      <th>958</th>\n",
       "      <td>Ah, sí esto podría funcionar</td>\n",
       "      <td>ah si podria funcionar</td>\n",
       "    </tr>\n",
       "  </tbody>\n",
       "</table>\n",
       "<p>959 rows × 2 columns</p>\n",
       "</div>"
      ],
      "text/plain": [
       "                                              Locución  \\\n",
       "0                                       Francamente no   \n",
       "1    Lo del canadiense. Por favor, como que vosotro...   \n",
       "2    Tienes razón. A lo mejor así te liberas de tu ...   \n",
       "3                                      Pues, tú sabrás   \n",
       "4                              Para mí que fue Krieger   \n",
       "..                                                 ...   \n",
       "954                        Yo qué sé, digo yo qué será   \n",
       "955  Lo han entendido mal. Las joyas que venden en ...   \n",
       "956                            Oooo... Me llamo Vivian   \n",
       "957                  ¿De dónde? ¿Del coño de tu madre?   \n",
       "958                       Ah, sí esto podría funcionar   \n",
       "\n",
       "                                         pre-procesado  \n",
       "0                                          francamente  \n",
       "1         canadiense favor tirariais alli si pudieseis  \n",
       "2             razon mejor asi liberas energia nagativa  \n",
       "3                                          pues sabras  \n",
       "4                                              krieger  \n",
       "..                                                 ...  \n",
       "954                                          digo sera  \n",
       "955  entendido mal joyas venden canales siquiera in...  \n",
       "956                                  oooo llamo vivian  \n",
       "957                                         coño madre  \n",
       "958                             ah si podria funcionar  \n",
       "\n",
       "[959 rows x 2 columns]"
      ]
     },
     "execution_count": 36,
     "metadata": {},
     "output_type": "execute_result"
    }
   ],
   "source": [
    "dialogos"
   ]
  },
  {
   "cell_type": "code",
   "execution_count": 83,
   "metadata": {},
   "outputs": [],
   "source": [
    "#\" \".join(dialogos['Locución'])"
   ]
  },
  {
   "cell_type": "markdown",
   "metadata": {},
   "source": [
    " "
   ]
  },
  {
   "cell_type": "markdown",
   "metadata": {},
   "source": [
    "# Punto 2: Representación vectorial\n",
    "\n",
    "- `[11 pts]` Crear una bolsa de palabras (BoW) del corpus usando la columna pre-procesada\n",
    "- `[11 pts]` ¿Cuántas palabras hay en el vocabulario? (Usando la función de `sklearn`)"
   ]
  },
  {
   "cell_type": "markdown",
   "metadata": {},
   "source": [
    "**2.1 Bolsa de palabras:**"
   ]
  },
  {
   "cell_type": "code",
   "execution_count": 37,
   "metadata": {},
   "outputs": [],
   "source": [
    "# Se carga la función, por defecto cuenta las frecuencias\n",
    "count_vect = CountVectorizer()\n",
    "\n",
    "# solo determina la ocurrecia de la palabra\n",
    "# count_vect = CountVectorizer(binary=True)\n",
    "\n",
    "# Representación de Bolsa de palabras\n",
    "bow_rep = count_vect.fit_transform(dialogos['pre-procesado'].values)"
   ]
  },
  {
   "cell_type": "markdown",
   "metadata": {},
   "source": [
    "**2.2 ¿cuántas palabras hay en el vocabulario?**"
   ]
  },
  {
   "cell_type": "code",
   "execution_count": 45,
   "metadata": {},
   "outputs": [
    {
     "name": "stdout",
     "output_type": "stream",
     "text": [
      "El vocabulario tiene: 2103\n"
     ]
    }
   ],
   "source": [
    "print(f\"El vocabulario tiene: {len(count_vect.vocabulary_)}\")"
   ]
  },
  {
   "cell_type": "markdown",
   "metadata": {},
   "source": [
    "- Vocabulario:"
   ]
  },
  {
   "cell_type": "code",
   "execution_count": 43,
   "metadata": {},
   "outputs": [
    {
     "data": {
      "text/plain": [
       "dict"
      ]
     },
     "execution_count": 43,
     "metadata": {},
     "output_type": "execute_result"
    }
   ],
   "source": [
    "# Tipo de datos:\n",
    "type(count_vect.vocabulary_)"
   ]
  },
  {
   "cell_type": "code",
   "execution_count": 69,
   "metadata": {},
   "outputs": [],
   "source": [
    "# ordenar el vocabulario\n",
    "vocabulario_order = sorted(count_vect.vocabulary_.items(), key=operator.itemgetter(1), reverse=False)"
   ]
  },
  {
   "cell_type": "code",
   "execution_count": 74,
   "metadata": {
    "scrolled": true
   },
   "outputs": [
    {
     "name": "stdout",
     "output_type": "stream",
     "text": [
      "('abastecido', 0)\n",
      "('abogada', 1)\n",
      "('abra', 2)\n",
      "('abracen', 3)\n",
      "('abracense', 4)\n",
      "('abrazan', 5)\n",
      "('abrazar', 6)\n",
      "('abrazas', 7)\n",
      "('abrazos', 8)\n",
      "('abrelo', 9)\n",
      "...\n"
     ]
    }
   ],
   "source": [
    "# primeras 10 palabras del vocabulario\n",
    "for i in range(0,10):\n",
    "    print(vocabulario_order[i])\n",
    "print(\"...\")"
   ]
  },
  {
   "cell_type": "code",
   "execution_count": 81,
   "metadata": {},
   "outputs": [
    {
     "name": "stdout",
     "output_type": "stream",
     "text": [
      "Representación BoW: 'abastecido abastecido abastecido abra abrazos': [[3 0 1 ... 0 0 0]]\n"
     ]
    }
   ],
   "source": [
    "ejemplo = count_vect.transform([\"abastecido abastecido abastecido abra abrazos\"])\n",
    "print(\"Representación BoW: 'abastecido abastecido abastecido abra abrazos':\", ejemplo.toarray())"
   ]
  },
  {
   "cell_type": "markdown",
   "metadata": {},
   "source": [
    " "
   ]
  },
  {
   "cell_type": "markdown",
   "metadata": {},
   "source": [
    "# Punto 3: 🤔\n",
    "\n",
    "- `[3pts]` ¿En qué casos es buena idea tomar en cuenta la frecuencia de las palabras para la bolsa de palabras?\n",
    "- `[3pts]` ¿Cuándo es una mejor idea usar una bolsa de n-gramas en vez de una bolsa de palabras?"
   ]
  },
  {
   "cell_type": "markdown",
   "metadata": {},
   "source": [
    "**3.1**"
   ]
  },
  {
   "cell_type": "markdown",
   "metadata": {},
   "source": [
    "Puede ser útil para determinar de que trata el documento, ya que cuanto mas aparezca una palabra en él, podemos inferir sus temas más relevantes."
   ]
  },
  {
   "cell_type": "markdown",
   "metadata": {},
   "source": [
    "**3.2**"
   ]
  },
  {
   "cell_type": "markdown",
   "metadata": {},
   "source": [
    "Los n-gramas pueden capturar mejor la semántica del mensaje, por ejemplo los bigramas: Redes-Sociales, New-York, Me-gustas, Te-amo, entre otras."
   ]
  },
  {
   "cell_type": "markdown",
   "metadata": {},
   "source": [
    "# BONUS Punto 4: 😜\n",
    "\n",
    "- `[1pt]` ¿A qué pertenecen los dialogos del primer punto? "
   ]
  },
  {
   "cell_type": "code",
   "execution_count": null,
   "metadata": {},
   "outputs": [],
   "source": []
  },
  {
   "cell_type": "code",
   "execution_count": null,
   "metadata": {},
   "outputs": [],
   "source": []
  }
 ],
 "metadata": {
  "kernelspec": {
   "display_name": "Python 3",
   "language": "python",
   "name": "python3"
  },
  "language_info": {
   "codemirror_mode": {
    "name": "ipython",
    "version": 3
   },
   "file_extension": ".py",
   "mimetype": "text/x-python",
   "name": "python",
   "nbconvert_exporter": "python",
   "pygments_lexer": "ipython3",
   "version": "3.7.3"
  }
 },
 "nbformat": 4,
 "nbformat_minor": 2
}
